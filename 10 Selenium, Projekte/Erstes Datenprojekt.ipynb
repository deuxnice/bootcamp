{
 "cells": [
  {
   "cell_type": "markdown",
   "metadata": {},
   "source": [
    "# These \n",
    "Immer mehr Lernende brechen ihre Lehre ab. Wie viele? Wann? In welchen Berufen? In welchen Kantonen?\n"
   ]
  },
  {
   "cell_type": "markdown",
   "metadata": {},
   "source": [
    "## Relevanz \n",
    "Ja. Sind die heutigen Lehren noch den Bedürfnissen angepasst? Müssen Lehr-Angebote angepasst werden? Woran liegt es?"
   ]
  },
  {
   "cell_type": "markdown",
   "metadata": {},
   "source": [
    "## Knackpunkt\n",
    "möglicherweise gibt es keine kantonsübergreifenden Datenbanken, möglicherweise wird nicht alles überall gleich erfasst. \n"
   ]
  },
  {
   "cell_type": "code",
   "execution_count": null,
   "metadata": {},
   "outputs": [],
   "source": []
  }
 ],
 "metadata": {
  "kernelspec": {
   "display_name": "Python 3",
   "language": "python",
   "name": "python3"
  },
  "language_info": {
   "codemirror_mode": {
    "name": "ipython",
    "version": 3
   },
   "file_extension": ".py",
   "mimetype": "text/x-python",
   "name": "python",
   "nbconvert_exporter": "python",
   "pygments_lexer": "ipython3",
   "version": "3.7.0"
  }
 },
 "nbformat": 4,
 "nbformat_minor": 2
}
