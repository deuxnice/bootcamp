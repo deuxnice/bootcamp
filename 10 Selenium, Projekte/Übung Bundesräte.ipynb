{
 "cells": [
  {
   "cell_type": "markdown",
   "metadata": {},
   "source": [
    "Übung\n",
    "\n",
    "Welcher NR, SR oder BR hat bei Google am meisten Nennungen? Automatisieren wir die Suche nach allen Räten.\n",
    "Plan in Worten entwickeln\n",
    "Erwünschter Output aufzeichnen entwickeln\n",
    "Coden! \n"
   ]
  },
  {
   "cell_type": "markdown",
   "metadata": {},
   "source": [
    "Meine Schritte:\n",
    "    \n",
    "1. Liste NR suchen \n",
    "    nr = str()\n",
    "2. Liste SR suchen\n",
    "    sr = str()\n",
    "3. Liste BR suchen\n",
    "    br = str()\n",
    "    \n",
    "4. In eine Liste bringen\n",
    "    namensliste = nr + sr + br\n",
    "    \n",
    "5. Selenium Google\n",
    "    driver.get('www.google.ch')\n",
    "    name = driver.find_element.by.xxx('')\n",
    "    name.send_keys('l')\n",
    "   \n",
    "    \n",
    "7. for person in namensliste\n",
    "    - > in neue Liste packen: neue anz_nennungen [], \n",
    "        auf Selenium anwenden\n",
    "\n",
    "7. beide listen kombinieren (liste mit Namen und Liste mit Nennungen)\n",
    "    for name, treffer in zip (namensliste, anz_nennungen)\n",
    "    \n",
    "    mini_dict = {'Person':name, \n",
    "                    'Treffer': treffer\n",
    "                     .text.replace(' Lehrstelle(n)\\n','').replace('\\n',''))}\n",
    "        lst.append(mini_dict)\n"
   ]
  },
  {
   "cell_type": "markdown",
   "metadata": {},
   "source": [
    "Lösung Edzard: \n",
    "    1. als .csv importieren, via Pandas, dann Namen ausspucken in Selenium\n",
    "    2. google-Seite als html speichern (s. Slack)\n",
    "    \n",
    "Man kann auch mit Requests statt mit Selenium\n",
    "\n",
    "\n",
    "Lösung Lea\n",
    "https://github.com/leasennch/kurstagzwei/blob/master/10%20Selenium%2C%20Projekte/NR%2C%20SR%2C%20BR%20-%20Nennungen%20bei%20Google.ipynb\n",
    "\n",
    "Barneys Version:\n",
    "lst = []\n",
    "for elem in rs[:50]:\n",
    "    driver = webdriver.Chrome('/usr/local/bin/chromedriver')\n",
    "    driver.get(\"http://www.google.ch\")\n",
    "    time.sleep(1)\n",
    "    driver.find_element_by_class_name('gsfi').send_keys(elem, (Keys.RETURN))\n",
    "    time.sleep(1)\n",
    "    #driver.find_element_by_class_name('gsfi').send_keys(elem)\n",
    "    #driver.find_element_by_name('btnK').click()\n",
    "    time.sleep(1)\n",
    "    result = driver.find_element_by_id('resultStats').text\n",
    "    time.sleep(1)\n",
    "    minidict = {'Name':elem,\n",
    "                'Result':result}\n",
    "    lst.append(minidict)\n",
    "    driver.quit()\n",
    "\n",
    "\n",
    "    "
   ]
  }
 ],
 "metadata": {
  "kernelspec": {
   "display_name": "Python 3",
   "language": "python",
   "name": "python3"
  },
  "language_info": {
   "codemirror_mode": {
    "name": "ipython",
    "version": 3
   },
   "file_extension": ".py",
   "mimetype": "text/x-python",
   "name": "python",
   "nbconvert_exporter": "python",
   "pygments_lexer": "ipython3",
   "version": "3.7.0"
  }
 },
 "nbformat": 4,
 "nbformat_minor": 2
}
