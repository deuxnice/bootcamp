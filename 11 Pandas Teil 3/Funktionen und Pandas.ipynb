{
 "cells": [
  {
   "cell_type": "markdown",
   "metadata": {},
   "source": [
    "# Funktionen und Pandas"
   ]
  },
  {
   "cell_type": "markdown",
   "metadata": {},
   "source": [
    "**Inhalt:** Komplexere Zellen- und Spalten-Operationen\n",
    "\n",
    "**Nötige Skills:** Einführung in Pandas\n",
    "\n",
    "**Lernziele:**\n",
    "- Mehrere Codezeilen zu Funktionen zusammenfassen\n",
    "- Funktionen auf bestimmte Bestandteile von Dataframes ausführen (apply, lambda)"
   ]
  },
  {
   "cell_type": "markdown",
   "metadata": {},
   "source": [
    "## Vorbereitung"
   ]
  },
  {
   "cell_type": "code",
   "execution_count": 1,
   "metadata": {},
   "outputs": [],
   "source": [
    "import pandas as pd"
   ]
  },
  {
   "cell_type": "code",
   "execution_count": 2,
   "metadata": {},
   "outputs": [],
   "source": [
    "# Platz für weitere Libraries, die Sie brauchen möchten...\n",
    "import requests"
   ]
  },
  {
   "cell_type": "code",
   "execution_count": 3,
   "metadata": {},
   "outputs": [],
   "source": [
    "from bs4 import BeautifulSoup"
   ]
  },
  {
   "cell_type": "markdown",
   "metadata": {},
   "source": [
    "## Review: eine einfache Funktion schreiben"
   ]
  },
  {
   "cell_type": "markdown",
   "metadata": {},
   "source": [
    "Zum Start kreieren wir uns eine Reihe von Funktionen, die wir später anwenden wollen. Be creative!"
   ]
  },
  {
   "cell_type": "markdown",
   "metadata": {},
   "source": [
    "Zum Beispiel:\n",
    "- eine Zalhlenoperation, die nicht auf einer Zeile platz hat (wenn, dann, etc.)\n",
    "- einen Input nehmen, eine API damit befragen\n",
    "- einen String durchsuchen und/oder modifizieren\n",
    "- Zahlen und Text nach einem bestimmten Muster formatieren\n",
    "\n",
    "Wichtig: Die Funktion muss irgendwas zurückgeben!!"
   ]
  },
  {
   "cell_type": "markdown",
   "metadata": {},
   "source": [
    "**To Do:** Schreiben und beschreiben Sie eine Funktion (eine auswählen, Code testen und in Slack!)"
   ]
  },
  {
   "cell_type": "markdown",
   "metadata": {},
   "source": [
    "**Eine Funktion, die etwas mit einer Zahl macht**"
   ]
  },
  {
   "cell_type": "code",
   "execution_count": 4,
   "metadata": {},
   "outputs": [],
   "source": [
    "# Hier Beschreibung einfügen\n",
    "def mach_was_mit_zahl(zahl):\n",
    "\n",
    "   \n",
    "    return ..."
   ]
  },
  {
   "cell_type": "markdown",
   "metadata": {},
   "source": [
    "Zum Testen:"
   ]
  },
  {
   "cell_type": "code",
   "execution_count": 5,
   "metadata": {},
   "outputs": [
    {
     "data": {
      "text/plain": [
       "Ellipsis"
      ]
     },
     "execution_count": 5,
     "metadata": {},
     "output_type": "execute_result"
    }
   ],
   "source": [
    "mach_was_mit_zahl(365000)"
   ]
  },
  {
   "cell_type": "code",
   "execution_count": null,
   "metadata": {},
   "outputs": [],
   "source": []
  },
  {
   "cell_type": "markdown",
   "metadata": {},
   "source": [
    "**Eine Funktion, die etwas mit einem Wort macht**"
   ]
  },
  {
   "cell_type": "code",
   "execution_count": 6,
   "metadata": {},
   "outputs": [],
   "source": [
    "# Hier Beschreibung einfügen\n",
    "def mach_was_mit_wort(wort):\n",
    "    \n",
    "       \n",
    "    return ..."
   ]
  },
  {
   "cell_type": "markdown",
   "metadata": {},
   "source": [
    "Zum Testen:"
   ]
  },
  {
   "cell_type": "code",
   "execution_count": 7,
   "metadata": {},
   "outputs": [
    {
     "data": {
      "text/plain": [
       "Ellipsis"
      ]
     },
     "execution_count": 7,
     "metadata": {},
     "output_type": "execute_result"
    }
   ],
   "source": [
    "mach_was_mit_wort(\"Schneider-Ammann\")"
   ]
  },
  {
   "cell_type": "code",
   "execution_count": null,
   "metadata": {},
   "outputs": [],
   "source": []
  },
  {
   "cell_type": "markdown",
   "metadata": {},
   "source": [
    "**Eine Funktion, die etwas mit einem längeren Text macht**"
   ]
  },
  {
   "cell_type": "markdown",
   "metadata": {},
   "source": [
    "Zum Beispiel mit diesem hier:"
   ]
  },
  {
   "cell_type": "code",
   "execution_count": 8,
   "metadata": {},
   "outputs": [],
   "source": [
    "my_text = open('dataprojects/Songtexte/Züri West - I schänke dir mis Härz.txt', 'r').read()"
   ]
  },
  {
   "cell_type": "markdown",
   "metadata": {},
   "source": [
    "Für Ideen, hier eine Liste von Python's String-Funktionen: https://www.w3schools.com/python/python_ref_string.asp"
   ]
  },
  {
   "cell_type": "code",
   "execution_count": 38,
   "metadata": {},
   "outputs": [],
   "source": [
    "my_text = open('dataprojects/Songtexte/Züri West - I schänke dir mis Härz.txt', 'r').read()\n",
    "\n",
    "# Hier Beschreibung einfügen\n",
    "def mach_was_mit_text(text):\n",
    "        new_text = text.replace('Härz', 'Smartphone')\n",
    "        return new_text\n",
    "    "
   ]
  },
  {
   "cell_type": "markdown",
   "metadata": {},
   "source": [
    "Zum Testen:"
   ]
  },
  {
   "cell_type": "code",
   "execution_count": 39,
   "metadata": {},
   "outputs": [
    {
     "data": {
      "text/plain": [
       "'I SCHÄNKE DIR MIS SMARTPHONE\\nMEH HAN I NID\\nDU CHASCH ES HA, WE DÄ WOSCH\\nES ISCH ES GUETS\\nU ES GIT NO MÄNGI, WOS WÜRD NÄH,\\nABER DIR WÜRDIS GÄH\\nD SZENE ISCH Ä CHLINI BAR\\nIRGENWO I DERE STADT\\nUND I BSTEUE Ä WHISKY\\nHOCKE IRGENDWO AB\\nWOS KE PLATZ U LUEGE SO CHLI UME\\nWÄR SO UMÄNANG HOCKET\\nABER KENNE TUÄ-NI NIEMER HIE INNE\\nÜBERALL HOCKE LÜT\\nHINGER DE SCHAMPUS-CHÜBLE\\nGENG Ä FROU U NE TYP\\nU NIPPE AMNE FLÛTE U HANGE ANGENANG A\\nU REDE ÖPPIS ÜBER NÜT\\nU NUME IG BI ALLEI HIE\\nU DA WÄCHSLET DS\\'LIECHT\\nHIE U DA VERSCHWINDE WIDER ZWÖI IRGENDWO\\nU IRGENDEINISCH GEIT HINDE\\nÄ DUNKUBLAUE VORHANG UUF\\nHINGER EM VORHANG HETS Ä BÜHNI\\nUF DR BÜHNI STEIT Ä FROU\\nWO I DÄ UNGERHOSE IRGENDSONE SHOW ZEIGT\\nI LUEGE SO CHLI ZUE\\nU I HOCKE SO CHLI DA\\nU GSPÜRE PLÖTZLECH\\nDASS I IRGENDSONE HANG UFEM CHNÖI HA\\nU DRÄIE MI UM\\nU NÄBE MIR HOCKET EINI\\nWONI NIE VOHER HA GSEH\\nU FRAGT, OB IG ALLEINI SIG\\nU SIE SIG OU ALLEI\\nI SÖU NID ÜBERLEGE\\nI GFAUI RE NO SO\\nU SI WÖU EIFACH CHLI REDE\\nVIELLECH SÖTT I HIE NO SÄGE\\nSIE GSEHT SCHÖN US\\nSIE ISCH Ä SCHÖNI MIT SCHÖNE, LÄNGE HAAR\\nU KLAR BIN I NÄRVÖS WORDE\\nKLAR HAN I DRUNKE\\nU MIT JEDEM SCHLUNK HET SIE MI NO CHLI SCHÖNER AFA DÜNKE\\nU NACH JEDEM GLAS CHAMPAGNER\\nHET SIE GÄNG NO EIS WÖUE\\nI HA ZAUT U ZAUT\\nBIS I EIFACH NÜM HA CHÖNNE\\nU HA GSEIT:\"HEY,\\nWEI MER NID ZU MIR ODER SO?\"\\nU SIE HET GSEIT:\\n\"I CHÖNNT DI SO VERWÖHNE.\\nSO IRE HAUB STUNG CHÖNNTI CHO -\\nU JITZ SÄG MER EIFACH NUMENO WIVIU\\nSÄG WIVIU,\\nWIVIU GISCH MER, WENN I CHUME?\"\\nI SCHÄNKE DIR MIS SMARTPHONE MEH HAN I NID\\nDU CHASCH ES HA, WE DE WOSCH\\nES ISCH ES GUETS UND ES GIT\\nNO MÄNGI, WOS WÜRD NÄH\\nABER DIR WÜRD IS GÄ\\n'"
      ]
     },
     "execution_count": 39,
     "metadata": {},
     "output_type": "execute_result"
    }
   ],
   "source": [
    "mach_was_mit_text(my_text)"
   ]
  },
  {
   "cell_type": "code",
   "execution_count": null,
   "metadata": {},
   "outputs": [],
   "source": []
  },
  {
   "cell_type": "code",
   "execution_count": null,
   "metadata": {},
   "outputs": [],
   "source": []
  },
  {
   "cell_type": "markdown",
   "metadata": {},
   "source": [
    "**Eine Funktion, die etwas mit einem Dictionary macht**"
   ]
  },
  {
   "cell_type": "markdown",
   "metadata": {},
   "source": [
    "Zum Beispiel mit diesem hier:"
   ]
  },
  {
   "cell_type": "code",
   "execution_count": 11,
   "metadata": {},
   "outputs": [],
   "source": [
    "my_dictionary = {\n",
    "    'Rang': 20,\n",
    "    'Artist': 'Baschi',\n",
    "    'Titel': 'Bring en hei',\n",
    "    'Eintritt': '28.05.2006',\n",
    "    'Wochen': 100,\n",
    "    'Peak': 1,\n",
    "    'Punkte': 5356,\n",
    "    'Link': '/song/Baschi/Bring-en-hei-193080'\n",
    "}"
   ]
  },
  {
   "cell_type": "code",
   "execution_count": 12,
   "metadata": {},
   "outputs": [],
   "source": [
    "# Hier Beschreibung einfügen\n",
    "def mach_was_mit_dictionary(dic):\n",
    "    \n",
    "      \n",
    "    return ..."
   ]
  },
  {
   "cell_type": "code",
   "execution_count": 13,
   "metadata": {},
   "outputs": [
    {
     "data": {
      "text/plain": [
       "Ellipsis"
      ]
     },
     "execution_count": 13,
     "metadata": {},
     "output_type": "execute_result"
    }
   ],
   "source": [
    "mach_was_mit_dictionary(my_dictionary)"
   ]
  },
  {
   "cell_type": "code",
   "execution_count": null,
   "metadata": {},
   "outputs": [],
   "source": []
  },
  {
   "cell_type": "markdown",
   "metadata": {},
   "source": [
    "## Funktion ausführen 1: List Comprehension"
   ]
  },
  {
   "cell_type": "markdown",
   "metadata": {},
   "source": [
    "Das kennen wir bereits: Wir wollen dieselbe Funktion auf alle Elemente in einer Liste anwenden!"
   ]
  },
  {
   "cell_type": "markdown",
   "metadata": {},
   "source": [
    "Zum Beispiel auf eine von diesen Listen: **Zahlen**"
   ]
  },
  {
   "cell_type": "code",
   "execution_count": 14,
   "metadata": {},
   "outputs": [],
   "source": [
    "zahlen = [10, 957, 4.73, 333888, 0.00013]"
   ]
  },
  {
   "cell_type": "code",
   "execution_count": 15,
   "metadata": {},
   "outputs": [
    {
     "data": {
      "text/plain": [
       "[Ellipsis, Ellipsis, Ellipsis, Ellipsis, Ellipsis]"
      ]
     },
     "execution_count": 15,
     "metadata": {},
     "output_type": "execute_result"
    }
   ],
   "source": [
    "[mach_was_mit_zahl(zahl) for zahl in zahlen]"
   ]
  },
  {
   "cell_type": "markdown",
   "metadata": {},
   "source": [
    "**Wörter:**"
   ]
  },
  {
   "cell_type": "code",
   "execution_count": 16,
   "metadata": {},
   "outputs": [],
   "source": [
    "woerter = [\"Meier\", \"Schmidt\", \"orange\", \"Wauwau\", \"Milchstrasse\", \"Schneider-Ammann\"]"
   ]
  },
  {
   "cell_type": "code",
   "execution_count": 17,
   "metadata": {},
   "outputs": [
    {
     "data": {
      "text/plain": [
       "[Ellipsis, Ellipsis, Ellipsis, Ellipsis, Ellipsis, Ellipsis]"
      ]
     },
     "execution_count": 17,
     "metadata": {},
     "output_type": "execute_result"
    }
   ],
   "source": [
    "[mach_was_mit_wort(wort) for wort in woerter]"
   ]
  },
  {
   "cell_type": "markdown",
   "metadata": {},
   "source": [
    "**Texte:**"
   ]
  },
  {
   "cell_type": "code",
   "execution_count": 18,
   "metadata": {},
   "outputs": [],
   "source": [
    "files = [\n",
    "    'Züri West - I schänke dir mis Härz.txt',\n",
    "    'Patent Ochsner - Venus vo Bümpliz.txt',\n",
    "    'DJ Bobo - Chihuahua.txt'\n",
    "]"
   ]
  },
  {
   "cell_type": "code",
   "execution_count": 19,
   "metadata": {},
   "outputs": [],
   "source": [
    "texts = [open('dataprojects/Songtexte/' + file, \"r\").read() for file in files]"
   ]
  },
  {
   "cell_type": "code",
   "execution_count": 20,
   "metadata": {},
   "outputs": [
    {
     "data": {
      "text/plain": [
       "'I schänke dir mis Härz\\nMeh han i nid\\nDu chasch es ha, we dä wosch\\nEs isch es guets\\nU es git no mängi, wos würd näh,\\nAber dir würdis gäh\\nD szene isch ä chlini Bar\\nIrgenwo i dere Stadt\\nUnd i bsteue ä Whisky\\nHocke irgendwo ab\\nWos ke Platz u luege so chli ume\\nWär so umänang hocket\\nAber kenne tuä-ni niemer hie inne\\nÜberall hocke Lüt\\nhinger de Schampus-Chüble\\nGeng ä Frou u ne Typ\\nU nippe amne Flûte u hange angenang a\\nu rede öppis über nüt\\nU nume ig bi allei hie\\nu da wächslet ds\\'Liecht\\nHie u da verschwinde wider zwöi irgendwo\\nU irgendeinisch geit hinde\\nÄ dunkublaue Vorhang uuf\\nHinger em Vorhang hets ä Bühni\\nUf dr Bühni steit ä Frou\\nWo i dä Ungerhose irgendsone Show zeigt\\nI luege so chli zue\\nU i hocke so chli da\\nU gspüre plötzlech\\nDass i irgendsone Hang ufem Chnöi ha\\nU dräie mi um\\nU näbe mir hocket eini\\nWoni nie voher ha gseh\\nU fragt, ob ig alleini sig\\nU sie sig ou allei\\nI söu nid überlege\\nI gfaui re no so\\nu si wöu eifach chli rede\\nViellech sött i hie no säge\\nSie gseht schön us\\nSie isch ä schöni mit schöne, länge Haar\\nU klar bin i närvös worde\\nKlar han i drunke\\nU mit jedem Schlunk het sie mi no chli schöner afa dünke\\nU nach jedem Glas Champagner\\nHet sie gäng no eis wöue\\nI ha zaut u zaut\\nBis i eifach nüm ha chönne\\nU ha gseit:\"Hey,\\nWei mer nid zu mir oder so?\"\\nU sie het gseit:\\n\"I chönnt di so verwöhne.\\nSo ire haub Stung chönnti cho -\\nu jitz säg mer eifach numeno wiviu\\nSäg wiviu,\\nWiviu gisch mer, wenn i chume?\"\\nI schänke dir mis Härz meh han i nid\\nDu chasch es ha, we de wosch\\nes isch es guets und es git\\nno mängi, wos würd näh\\nAber dir würd is gä\\n'"
      ]
     },
     "execution_count": 20,
     "metadata": {},
     "output_type": "execute_result"
    }
   ],
   "source": [
    "texts[0]"
   ]
  },
  {
   "cell_type": "code",
   "execution_count": 21,
   "metadata": {},
   "outputs": [
    {
     "data": {
      "text/plain": [
       "[Ellipsis, Ellipsis, Ellipsis]"
      ]
     },
     "execution_count": 21,
     "metadata": {},
     "output_type": "execute_result"
    }
   ],
   "source": [
    "[mach_was_mit_text(text) for text in texts]"
   ]
  },
  {
   "cell_type": "code",
   "execution_count": null,
   "metadata": {},
   "outputs": [],
   "source": []
  },
  {
   "cell_type": "code",
   "execution_count": null,
   "metadata": {},
   "outputs": [],
   "source": []
  },
  {
   "cell_type": "markdown",
   "metadata": {},
   "source": [
    "## Funktion ausführen 2: Apply"
   ]
  },
  {
   "cell_type": "markdown",
   "metadata": {},
   "source": [
    "Apply ist ein ähnliches Prinzip wie List Comprehension - aber in Pandas.\n",
    "\n",
    "Um es auszuprobieren, stellen wir uns eine kleine Datenbank der besten alltime-Singles aus der Schweizer Hitparade zusammen und scrapen die Songtexte dazu.\n",
    "\n",
    "Quelle: https://hitparade.ch/charts/best/singles\n",
    "\n",
    "Quelle: https://www.songtexte.com/"
   ]
  },
  {
   "cell_type": "markdown",
   "metadata": {},
   "source": [
    "Das Scrape-File dazu findet sich hier: `dataprojects/Songtexte/scraper.ipynb`\n",
    "\n",
    "Das Daten-File hier: `dataprojects/Songtexte/charts_mit_texten.csv`"
   ]
  },
  {
   "cell_type": "code",
   "execution_count": 22,
   "metadata": {},
   "outputs": [],
   "source": [
    "df = pd.read_csv('dataprojects/Songtexte/charts_mit_texten.csv')"
   ]
  },
  {
   "cell_type": "code",
   "execution_count": 23,
   "metadata": {},
   "outputs": [
    {
     "data": {
      "text/html": [
       "<div>\n",
       "<style scoped>\n",
       "    .dataframe tbody tr th:only-of-type {\n",
       "        vertical-align: middle;\n",
       "    }\n",
       "\n",
       "    .dataframe tbody tr th {\n",
       "        vertical-align: top;\n",
       "    }\n",
       "\n",
       "    .dataframe thead th {\n",
       "        text-align: right;\n",
       "    }\n",
       "</style>\n",
       "<table border=\"1\" class=\"dataframe\">\n",
       "  <thead>\n",
       "    <tr style=\"text-align: right;\">\n",
       "      <th></th>\n",
       "      <th>Rang</th>\n",
       "      <th>Artist</th>\n",
       "      <th>Titel</th>\n",
       "      <th>Eintritt</th>\n",
       "      <th>Wochen</th>\n",
       "      <th>Peak</th>\n",
       "      <th>Punkte</th>\n",
       "      <th>Link</th>\n",
       "      <th>Songtext</th>\n",
       "    </tr>\n",
       "  </thead>\n",
       "  <tbody>\n",
       "    <tr>\n",
       "      <th>0</th>\n",
       "      <td>1</td>\n",
       "      <td>DJ Ötzi &amp; Nik P.</td>\n",
       "      <td>Ein Stern (... der deinen Namen trägt)</td>\n",
       "      <td>18.02.2007</td>\n",
       "      <td>118</td>\n",
       "      <td>2</td>\n",
       "      <td>8109</td>\n",
       "      <td>/song/DJ-Oetzi-&amp;-Nik-P./Ein-Stern-(...-der-dei...</td>\n",
       "      <td>Einen Stern, der deinen Namen trägt\\nHoch am H...</td>\n",
       "    </tr>\n",
       "    <tr>\n",
       "      <th>1</th>\n",
       "      <td>2</td>\n",
       "      <td>Ed Sheeran</td>\n",
       "      <td>Shape Of You</td>\n",
       "      <td>15.01.2017</td>\n",
       "      <td>93</td>\n",
       "      <td>1</td>\n",
       "      <td>7196</td>\n",
       "      <td>/song/Ed-Sheeran/Shape-Of-You-1622943</td>\n",
       "      <td>The club isn't the best place to find a lover\\...</td>\n",
       "    </tr>\n",
       "    <tr>\n",
       "      <th>2</th>\n",
       "      <td>3</td>\n",
       "      <td>Luis Fonsi feat. Daddy Yankee</td>\n",
       "      <td>Despacito</td>\n",
       "      <td>22.01.2017</td>\n",
       "      <td>90</td>\n",
       "      <td>1</td>\n",
       "      <td>6854</td>\n",
       "      <td>/song/Luis-Fonsi-feat.-Daddy-Yankee/Despacito-...</td>\n",
       "      <td>Ay\\nFonsi, DY\\nOh, oh no, oh no (ey)\\nHey, yea...</td>\n",
       "    </tr>\n",
       "    <tr>\n",
       "      <th>3</th>\n",
       "      <td>4</td>\n",
       "      <td>DJ Antoine feat. The Beat Shakers</td>\n",
       "      <td>\"Ma chérie\"</td>\n",
       "      <td>06.06.2010</td>\n",
       "      <td>99</td>\n",
       "      <td>2</td>\n",
       "      <td>6745</td>\n",
       "      <td>/song/DJ-Antoine-feat.-The-Beat-Shakers/Ma-che...</td>\n",
       "      <td>When I look into your eyes\\nI see rainbows in ...</td>\n",
       "    </tr>\n",
       "    <tr>\n",
       "      <th>4</th>\n",
       "      <td>5</td>\n",
       "      <td>Adele</td>\n",
       "      <td>Rolling In The Deep</td>\n",
       "      <td>30.01.2011</td>\n",
       "      <td>93</td>\n",
       "      <td>1</td>\n",
       "      <td>6588</td>\n",
       "      <td>/song/Adele/Rolling-In-The-Deep-767937</td>\n",
       "      <td>There's a fire starting in my heart\\nReaching ...</td>\n",
       "    </tr>\n",
       "  </tbody>\n",
       "</table>\n",
       "</div>"
      ],
      "text/plain": [
       "   Rang                             Artist  \\\n",
       "0     1                   DJ Ötzi & Nik P.   \n",
       "1     2                         Ed Sheeran   \n",
       "2     3      Luis Fonsi feat. Daddy Yankee   \n",
       "3     4  DJ Antoine feat. The Beat Shakers   \n",
       "4     5                              Adele   \n",
       "\n",
       "                                    Titel    Eintritt  Wochen  Peak  Punkte  \\\n",
       "0  Ein Stern (... der deinen Namen trägt)  18.02.2007     118     2    8109   \n",
       "1                            Shape Of You  15.01.2017      93     1    7196   \n",
       "2                               Despacito  22.01.2017      90     1    6854   \n",
       "3                             \"Ma chérie\"  06.06.2010      99     2    6745   \n",
       "4                     Rolling In The Deep  30.01.2011      93     1    6588   \n",
       "\n",
       "                                                Link  \\\n",
       "0  /song/DJ-Oetzi-&-Nik-P./Ein-Stern-(...-der-dei...   \n",
       "1              /song/Ed-Sheeran/Shape-Of-You-1622943   \n",
       "2  /song/Luis-Fonsi-feat.-Daddy-Yankee/Despacito-...   \n",
       "3  /song/DJ-Antoine-feat.-The-Beat-Shakers/Ma-che...   \n",
       "4             /song/Adele/Rolling-In-The-Deep-767937   \n",
       "\n",
       "                                            Songtext  \n",
       "0  Einen Stern, der deinen Namen trägt\\nHoch am H...  \n",
       "1  The club isn't the best place to find a lover\\...  \n",
       "2  Ay\\nFonsi, DY\\nOh, oh no, oh no (ey)\\nHey, yea...  \n",
       "3  When I look into your eyes\\nI see rainbows in ...  \n",
       "4  There's a fire starting in my heart\\nReaching ...  "
      ]
     },
     "execution_count": 23,
     "metadata": {},
     "output_type": "execute_result"
    }
   ],
   "source": [
    "df.head()"
   ]
  },
  {
   "cell_type": "markdown",
   "metadata": {},
   "source": [
    "### Apply mit einzelnen Einträgen"
   ]
  },
  {
   "cell_type": "markdown",
   "metadata": {},
   "source": [
    "Wir probieren jetz an diesem Datenset unsere obigen Funktionen aus.\n",
    "\n",
    "Das Prinzip: Wir nehmen eine Spalte, und wenden auf jeden einzelnen Eitrag darin eine Funktion an.\n",
    "\n",
    "Zum Beispiel auf alle Einträge in der Spalte \"Punkte\":"
   ]
  },
  {
   "cell_type": "code",
   "execution_count": 24,
   "metadata": {},
   "outputs": [
    {
     "data": {
      "text/plain": [
       "0     Ellipsis\n",
       "1     Ellipsis\n",
       "2     Ellipsis\n",
       "3     Ellipsis\n",
       "4     Ellipsis\n",
       "5     Ellipsis\n",
       "6     Ellipsis\n",
       "7     Ellipsis\n",
       "8     Ellipsis\n",
       "9     Ellipsis\n",
       "10    Ellipsis\n",
       "11    Ellipsis\n",
       "12    Ellipsis\n",
       "13    Ellipsis\n",
       "14    Ellipsis\n",
       "15    Ellipsis\n",
       "16    Ellipsis\n",
       "17    Ellipsis\n",
       "18    Ellipsis\n",
       "19    Ellipsis\n",
       "20    Ellipsis\n",
       "21    Ellipsis\n",
       "22    Ellipsis\n",
       "23    Ellipsis\n",
       "24    Ellipsis\n",
       "25    Ellipsis\n",
       "26    Ellipsis\n",
       "27    Ellipsis\n",
       "28    Ellipsis\n",
       "29    Ellipsis\n",
       "        ...   \n",
       "70    Ellipsis\n",
       "71    Ellipsis\n",
       "72    Ellipsis\n",
       "73    Ellipsis\n",
       "74    Ellipsis\n",
       "75    Ellipsis\n",
       "76    Ellipsis\n",
       "77    Ellipsis\n",
       "78    Ellipsis\n",
       "79    Ellipsis\n",
       "80    Ellipsis\n",
       "81    Ellipsis\n",
       "82    Ellipsis\n",
       "83    Ellipsis\n",
       "84    Ellipsis\n",
       "85    Ellipsis\n",
       "86    Ellipsis\n",
       "87    Ellipsis\n",
       "88    Ellipsis\n",
       "89    Ellipsis\n",
       "90    Ellipsis\n",
       "91    Ellipsis\n",
       "92    Ellipsis\n",
       "93    Ellipsis\n",
       "94    Ellipsis\n",
       "95    Ellipsis\n",
       "96    Ellipsis\n",
       "97    Ellipsis\n",
       "98    Ellipsis\n",
       "99    Ellipsis\n",
       "Name: Punkte, Length: 100, dtype: object"
      ]
     },
     "execution_count": 24,
     "metadata": {},
     "output_type": "execute_result"
    }
   ],
   "source": [
    "df['Punkte'].apply(mach_was_mit_zahl)"
   ]
  },
  {
   "cell_type": "markdown",
   "metadata": {},
   "source": [
    "Warum funktioniert das hier nicht?"
   ]
  },
  {
   "cell_type": "code",
   "execution_count": 25,
   "metadata": {},
   "outputs": [
    {
     "data": {
      "text/plain": [
       "Ellipsis"
      ]
     },
     "execution_count": 25,
     "metadata": {},
     "output_type": "execute_result"
    }
   ],
   "source": [
    "mach_was_mit_zahl(df['Punkte'])"
   ]
  },
  {
   "cell_type": "markdown",
   "metadata": {},
   "source": [
    "Wenn die Funktion `apply()` auf eine Serie angewendet wird, generiert sie - eine Serie. Wir können diese Serie als Spalte an die Tabelle anfügen.\n",
    "\n",
    "Zum Beispiel mit unserer Zahlen-Funktion:"
   ]
  },
  {
   "cell_type": "code",
   "execution_count": 26,
   "metadata": {},
   "outputs": [],
   "source": [
    "df['Punkte_Formatiert'] = df['Punkte'].apply(mach_was_mit_zahl)"
   ]
  },
  {
   "cell_type": "code",
   "execution_count": 27,
   "metadata": {},
   "outputs": [
    {
     "data": {
      "text/html": [
       "<div>\n",
       "<style scoped>\n",
       "    .dataframe tbody tr th:only-of-type {\n",
       "        vertical-align: middle;\n",
       "    }\n",
       "\n",
       "    .dataframe tbody tr th {\n",
       "        vertical-align: top;\n",
       "    }\n",
       "\n",
       "    .dataframe thead th {\n",
       "        text-align: right;\n",
       "    }\n",
       "</style>\n",
       "<table border=\"1\" class=\"dataframe\">\n",
       "  <thead>\n",
       "    <tr style=\"text-align: right;\">\n",
       "      <th></th>\n",
       "      <th>Rang</th>\n",
       "      <th>Artist</th>\n",
       "      <th>Titel</th>\n",
       "      <th>Eintritt</th>\n",
       "      <th>Wochen</th>\n",
       "      <th>Peak</th>\n",
       "      <th>Punkte</th>\n",
       "      <th>Link</th>\n",
       "      <th>Songtext</th>\n",
       "      <th>Punkte_Formatiert</th>\n",
       "    </tr>\n",
       "  </thead>\n",
       "  <tbody>\n",
       "    <tr>\n",
       "      <th>0</th>\n",
       "      <td>1</td>\n",
       "      <td>DJ Ötzi &amp; Nik P.</td>\n",
       "      <td>Ein Stern (... der deinen Namen trägt)</td>\n",
       "      <td>18.02.2007</td>\n",
       "      <td>118</td>\n",
       "      <td>2</td>\n",
       "      <td>8109</td>\n",
       "      <td>/song/DJ-Oetzi-&amp;-Nik-P./Ein-Stern-(...-der-dei...</td>\n",
       "      <td>Einen Stern, der deinen Namen trägt\\nHoch am H...</td>\n",
       "      <td>Ellipsis</td>\n",
       "    </tr>\n",
       "    <tr>\n",
       "      <th>1</th>\n",
       "      <td>2</td>\n",
       "      <td>Ed Sheeran</td>\n",
       "      <td>Shape Of You</td>\n",
       "      <td>15.01.2017</td>\n",
       "      <td>93</td>\n",
       "      <td>1</td>\n",
       "      <td>7196</td>\n",
       "      <td>/song/Ed-Sheeran/Shape-Of-You-1622943</td>\n",
       "      <td>The club isn't the best place to find a lover\\...</td>\n",
       "      <td>Ellipsis</td>\n",
       "    </tr>\n",
       "    <tr>\n",
       "      <th>2</th>\n",
       "      <td>3</td>\n",
       "      <td>Luis Fonsi feat. Daddy Yankee</td>\n",
       "      <td>Despacito</td>\n",
       "      <td>22.01.2017</td>\n",
       "      <td>90</td>\n",
       "      <td>1</td>\n",
       "      <td>6854</td>\n",
       "      <td>/song/Luis-Fonsi-feat.-Daddy-Yankee/Despacito-...</td>\n",
       "      <td>Ay\\nFonsi, DY\\nOh, oh no, oh no (ey)\\nHey, yea...</td>\n",
       "      <td>Ellipsis</td>\n",
       "    </tr>\n",
       "    <tr>\n",
       "      <th>3</th>\n",
       "      <td>4</td>\n",
       "      <td>DJ Antoine feat. The Beat Shakers</td>\n",
       "      <td>\"Ma chérie\"</td>\n",
       "      <td>06.06.2010</td>\n",
       "      <td>99</td>\n",
       "      <td>2</td>\n",
       "      <td>6745</td>\n",
       "      <td>/song/DJ-Antoine-feat.-The-Beat-Shakers/Ma-che...</td>\n",
       "      <td>When I look into your eyes\\nI see rainbows in ...</td>\n",
       "      <td>Ellipsis</td>\n",
       "    </tr>\n",
       "    <tr>\n",
       "      <th>4</th>\n",
       "      <td>5</td>\n",
       "      <td>Adele</td>\n",
       "      <td>Rolling In The Deep</td>\n",
       "      <td>30.01.2011</td>\n",
       "      <td>93</td>\n",
       "      <td>1</td>\n",
       "      <td>6588</td>\n",
       "      <td>/song/Adele/Rolling-In-The-Deep-767937</td>\n",
       "      <td>There's a fire starting in my heart\\nReaching ...</td>\n",
       "      <td>Ellipsis</td>\n",
       "    </tr>\n",
       "  </tbody>\n",
       "</table>\n",
       "</div>"
      ],
      "text/plain": [
       "   Rang                             Artist  \\\n",
       "0     1                   DJ Ötzi & Nik P.   \n",
       "1     2                         Ed Sheeran   \n",
       "2     3      Luis Fonsi feat. Daddy Yankee   \n",
       "3     4  DJ Antoine feat. The Beat Shakers   \n",
       "4     5                              Adele   \n",
       "\n",
       "                                    Titel    Eintritt  Wochen  Peak  Punkte  \\\n",
       "0  Ein Stern (... der deinen Namen trägt)  18.02.2007     118     2    8109   \n",
       "1                            Shape Of You  15.01.2017      93     1    7196   \n",
       "2                               Despacito  22.01.2017      90     1    6854   \n",
       "3                             \"Ma chérie\"  06.06.2010      99     2    6745   \n",
       "4                     Rolling In The Deep  30.01.2011      93     1    6588   \n",
       "\n",
       "                                                Link  \\\n",
       "0  /song/DJ-Oetzi-&-Nik-P./Ein-Stern-(...-der-dei...   \n",
       "1              /song/Ed-Sheeran/Shape-Of-You-1622943   \n",
       "2  /song/Luis-Fonsi-feat.-Daddy-Yankee/Despacito-...   \n",
       "3  /song/DJ-Antoine-feat.-The-Beat-Shakers/Ma-che...   \n",
       "4             /song/Adele/Rolling-In-The-Deep-767937   \n",
       "\n",
       "                                            Songtext Punkte_Formatiert  \n",
       "0  Einen Stern, der deinen Namen trägt\\nHoch am H...          Ellipsis  \n",
       "1  The club isn't the best place to find a lover\\...          Ellipsis  \n",
       "2  Ay\\nFonsi, DY\\nOh, oh no, oh no (ey)\\nHey, yea...          Ellipsis  \n",
       "3  When I look into your eyes\\nI see rainbows in ...          Ellipsis  \n",
       "4  There's a fire starting in my heart\\nReaching ...          Ellipsis  "
      ]
     },
     "execution_count": 27,
     "metadata": {},
     "output_type": "execute_result"
    }
   ],
   "source": [
    "df.head()"
   ]
  },
  {
   "cell_type": "markdown",
   "metadata": {},
   "source": [
    "Oder mit der Wort-Funktion:"
   ]
  },
  {
   "cell_type": "code",
   "execution_count": 28,
   "metadata": {},
   "outputs": [],
   "source": [
    "#Testen Sie hier Ihre Wort-Funktion\n",
    "df['Anzahl Telefonbucheinträge'] = df['Artist'].apply(mach_was_mit_wort)"
   ]
  },
  {
   "cell_type": "code",
   "execution_count": 29,
   "metadata": {},
   "outputs": [
    {
     "ename": "TypeError",
     "evalue": "'<' not supported between instances of 'ellipsis' and 'ellipsis'",
     "output_type": "error",
     "traceback": [
      "\u001b[0;31m---------------------------------------------------------------------------\u001b[0m",
      "\u001b[0;31mTypeError\u001b[0m                                 Traceback (most recent call last)",
      "\u001b[0;32m<ipython-input-29-10160599fc41>\u001b[0m in \u001b[0;36m<module>\u001b[0;34m()\u001b[0m\n\u001b[0;32m----> 1\u001b[0;31m \u001b[0mdf\u001b[0m\u001b[0;34m.\u001b[0m\u001b[0msort_values\u001b[0m\u001b[0;34m(\u001b[0m\u001b[0;34m'Anzahl Telefonbucheinträge'\u001b[0m\u001b[0;34m,\u001b[0m \u001b[0mascending\u001b[0m\u001b[0;34m=\u001b[0m\u001b[0;32mFalse\u001b[0m\u001b[0;34m)\u001b[0m\u001b[0;34m.\u001b[0m\u001b[0mhead\u001b[0m\u001b[0;34m(\u001b[0m\u001b[0;36m10\u001b[0m\u001b[0;34m)\u001b[0m\u001b[0;34m\u001b[0m\u001b[0m\n\u001b[0m",
      "\u001b[0;32m~/.virtualenvs/erstesVE/lib/python3.7/site-packages/pandas/core/frame.py\u001b[0m in \u001b[0;36msort_values\u001b[0;34m(self, by, axis, ascending, inplace, kind, na_position)\u001b[0m\n\u001b[1;32m   4425\u001b[0m \u001b[0;34m\u001b[0m\u001b[0m\n\u001b[1;32m   4426\u001b[0m             indexer = nargsort(k, kind=kind, ascending=ascending,\n\u001b[0;32m-> 4427\u001b[0;31m                                na_position=na_position)\n\u001b[0m\u001b[1;32m   4428\u001b[0m \u001b[0;34m\u001b[0m\u001b[0m\n\u001b[1;32m   4429\u001b[0m         new_data = self._data.take(indexer,\n",
      "\u001b[0;32m~/.virtualenvs/erstesVE/lib/python3.7/site-packages/pandas/core/sorting.py\u001b[0m in \u001b[0;36mnargsort\u001b[0;34m(items, kind, ascending, na_position)\u001b[0m\n\u001b[1;32m    253\u001b[0m         \u001b[0mnon_nans\u001b[0m \u001b[0;34m=\u001b[0m \u001b[0mnon_nans\u001b[0m\u001b[0;34m[\u001b[0m\u001b[0;34m:\u001b[0m\u001b[0;34m:\u001b[0m\u001b[0;34m-\u001b[0m\u001b[0;36m1\u001b[0m\u001b[0;34m]\u001b[0m\u001b[0;34m\u001b[0m\u001b[0m\n\u001b[1;32m    254\u001b[0m         \u001b[0mnon_nan_idx\u001b[0m \u001b[0;34m=\u001b[0m \u001b[0mnon_nan_idx\u001b[0m\u001b[0;34m[\u001b[0m\u001b[0;34m:\u001b[0m\u001b[0;34m:\u001b[0m\u001b[0;34m-\u001b[0m\u001b[0;36m1\u001b[0m\u001b[0;34m]\u001b[0m\u001b[0;34m\u001b[0m\u001b[0m\n\u001b[0;32m--> 255\u001b[0;31m     \u001b[0mindexer\u001b[0m \u001b[0;34m=\u001b[0m \u001b[0mnon_nan_idx\u001b[0m\u001b[0;34m[\u001b[0m\u001b[0mnon_nans\u001b[0m\u001b[0;34m.\u001b[0m\u001b[0margsort\u001b[0m\u001b[0;34m(\u001b[0m\u001b[0mkind\u001b[0m\u001b[0;34m=\u001b[0m\u001b[0mkind\u001b[0m\u001b[0;34m)\u001b[0m\u001b[0;34m]\u001b[0m\u001b[0;34m\u001b[0m\u001b[0m\n\u001b[0m\u001b[1;32m    256\u001b[0m     \u001b[0;32mif\u001b[0m \u001b[0;32mnot\u001b[0m \u001b[0mascending\u001b[0m\u001b[0;34m:\u001b[0m\u001b[0;34m\u001b[0m\u001b[0m\n\u001b[1;32m    257\u001b[0m         \u001b[0mindexer\u001b[0m \u001b[0;34m=\u001b[0m \u001b[0mindexer\u001b[0m\u001b[0;34m[\u001b[0m\u001b[0;34m:\u001b[0m\u001b[0;34m:\u001b[0m\u001b[0;34m-\u001b[0m\u001b[0;36m1\u001b[0m\u001b[0;34m]\u001b[0m\u001b[0;34m\u001b[0m\u001b[0m\n",
      "\u001b[0;31mTypeError\u001b[0m: '<' not supported between instances of 'ellipsis' and 'ellipsis'"
     ]
    }
   ],
   "source": [
    "df.sort_values('Anzahl Telefonbucheinträge', ascending=False).head(10)"
   ]
  },
  {
   "cell_type": "markdown",
   "metadata": {},
   "source": [
    "Oder mit der Text-Funktion:"
   ]
  },
  {
   "cell_type": "code",
   "execution_count": null,
   "metadata": {},
   "outputs": [],
   "source": [
    "#Testen Sie hier Ihre Text-Funktion\n",
    "df['Textanalyse'] = df['Songtext'].astype(str).apply(mach_was_mit_text)"
   ]
  },
  {
   "cell_type": "code",
   "execution_count": null,
   "metadata": {},
   "outputs": [],
   "source": [
    "df.head()"
   ]
  },
  {
   "cell_type": "code",
   "execution_count": null,
   "metadata": {},
   "outputs": [],
   "source": []
  },
  {
   "cell_type": "code",
   "execution_count": null,
   "metadata": {},
   "outputs": [],
   "source": []
  },
  {
   "cell_type": "code",
   "execution_count": null,
   "metadata": {},
   "outputs": [],
   "source": []
  },
  {
   "cell_type": "markdown",
   "metadata": {},
   "source": [
    "### Apply mit ganzen Zeilen"
   ]
  },
  {
   "cell_type": "markdown",
   "metadata": {},
   "source": [
    "Apply funktioniert nicht nur mit einzelnen Spalten und deren Einträgen, sondern auch mit mehreren Spalten und deren Einträgen auf einmal."
   ]
  },
  {
   "cell_type": "code",
   "execution_count": null,
   "metadata": {},
   "outputs": [],
   "source": [
    "# Brauchen wir, damit es den Inhalt der Einträge vollständig anzeigt...\n",
    "pd.set_option(\"display.max_colwidth\", 200)"
   ]
  },
  {
   "cell_type": "code",
   "execution_count": null,
   "metadata": {},
   "outputs": [],
   "source": [
    "df.apply(mach_was_mit_dictionary, axis=1)"
   ]
  },
  {
   "cell_type": "markdown",
   "metadata": {},
   "source": [
    "Warum funktioniert das?\n",
    "- Checken wir nochmal den Dictionary, mit dem wir vorher unsere Funktion getestet haben"
   ]
  },
  {
   "cell_type": "code",
   "execution_count": null,
   "metadata": {},
   "outputs": [],
   "source": [
    "my_dictionary"
   ]
  },
  {
   "cell_type": "markdown",
   "metadata": {},
   "source": [
    "- und nun: eine beliebige Zeile (sagen wir, Nr. 19) aus dem Dataframe:"
   ]
  },
  {
   "cell_type": "code",
   "execution_count": null,
   "metadata": {},
   "outputs": [],
   "source": [
    "df.loc[19]"
   ]
  },
  {
   "cell_type": "markdown",
   "metadata": {},
   "source": [
    "=> Die Sache klappt, weil die Keys im Test-Dictionary denselben Namen haben wie die Spalten in unserem Dataframe"
   ]
  },
  {
   "cell_type": "markdown",
   "metadata": {},
   "source": [
    "### Warum apply()??"
   ]
  },
  {
   "cell_type": "markdown",
   "metadata": {},
   "source": [
    "Einen Grund haben wir soeben gesehen: Man kann mehrere Spalten auf einmal verarbeiten."
   ]
  },
  {
   "cell_type": "markdown",
   "metadata": {},
   "source": [
    "Ein anderer Grund ist: Mann kann beliebig komplizierte Prozeduren implementieren, um eine neue Spalte zu generieren.\n",
    "\n",
    "Zum Beispiel können wir unsere eigenen Coolness_Punkte als Alternative zum Punktesystem der Hitparade testen."
   ]
  },
  {
   "cell_type": "code",
   "execution_count": null,
   "metadata": {},
   "outputs": [],
   "source": [
    "def coolness_punkte(row):\n",
    "    if row['Artist'] == 'DJ BoBo':\n",
    "        score = 0\n",
    "    else:\n",
    "        score = row['Peak'] * row['Wochen'] * 52\n",
    "    return score"
   ]
  },
  {
   "cell_type": "code",
   "execution_count": null,
   "metadata": {},
   "outputs": [],
   "source": [
    "df['Coolness_Punkte'] = df.apply(coolness_punkte, axis=1)"
   ]
  },
  {
   "cell_type": "code",
   "execution_count": null,
   "metadata": {},
   "outputs": [],
   "source": [
    "df[df['Artist'] == 'DJ BoBo']"
   ]
  },
  {
   "cell_type": "code",
   "execution_count": null,
   "metadata": {},
   "outputs": [],
   "source": [
    "df.head(5)"
   ]
  },
  {
   "cell_type": "code",
   "execution_count": null,
   "metadata": {},
   "outputs": [],
   "source": []
  },
  {
   "cell_type": "code",
   "execution_count": null,
   "metadata": {},
   "outputs": [],
   "source": []
  },
  {
   "cell_type": "markdown",
   "metadata": {},
   "source": [
    "## Funktionen ausführen 3: Lambda"
   ]
  },
  {
   "cell_type": "markdown",
   "metadata": {},
   "source": [
    "Nehmen wir an, wir haben eine Funktion von jemandem erhalten, die wir gerne benutzen würden."
   ]
  },
  {
   "cell_type": "markdown",
   "metadata": {},
   "source": [
    "Sie nimmt zwei Zahlen als Inputs und gibt die grössere davon zurück."
   ]
  },
  {
   "cell_type": "code",
   "execution_count": 40,
   "metadata": {},
   "outputs": [],
   "source": [
    "def groessere_zahl(zahl1, zahl2):\n",
    "    if zahl1 < zahl2:\n",
    "        return zahl2\n",
    "    else:\n",
    "        return zahl1"
   ]
  },
  {
   "cell_type": "code",
   "execution_count": 41,
   "metadata": {},
   "outputs": [
    {
     "data": {
      "text/plain": [
       "5"
      ]
     },
     "execution_count": 41,
     "metadata": {},
     "output_type": "execute_result"
    }
   ],
   "source": [
    "groessere_zahl(4, 5)"
   ]
  },
  {
   "cell_type": "markdown",
   "metadata": {},
   "source": [
    "Was tun, wenn wir diese Funktion innerhalb vom einem Dataframe benutzen wollen?\n",
    "\n",
    "Zum Beispiel, um die zwei Spalten \"Punkte\" und \"Coolness_Punkte\" in unseren Single-Charts zu vergleichen?"
   ]
  },
  {
   "cell_type": "markdown",
   "metadata": {},
   "source": [
    "Eine Option wäre: Eine Hilfsfunktion zu schreiben, die eine Zeile im Dataframe als Input nimmt, und diese mit `apply()` aufzurufen:"
   ]
  },
  {
   "cell_type": "code",
   "execution_count": null,
   "metadata": {},
   "outputs": [],
   "source": [
    "def hilfsfunktion(row):\n",
    "    return groessere_zahl(row['Punkte'], row['Coolness_Punkte'])    "
   ]
  },
  {
   "cell_type": "code",
   "execution_count": null,
   "metadata": {},
   "outputs": [],
   "source": [
    "df.apply(hilfsfunktion, axis=1)"
   ]
  },
  {
   "cell_type": "markdown",
   "metadata": {},
   "source": [
    "Wir können uns die Definition dieser Hilfsfunktion aber auch sparen, indem wir eine anonyme Funktion on the spot definiteren.\n",
    "\n",
    "Dazu verwenden wir das Keyword `lambda`:"
   ]
  },
  {
   "cell_type": "code",
   "execution_count": null,
   "metadata": {},
   "outputs": [],
   "source": [
    "df.apply(lambda row: groessere_zahl(row['Punkte'], row['Coolness_Punkte']), axis=1)"
   ]
  },
  {
   "cell_type": "markdown",
   "metadata": {},
   "source": [
    "### Im Detail... was hat es genau mit diesem Lambda auf sich?"
   ]
  },
  {
   "cell_type": "markdown",
   "metadata": {},
   "source": [
    " https://www.programiz.com/python-programming/anonymous-function"
   ]
  },
  {
   "cell_type": "markdown",
   "metadata": {},
   "source": [
    "=> Eine Funktion, die keinen Namen trägt! (würde DJ Ötzi sagen)"
   ]
  },
  {
   "cell_type": "code",
   "execution_count": null,
   "metadata": {},
   "outputs": [],
   "source": [
    "(lambda x: x + 5)(2)"
   ]
  },
  {
   "cell_type": "markdown",
   "metadata": {},
   "source": [
    "Der Gag an Lambda-Funktionen ist, dass man Sie im selben Moment definieren und benutzen kann. Den Variablennamen nach dem Lambda können wir frei wählen. noch ein Beispiel für eine Lambda-Funktion, die eine Liste verarbeitet:"
   ]
  },
  {
   "cell_type": "code",
   "execution_count": null,
   "metadata": {},
   "outputs": [],
   "source": [
    "my_list = [2, 3]"
   ]
  },
  {
   "cell_type": "code",
   "execution_count": null,
   "metadata": {},
   "outputs": [],
   "source": [
    "(lambda liste: liste[0] + liste[1])(my_list)"
   ]
  },
  {
   "cell_type": "markdown",
   "metadata": {},
   "source": [
    "Wir brauchen diese anonymen Funktionen bei Pandas eigentlich nur im Zusammenspiel mit `apply()` - und zwar genau dann, wenn wir auf alle Elemente in einer Tablle eine bestimmte Funktion anwenden wollen, die mehr als ein Argument braucht."
   ]
  },
  {
   "cell_type": "code",
   "execution_count": null,
   "metadata": {},
   "outputs": [],
   "source": [
    "df['Groessere Punktzahl'] = df.apply(lambda row: groessere_zahl(row['Punkte'], row['Coolness_Punkte']), axis=1)"
   ]
  },
  {
   "cell_type": "code",
   "execution_count": null,
   "metadata": {},
   "outputs": [],
   "source": [
    "df.head(10)"
   ]
  },
  {
   "cell_type": "code",
   "execution_count": null,
   "metadata": {},
   "outputs": [],
   "source": []
  }
 ],
 "metadata": {
  "kernelspec": {
   "display_name": "Python 3",
   "language": "python",
   "name": "python3"
  },
  "language_info": {
   "codemirror_mode": {
    "name": "ipython",
    "version": 3
   },
   "file_extension": ".py",
   "mimetype": "text/x-python",
   "name": "python",
   "nbconvert_exporter": "python",
   "pygments_lexer": "ipython3",
   "version": "3.7.0"
  }
 },
 "nbformat": 4,
 "nbformat_minor": 2
}
