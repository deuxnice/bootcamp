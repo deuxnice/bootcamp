{
 "cells": [
  {
   "cell_type": "markdown",
   "metadata": {},
   "source": [
    "# Regex in Pandas"
   ]
  },
  {
   "cell_type": "markdown",
   "metadata": {},
   "source": [
    "**Inhalt:** Regular Expressions in Pandas anwenden\n",
    "\n",
    "**Nötige Skills:** Regex in Python\n",
    "\n",
    "**Lernziele:**\n",
    "- Ein praktisches Beispiel kennenlernen, wo Regex nützlich sein kann"
   ]
  },
  {
   "cell_type": "markdown",
   "metadata": {},
   "source": [
    "# Das Beispiel"
   ]
  },
  {
   "cell_type": "markdown",
   "metadata": {},
   "source": [
    "Das Bundesamt für Statistik stellt oft Dateien in verknorkster Form zur Verfügung, zum Beispiel, wenn man Auswertungen nach Gemeinden, Bezirken und Kantonen über das interaktive Portal generieren lässt: https://www.pxweb.bfs.admin.ch/pxweb/de/\n",
    "\n",
    "Das vorliegende Beispiel beinhaltet die Bevölkerungszahlen, gegliedert nach Zivilstand einerseits (ledig, verheiratet, etc) und nach räumlicher Struktur (Gemeinden, Kantone, etc) andererseits.\n",
    "\n",
    "Das File ist gespeichert unter `dataprojects/BFS/px-x-0102010000_103.xlsx`"
   ]
  },
  {
   "cell_type": "markdown",
   "metadata": {},
   "source": [
    "## Vorbereitung"
   ]
  },
  {
   "cell_type": "code",
   "execution_count": 1,
   "metadata": {},
   "outputs": [],
   "source": [
    "import pandas as pd"
   ]
  },
  {
   "cell_type": "code",
   "execution_count": null,
   "metadata": {},
   "outputs": [],
   "source": []
  },
  {
   "cell_type": "markdown",
   "metadata": {},
   "source": [
    "## Datei laden"
   ]
  },
  {
   "cell_type": "code",
   "execution_count": 2,
   "metadata": {},
   "outputs": [],
   "source": [
    "path = 'dataprojects/BFS/px-x-0102010000_103.xlsx'"
   ]
  },
  {
   "cell_type": "code",
   "execution_count": 3,
   "metadata": {},
   "outputs": [],
   "source": [
    "df = pd.read_excel(path)"
   ]
  },
  {
   "cell_type": "markdown",
   "metadata": {},
   "source": [
    "## Explorieren"
   ]
  },
  {
   "cell_type": "code",
   "execution_count": 4,
   "metadata": {},
   "outputs": [
    {
     "data": {
      "text/html": [
       "<div>\n",
       "<style scoped>\n",
       "    .dataframe tbody tr th:only-of-type {\n",
       "        vertical-align: middle;\n",
       "    }\n",
       "\n",
       "    .dataframe tbody tr th {\n",
       "        vertical-align: top;\n",
       "    }\n",
       "\n",
       "    .dataframe thead th {\n",
       "        text-align: right;\n",
       "    }\n",
       "</style>\n",
       "<table border=\"1\" class=\"dataframe\">\n",
       "  <thead>\n",
       "    <tr style=\"text-align: right;\">\n",
       "      <th></th>\n",
       "      <th>Einheit</th>\n",
       "      <th>Bevölkerungstyp</th>\n",
       "      <th>Geschlecht</th>\n",
       "      <th>Zivilstand</th>\n",
       "      <th>Altersklasse - Total</th>\n",
       "    </tr>\n",
       "  </thead>\n",
       "  <tbody>\n",
       "    <tr>\n",
       "      <th>0</th>\n",
       "      <td>Schweiz</td>\n",
       "      <td>Ständige Wohnbevölkerung</td>\n",
       "      <td>Geschlecht - Total</td>\n",
       "      <td>Ledig</td>\n",
       "      <td>3650651</td>\n",
       "    </tr>\n",
       "    <tr>\n",
       "      <th>1</th>\n",
       "      <td>Schweiz</td>\n",
       "      <td>Ständige Wohnbevölkerung</td>\n",
       "      <td>Geschlecht - Total</td>\n",
       "      <td>Verheiratet, in eingetragener Partnerschaft</td>\n",
       "      <td>3583008</td>\n",
       "    </tr>\n",
       "    <tr>\n",
       "      <th>2</th>\n",
       "      <td>Schweiz</td>\n",
       "      <td>Ständige Wohnbevölkerung</td>\n",
       "      <td>Geschlecht - Total</td>\n",
       "      <td>Verwitwet, durch Tod aufgelöste Partnerschaft</td>\n",
       "      <td>407408</td>\n",
       "    </tr>\n",
       "    <tr>\n",
       "      <th>3</th>\n",
       "      <td>Schweiz</td>\n",
       "      <td>Ständige Wohnbevölkerung</td>\n",
       "      <td>Geschlecht - Total</td>\n",
       "      <td>Geschieden, unverheiratet, gerichtlich aufgelö...</td>\n",
       "      <td>685622</td>\n",
       "    </tr>\n",
       "    <tr>\n",
       "      <th>4</th>\n",
       "      <td>- Zürich</td>\n",
       "      <td>Ständige Wohnbevölkerung</td>\n",
       "      <td>Geschlecht - Total</td>\n",
       "      <td>Ledig</td>\n",
       "      <td>666873</td>\n",
       "    </tr>\n",
       "    <tr>\n",
       "      <th>5</th>\n",
       "      <td>- Zürich</td>\n",
       "      <td>Ständige Wohnbevölkerung</td>\n",
       "      <td>Geschlecht - Total</td>\n",
       "      <td>Verheiratet, in eingetragener Partnerschaft</td>\n",
       "      <td>610396</td>\n",
       "    </tr>\n",
       "    <tr>\n",
       "      <th>6</th>\n",
       "      <td>- Zürich</td>\n",
       "      <td>Ständige Wohnbevölkerung</td>\n",
       "      <td>Geschlecht - Total</td>\n",
       "      <td>Verwitwet, durch Tod aufgelöste Partnerschaft</td>\n",
       "      <td>63173</td>\n",
       "    </tr>\n",
       "    <tr>\n",
       "      <th>7</th>\n",
       "      <td>- Zürich</td>\n",
       "      <td>Ständige Wohnbevölkerung</td>\n",
       "      <td>Geschlecht - Total</td>\n",
       "      <td>Geschieden, unverheiratet, gerichtlich aufgelö...</td>\n",
       "      <td>125889</td>\n",
       "    </tr>\n",
       "    <tr>\n",
       "      <th>8</th>\n",
       "      <td>&gt;&gt; Bezirk Affoltern</td>\n",
       "      <td>Ständige Wohnbevölkerung</td>\n",
       "      <td>Geschlecht - Total</td>\n",
       "      <td>Ledig</td>\n",
       "      <td>21785</td>\n",
       "    </tr>\n",
       "    <tr>\n",
       "      <th>9</th>\n",
       "      <td>&gt;&gt; Bezirk Affoltern</td>\n",
       "      <td>Ständige Wohnbevölkerung</td>\n",
       "      <td>Geschlecht - Total</td>\n",
       "      <td>Verheiratet, in eingetragener Partnerschaft</td>\n",
       "      <td>23865</td>\n",
       "    </tr>\n",
       "    <tr>\n",
       "      <th>10</th>\n",
       "      <td>&gt;&gt; Bezirk Affoltern</td>\n",
       "      <td>Ständige Wohnbevölkerung</td>\n",
       "      <td>Geschlecht - Total</td>\n",
       "      <td>Verwitwet, durch Tod aufgelöste Partnerschaft</td>\n",
       "      <td>1875</td>\n",
       "    </tr>\n",
       "    <tr>\n",
       "      <th>11</th>\n",
       "      <td>&gt;&gt; Bezirk Affoltern</td>\n",
       "      <td>Ständige Wohnbevölkerung</td>\n",
       "      <td>Geschlecht - Total</td>\n",
       "      <td>Geschieden, unverheiratet, gerichtlich aufgelö...</td>\n",
       "      <td>4076</td>\n",
       "    </tr>\n",
       "    <tr>\n",
       "      <th>12</th>\n",
       "      <td>......0001 Aeugst am Albis</td>\n",
       "      <td>Ständige Wohnbevölkerung</td>\n",
       "      <td>Geschlecht - Total</td>\n",
       "      <td>Ledig</td>\n",
       "      <td>852</td>\n",
       "    </tr>\n",
       "    <tr>\n",
       "      <th>13</th>\n",
       "      <td>......0001 Aeugst am Albis</td>\n",
       "      <td>Ständige Wohnbevölkerung</td>\n",
       "      <td>Geschlecht - Total</td>\n",
       "      <td>Verheiratet, in eingetragener Partnerschaft</td>\n",
       "      <td>908</td>\n",
       "    </tr>\n",
       "    <tr>\n",
       "      <th>14</th>\n",
       "      <td>......0001 Aeugst am Albis</td>\n",
       "      <td>Ständige Wohnbevölkerung</td>\n",
       "      <td>Geschlecht - Total</td>\n",
       "      <td>Verwitwet, durch Tod aufgelöste Partnerschaft</td>\n",
       "      <td>74</td>\n",
       "    </tr>\n",
       "    <tr>\n",
       "      <th>15</th>\n",
       "      <td>......0001 Aeugst am Albis</td>\n",
       "      <td>Ständige Wohnbevölkerung</td>\n",
       "      <td>Geschlecht - Total</td>\n",
       "      <td>Geschieden, unverheiratet, gerichtlich aufgelö...</td>\n",
       "      <td>147</td>\n",
       "    </tr>\n",
       "    <tr>\n",
       "      <th>16</th>\n",
       "      <td>......0002 Affoltern am Albis</td>\n",
       "      <td>Ständige Wohnbevölkerung</td>\n",
       "      <td>Geschlecht - Total</td>\n",
       "      <td>Ledig</td>\n",
       "      <td>5000</td>\n",
       "    </tr>\n",
       "    <tr>\n",
       "      <th>17</th>\n",
       "      <td>......0002 Affoltern am Albis</td>\n",
       "      <td>Ständige Wohnbevölkerung</td>\n",
       "      <td>Geschlecht - Total</td>\n",
       "      <td>Verheiratet, in eingetragener Partnerschaft</td>\n",
       "      <td>5159</td>\n",
       "    </tr>\n",
       "    <tr>\n",
       "      <th>18</th>\n",
       "      <td>......0002 Affoltern am Albis</td>\n",
       "      <td>Ständige Wohnbevölkerung</td>\n",
       "      <td>Geschlecht - Total</td>\n",
       "      <td>Verwitwet, durch Tod aufgelöste Partnerschaft</td>\n",
       "      <td>545</td>\n",
       "    </tr>\n",
       "    <tr>\n",
       "      <th>19</th>\n",
       "      <td>......0002 Affoltern am Albis</td>\n",
       "      <td>Ständige Wohnbevölkerung</td>\n",
       "      <td>Geschlecht - Total</td>\n",
       "      <td>Geschieden, unverheiratet, gerichtlich aufgelö...</td>\n",
       "      <td>1004</td>\n",
       "    </tr>\n",
       "  </tbody>\n",
       "</table>\n",
       "</div>"
      ],
      "text/plain": [
       "                          Einheit           Bevölkerungstyp  \\\n",
       "0                         Schweiz  Ständige Wohnbevölkerung   \n",
       "1                         Schweiz  Ständige Wohnbevölkerung   \n",
       "2                         Schweiz  Ständige Wohnbevölkerung   \n",
       "3                         Schweiz  Ständige Wohnbevölkerung   \n",
       "4                        - Zürich  Ständige Wohnbevölkerung   \n",
       "5                        - Zürich  Ständige Wohnbevölkerung   \n",
       "6                        - Zürich  Ständige Wohnbevölkerung   \n",
       "7                        - Zürich  Ständige Wohnbevölkerung   \n",
       "8             >> Bezirk Affoltern  Ständige Wohnbevölkerung   \n",
       "9             >> Bezirk Affoltern  Ständige Wohnbevölkerung   \n",
       "10            >> Bezirk Affoltern  Ständige Wohnbevölkerung   \n",
       "11            >> Bezirk Affoltern  Ständige Wohnbevölkerung   \n",
       "12     ......0001 Aeugst am Albis  Ständige Wohnbevölkerung   \n",
       "13     ......0001 Aeugst am Albis  Ständige Wohnbevölkerung   \n",
       "14     ......0001 Aeugst am Albis  Ständige Wohnbevölkerung   \n",
       "15     ......0001 Aeugst am Albis  Ständige Wohnbevölkerung   \n",
       "16  ......0002 Affoltern am Albis  Ständige Wohnbevölkerung   \n",
       "17  ......0002 Affoltern am Albis  Ständige Wohnbevölkerung   \n",
       "18  ......0002 Affoltern am Albis  Ständige Wohnbevölkerung   \n",
       "19  ......0002 Affoltern am Albis  Ständige Wohnbevölkerung   \n",
       "\n",
       "            Geschlecht                                         Zivilstand  \\\n",
       "0   Geschlecht - Total                                              Ledig   \n",
       "1   Geschlecht - Total        Verheiratet, in eingetragener Partnerschaft   \n",
       "2   Geschlecht - Total      Verwitwet, durch Tod aufgelöste Partnerschaft   \n",
       "3   Geschlecht - Total  Geschieden, unverheiratet, gerichtlich aufgelö...   \n",
       "4   Geschlecht - Total                                              Ledig   \n",
       "5   Geschlecht - Total        Verheiratet, in eingetragener Partnerschaft   \n",
       "6   Geschlecht - Total      Verwitwet, durch Tod aufgelöste Partnerschaft   \n",
       "7   Geschlecht - Total  Geschieden, unverheiratet, gerichtlich aufgelö...   \n",
       "8   Geschlecht - Total                                              Ledig   \n",
       "9   Geschlecht - Total        Verheiratet, in eingetragener Partnerschaft   \n",
       "10  Geschlecht - Total      Verwitwet, durch Tod aufgelöste Partnerschaft   \n",
       "11  Geschlecht - Total  Geschieden, unverheiratet, gerichtlich aufgelö...   \n",
       "12  Geschlecht - Total                                              Ledig   \n",
       "13  Geschlecht - Total        Verheiratet, in eingetragener Partnerschaft   \n",
       "14  Geschlecht - Total      Verwitwet, durch Tod aufgelöste Partnerschaft   \n",
       "15  Geschlecht - Total  Geschieden, unverheiratet, gerichtlich aufgelö...   \n",
       "16  Geschlecht - Total                                              Ledig   \n",
       "17  Geschlecht - Total        Verheiratet, in eingetragener Partnerschaft   \n",
       "18  Geschlecht - Total      Verwitwet, durch Tod aufgelöste Partnerschaft   \n",
       "19  Geschlecht - Total  Geschieden, unverheiratet, gerichtlich aufgelö...   \n",
       "\n",
       "    Altersklasse - Total  \n",
       "0                3650651  \n",
       "1                3583008  \n",
       "2                 407408  \n",
       "3                 685622  \n",
       "4                 666873  \n",
       "5                 610396  \n",
       "6                  63173  \n",
       "7                 125889  \n",
       "8                  21785  \n",
       "9                  23865  \n",
       "10                  1875  \n",
       "11                  4076  \n",
       "12                   852  \n",
       "13                   908  \n",
       "14                    74  \n",
       "15                   147  \n",
       "16                  5000  \n",
       "17                  5159  \n",
       "18                   545  \n",
       "19                  1004  "
      ]
     },
     "execution_count": 4,
     "metadata": {},
     "output_type": "execute_result"
    }
   ],
   "source": [
    "df.head(20)"
   ]
  },
  {
   "cell_type": "markdown",
   "metadata": {},
   "source": [
    "Offensichtlich müssen wir die Tabelle zuerst etwas umstellen, damit sie angenehm zu bearbeiten ist.\n",
    "\n",
    "## Aufbereiten\n",
    "\n",
    "Wir möchten:\n",
    "- für jede Gemeinde, Bezirk eine Zeile\n",
    "- für jeden Zivilstand eine Spalte"
   ]
  },
  {
   "cell_type": "markdown",
   "metadata": {},
   "source": [
    "Die Lösung dafür kennen wir bereits: `df.pivot()`"
   ]
  },
  {
   "cell_type": "code",
   "execution_count": null,
   "metadata": {
    "collapsed": true
   },
   "outputs": [],
   "source": [
    "df = df.pivot(index='Einheit', columns='Zivilstand', values='Altersklasse - Total')"
   ]
  },
  {
   "cell_type": "code",
   "execution_count": null,
   "metadata": {},
   "outputs": [],
   "source": [
    "df.head(2)"
   ]
  },
  {
   "cell_type": "markdown",
   "metadata": {},
   "source": [
    "Nun verschönern wir die Sache noch etwas..."
   ]
  },
  {
   "cell_type": "code",
   "execution_count": null,
   "metadata": {
    "collapsed": true
   },
   "outputs": [],
   "source": [
    "df = df.reset_index()"
   ]
  },
  {
   "cell_type": "code",
   "execution_count": null,
   "metadata": {
    "collapsed": true
   },
   "outputs": [],
   "source": [
    "df.columns.name = None"
   ]
  },
  {
   "cell_type": "code",
   "execution_count": null,
   "metadata": {
    "collapsed": true
   },
   "outputs": [],
   "source": [
    "spalten = {\n",
    "    'Geschieden, unverheiratet, gerichtlich aufgelöste Partnerschaft': 'Geschieden',\n",
    "    'Verheiratet, in eingetragener Partnerschaft': 'Verheiratet',\n",
    "    'Verwitwet, durch Tod aufgelöste Partnerschaft': 'Verwitwet'\n",
    "}"
   ]
  },
  {
   "cell_type": "code",
   "execution_count": null,
   "metadata": {
    "collapsed": true
   },
   "outputs": [],
   "source": [
    "df = df.rename(columns=spalten)"
   ]
  },
  {
   "cell_type": "code",
   "execution_count": null,
   "metadata": {
    "collapsed": true
   },
   "outputs": [],
   "source": []
  },
  {
   "cell_type": "code",
   "execution_count": null,
   "metadata": {},
   "outputs": [],
   "source": [
    "df.head(2)"
   ]
  },
  {
   "cell_type": "markdown",
   "metadata": {},
   "source": [
    "## Die grographischen Einheiten..."
   ]
  },
  {
   "cell_type": "markdown",
   "metadata": {},
   "source": [
    "Schauen wir uns mal näher an, was in der Spalte \"Einheit\" drinsteht"
   ]
  },
  {
   "cell_type": "code",
   "execution_count": null,
   "metadata": {},
   "outputs": [],
   "source": [
    "df['Einheit']"
   ]
  },
  {
   "cell_type": "markdown",
   "metadata": {},
   "source": [
    "Welche Einheitstypen gibt es? Und welches Muster haben sie?\n",
    "- Gemeinde (\"...... 9999 Gemeindename\")\n",
    "- Bezirk (\">> Bezirsname\")\n",
    "- Kantone (\"- Kantonsname\")\n",
    "- Land (\"Land\")"
   ]
  },
  {
   "cell_type": "markdown",
   "metadata": {},
   "source": [
    "Ziel:\n",
    "- eine Spalte \"Einheitstyp\"\n",
    "- eine Spalte \"Einheitsnummer\"\n",
    "- eine Spalte \"Einheitsname\""
   ]
  },
  {
   "cell_type": "code",
   "execution_count": null,
   "metadata": {
    "collapsed": true
   },
   "outputs": [],
   "source": []
  },
  {
   "cell_type": "markdown",
   "metadata": {},
   "source": [
    "## Pandas-Funktionen, die Regex brauchen können"
   ]
  },
  {
   "cell_type": "markdown",
   "metadata": {},
   "source": [
    "Einige Befehle heissen leicht anders, funktionieren aber sehr ähnlich wie in der re.Library\n",
    "\n",
    "- **`str.contains(r\"regex\")`**: das Pendant zu `re.search()` - ja/nein-Antwort\n",
    "\n",
    "- **`str.extract(r\"regex\")`**: auch ähnlich wie `re.search()` - Suchergebnis als Antwort\n",
    "\n",
    "- **`str.replace(r\"regex\", \"str\")`**: das Pendant zu `re.sub()` - ersetzt Match mit String"
   ]
  },
  {
   "cell_type": "markdown",
   "metadata": {},
   "source": [
    "Wir wenden diese Funktionen jetzt an."
   ]
  },
  {
   "cell_type": "markdown",
   "metadata": {},
   "source": [
    "### Aber zuerst ..."
   ]
  },
  {
   "cell_type": "markdown",
   "metadata": {},
   "source": [
    "Zuerst brauchen wir die Regex-Ausdrücke, um die Einheiten zu erkennen. Am besten mit Tests beginnen, ob die Regex an einer Einheit anschlägt - und jeweils auch testen, ob die Regex bei Einheiten, die wir *nicht* wollen, auch *nicht* anschlägt."
   ]
  },
  {
   "cell_type": "code",
   "execution_count": null,
   "metadata": {},
   "outputs": [],
   "source": [
    "# Test für Gemeinde\n",
    "re.search(r\"^\\.{6}\\d{4} .+$\", \"......0001 Aeugst am Albis\")"
   ]
  },
  {
   "cell_type": "code",
   "execution_count": null,
   "metadata": {},
   "outputs": [],
   "source": [
    "# Test für Bezirke\n",
    "re.search(r\"^>> .+$\", \">> Wahlkreis Luzern-Stadt\")"
   ]
  },
  {
   "cell_type": "code",
   "execution_count": null,
   "metadata": {},
   "outputs": [],
   "source": [
    "# Test für Kantone\n",
    "re.search(r\"^- .+$\", \"- Aargau\")"
   ]
  },
  {
   "cell_type": "code",
   "execution_count": null,
   "metadata": {},
   "outputs": [],
   "source": [
    "# Test für Land\n",
    "re.search(r\"Schweiz\", \"Schweiz\")"
   ]
  },
  {
   "cell_type": "code",
   "execution_count": null,
   "metadata": {
    "collapsed": true
   },
   "outputs": [],
   "source": []
  },
  {
   "cell_type": "code",
   "execution_count": null,
   "metadata": {
    "collapsed": true
   },
   "outputs": [],
   "source": []
  },
  {
   "cell_type": "markdown",
   "metadata": {},
   "source": [
    "### Spalte \"Einheitstyp\""
   ]
  },
  {
   "cell_type": "markdown",
   "metadata": {},
   "source": [
    "Hier können wir die Funktion `str.contains()` gut brauchen.\n",
    "\n",
    "Wir testen damit mal, ob die Einträge in der Spalte \"Einheit\" eine Gemeinde sind:"
   ]
  },
  {
   "cell_type": "code",
   "execution_count": null,
   "metadata": {},
   "outputs": [],
   "source": [
    "df['Einheit'].str.contains(r\"^\\.{6}\\d{4} .+$\")"
   ]
  },
  {
   "cell_type": "markdown",
   "metadata": {},
   "source": [
    "Basierend auf dieser True/False-Liste können wir nun die Tabelle filtern und mit `df.loc[]` jeweils den richtigen Eintrag in unserer neuen Spalte \"Einheitstyp\" erzeugen."
   ]
  },
  {
   "cell_type": "code",
   "execution_count": null,
   "metadata": {
    "collapsed": true
   },
   "outputs": [],
   "source": [
    "df.loc[df['Einheit'].str.contains(r\"^\\.{6}\\d{4} .+$\"), 'Einheitstyp'] = \"Gemeinde\"\n",
    "df.loc[df['Einheit'].str.contains(r\"^>> .+$\"), 'Einheitstyp'] = \"Bezirk\"\n",
    "df.loc[df['Einheit'].str.contains(r\"^- .+$\"), 'Einheitstyp'] = \"Kanton\"\n",
    "df.loc[df['Einheit'].str.contains(r\"Schweiz\"), 'Einheitstyp'] = \"Land\""
   ]
  },
  {
   "cell_type": "code",
   "execution_count": null,
   "metadata": {},
   "outputs": [],
   "source": [
    "df"
   ]
  },
  {
   "cell_type": "code",
   "execution_count": null,
   "metadata": {
    "collapsed": true
   },
   "outputs": [],
   "source": []
  },
  {
   "cell_type": "code",
   "execution_count": null,
   "metadata": {
    "collapsed": true
   },
   "outputs": [],
   "source": []
  },
  {
   "cell_type": "code",
   "execution_count": null,
   "metadata": {
    "collapsed": true
   },
   "outputs": [],
   "source": []
  },
  {
   "cell_type": "markdown",
   "metadata": {},
   "source": [
    "### Spalte \"Einheitsnummer\""
   ]
  },
  {
   "cell_type": "markdown",
   "metadata": {},
   "source": [
    "Hier kommt die Funktion `str.extract()` gelegen."
   ]
  },
  {
   "cell_type": "code",
   "execution_count": null,
   "metadata": {},
   "outputs": [],
   "source": [
    "df['Einheit'].str.extract(r\"^\\.{6}(\\d{4}) .+$\")"
   ]
  },
  {
   "cell_type": "markdown",
   "metadata": {},
   "source": [
    "Wir können den Output dieser Funktion für die neue Spalte setzen."
   ]
  },
  {
   "cell_type": "code",
   "execution_count": null,
   "metadata": {
    "collapsed": true
   },
   "outputs": [],
   "source": [
    "df['Einheitsnummer'] = df['Einheit'].str.extract(r\"^\\.{6}(\\d{4}) .+$\")"
   ]
  },
  {
   "cell_type": "code",
   "execution_count": null,
   "metadata": {},
   "outputs": [],
   "source": [
    "df.head(40)"
   ]
  },
  {
   "cell_type": "markdown",
   "metadata": {},
   "source": [
    "**Achtung: ** Dieser Trick funktioniert hier, weil die Kantone und Bezirke *keine* Nummer haben - wir schreiben dort jetzt einfach \"NaN\" hin. Würden wir dieselbe Regex-Extraktion auch auf Kantone anwenden, müssten wir aufpassen, dass wir die Werte der Gemeinden, die dann ebenfalls \"NaN\" wären, nicht wieder überschreiben würden."
   ]
  },
  {
   "cell_type": "markdown",
   "metadata": {},
   "source": [
    "### Spalte \"Einheitsname\""
   ]
  },
  {
   "cell_type": "markdown",
   "metadata": {},
   "source": [
    "Es gibt zig Varianten, wie wir hier zum Ziel kommen können. Wir wählen mal den folgenden:\n",
    "- Spalte \"Einheit\" kopieren\n",
    "- Jeweils für Gemeinden, Bezirke, Kantone separat den ganzen Käse am Anfang rauslöschen, der nicht zum Namen gehört."
   ]
  },
  {
   "cell_type": "code",
   "execution_count": null,
   "metadata": {
    "collapsed": true
   },
   "outputs": [],
   "source": [
    "df['Einheitsname'] = df['Einheit']"
   ]
  },
  {
   "cell_type": "code",
   "execution_count": null,
   "metadata": {},
   "outputs": [],
   "source": [
    "df.head(2)"
   ]
  },
  {
   "cell_type": "code",
   "execution_count": null,
   "metadata": {},
   "outputs": [],
   "source": [
    "# Gemeinden\n",
    "df['Einheitsname'].str.replace(r\"^\\.{6}\\d{4} \", \"\")"
   ]
  },
  {
   "cell_type": "code",
   "execution_count": null,
   "metadata": {
    "collapsed": true
   },
   "outputs": [],
   "source": [
    "# Gemeinden\n",
    "df['Einheitsname'] = df['Einheitsname'].str.replace(r\"^\\.{6}\\d{4} \", \"\")"
   ]
  },
  {
   "cell_type": "code",
   "execution_count": null,
   "metadata": {
    "collapsed": true
   },
   "outputs": [],
   "source": [
    "# Bezirke\n",
    "df['Einheitsname'] = df['Einheitsname'].str.replace(r\"^>> \", \"\")"
   ]
  },
  {
   "cell_type": "code",
   "execution_count": null,
   "metadata": {
    "collapsed": true
   },
   "outputs": [],
   "source": [
    "# Kantone\n",
    "df['Einheitsname'] = df['Einheitsname'].str.replace(r\"^- \", \"\")"
   ]
  },
  {
   "cell_type": "code",
   "execution_count": null,
   "metadata": {},
   "outputs": [],
   "source": [
    "df"
   ]
  },
  {
   "cell_type": "code",
   "execution_count": null,
   "metadata": {
    "collapsed": true
   },
   "outputs": [],
   "source": []
  },
  {
   "cell_type": "code",
   "execution_count": null,
   "metadata": {
    "collapsed": true
   },
   "outputs": [],
   "source": []
  }
 ],
 "metadata": {
  "kernelspec": {
   "display_name": "Python 3",
   "language": "python",
   "name": "python3"
  },
  "language_info": {
   "codemirror_mode": {
    "name": "ipython",
    "version": 3
   },
   "file_extension": ".py",
   "mimetype": "text/x-python",
   "name": "python",
   "nbconvert_exporter": "python",
   "pygments_lexer": "ipython3",
   "version": "3.7.0"
  }
 },
 "nbformat": 4,
 "nbformat_minor": 2
}
