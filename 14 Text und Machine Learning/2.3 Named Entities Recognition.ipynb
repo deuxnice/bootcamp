{
 "cells": [
  {
   "cell_type": "markdown",
   "metadata": {},
   "source": [
    "# Named Entities Recognition with NLTK\n",
    "- Named entities sind Orte, Firmen, Organisationen, Länder, etc.. alles Eigennamen. \n",
    "- Oft sind diese Eigennamen relativ wichtig im Text. "
   ]
  },
  {
   "cell_type": "code",
   "execution_count": 1,
   "metadata": {},
   "outputs": [
    {
     "name": "stderr",
     "output_type": "stream",
     "text": [
      "[nltk_data] Downloading package averaged_perceptron_tagger to\n",
      "[nltk_data]     /Users/2nice/nltk_data...\n",
      "[nltk_data]   Package averaged_perceptron_tagger is already up-to-\n",
      "[nltk_data]       date!\n",
      "[nltk_data] Downloading package maxent_ne_chunker to\n",
      "[nltk_data]     /Users/2nice/nltk_data...\n",
      "[nltk_data]   Package maxent_ne_chunker is already up-to-date!\n",
      "[nltk_data] Downloading package words to /Users/2nice/nltk_data...\n",
      "[nltk_data]   Package words is already up-to-date!\n"
     ]
    },
    {
     "name": "stdout",
     "output_type": "stream",
     "text": [
      "(S\n",
      "  (PERSON John/NNP)\n",
      "  (PERSON Smith/NNP)\n",
      "  is/VBZ\n",
      "  from/IN\n",
      "  the/DT\n",
      "  (GPE United/NNP States/NNPS)\n",
      "  of/IN\n",
      "  (GPE America/NNP)\n",
      "  and/CC\n",
      "  works/VBZ\n",
      "  at/IN\n",
      "  (ORGANIZATION Microsoft/NNP Research/NNP Labs/NNP))\n"
     ]
    }
   ],
   "source": [
    "import nltk\n",
    "nltk.download('averaged_perceptron_tagger')\n",
    "nltk.download('maxent_ne_chunker')\n",
    "nltk.download('words')\n",
    "print(nltk.ne_chunk(nltk.pos_tag(nltk.word_tokenize(\"John Smith is from the United States of America and works at Microsoft Research Labs\"))))"
   ]
  },
  {
   "cell_type": "code",
   "execution_count": 2,
   "metadata": {},
   "outputs": [
    {
     "name": "stdout",
     "output_type": "stream",
     "text": [
      "(S\n",
      "  (PERSON Johan/NNP)\n",
      "  (PERSON Meier/NNP)\n",
      "  kommt/NNP\n",
      "  aus/NN\n",
      "  (GPE Deutschland/NNP)\n",
      "  und/NN\n",
      "  arbeitet/NN\n",
      "  bei/NN\n",
      "  der/NN\n",
      "  (ORGANIZATION Forschungsabteilung/NNP)\n",
      "  von/NNP\n",
      "  Microsoft/NNP)\n"
     ]
    }
   ],
   "source": [
    "print(nltk.ne_chunk(nltk.pos_tag(nltk.word_tokenize(\"Johan Meier kommt aus Deutschland und arbeitet bei der Forschungsabteilung von Microsoft\"))))"
   ]
  },
  {
   "cell_type": "markdown",
   "metadata": {},
   "source": [
    "# Named Entities Recognition as a Service\n",
    "- Extrahieren von wichtigen sog. Named entities (cities, persons, etc..)\n",
    "- http://www.opencalais.com/opencalais-api/\n",
    "- http://www.opencalais.com/wp-content/uploads/folder/ThomsonReutersOpenCalaisAPIUserGuideR12_1.pdf\n",
    "- Super praktisch wenn man sehr viele Dokumente hat und aggregiert sehen möchte worüber gesprochen wird...."
   ]
  },
  {
   "cell_type": "markdown",
   "metadata": {},
   "source": [
    "### Aufgabe\n",
    "Holt euch den text von http://www.spiegel.de/politik/ausland/brexit-das-endspiel-hat-begonnen-a-1238299.html mit dem readability tool."
   ]
  },
  {
   "cell_type": "code",
   "execution_count": 11,
   "metadata": {},
   "outputs": [],
   "source": [
    "text = '''Bei den Brexit-Verhandlungen ist offenbar ein entscheidendes Zwischenziel erreicht worden. Nachdem die britische Regierung am Dienstag verkündete, es gebe eine Einigung mit Brüssel, mehrten sich auch in der EU-Hauptstadt die Anzeichen, dass die Unterhändler von EU und Großbritannien auf technischer Ebene ein belastbares Papier erarbeitet haben.'''"
   ]
  },
  {
   "cell_type": "code",
   "execution_count": 12,
   "metadata": {},
   "outputs": [],
   "source": [
    "import httplib2\n",
    "import json\n",
    "LOCAL_API_KEY = 's8kVFJoL3LFkMtPfBJKrJAF8BgJ7g85E' # Aquire this by registering at the Calais site\n",
    "CALAIS_TAG_API = 'https://api.thomsonreuters.com/permid/calais'\n",
    "headers = {\n",
    "    'X-AG-Access-Token': LOCAL_API_KEY,\n",
    "    'content-type': 'text/raw',\n",
    "    'outputformat': 'application/json'\n",
    "}\n",
    "http = httplib2.Http()\n",
    "response, content = http.request(CALAIS_TAG_API, 'POST', headers=headers, body=text)\n",
    "jcontent = json.loads(content.decode()) # Parse the json return into a python dict"
   ]
  },
  {
   "cell_type": "code",
   "execution_count": 13,
   "metadata": {},
   "outputs": [
    {
     "data": {
      "text/plain": [
       "{'contentType': 'text/raw',\n",
       " 'processingVer': 'AllMetadata',\n",
       " 'serverVersion': 'OneCalais_12.1-RELEASE:26',\n",
       " 'submissionDate': '2018-11-20 10:26:03.855',\n",
       " 'truncatedTextLength': '346',\n",
       " 'submitterCode': '0ca6a864-5659-789d-5f32-f365f695e757',\n",
       " 'signature': 'digestalg-1|ZeP1KEQxP5T30klNG4idUVa1sZo=|DKJz3xc0T1H8QQt3iC1uz6Fl6psdGhA+C/pYBGfJWyjjQTl3x0GKWg==',\n",
       " 'language': 'German'}"
      ]
     },
     "execution_count": 13,
     "metadata": {},
     "output_type": "execute_result"
    }
   ],
   "source": [
    "jcontent[\"doc\"][\"meta\"]"
   ]
  },
  {
   "cell_type": "code",
   "execution_count": 15,
   "metadata": {},
   "outputs": [
    {
     "name": "stdout",
     "output_type": "stream",
     "text": [
      "No name present for entity doc\n",
      "No name present for entity http://d.opencalais.com/dochash-1/f9809e65-eb15-3f4b-b616-8334ffca4837/lid/DefaultLangId\n",
      "No name present for entity http://d.opencalais.com/dochash-1/f9809e65-eb15-3f4b-b616-8334ffca4837/ComponentVersions\n"
     ]
    }
   ],
   "source": [
    "for (k,v) in jcontent.items():\n",
    "    try:\n",
    "        print(\"Key: %s Type: %s Name: %s\" % (k,v[\"name\"],v[\"_type\"]))\n",
    "    except:\n",
    "        print(\"No name present for entity %s\" % k)"
   ]
  },
  {
   "cell_type": "markdown",
   "metadata": {},
   "source": [
    "## Aufgabe\n",
    "- Von welchen Ländern und Unternehmen wird vor allem gesprochen?"
   ]
  },
  {
   "cell_type": "code",
   "execution_count": null,
   "metadata": {},
   "outputs": [],
   "source": []
  }
 ],
 "metadata": {
  "kernelspec": {
   "display_name": "Python 3",
   "language": "python",
   "name": "python3"
  },
  "language_info": {
   "codemirror_mode": {
    "name": "ipython",
    "version": 3
   },
   "file_extension": ".py",
   "mimetype": "text/x-python",
   "name": "python",
   "nbconvert_exporter": "python",
   "pygments_lexer": "ipython3",
   "version": "3.7.0"
  }
 },
 "nbformat": 4,
 "nbformat_minor": 2
}
