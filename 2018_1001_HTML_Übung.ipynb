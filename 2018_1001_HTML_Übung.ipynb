{
 "cells": [
  {
   "cell_type": "code",
   "execution_count": 1,
   "metadata": {},
   "outputs": [
    {
     "name": "stdout",
     "output_type": "stream",
     "text": [
      "01Übung.md                      2018_1001_HTML_Übung.ipynb\r\n",
      "02Übung.md                      APIs & Scraping_Anleitung.ipynb\r\n",
      "\u001b[34m03 Python Teil 1\u001b[m\u001b[m                README.md\r\n",
      "\u001b[34m03Übung.md\u001b[m\u001b[m                      dasistmeinerdbebenfile.csv\r\n",
      "\u001b[34m04 Python Teil 2\u001b[m\u001b[m                test_2018_1001.htm\r\n",
      "\u001b[34m05 Python Teil 3\u001b[m\u001b[m\r\n"
     ]
    }
   ],
   "source": [
    "!ls"
   ]
  },
  {
   "cell_type": "code",
   "execution_count": 4,
   "metadata": {},
   "outputs": [],
   "source": [
    "file = open('test_2018_1001.htm', 'r') #so kann man das File öffnen+lesen"
   ]
  },
  {
   "cell_type": "code",
   "execution_count": 5,
   "metadata": {},
   "outputs": [
    {
     "data": {
      "text/plain": [
       "<_io.TextIOWrapper name='test_2018_1001.htm' mode='r' encoding='UTF-8'>"
      ]
     },
     "execution_count": 5,
     "metadata": {},
     "output_type": "execute_result"
    }
   ],
   "source": [
    "file"
   ]
  },
  {
   "cell_type": "code",
   "execution_count": 6,
   "metadata": {},
   "outputs": [
    {
     "data": {
      "text/plain": [
       "'<!DOCTYPE html>\\n<html>\\n<title>HTML Tutorial</title>\\n<body>\\n<h1>To do</h1>\\n<p>Montag, 10. Oktober 2018</p>\\n</body>\\n</html>\\n\\n<ul>\\n  <li>Milch</li>\\n  <li>Früchte</li>\\n  <li>Mittagstisch</li>\\n  <li>Quotes mailen</li>\\n</ul>\\n\\n<a href=\"url\">Migros-Website</a>\\n\\n\\n<!DOCTYPE html>\\n<html>\\n<body>\\n\\n<h1>My First Heading</h1>\\n<p>My first paragraph.</p>\\n\\n</body>\\n</html>\\n'"
      ]
     },
     "execution_count": 6,
     "metadata": {},
     "output_type": "execute_result"
    }
   ],
   "source": [
    "file.read() #so kann man den file-inhalt lesen"
   ]
  },
  {
   "cell_type": "code",
   "execution_count": null,
   "metadata": {},
   "outputs": [],
   "source": [
    "#wir wollen Sachen aus der Liste ganz spezifisch rausholen"
   ]
  },
  {
   "cell_type": "code",
   "execution_count": 8,
   "metadata": {},
   "outputs": [],
   "source": [
    "from bs4 import BeautifulSoup"
   ]
  },
  {
   "cell_type": "code",
   "execution_count": 9,
   "metadata": {},
   "outputs": [
    {
     "name": "stdout",
     "output_type": "stream",
     "text": [
      "Collecting bs4\n",
      "  Downloading https://files.pythonhosted.org/packages/10/ed/7e8b97591f6f456174139ec089c769f89a94a1a4025fe967691de971f314/bs4-0.0.1.tar.gz\n",
      "Requirement already satisfied: beautifulsoup4 in /Users/2nice/.virtualenvs/erstesVE/lib/python3.7/site-packages (from bs4) (4.6.3)\n",
      "Building wheels for collected packages: bs4\n",
      "  Running setup.py bdist_wheel for bs4 ... \u001b[?25ldone\n",
      "\u001b[?25h  Stored in directory: /Users/2nice/Library/Caches/pip/wheels/a0/b0/b2/4f80b9456b87abedbc0bf2d52235414c3467d8889be38dd472\n",
      "Successfully built bs4\n",
      "Installing collected packages: bs4\n",
      "Successfully installed bs4-0.0.1\n"
     ]
    }
   ],
   "source": [
    "!pip install bs4"
   ]
  },
  {
   "cell_type": "code",
   "execution_count": 11,
   "metadata": {},
   "outputs": [],
   "source": [
    "f = open('test_2018_1001.htm', 'r').read() #ohne das.read() sieht man nur die Metadaten des Files, aber nicht den eigentlichen Inhalt des Files ."
   ]
  },
  {
   "cell_type": "code",
   "execution_count": 12,
   "metadata": {},
   "outputs": [
    {
     "data": {
      "text/plain": [
       "'<!DOCTYPE html>\\n<html>\\n<title>HTML Tutorial</title>\\n<body>\\n<h1>To do</h1>\\n<p>Montag, 10. Oktober 2018</p>\\n</body>\\n</html>\\n\\n<ul>\\n  <li>Milch</li>\\n  <li>Früchte</li>\\n  <li>Mittagstisch</li>\\n  <li>Quotes mailen</li>\\n</ul>\\n\\n<a href=\"url\">Migros-Website</a>\\n\\n\\n<!DOCTYPE html>\\n<html>\\n<body>\\n\\n<h1>My First Heading</h1>\\n<p>My first paragraph.</p>\\n\\n</body>\\n</html>\\n'"
      ]
     },
     "execution_count": 12,
     "metadata": {},
     "output_type": "execute_result"
    }
   ],
   "source": [
    "f #jetzt zeigt es den Inhalt des Dokuments (bzw. der Variable f) an"
   ]
  },
  {
   "cell_type": "code",
   "execution_count": 20,
   "metadata": {},
   "outputs": [],
   "source": [
    "soup = BeautifulSoup(f,\"html\") #der Parameter  \"html\" // oder \"html.parser\" zeigt an, welches Format es gelesen werden muss"
   ]
  },
  {
   "cell_type": "code",
   "execution_count": 21,
   "metadata": {},
   "outputs": [
    {
     "data": {
      "text/plain": [
       "<!DOCTYPE html>\n",
       "<html><head><title>HTML Tutorial</title>\n",
       "</head><body>\n",
       "<h1>To do</h1>\n",
       "<p>Montag, 10. Oktober 2018</p>\n",
       "\n",
       "\n",
       "\n",
       "<ul>\n",
       "  <li>Milch</li>\n",
       "  <li>Früchte</li>\n",
       "  <li>Mittagstisch</li>\n",
       "  <li>Quotes mailen</li>\n",
       "</ul>\n",
       "\n",
       "<a href=\"url\">Migros-Website</a>\n",
       "\n",
       "\n",
       "\n",
       "\n",
       "\n",
       "\n",
       "<h1>My First Heading</h1>\n",
       "<p>My first paragraph.</p>\n",
       "\n",
       "\n",
       "\n",
       "</body></html>"
      ]
     },
     "execution_count": 21,
     "metadata": {},
     "output_type": "execute_result"
    }
   ],
   "source": [
    "soup # enter, und jetzt sieht es bisschen überslichtlicher aus"
   ]
  },
  {
   "cell_type": "code",
   "execution_count": 22,
   "metadata": {},
   "outputs": [
    {
     "data": {
      "text/plain": [
       "<li>Milch</li>"
      ]
     },
     "execution_count": 22,
     "metadata": {},
     "output_type": "execute_result"
    }
   ],
   "source": [
    "soup.find('li') #mit soup.find zeigt es den ersten Eintrag in der Liste an"
   ]
  },
  {
   "cell_type": "code",
   "execution_count": 23,
   "metadata": {},
   "outputs": [
    {
     "data": {
      "text/plain": [
       "[<li>Milch</li>,\n",
       " <li>Früchte</li>,\n",
       " <li>Mittagstisch</li>,\n",
       " <li>Quotes mailen</li>]"
      ]
     },
     "execution_count": 23,
     "metadata": {},
     "output_type": "execute_result"
    }
   ],
   "source": [
    "soup.find_all('li') #mit soup.find_all zeigt es alle Einträge in der Liste an"
   ]
  },
  {
   "cell_type": "code",
   "execution_count": null,
   "metadata": {},
   "outputs": [],
   "source": [
    "#um die <li> wegzulöschen, kann man loopen, und zwar so: Eine neue Leere liste erstellen, danach loop \"for element in...\""
   ]
  },
  {
   "cell_type": "code",
   "execution_count": 24,
   "metadata": {},
   "outputs": [],
   "source": [
    "lst = []\n",
    "for element in soup.find_all('li'):\n",
    "    lst.append(element.text) #.text ist der Befehl, der alles zwischen den <> rausnimmt"
   ]
  },
  {
   "cell_type": "code",
   "execution_count": 25,
   "metadata": {},
   "outputs": [
    {
     "data": {
      "text/plain": [
       "['Milch', 'Früchte', 'Mittagstisch', 'Quotes mailen']"
      ]
     },
     "execution_count": 25,
     "metadata": {},
     "output_type": "execute_result"
    }
   ],
   "source": [
    "lst"
   ]
  },
  {
   "cell_type": "code",
   "execution_count": 26,
   "metadata": {},
   "outputs": [
    {
     "name": "stdout",
     "output_type": "stream",
     "text": [
      "['Milch', 'Früchte', 'Mittagstisch', 'Quotes mailen']\n"
     ]
    }
   ],
   "source": [
    "print(lst) #wenn es keine '' hätte, dann wäre es entweder eine Variable oder eine Zahl"
   ]
  },
  {
   "cell_type": "markdown",
   "metadata": {},
   "source": [
    "Übung\n",
    "Importiere requests, BeautifulSoup, Pandas. \n",
    "Lest die Frontseite von SRF ein: https://www.srf.ch\n",
    "Baut eine Liste mit den Titeln aller Artikel auf der Frontseite\n",
    "Speichert die Liste als .csv ab"
   ]
  },
  {
   "cell_type": "code",
   "execution_count": 31,
   "metadata": {},
   "outputs": [],
   "source": [
    "import requests"
   ]
  },
  {
   "cell_type": "code",
   "execution_count": 36,
   "metadata": {},
   "outputs": [
    {
     "data": {
      "text/plain": [
       "'<!DOCTYPE html>\\n<html lang=\"de-CH\">\\n\\t<head>\\n        <meta http-equiv=\"X-UA-Compatible\" content=\"IE=edge\">\\n        <meta property=\"fb:pages\" content=\"112069248875709\" /> \\n        <meta property=\"fb:pages\" content=\"723702071054413\" /> \\n        <meta property=\"fb:pages\" content=\"165758126770835\" /> \\n        <meta property=\"fb:pages\" content=\"189837644414912\" /> \\n        <meta property=\"fb:pages\" content=\"109104332449551\" /> \\n        <meta property=\"fb:pages\" content=\"32780166106\" /> \\n        <meta property=\"fb:pages\" content=\"448598895276\" /> \\n        <meta property=\"fb:pages\" content=\"230136914060845\" /> \\n        <meta property=\"fb:pages\" content=\"277244515074\" /> \\n        <meta property=\"fb:pages\" content=\"162510474290970\" /> \\n        <meta property=\"fb:pages\" content=\"176497449054784\" /> \\n        <meta property=\"fb:pages\" content=\"104971002870361\" /> \\n        <meta property=\"fb:pages\" content=\"48486263401\" /> \\n        <meta property=\"fb:pages\" content=\"178109522247900\" /> \\n        <meta property=\"fb:pages\" content=\"675323875963836\" /> \\n        <meta property=\"fb:pages\" content=\"147936338714719\" /> \\n        <meta property=\"fb:pages\" content=\"197952668850\" /> \\n        <meta property=\"fb:pages\" content=\"233410473368138\" /> \\n        <meta property=\"fb:pages\" content=\"109190032459007\" /> \\n        <meta property=\"fb:pages\" content=\"362738107455808\" /> \\n        <meta property=\"fb:pages\" content=\"106604179401411\" /> \\n        <meta property=\"fb:pages\" content=\"1909778589278032\" /> \\n        <meta property=\"fb:pages\" content=\"119754034741589\" /> \\n        <meta property=\"fb:pages\" content=\"289943751120613\" /> \\n        <meta property=\"fb:pages\" content=\"1773492992978121\" /> \\n        <meta property=\"fb:pages\" content=\"1120815218030799\" /> \\n        <meta property=\"fb:pages\" content=\"1895657054003184\" /> \\n        <meta property=\"fb:pages\" content=\"126546190703867\" /> \\n        <meta property=\"fb:pages\" content=\"54638123029\" /> \\n        <meta property=\"fb:pages\" content=\"99014083574\" /> \\n        <meta property=\"fb:pages\" content=\"468316446850555\" /> \\n\\n                                    <script type=\"text/javascript\">\\n        var stats = \"https://sb.scorecardresearch.com/b?c1=2&c2=6036016&ns_site=mainsite&ns_vsite=srf-v&name=home&category=Home.Hilfe.Dienstleistungen+und+Kontakte&srg_a_id=4267482&srg_ctype=Landingpage&srg_title=homepage-2-0&srg_pub_d=2014.03.21&srg_pubdate=20140321&srg_pub_t=10%3A29%3A17&srg_ver_nr=3738&srg_unit=SRF&srg_ccategory1=Home&srg_ccategory2=Hilfe&srg_ccategory3=Dienstleistungen+und+Kontakte&srg_n1=Home&srg_n2=Hilfe&srg_n3=Dienstleistungen+und+Kontakte\";\\n    </script><script type=\"text/javascript\" src=\"/var/storage/assets/srf-mobile-redirector/srf-mobile-redirector-cc49dce1.js\"></script>\\n\\n<script type=\"text/javascript\" src=\"/var/storage/assets/webfonts/webfonts-4f437917.js\"></script>\\n\\n<title>Schweizer Radio und Fernsehen (SRF)</title>\\n\\n\\n<link rel=\"alternate\" media=\"only screen and (max-width: 767px)\" href=\"https://m.srf.ch/\" /><meta name=\"DC.title\" content=\"SRF Home\" /><meta property=\"og:title\" content=\"Home\" /><meta name=\"twitter:title\" content=\"Home\" /><meta name=\"srf.teaser_image\" content=\"https://www.srf.ch/extension/srf_shared/design/standard/images/logos/srflogo.png\" /><meta property=\"og:image\" content=\"https://www.srf.ch/iapp/image/4267482/3738/srf_home@1x.jpg?imagesize=s8\" /><meta property=\"og:type\" content=\"website\" /><meta property=\"og:url\" content=\"https://www.srf.ch/\" /><meta property=\"og:site_name\" content=\"Schweizer Radio und Fernsehen (SRF)\" /><meta name=\"srf.content_class\" content=\"NoIndex\" /><meta name=\"Description\" content=\"Steigen Sie ein in das Angebot aus Audios, Videos, Nachrichten und allen Sendungen von Schweizer Radio und Fernsehen.\" /><meta property=\"og:description\" content=\"Steigen Sie ein in das Angebot aus Audios, Videos, Nachrichten und allen Sendungen von Schweizer Radio und Fernsehen.\" /><meta name=\"twitter:card\" content=\"summary\" /><meta name=\"twitter:url\" content=\"https://www.srf.ch/\" /><meta name=\"twitter:description\" content=\"Steigen Sie ein in das Angebot aus Audios, Videos, Nachrichten und allen Sendungen von Schweizer Radio und Fernsehen.\" /><meta name=\"twitter:image\" content=\"https://www.srf.ch/iapp/image/4267482/3738/srf_home@1x.jpg?imagesize=s8\" /><meta property=\"srf:content:id\" content=\"4267482\" /><link rel=\"canonical\" href=\"https://www.srf.ch/\" /><meta name=\"robots\" content=\"all, noodp\" />\\n\\n\\n\\n<link rel=\"icon\" href=\"/extension/srf_shared/design/standard/images/favicons/favicon.ico\" />\\n\\n\\n<link rel=\"icon\" type=\"image/png\" sizes=\"16x16\" href=\"/extension/srf_shared/design/standard/images/favicons/favicon-16x16.png\" />\\n<link rel=\"icon\" type=\"image/png\" sizes=\"32x32\" href=\"/extension/srf_shared/design/standard/images/favicons/favicon-32x32.png\" />\\n<link rel=\"icon\" type=\"image/png\" sizes=\"48x48\" href=\"/extension/srf_shared/design/standard/images/favicons/favicon-48x48.png\" />\\n<link rel=\"icon\" type=\"image/png\" sizes=\"64x64\" href=\"/extension/srf_shared/design/standard/images/favicons/favicon-64x64.png\" />\\n<link rel=\"icon\" type=\"image/png\" sizes=\"96x96\" href=\"/extension/srf_shared/design/standard/images/favicons/favicon-96x96.png\" />\\n\\n\\n<link href=\"/extension/srf_shared/design/standard/images/favicons/mask-icon.svg\" rel=\"mask-icon\" size=\"any\" color=\"#AF001D\" />\\n\\n\\n<link rel=\"apple-touch-icon\" sizes=\"120x120\" href=\"/extension/srf_shared/design/standard/images/favicons/apple-touch-icon-120x120.png\" />\\n<link rel=\"apple-touch-icon\" sizes=\"152x152\" href=\"/extension/srf_shared/design/standard/images/favicons/apple-touch-icon-152x152.png\" />\\n<link rel=\"apple-touch-icon\" sizes=\"167x167\" href=\"/extension/srf_shared/design/standard/images/favicons/apple-touch-icon-167x167.png\" />\\n<link rel=\"apple-touch-icon\" sizes=\"180x180\" href=\"/extension/srf_shared/design/standard/images/favicons/apple-touch-icon-180x180.png\" />\\n\\n\\n<meta name=\"msapplication-TileColor\" content=\"#AF001D\" />\\n<meta name=\"msapplication-square150x150logo\" content=\"/design/srffrontend/images/favicons/msapplication-square150x150logo.png\" />\\n\\n\\n\\n<!-- first -->\\n\\n<!--\\nURHEBERRECHTSHINWEIS:\\nDie SRG SSR Schrift und die dazugehörige Software stehen im vollumfänglichen Eigentum der SRG. Jede Bearbeitung, Vervielfältigung, Verbreitung und/oder öffentliche Wiedergabe, insbesondere die ungenehmigte Übernahme der SRG SSR Schrift stellt einen Rechtsverstoss dar, der zum Schadenersatz verpflichtet und auch strafrechtlich verfolgt wird.\\n-->\\n<link href=\"/var/storage/assets/srf-desktop/srf-desktop-7f627712.css\" type=\"text/css\" rel=\"stylesheet\" />\\n<!-- second -->\\n<script type=\"application/ld+json\">\\n{\\n   \"@context\": \"https://schema.org\",\\n   \"@type\": \"WebSite\",\\n   \"url\": \"https://www.srf.ch\",\\n   \"potentialAction\": {\\n     \"@type\": \"SearchAction\",\\n     \"target\": \"https://www.srf.ch/suche?q={search_term_string}\",\\n     \"query-input\": \"required name=search_term_string\"\\n   }\\n}\\n</script>\\n        <script type=\"text/javascript\">\\n  var _sf_async_config = _sf_async_config || {};\\n  /** CONFIGURATION START **/\\n  _sf_async_config.uid = 54628;\\n  _sf_async_config.domain = \\'srf.ch\\';\\n  /** CONFIGURATION END **/\\n</script><script src=\"https://static.chartbeat.com/js/chartbeat_mab.js\"></script>        \\n        \\t</head>\\n\\n    <body class=\"home\"\\n          itemscope itemtype=\"http://schema.org/WebPage\"  data-bu=\"SRF\">\\n  <!--googleoff: all-->\\n\\n    <script type=\"text/javascript\">document.getElementsByTagName(\"body\")[0].className += \" js-enabled\";</script>\\n    <div id=\"wrapper\" data-node-id=\"4331062\">\\n\\t\\t\\t<div id=\"access-links\">\\n\\t\\t\\t\\t<a href=\"#skip-to-content\">zum Inhalt</a>\\n\\t\\t\\t\\t<a href=\"#skiptarget-primary-nav\">zur Hauptnavigation</a>\\n\\t\\t\\t</div>\\n\\n          \\n<header>\\n    <div class=\" \">\\n        <div id=\"page-header\" class=\"v2\">\\n            <div class=\"header container\">\\n                <div class=\"navbar global\">\\n                    <nav role=\"navigation\" itemtype=\"http://schema.org/SiteNavigationElement\" itemscope=\"\"\\n                         class=\"pull-left\">\\n                        <div id=\"global-nav\" data-referrer-track=\"srf_mod1=header_nav\">\\n                            <ul class=\"nav\">\\n                                <li><a href=\"https://www.srf.ch/programm/tv\">TV-Programm</a></li>\\n                                <li><a href=\"/programm/radio\">Radio-Programm</a></li>\\n                                <li><a href=\"/podcasts\">Podcasts</a></li>\\n                                <li><a href=\"http://www.srf.ch/verkehrsinformationen\">Verkehr</a></li>\\n                                <li><a href=\"/shop\">Shop</a></li>\\n                            </ul>\\n                        </div>\\n                    </nav>\\n                    <ul class=\"nav live pull-right\" data-referrer-track=\"srf_mod1=header_nav\">\\n                        <li><a href=\"/tv/allgemein/korrekturen\">Korrekturen</a></li>\\n                        <li><a href=\"/sendungen/hallosrf\">Hallo SRF</a></li>\\n                        <li><a href=\"/unternehmen\">Über SRF</a></li>\\n                    </ul>\\n                </div>\\n                <div class=\"logo pull-left clear-left\" data-referrer-track=\"srf_mod1=header_nav\">\\n                    <a href=\"/\">\\n                        <img src=\"/extension/srf_shared/design/standard/images/logos/SRF.svg\"\\n                             alt=\"Zur Startseite von Schweizer Radio und Fernsehen\"\\n                             title=\"Zur Startseite von Schweizer Radio und Fernsehen\"\\n                             width=\"64\"\\n                             height=\"42\"/>\\n                    </a>\\n                </div>\\n                <form action=\"/suche\" class=\"navbar-search pull-right\" role=\"search\" method=\"get\">\\n                    <label class=\"offscreen\" for=\"search-site\">Suchen</label>\\n                    <input type=\"text\" data-referrer-track=\"srf_suchfeld=header\" data-follow-links=\"true\"\\n                           data-source-json=\"/autocomplete/broadcasts\" data-provide=\"typeahead\" name=\"q\"\\n                           id=\"search-site\" class=\"search-query\" autocomplete=\"off\">\\n                </form>\\n                <div class=\"weather pull-right\" data-referrer-track=\"srf_mod1=header_nav&amp;srf_mod2=meteoicon\">\\n                  \\n                  <a href=\"/meteo\" data-created=\"1538399031\" data-portal=\"home\">\\n    <span>Morgen&nbsp;</span>\\n    <img src=\"/extension/srf_shared/design/standard/images/meteo/icons/so_grhe.png\"\\n         data-retina-src=\"/extension/srf_shared/design/standard/images/meteo/icons/retina/so_grhe_xx.png\"\\n         alt=\"Sonne und Wolken im Wechsel\"\\n         title=\"SRF Meteo\" />\\n    <span>6&deg;/13&deg;C</span>\\n</a>\\n\\n\\n                </div>\\n\\n                \\n                    <div class=\"nothing_special_on_display\"></div>\\n\\n\\n                <div class=\"navbar main-nav\" data-referrer-track=\"srf_mod1=top_nav\">\\n                    <nav role=\"navigation\" itemtype=\"http://schema.org/SiteNavigationElement\" itemscope=\"\">\\n\\n                                                                      \\n                      \\n<div class=\"primary-nav top-level-nav\" id=\"primary-nav\">\\n    <div class=\"offscreen\"><a id=\"skiptarget-primary-nav\">&nbsp;</a></div>\\n    <ul class=\"nav\">\\n    \\n                                    \\n        <li>\\n            <a class=\"main-nav-item\" href=\"/news\">News</a>\\n                    </li>\\n    \\n                                    \\n        <li>\\n            <a class=\"main-nav-item\" href=\"/sport\">Sport</a>\\n                    </li>\\n    \\n                                    \\n        <li>\\n            <a class=\"main-nav-item\" href=\"/meteo\">Meteo</a>\\n                    </li>\\n    \\n                                    \\n        <li>\\n            <a class=\"main-nav-item\" href=\"/kultur\">Kultur</a>\\n                    </li>\\n    \\n                                    \\n        <li>\\n            <a class=\"main-nav-item\" href=\"/sendungen/dok\">Dok</a>\\n                    </li>\\n        </ul>\\n</div>\\n\\n                                          </nav>\\n                    <nav role=\"navigation\" itemtype=\"http://schema.org/SiteNavigationElement\" itemscope=\"\">\\n                        <div id=\"broadcast-nav\" class=\"pull-right\">\\n\\n                                                        \\n                            <div class=\"primary-nav top-level-nav pull-left\">\\n                            <ul class=\"nav\">\\n                                                                    <li class=\"left-border\"><a href=\"/sendungen-a-z\">Sendungen A&ndash;Z</a></li>\\n                                                            </ul>\\n                            </div>\\n                            <ul class=\"nav drop-shadow-left custom-background\">\\n                                <li class=\"tv-radio-live-btn\">\\n                                    <a href=\"#tv-info\" data-flyout=\"tv\">Jetzt im TV\\n                                        <span id=\"flyout-arrow-tv\" class=\"flyout-arrow\"></span>\\n                                    </a>\\n                                </li>\\n                                <li class=\"tv-radio-live-btn\">\\n                                    <a href=\"#radio-info\" data-flyout=\"radio\">Jetzt im Radio\\n                                        <span id=\"flyout-arrow-radio\" class=\"flyout-arrow\"></span>\\n                                    </a>\\n                                </li>\\n                                <li>\\n                                    <a href=\"/play\" title=\"Play SRF\"><img class=\"play-srf\" src=\"/extension/srf_shared/design/standard/images/logos/player_logo.svg\" alt=\"Play SRF\" /></a>\\n                                </li>\\n                            </ul>\\n                        </div>\\n                    </nav>\\n                </div>\\n            </div>\\n        </div>\\n\\n      <div id=\"tv-radio-live\" data-referrer-track=\"srf_mod1=header_flyout\" >\\n        \\n        <div style=\"display: none;\" class=\"container tv-radio-live-content color-white\">\\n    <div id=\"tv-info\" style=\"display: none;\" data-referrer-track=\"srf_mod2=header_flyout_tv\">\\n        <h3 class=\"border\">\\n            Jetzt im TV\\n            <a href=\"https://www.srf.ch/programm/tv\" class=\"additional-link pull-right\">\\n                TV-Programm\\n            </a>\\n        </h3>\\n        <div class=\"programm-auto-poll\">\\n            <div class=\"row\">\\n    <ul>\\n        \\n        <li class=\"span4\">\\n            <h3 class=\"offscreen\">SRF 1</h3>\\n\\n            <div class=\"tv-logo\">\\n                                <a href=\"/tv/srf-1\">\\n                                        <img    src=\"/extension/srf_shared/design/standard/images/logos/tv/srf_1-hori.png\"\\n                            alt=\"Zur Übersichtsseite von SRF 1\"\\n                            title=\"SRF 1\"\\n                            width=\"38\"\\n                            height=\"22\"\\n                            data-retina-src=\"/extension/srf_shared/design/standard/images/logos/tv/retina/srf_1-hori.png\"\\n                            />\\n                                    </a>\\n                            </div>\\n\\n                        <a class=\"icon-container\" href=\"http://www.srf.ch/programm/tv/sendung/d65eb080-b348-467e-ac2c-08e30cf7f664\">\\n                <img width=\"144\" height=\"81\"\\n                     title=\"Herzensbrecher - Vater von vier Söhnen\"\\n                     alt=\"Herzensbrecher - Vater von vier Söhnen\"\\n                     src=\"https://www.srf.ch/programm/tv/image/redirect/da2a9edc39427aabecf335f41aab23cebfdf2251.jpg?\">\\n            </a>\\n            \\n            <div class=\"module-content \">\\n                <a class=\"btn btn-red\" href=\"/livestream/player/srf-1\" data-toggle=\"popout\" data-popout-height=\"760\" data-popout-width=\"644\" data-popout-type=\"fixedWidth\">\\n                    <span class=\"btn-live\"></span>Jetzt sehen\\n                </a>\\n                <ul>\\n                                        <li class=\"now\">\\n                                                <span class=\"date\">Seit 14:30</span>\\n                                                <a href=\"http://www.srf.ch/programm/tv/sendung/d65eb080-b348-467e-ac2c-08e30cf7f664\">\\n                            Herzensbrecher - Vater von vier Söhnen\\n                        </a>\\n                    </li>\\n                    \\n                                        <li class=\"next\">\\n                                                <span class=\"date\">Heute, 15:25</span>\\n                                                <a href=\"http://www.srf.ch/programm/tv/sendung/745fdcae-eee3-43e3-a24e-91a4745674df\">\\n                            Reporter\\n                        </a>\\n                    </li>\\n                    \\n                                        <li class=\"website\">\\n                        <a href=\"/tv/srf-1\">Webseite</a>\\n                    </li>\\n                                    </ul>\\n            </div>\\n        </li>\\n\\n        \\n        <li class=\"span4\">\\n            <h3 class=\"offscreen\">SRF zwei</h3>\\n\\n            <div class=\"tv-logo\">\\n                                <a href=\"/tv/srf-zwei\">\\n                                        <img    src=\"/extension/srf_shared/design/standard/images/logos/tv/srf_2-hori.png\"\\n                            alt=\"Zur Übersichtsseite von SRF zwei\"\\n                            title=\"SRF zwei\"\\n                            width=\"70\"\\n                            height=\"22\"\\n                            data-retina-src=\"/extension/srf_shared/design/standard/images/logos/tv/retina/srf_2-hori.png\"\\n                            />\\n                                    </a>\\n                            </div>\\n\\n                        <a class=\"icon-container\" href=\"http://www.srf.ch/programm/tv/sendung/f3b07a77-a85d-438b-b0e8-6f66852aeaea\">\\n                <img width=\"144\" height=\"81\"\\n                     title=\"Grey&#039;s Anatomy\"\\n                     alt=\"Grey&#039;s Anatomy\"\\n                     src=\"https://www.srf.ch/programm/tv/image/redirect/b3d37c861f999388a31d5e9649ae2534618053b9.jpg?\">\\n            </a>\\n            \\n            <div class=\"module-content \">\\n                <a class=\"btn btn-red\" href=\"/livestream/player/srf-2\" data-toggle=\"popout\" data-popout-height=\"760\" data-popout-width=\"644\" data-popout-type=\"fixedWidth\">\\n                    <span class=\"btn-live\"></span>Jetzt sehen\\n                </a>\\n                <ul>\\n                                        <li class=\"now\">\\n                                                <span class=\"date\">Seit 15:10</span>\\n                                                <a href=\"http://www.srf.ch/programm/tv/sendung/f3b07a77-a85d-438b-b0e8-6f66852aeaea\">\\n                            Grey&#039;s Anatomy\\n                        </a>\\n                    </li>\\n                    \\n                    \\n                                        <li class=\"website\">\\n                        <a href=\"/tv/srf-zwei\">Webseite</a>\\n                    </li>\\n                                    </ul>\\n            </div>\\n        </li>\\n\\n        \\n        <li class=\"span4\">\\n            <h3 class=\"offscreen\">SRF info</h3>\\n\\n            <div class=\"tv-logo\">\\n                                    <img    src=\"/extension/srf_shared/design/standard/images/logos/tv/srf_info-hori.png\"\\n                            alt=\"Zur Übersichtsseite von SRF info\"\\n                            title=\"SRF info\"\\n                            width=\"62\"\\n                            height=\"22\"\\n                            data-retina-src=\"/extension/srf_shared/design/standard/images/logos/tv/retina/srf_info-hori.png\"\\n                            />\\n                                </div>\\n\\n                        <a class=\"icon-container\" href=\"http://www.srf.ch/programm/tv/sendung/5581006d-cd3f-4290-af56-24079d08cc8d\">\\n                <img width=\"144\" height=\"81\"\\n                     title=\"Arena/Reporter\"\\n                     alt=\"Arena/Reporter\"\\n                     src=\"https://www.srf.ch/programm/tv/image/redirect/9a72404cd86ac5945aea0dafb372130bc2471dd9.jpg?\">\\n            </a>\\n            \\n            <div class=\"module-content \">\\n                <a class=\"btn btn-red\" href=\"/livestream/player/srf-info\" data-toggle=\"popout\" data-popout-height=\"760\" data-popout-width=\"644\" data-popout-type=\"fixedWidth\">\\n                    <span class=\"btn-live\"></span>Jetzt sehen\\n                </a>\\n                <ul>\\n                                        <li class=\"now\">\\n                                                <span class=\"date\">Seit 15:10</span>\\n                                                <a href=\"http://www.srf.ch/programm/tv/sendung/5581006d-cd3f-4290-af56-24079d08cc8d\">\\n                            Arena/Reporter\\n                        </a>\\n                    </li>\\n                    \\n                    \\n                                    </ul>\\n            </div>\\n        </li>\\n\\n        \\n    </ul>\\n</div>\\n        </div>\\n    </div>\\n\\n    <div id=\"radio-info\" style=\"display: none;\" data-referrer-track=\"srf_mod2=header_flyout_radio\">\\n        <h3 class=\"border\">\\n            Jetzt im Radio\\n            <a href=\"/programm/radio\" class=\"additional-link pull-right\">\\n                Radio-Programm\\n            </a>\\n        </h3>\\n        <div class=\"row\">\\n    <ul>\\n        \\n        <li class=\"span2\">\\n            <h3 class=\"offscreen\">Radio SRF 1</h3>\\n            <div class=\"radio-logo\">\\n                <a href=\"/radio-srf-1\">\\n                    <img src=\"/extension/srf_shared/design/standard/images/logos/radio/SRF-radio1-hori-small.png\"\\n                         data-retina-src=\"/extension/srf_shared/design/standard/images/logos/radio/retina/SRF-radio1-hori-small.png\"\\n                         alt=\"Zur Übersichtsseite von Radio SRF 1\"\\n                         title=\"Radio SRF 1\" width=\"46\" height=\"22\"/>\\n                </a>\\n            </div>\\n\\n            <div class=\"module-content no-image\">\\n    <a class=\"btn btn-red\" href=\"https://www.srf.ch/play/radio/livepopup/radio-srf-1\" data-toggle=\"popout\" data-popout-width=\"330\" data-popout-type=\"fixedWidth\">\\n        <span class=\"btn-live\"></span>Jetzt hören\\n    </a>\\n\\n    <ul>\\n\\n        \\n                <li class=\"next\">\\n            <span class=\"date\">Heute, 16:00</span>\\n\\n                            <a href=/sendungen/heute-um-vier/sendungen>Heute um Vier</a>\\n            \\n        </li>\\n       \\n        <li class=\"website\">\\n            <a href=\"/radio-srf-1\">Webseite</a>\\n        </li>\\n    </ul>\\n</div>        </li>\\n\\n        \\n        <li class=\"span2\">\\n            <h3 class=\"offscreen\">Radio SRF 2 Kultur</h3>\\n            <div class=\"radio-logo\">\\n                <a href=\"/radio-srf-2-kultur\">\\n                    <img src=\"/extension/srf_shared/design/standard/images/logos/radio/SRF-radio2-hori-small.png\"\\n                         data-retina-src=\"/extension/srf_shared/design/standard/images/logos/radio/retina/SRF-radio2-hori-small.png\"\\n                         alt=\"Zur Übersichtsseite von Radio SRF 2 Kultur\"\\n                         title=\"Radio SRF 2 Kultur\" width=\"46\" height=\"22\"/>\\n                </a>\\n            </div>\\n\\n            <div class=\"module-content no-image\">\\n    <a class=\"btn btn-red\" href=\"https://www.srf.ch/play/radio/livepopup/radio-srf-2-kultur\" data-toggle=\"popout\" data-popout-width=\"330\" data-popout-type=\"fixedWidth\">\\n        <span class=\"btn-live\"></span>Jetzt hören\\n    </a>\\n\\n    <ul>\\n\\n        \\n                <li class=\"next\">\\n            <span class=\"date\">Heute, 16:00</span>\\n\\n                            <a href=/sendungen/nachrichten/sendungen>Nachrichten</a>\\n            \\n        </li>\\n       \\n        <li class=\"website\">\\n            <a href=\"/radio-srf-2-kultur\">Webseite</a>\\n        </li>\\n    </ul>\\n</div>        </li>\\n\\n        \\n        <li class=\"span2\">\\n            <h3 class=\"offscreen\">Radio SRF 3</h3>\\n            <div class=\"radio-logo\">\\n                <a href=\"/radio-srf-3\">\\n                    <img src=\"/extension/srf_shared/design/standard/images/logos/radio/SRF-radio3-hori-small.png\"\\n                         data-retina-src=\"/extension/srf_shared/design/standard/images/logos/radio/retina/SRF-radio3-hori-small.png\"\\n                         alt=\"Zur Übersichtsseite von Radio SRF 3\"\\n                         title=\"Radio SRF 3\" width=\"46\" height=\"22\"/>\\n                </a>\\n            </div>\\n\\n            <div class=\"module-content no-image\">\\n    <a class=\"btn btn-red\" href=\"https://www.srf.ch/play/radio/livepopup/radio-srf-3\" data-toggle=\"popout\" data-popout-width=\"330\" data-popout-type=\"fixedWidth\">\\n        <span class=\"btn-live\"></span>Jetzt hören\\n    </a>\\n\\n    <ul>\\n\\n        \\n                <li class=\"next\">\\n            <span class=\"date\">Heute, 16:00</span>\\n\\n                            <a href=/sendungen/nachrichten/sendungen>Nachrichten</a>\\n            \\n        </li>\\n       \\n        <li class=\"website\">\\n            <a href=\"/radio-srf-3\">Webseite</a>\\n        </li>\\n    </ul>\\n</div>        </li>\\n\\n        \\n        <li class=\"span2\">\\n            <h3 class=\"offscreen\">Radio SRF 4 News</h3>\\n            <div class=\"radio-logo\">\\n                <a href=\"/radio-srf-4-news\">\\n                    <img src=\"/extension/srf_shared/design/standard/images/logos/radio/SRF-radio4-hori-small.png\"\\n                         data-retina-src=\"/extension/srf_shared/design/standard/images/logos/radio/retina/SRF-radio4-hori-small.png\"\\n                         alt=\"Zur Übersichtsseite von Radio SRF 4 News\"\\n                         title=\"Radio SRF 4 News\" width=\"46\" height=\"22\"/>\\n                </a>\\n            </div>\\n\\n            <div class=\"module-content no-image\">\\n    <a class=\"btn btn-red\" href=\"https://www.srf.ch/play/radio/livepopup/radio-srf-4-news\" data-toggle=\"popout\" data-popout-width=\"330\" data-popout-type=\"fixedWidth\">\\n        <span class=\"btn-live\"></span>Jetzt hören\\n    </a>\\n\\n    <ul>\\n\\n        \\n                <li class=\"next\">\\n            <span class=\"date\">Heute, 15:30</span>\\n\\n                            <a href=/sendungen/nachrichten/sendungen>Nachrichten</a>\\n            \\n        </li>\\n       \\n        <li class=\"website\">\\n            <a href=\"/radio-srf-4-news\">Webseite</a>\\n        </li>\\n    </ul>\\n</div>        </li>\\n\\n        \\n        <li class=\"span2\">\\n            <h3 class=\"offscreen\">Radio SRF Musikwelle</h3>\\n            <div class=\"radio-logo\">\\n                <a href=\"/radio-srf-musikwelle\">\\n                    <img src=\"/extension/srf_shared/design/standard/images/logos/radio/SRF-radiomusikwelle-hori-small.png\"\\n                         data-retina-src=\"/extension/srf_shared/design/standard/images/logos/radio/retina/SRF-radiomusikwelle-hori-small.png\"\\n                         alt=\"Zur Übersichtsseite von Radio SRF Musikwelle\"\\n                         title=\"Radio SRF Musikwelle\" width=\"46\" height=\"22\"/>\\n                </a>\\n            </div>\\n\\n            <div class=\"module-content no-image\">\\n    <a class=\"btn btn-red\" href=\"https://www.srf.ch/play/radio/livepopup/radio-srf-musikwelle\" data-toggle=\"popout\" data-popout-width=\"330\" data-popout-type=\"fixedWidth\">\\n        <span class=\"btn-live\"></span>Jetzt hören\\n    </a>\\n\\n    <ul>\\n\\n                <li class=\"now\">\\n            <span class=\"date\">Seit 14:03</span>\\n\\n                            <a href=/sendungen/wuensch-dir-was/sendungen>Wünsch dir was</a>\\n            \\n        </li>\\n        \\n                <li class=\"next\">\\n            <span class=\"date\">Heute, 17:20</span>\\n\\n                            <a href=/sendungen/schnipseljagd/sendungen>Schnipseljagd</a>\\n            \\n        </li>\\n       \\n        <li class=\"website\">\\n            <a href=\"/radio-srf-musikwelle\">Webseite</a>\\n        </li>\\n    </ul>\\n</div>        </li>\\n\\n        \\n        <li class=\"span2\">\\n            <h3 class=\"offscreen\">SRF Virus</h3>\\n            <div class=\"radio-logo\">\\n                <a href=\"/radio-srf-virus\">\\n                    <img src=\"/extension/srf_shared/design/standard/images/logos/radio/SRF-radiovirus-hori-small.png\"\\n                         data-retina-src=\"/extension/srf_shared/design/standard/images/logos/radio/retina/SRF-radiovirus-hori-small.png\"\\n                         alt=\"Zur Übersichtsseite von SRF Virus\"\\n                         title=\"SRF Virus\" width=\"46\" height=\"22\"/>\\n                </a>\\n            </div>\\n\\n            <div class=\"module-content no-image\">\\n    <a class=\"btn btn-red\" href=\"https://www.srf.ch/play/radio/livepopup/radio-srf-virus\" data-toggle=\"popout\" data-popout-width=\"330\" data-popout-type=\"fixedWidth\">\\n        <span class=\"btn-live\"></span>Jetzt hören\\n    </a>\\n\\n    <ul>\\n\\n                <li class=\"now\">\\n            <span class=\"date\">Seit 12:00</span>\\n\\n                            Junge Popkultur, urbanes Leben\\n            \\n        </li>\\n        \\n                <li class=\"next\">\\n            <span class=\"date\">Heute, 16:00</span>\\n\\n                            Neue Musik entdecken\\n            \\n        </li>\\n       \\n        <li class=\"website\">\\n            <a href=\"/radio-srf-virus\">Webseite</a>\\n        </li>\\n    </ul>\\n</div>        </li>\\n\\n            </ul>\\n</div>\\n\\n    </div>\\n</div>\\n      </div>\\n\\n                                                                <div id=\"tertiary-nav-container\">\\n    <div class=\"container no-height\"></div>\\n</div>\\n                                            </div>\\n\\n</header>\\n\\n      <span class=\"offscreen\" id=\"skip-to-content\"></span>\\n      \\n\\n\\n\\n  \\n\\n\\n\\n    \\n    \\n\\n\\n\\n            \\n\\n\\n\\n\\n    \\n\\n\\n\\n\\n\\n\\n    \\n\\n\\n\\n\\n    \\n        <div class=\"row\" data-module-coid=\"16262042\">\\n          \\n      <div class=\"fullwidth-highlights-representation-grey\">    <div class=\"container fullwidth-highlights\" data-representation=\"grey\">\\n                <h2 class=\"clearfix border\">\\n        \\n                        \\n«Babylon Berlin» - die teuerste deutsche Serie aller Zeiten\\n    </h2>            <div class=\"module highlights row v2\"           data-referrer-track=\"srf_mod1=content&amp;srf_mod2=highlight_fullwidth_grey&amp;srf_mod4count=3&amp;srf_mod3=«Babylon Berlin» - die teuerste deutsche Serie aller Zeiten\">\\n        <ul class=\"vertical-border\">\\n                                      \\n                                    \\n<li     class=\"span4  highlightmodul    \"\\n    data-referrer-track=\"srf_mod4=1&amp;srf_mod4width=4\"\\n    data-node-id=\"16367144\" data-socialview-urn=\"/radio_srf_3/p/5-gruende-warum-dich-die-serie-babylon-berlin-umhauen-wird\">\\n\\n  <div class=\"social_view_buzz\" style=\"display:none;\" data-toggle=\"tooltip\" data-toggle-view=\"true\"\\n       data-original-title=\"\"></div>\\n            \\n          <a href=\"/radio-srf-3/aktuell/serientipp-5-gruende-warum-dich-die-serie-babylon-berlin-umhauen-wird\" class=\"icon-container\">\\n        \\n\\n                    \\n    \\n                                                        <img src=\"/var/storage/images/auftritte/radio-srf-3/bilder/2018/09/13/7bfe67564278b667dd6eb50848503bf8/180144086-2-ger-DE/7bfe67564278b667dd6eb50848503bf8_s4.jpg\"\\n              data-keep-dimension=\"true\"\\n                              data-retina-src=\"/var/storage/images/auftritte/radio-srf-3/bilder/2018/09/13/7bfe67564278b667dd6eb50848503bf8/180144086-2-ger-DE/7bfe67564278b667dd6eb50848503bf8_s4_retina.jpg\"\\n                                       width=\"304\"\\n             height=\"171\"\\n             style=\"\"\\n             alt=\"5 Gründe, warum dich die Serie «Babylon Berlin» umhauen wird (Artikel enthält Video)\"\\n             title=\"5 Gründe, warum dich die Serie «Babylon Berlin» umhauen wird (Artikel enthält Video)\" />\\n            \\n    \\n    \\n        <span class=\"media-icon media-video\"></span>\\n  </a>\\n<div class=\"content no-video\">\\n\\n                                    \\n\\n    <div class=\"rubric-badge rubric-badge-before-title\"  >\\n\\n          <a class=\"tag small srf-3\">\\n                        Serientipp\\n                  </a>\\n    \\n          </div>    \\n    \\n            \\n\\n    \\n    <h3>\\n        <a href=\"/radio-srf-3/aktuell/serientipp-5-gruende-warum-dich-die-serie-babylon-berlin-umhauen-wird\">            <span class=\"title\">5 Gründe, warum die Serie «Babylon Berlin» total begeistert</span>\\n            </a>    </h3>\\n    <p>40 Millionen Euro hat die bildgewaltige Serie gekostet. Jetzt ist sie bei SRF zu sehen.</p>\\n    \\n    </div>\\n      </li>\\n                                                                                              \\n                                    \\n<li class=\"span4 no-image  highlightmodul past\"\\n    data-referrer-track=\"srf_mod4=2&amp;srf_mod4width=4\">\\n\\n    \\n    \\n\\n            \\n            <a data-toggle=\"lightbox\" data-targettype=\"video\" data-target=\"#lightbox\" class=\"icon-container element-future element-past\"\\n          href=\"#\" \\n    \\n                                            \\n    data-urn=\"urn:srf:ais:video:691802a1-3db3-4f56-acc3-0a5b0df1b4b4\" data-cssid=\\'lightbox-contents\\' data-width=\\'624\\' data-height=\\'351\\' data-isAutoplay=\\'true\\' data-mode=\\'portal\\' data-isLightbox=\\'true\\'  \\n\\n    >\\n    \\n        <img src=\"https://ws.srf.ch/asset/image/audio/f92829e3-b6c3-40d4-89b3-ac491524aae4/EPISODE_IMAGE/1538336454.png/scale/width/304\" data-fallback-src=\"/extension/srf_shared/design/standard/images/default_still.jpg\" width=\"304\" alt=\"Video «Babylon Berlin (Folge 1/16)» abspielen\" title=\"Video «Babylon Berlin (Folge 1/16)» abspielen\" class=\"upscale\">\\n  <meta itemprop=\"thumbnailUrl\" content=\"https://ws.srf.ch/asset/image/audio/f92829e3-b6c3-40d4-89b3-ac491524aae4/EPISODE_IMAGE/1538336454.png/scale/width/304\" />\\n            <span class=\"media-play\"></span>\\n        </a><a href=\"\" class=\"icon-container element-current\">    \\n        <img src=\"https://ws.srf.ch/asset/image/audio/f92829e3-b6c3-40d4-89b3-ac491524aae4/EPISODE_IMAGE/1538336454.png/scale/width/304\" data-fallback-src=\"/extension/srf_shared/design/standard/images/default_still.jpg\" width=\"304\" alt=\"Video «Babylon Berlin (Folge 1/16)» abspielen\" title=\"Video «Babylon Berlin (Folge 1/16)» abspielen\" class=\"upscale\">\\n  <meta itemprop=\"thumbnailUrl\" content=\"https://ws.srf.ch/asset/image/audio/f92829e3-b6c3-40d4-89b3-ac491524aae4/EPISODE_IMAGE/1538336454.png/scale/width/304\" />    </a>\\n\\n    \\n<div class=\"content\">\\n\\n    \\n    \\n            \\n\\n    \\n    <h3>\\n                    <span class=\"title\">        \\n  Babylon Berlin (Folge 1/16)    </span>\\n                </h3>\\n    <p>                    45 min, aus <a href=\"https://www.srf.ch/play/tv/sendung/babylon-berlin?id=d12a798e-c300-4816-b627-68e075823549\">Babylon Berlin</a> vom 30.9.2018\\n        <meta itemprop=\"description\" content=\"Babylon Berlin - Babylon Berlin (Folge 1/16)\" /><meta itemprop=\"duration\" content=\"T00H45M22S\" />    </p>\\n    \\n    </div>\\n  \\n</li>\\n                                                                                              \\n                                \\n<li     class=\"span4 no-border highlightmodul    \"\\n    data-referrer-track=\"srf_mod4=3&amp;srf_mod4width=4\"\\n    data-node-id=\"16431716\" data-socialview-urn=\"/sendungen/hallosrf/p/kann-man-babylon-berlin-auch-zeitversetzt-schauen\">\\n\\n  <div class=\"social_view_buzz\" style=\"display:none;\" data-toggle=\"tooltip\" data-toggle-view=\"true\"\\n       data-original-title=\"\"></div>\\n            \\n          <a href=\"/sendungen/hallosrf/kann-man-babylon-berlin-auch-zeitversetzt-schauen\" class=\"icon-container\">\\n        \\n\\n                    \\n    \\n                                                        <img src=\"/var/storage/images/auftritte/sendungsauftritte/hallo_srf/bilder/2018/09/28/ef0f539f9be815741895c1df5a9e6c18/180750065-2-ger-DE/ef0f539f9be815741895c1df5a9e6c18_s4.jpg\"\\n              data-keep-dimension=\"true\"\\n                              data-retina-src=\"/var/storage/images/auftritte/sendungsauftritte/hallo_srf/bilder/2018/09/28/ef0f539f9be815741895c1df5a9e6c18/180750065-2-ger-DE/ef0f539f9be815741895c1df5a9e6c18_s4_retina.jpg\"\\n                                       width=\"304\"\\n             height=\"171\"\\n             style=\"\"\\n             alt=\"Kann man «Babylon Berlin» auch zeitversetzt schauen?\"\\n             title=\"Kann man «Babylon Berlin» auch zeitversetzt schauen?\" />\\n            \\n    \\n    \\n      </a>\\n<div class=\"content no-video\">\\n\\n                                    \\n\\n    <div class=\"rubric-badge rubric-badge-before-title\"  >\\n\\n          <a class=\"tag small home\">\\n                        Publikumsfrage des Tages\\n                  </a>\\n    \\n          </div>    \\n    \\n            \\n\\n    \\n    <h3>\\n        <a href=\"/sendungen/hallosrf/kann-man-babylon-berlin-auch-zeitversetzt-schauen\">            <span class=\"title\">Kann man «Babylon Berlin» auch zeitversetzt schauen?</span>\\n            </a>    </h3>\\n    \\n    \\n    </div>\\n      </li>\\n                                                                          </ul>\\n      </div>\\n    </div>\\n    </div>  \\n        </div>\\n          <div class=\"row\" data-module-coid=\"4578862\">\\n          \\n          <div class=\"container fullwidth-highlights\" data-representation=\"light\">\\n                <h2 class=\"clearfix border\">\\n        \\n                        \\nAktuell\\n    </h2>            <div class=\"module highlights row v2\"           data-referrer-track=\"srf_mod1=content&amp;srf_mod2=highlight_fullwidth_light&amp;srf_mod4count=7&amp;srf_mod3=Aktuell\">\\n        <ul class=\"vertical-border\">\\n                                      \\n                                \\n<li     class=\"span8  highlightmodul large-scale    \"\\n    data-referrer-track=\"srf_mod4=1&amp;srf_mod4width=8\"\\n    data-node-id=\"16438757\" data-socialview-urn=\"/news/p/nationales-register-fuer-organspende-lanciert\">\\n\\n  <div class=\"social_view_buzz\" style=\"display:none;\" data-toggle=\"tooltip\" data-toggle-view=\"true\"\\n       data-original-title=\"\"></div>\\n            \\n                    \\n<div class=\"icon-container  no-video\" >\\n                                          <a href=\"/news/schweiz/gewissheit-um-letzten-willen-nationales-register-fuer-organspende-lanciert\">\\n            \\n                                \\n\\n                                \\n    \\n                                                        <img src=\"/var/storage/images/auftritte/news/bilder/2018/10/01/864a280f9e3339a3e6cc93ea3f0f5e85/180817634-2-ger-DE/864a280f9e3339a3e6cc93ea3f0f5e85_s8.jpg\"\\n                          class=\"upscale\"             width=\"624\"\\n             height=\"351\"\\n             style=\"\"\\n             alt=\"Nationales Register für Organspende lanciert (Artikel enthält Video)\"\\n             title=\"Nationales Register für Organspende lanciert (Artikel enthält Video)\" />\\n            \\n    \\n    \\n                \\n                            </a>\\n            \\n            \\n    \\n            <span class=\"media-icon media-icon-large-teaser media-video\"></span>\\n    \\n    <h3 data-description=\"true\">\\n        \\n        <span class=\"header\">\\n\\n                                                            \\n\\n    <div class=\"rubric-badge rubric-badge-before-title\"  >\\n\\n          <a class=\"tag medium news\">\\n                        Gewissheit um letzten Willen\\n                  </a>\\n    \\n          </div>                                    \\n                    <a href=\"/news/schweiz/gewissheit-um-letzten-willen-nationales-register-fuer-organspende-lanciert\" class=\"title\">\\n        \\n        Nationales Register für Organspende lanciert\\n\\n                    </a>\\n        \\n        </span>\\n\\n    </h3>\\n</div>\\n\\n<div class=\"content\">\\n  \\n      \\n\\n  <div class=\"social-indicator pull-right\">\\n          <a class=\"social-icon comments\" href=\"/news/schweiz/gewissheit-um-letzten-willen-nationales-register-fuer-organspende-lanciert#main-comments\" data-original-title=\"Zu den Kommentaren\" title=\"Zu den Kommentaren\"><span class=\"offscreen\">Zu den Kommentaren</span></a>\\n      <span class=\"social-count\">7</span>\\n      <span class=\"offscreen\"> Kommentare</span>\\n      </div>  \\n      <p class=\"teaser\">Jedes Jahr sterben etwa 100 Menschen, weil sie vergeblich auf ein Spenderorgan warten. Ein neues Register soll helfen.</p>\\n  \\n\\n\\n  </div>\\n      </li>\\n                                                                                              \\n                                \\n<li     class=\"span4 no-border highlightmodul    \"\\n    data-referrer-track=\"srf_mod4=2&amp;srf_mod4width=4\"\\n    data-node-id=\"16439717\" data-socialview-urn=\"/news/p/charles-aznavour-ist-offenbar-tot\">\\n\\n  <div class=\"social_view_buzz\" style=\"display:none;\" data-toggle=\"tooltip\" data-toggle-view=\"true\"\\n       data-original-title=\"\"></div>\\n            \\n          <a href=\"/news/panorama/franzoesischer-frank-sinatra-charles-aznavour-ist-tot\" class=\"icon-container\">\\n        \\n\\n                    \\n    \\n                                                        <img src=\"/var/storage/images/auftritte/news/bilder/2018/10/01/b7c911657b5a79980d5a735c06701ff8/180822230-4-ger-DE/b7c911657b5a79980d5a735c06701ff8_s4.jpg\"\\n              data-keep-dimension=\"true\"\\n                              data-retina-src=\"/var/storage/images/auftritte/news/bilder/2018/10/01/b7c911657b5a79980d5a735c06701ff8/180822230-4-ger-DE/b7c911657b5a79980d5a735c06701ff8_s4_retina.jpg\"\\n                                       width=\"304\"\\n             height=\"171\"\\n             style=\"\"\\n             alt=\"Charles Aznavour ist tot (Artikel enthält Video)\"\\n             title=\"Charles Aznavour ist tot (Artikel enthält Video)\" />\\n            \\n    \\n    \\n        <span class=\"media-icon media-video\"></span>\\n  </a>\\n<div class=\"content no-video\">\\n\\n                                    \\n\\n    <div class=\"rubric-badge rubric-badge-before-title\"  >\\n\\n          <a class=\"tag small news\">\\n                        «Französischer Frank Sinatra»\\n                  </a>\\n    \\n          </div>    \\n    \\n            \\n\\n    \\n    <h3>\\n        <a href=\"/news/panorama/franzoesischer-frank-sinatra-charles-aznavour-ist-tot\">            <span class=\"title\">Charles Aznavour ist tot</span>\\n            </a>    </h3>\\n    <p>Der armenisch-französische Chansonnier hinterlässt mehr als 1300 Lieder. Er wurde 94 Jahre alt. </p>\\n    \\n    </div>\\n      </li>\\n                                                                                              \\n                                \\n<li     class=\"span4 clear-left highlightmodul    \"\\n    data-referrer-track=\"srf_mod4=3&amp;srf_mod4width=4\"\\n    data-node-id=\"16439075\" data-socialview-urn=\"/sport/p/juventus-ceo-geht-geruechte-um-zidane-mehren-sich\">\\n\\n  <div class=\"social_view_buzz\" style=\"display:none;\" data-toggle=\"tooltip\" data-toggle-view=\"true\"\\n       data-original-title=\"\"></div>\\n            \\n          <a href=\"/sport/fussball/champions-league/turbulenzen-bei-yb-gegner-ceo-von-juventus-geht-geruechte-um-zidane-mehren-sich\" class=\"icon-container\">\\n        \\n\\n                    \\n    \\n                                                        <img src=\"/var/storage/images/auftritte/sport/bilder/2018/10/01/1aae994619d4ea007997378ae1284f6c/180817988-4-ger-DE/1aae994619d4ea007997378ae1284f6c_s4.jpg\"\\n              data-keep-dimension=\"true\"\\n                              data-retina-src=\"/var/storage/images/auftritte/sport/bilder/2018/10/01/1aae994619d4ea007997378ae1284f6c/180817988-4-ger-DE/1aae994619d4ea007997378ae1284f6c_s4_retina.jpg\"\\n                                       width=\"304\"\\n             height=\"171\"\\n             style=\"\"\\n             alt=\"CEO von Juventus geht – Gerüchte um Zidane mehren sich\"\\n             title=\"CEO von Juventus geht – Gerüchte um Zidane mehren sich\" />\\n            \\n    \\n    \\n      </a>\\n<div class=\"content no-video\">\\n\\n                                    \\n\\n    <div class=\"rubric-badge rubric-badge-before-title\"  >\\n\\n          <a class=\"tag small sport\">\\n                        Turbulenzen bei YB-Gegner\\n                  </a>\\n    \\n          </div>    \\n    \\n            \\n\\n    \\n    <h3>\\n        <a href=\"/sport/fussball/champions-league/turbulenzen-bei-yb-gegner-ceo-von-juventus-geht-geruechte-um-zidane-mehren-sich\">            <span class=\"title\">CEO von Juventus geht – Gerüchte um Zidane mehren sich</span>\\n            </a>    </h3>\\n    <p>Juventus\\' Generaldirektor Giuseppe Marotta hat seinen Rücktritt bekanntgegeben – wohl nicht ganz freiwillig.</p>\\n    \\n    </div>\\n      </li>\\n                                                                                              \\n                                \\n<li     class=\"span4  highlightmodul    \"\\n    data-referrer-track=\"srf_mod4=4&amp;srf_mod4width=4\"\\n    data-node-id=\"16438664\" data-socialview-urn=\"/sport/p/roman-buerki-vom-risikofaktor-zum-bollwerk\">\\n\\n  <div class=\"social_view_buzz\" style=\"display:none;\" data-toggle=\"tooltip\" data-toggle-view=\"true\"\\n       data-original-title=\"\"></div>\\n            \\n          <a href=\"/sport/fussball/internationale-ligen/neuerdings-unbestrittene-nr-1-roman-buerki-vom-risikofaktor-zum-bollwerk\" class=\"icon-container\">\\n        \\n\\n                    \\n    \\n                                                        <img src=\"/var/storage/images/auftritte/sport/bilder/2018/10/01/36ff3321e49192fa1f4987ecc095c598/180815273-2-ger-DE/36ff3321e49192fa1f4987ecc095c598_s4.jpg\"\\n              data-keep-dimension=\"true\"\\n                              data-retina-src=\"/var/storage/images/auftritte/sport/bilder/2018/10/01/36ff3321e49192fa1f4987ecc095c598/180815273-2-ger-DE/36ff3321e49192fa1f4987ecc095c598_s4_retina.jpg\"\\n                                       width=\"304\"\\n             height=\"171\"\\n             style=\"\"\\n             alt=\"Roman Bürki: Vom Risikofaktor zum Bollwerk (Artikel enthält Video)\"\\n             title=\"Roman Bürki: Vom Risikofaktor zum Bollwerk (Artikel enthält Video)\" />\\n            \\n    \\n    \\n        <span class=\"media-icon media-video\"></span>\\n  </a>\\n<div class=\"content no-video\">\\n\\n                                    \\n\\n    <div class=\"rubric-badge rubric-badge-before-title\"  >\\n\\n          <a class=\"tag small sport\">\\n                        Neuerdings unbestrittene Nr. 1\\n                  </a>\\n    \\n          </div>    \\n    \\n            \\n\\n    \\n    <h3>\\n        <a href=\"/sport/fussball/internationale-ligen/neuerdings-unbestrittene-nr-1-roman-buerki-vom-risikofaktor-zum-bollwerk\">            <span class=\"title\">Roman Bürki: Vom Risikofaktor zum Bollwerk</span>\\n            </a>    </h3>\\n    <p>Seinen vielen Patzern 2017/18 und Marwin Hitz als neuem Konkurrenten zum Trotz sitzt Dortmunds Goalie sicher im Sattel.</p>\\n    \\n    </div>\\n      </li>\\n                                                                                              \\n                                \\n<li     class=\"span4 no-border highlightmodul    \"\\n    data-referrer-track=\"srf_mod4=5&amp;srf_mod4width=4\"\\n    data-node-id=\"16436330\" data-socialview-urn=\"/sport/p/von-gluecksbringern-und-pechvoegeln\">\\n\\n  <div class=\"social_view_buzz\" style=\"display:none;\" data-toggle=\"tooltip\" data-toggle-view=\"true\"\\n       data-original-title=\"\"></div>\\n            \\n          <a href=\"/sport/fussball/internationale-ligen/fussball-weekend-in-bildern-slapstick-sixpack-sonntagsschuss\" class=\"icon-container\">\\n        \\n\\n                    \\n    \\n                                                        <img src=\"/var/storage/images/auftritte/sport/bilder/2018/10/01/1759508b197aafdfc25896c469288c6f/180801815-3-ger-DE/1759508b197aafdfc25896c469288c6f_s4.jpg\"\\n              data-keep-dimension=\"true\"\\n                              data-retina-src=\"/var/storage/images/auftritte/sport/bilder/2018/10/01/1759508b197aafdfc25896c469288c6f/180801815-3-ger-DE/1759508b197aafdfc25896c469288c6f_s4_retina.jpg\"\\n                                       width=\"304\"\\n             height=\"171\"\\n             style=\"\"\\n             alt=\"Slapstick, Sixpack, Sonntagsschuss! (Artikel enthält Bildergalerie)\"\\n             title=\"Slapstick, Sixpack, Sonntagsschuss! (Artikel enthält Bildergalerie)\" />\\n            \\n    \\n    \\n        <span class=\"media-icon media-image\"></span>\\n  </a>\\n<div class=\"content no-video\">\\n\\n                                    \\n\\n    <div class=\"rubric-badge rubric-badge-before-title\"  >\\n\\n          <a class=\"tag small sport\">\\n                        Fussball-Weekend in Bildern\\n                  </a>\\n    \\n          </div>    \\n    \\n            \\n\\n    \\n    <h3>\\n        <a href=\"/sport/fussball/internationale-ligen/fussball-weekend-in-bildern-slapstick-sixpack-sonntagsschuss\">            <span class=\"title\">Slapstick, Sixpack, Sonntagsschuss!</span>\\n            </a>    </h3>\\n    <p>Schnappschüsse und Kuriositäten des Wochenendes auf Europas Fussballplätzen – festgehalten in unserer Bildergalerie.</p>\\n    \\n    </div>\\n      </li>\\n                                                                                              \\n                                \\n<li     class=\"span6 clear-left highlightmodul    \"\\n    data-referrer-track=\"srf_mod4=6&amp;srf_mod4width=6\"\\n    data-node-id=\"16438802\" data-socialview-urn=\"/news/p/weshalb-wurden-die-menschen-von-der-welle-ueberrascht\">\\n\\n  <div class=\"social_view_buzz\" style=\"display:none;\" data-toggle=\"tooltip\" data-toggle-view=\"true\"\\n       data-original-title=\"\"></div>\\n            \\n          <a href=\"/news/panorama/tsunami-in-sulawesi-weshalb-wurden-die-menschen-von-der-welle-ueberrascht\" class=\"icon-container\">\\n        \\n\\n                    \\n    \\n                                                        <img src=\"/var/storage/images/auftritte/news/bilder/2018/10/01/9c556a14c8e66da1de97af09c7785726/180817337-3-ger-DE/9c556a14c8e66da1de97af09c7785726_s6.jpg\"\\n              data-keep-dimension=\"true\"\\n                              data-retina-src=\"/var/storage/images/auftritte/news/bilder/2018/10/01/9c556a14c8e66da1de97af09c7785726/180817337-3-ger-DE/9c556a14c8e66da1de97af09c7785726_s6_retina.jpg\"\\n                                       width=\"464\"\\n             height=\"261\"\\n             style=\"\"\\n             alt=\"Weshalb wurden die Menschen von der Welle überrascht? (Artikel enthält Audio)\"\\n             title=\"Weshalb wurden die Menschen von der Welle überrascht? (Artikel enthält Audio)\" />\\n            \\n    \\n    \\n        <span class=\"media-icon media-audio\"></span>\\n  </a>\\n<div class=\"content no-video\">\\n\\n                                                        \\n\\n    <div class=\"rubric-badge rubric-badge-before-title\"  >\\n\\n          <a class=\"tag medium news\">\\n                        Tsunami in Sulawesi\\n                  </a>\\n    \\n          </div>    \\n    \\n            \\n\\n    \\n    <h3>\\n        <a href=\"/news/panorama/tsunami-in-sulawesi-weshalb-wurden-die-menschen-von-der-welle-ueberrascht\">            <span class=\"title\">Weshalb wurden die Menschen von der Welle überrascht?</span>\\n            </a>    </h3>\\n    <p>Die betroffene Region verfügt über ein Frühwarnsystem. Dennoch werden Vorwürfe laut, die Alarmierung habe versagt.</p>\\n                <ul class=\"unstyled external-links additional-links single-link\">\\n                                                <li class=\"related-link\">\\n                    <a href=\"https://www.srf.ch/news/panorama/erdbeben-in-indonesien-ueber-1200-tote-befuerchtet\"\\n                                                                      target=\"_self\"\\n                                                                                                                      class=\"default\"\\n                                           >\\n                        Über 1200 Tote befürchtet\\n                    </a>\\n                </li>\\n                                    </ul>\\n    </div>\\n      </li>\\n                                                                                              \\n                                \\n<li     class=\"span6 no-border highlightmodul    \"\\n    data-referrer-track=\"srf_mod4=7&amp;srf_mod4width=6\"\\n    data-node-id=\"16435589\" data-socialview-urn=\"/news/p/tausende-tote-nach-tsunami-befuerchtet\">\\n\\n  <div class=\"social_view_buzz\" style=\"display:none;\" data-toggle=\"tooltip\" data-toggle-view=\"true\"\\n       data-original-title=\"\"></div>\\n            \\n          <a href=\"/news/panorama/erdbeben-in-indonesien-ueber-1200-tote-befuerchtet\" class=\"icon-container\">\\n        \\n\\n                    \\n    \\n                                                        <img src=\"/var/storage/images/auftritte/news/bilder/2018/09/30/82ce89683bcfc03f3eb9c467f58c0a8e/180783305-10-ger-DE/82ce89683bcfc03f3eb9c467f58c0a8e_s6.jpg\"\\n              data-keep-dimension=\"true\"\\n                              data-retina-src=\"/var/storage/images/auftritte/news/bilder/2018/09/30/82ce89683bcfc03f3eb9c467f58c0a8e/180783305-10-ger-DE/82ce89683bcfc03f3eb9c467f58c0a8e_s6_retina.jpg\"\\n                                       width=\"464\"\\n             height=\"261\"\\n             style=\"\"\\n             alt=\"Über 1200 Tote befürchtet (Artikel enthält Video)\"\\n             title=\"Über 1200 Tote befürchtet (Artikel enthält Video)\" />\\n            \\n    \\n    \\n        <span class=\"media-icon media-video\"></span>\\n  </a>\\n<div class=\"content no-video\">\\n\\n                                                        \\n\\n    <div class=\"rubric-badge rubric-badge-before-title\"  >\\n\\n          <a class=\"tag medium news\">\\n                        Erdbeben in Indonesien\\n                  </a>\\n    \\n          </div>    \\n    \\n            \\n\\n    \\n    <h3>\\n        <a href=\"/news/panorama/erdbeben-in-indonesien-ueber-1200-tote-befuerchtet\">            <span class=\"title\">Über 1200 Tote befürchtet</span>\\n            </a>    </h3>\\n    <p>Das von den Erdbeben betroffene Gebiet ist grösser als bisher angenommen. Ganze Regionen wurden noch gar nicht erreicht.</p>\\n    \\n    </div>\\n      </li>\\n                                                                          </ul>\\n      </div>\\n    </div>\\n      \\n        </div>\\n          <div class=\"row\" data-module-coid=\"16012661\">\\n          \\n          <div class=\"container fullwidth-highlights\" data-representation=\"light\">\\n                <h2 class=\"clearfix border\">\\n        \\n                        \\nMehr Sport\\n    </h2>            <div class=\"module highlights row v2\"           data-referrer-track=\"srf_mod1=content&amp;srf_mod2=highlight_fullwidth_light&amp;srf_mod4count=3&amp;srf_mod3=Mehr Sport\">\\n        <ul class=\"vertical-border\">\\n                                      \\n                                \\n<li     class=\"span4  highlightmodul    \"\\n    data-referrer-track=\"srf_mod4=1&amp;srf_mod4width=4\"\\n    data-node-id=\"16435880\" data-socialview-urn=\"/sport/p/die-grosse-vorfreude-auf-die-menschenwand\">\\n\\n  <div class=\"social_view_buzz\" style=\"display:none;\" data-toggle=\"tooltip\" data-toggle-view=\"true\"\\n       data-original-title=\"\"></div>\\n            \\n          <a href=\"/sport/eishockey/6-fragen-vor-bern-new-jersey-die-grosse-vorfreude-auf-die-menschenwand\" class=\"icon-container\">\\n        \\n\\n                    \\n    \\n                                                        <img src=\"/var/storage/images/auftritte/sport/bilder/2018/09/30/ez_cropping45peif_jpg/180787052-3-ger-DE/ez_cropping45peif_jpg_s4.jpg\"\\n              data-keep-dimension=\"true\"\\n                              data-retina-src=\"/var/storage/images/auftritte/sport/bilder/2018/09/30/ez_cropping45peif_jpg/180787052-3-ger-DE/ez_cropping45peif_jpg_s4_retina.jpg\"\\n                                       width=\"304\"\\n             height=\"171\"\\n             style=\"\"\\n             alt=\"Die grosse Vorfreude auf die «Menschenwand» (Artikel enthält Video)\"\\n             title=\"Die grosse Vorfreude auf die «Menschenwand» (Artikel enthält Video)\" />\\n            \\n    \\n    \\n        <span class=\"media-icon media-video\"></span>\\n  </a>\\n<div class=\"content no-video\">\\n\\n                                    \\n\\n    <div class=\"rubric-badge rubric-badge-before-title\"  >\\n\\n          <a class=\"tag small sport\">\\n                        6 Fragen vor Bern - New Jersey\\n                  </a>\\n    \\n          </div>    \\n    \\n            \\n\\n    \\n    <h3>\\n        <a href=\"/sport/eishockey/6-fragen-vor-bern-new-jersey-die-grosse-vorfreude-auf-die-menschenwand\">            <span class=\"title\">Die grosse Vorfreude auf die «Menschenwand»</span>\\n            </a>    </h3>\\n    <p>Am Montag kommt es in Bern zum Showdown zwischen dem SCB und den New Jersey Devils. Die Geschichten hinter der Partie.</p>\\n    \\n    </div>\\n      </li>\\n                                                                                              \\n                                \\n<li     class=\"span4  highlightmodul    \"\\n    data-referrer-track=\"srf_mod4=2&amp;srf_mod4width=4\"\\n    data-node-id=\"16439042\" data-socialview-urn=\"/sport/p/akinfejew-tritt-aus-nationalteam-zurueck\">\\n\\n  <div class=\"social_view_buzz\" style=\"display:none;\" data-toggle=\"tooltip\" data-toggle-view=\"true\"\\n       data-original-title=\"\"></div>\\n            \\n          <a href=\"/sport/fussball/internationale-ligen/fussball-news-traumlos-fuer-fcz-frauen\" class=\"icon-container\">\\n        \\n\\n                    \\n    \\n                                                        <img src=\"/var/storage/images/auftritte/sport/bilder/2018/10/01/ez_croppingczpuft_jpg/180815816-5-ger-DE/ez_croppingczpuft_jpg_s4.jpg\"\\n              data-keep-dimension=\"true\"\\n                              data-retina-src=\"/var/storage/images/auftritte/sport/bilder/2018/10/01/ez_croppingczpuft_jpg/180815816-5-ger-DE/ez_croppingczpuft_jpg_s4_retina.jpg\"\\n                                       width=\"304\"\\n             height=\"171\"\\n             style=\"\"\\n             alt=\"Traumlos für FCZ-Frauen (Artikel enthält Video)\"\\n             title=\"Traumlos für FCZ-Frauen (Artikel enthält Video)\" />\\n            \\n    \\n    \\n        <span class=\"media-icon media-video\"></span>\\n  </a>\\n<div class=\"content no-video\">\\n\\n                                    \\n\\n    <div class=\"rubric-badge rubric-badge-before-title\"  >\\n\\n          <a class=\"tag small sport\">\\n                        Fussball-News\\n                  </a>\\n    \\n          </div>    \\n    \\n            \\n\\n    \\n    <h3>\\n        <a href=\"/sport/fussball/internationale-ligen/fussball-news-traumlos-fuer-fcz-frauen\">            <span class=\"title\">Traumlos für FCZ-Frauen</span>\\n            </a>    </h3>\\n    <p>Die Zürcherinnen treffen in der Champions League auf Bayern München. Und weitere Fussball-News.</p>\\n    \\n    </div>\\n      </li>\\n                                                                                              \\n                                \\n<li     class=\"span4 no-border highlightmodul    \"\\n    data-referrer-track=\"srf_mod4=3&amp;srf_mod4width=4\"\\n    data-node-id=\"16439333\" data-socialview-urn=\"/sport/p/italien-kandidiert-nun-doch-fuer-2026\">\\n\\n  <div class=\"social_view_buzz\" style=\"display:none;\" data-toggle=\"tooltip\" data-toggle-view=\"true\"\\n       data-original-title=\"\"></div>\\n            \\n          <a href=\"/sport/mehr-sport/olympische-spiele/ruecktritt-vom-ruecktritt-italien-kandidiert-nun-doch-fuer-2026\" class=\"icon-container\">\\n        \\n\\n                    \\n    \\n                                                        <img src=\"/var/storage/images/auftritte/sport/bilder/2018/10/01/ez_croppinghklxfh_jpg/180818645-3-ger-DE/ez_croppinghklxfh_jpg_s4.jpg\"\\n              data-keep-dimension=\"true\"\\n                              data-retina-src=\"/var/storage/images/auftritte/sport/bilder/2018/10/01/ez_croppinghklxfh_jpg/180818645-3-ger-DE/ez_croppinghklxfh_jpg_s4_retina.jpg\"\\n                                       width=\"304\"\\n             height=\"171\"\\n             style=\"\"\\n             alt=\"Italien kandidiert nun doch für 2026 (Artikel enthält Video)\"\\n             title=\"Italien kandidiert nun doch für 2026 (Artikel enthält Video)\" />\\n            \\n    \\n    \\n        <span class=\"media-icon media-video\"></span>\\n  </a>\\n<div class=\"content no-video\">\\n\\n                                    \\n\\n    <div class=\"rubric-badge rubric-badge-before-title\"  >\\n\\n          <a class=\"tag small sport\">\\n                        Rücktritt vom Rücktritt\\n                  </a>\\n    \\n          </div>    \\n    \\n            \\n\\n    \\n    <h3>\\n        <a href=\"/sport/mehr-sport/olympische-spiele/ruecktritt-vom-ruecktritt-italien-kandidiert-nun-doch-fuer-2026\">            <span class=\"title\">Italien kandidiert nun doch für 2026</span>\\n            </a>    </h3>\\n    <p>Italien will eine Doppel-Kandidatur Mailand/Cortina einreichen. Damit gibt es vier Bewerber für die Winterspiele 2026.</p>\\n    \\n    </div>\\n      </li>\\n                                                                          </ul>\\n      </div>\\n    </div>\\n      \\n        </div>\\n          <div class=\"row\" data-module-coid=\"16254749\">\\n          \\n          <div class=\"container fullwidth-highlights\" data-representation=\"light\">\\n                <h2 class=\"clearfix border\">\\n        \\n                        \\nEs ist Pilzsaison\\n    </h2>            <div class=\"module highlights row v2\"           data-referrer-track=\"srf_mod1=content&amp;srf_mod2=highlight_fullwidth_light&amp;srf_mod4count=2&amp;srf_mod3=Es ist Pilzsaison\">\\n        <ul class=\"vertical-border\">\\n                                      \\n                                \\n<li     class=\"span6  highlightmodul    \"\\n    data-referrer-track=\"srf_mod4=1&amp;srf_mod4width=6\"\\n    data-node-id=\"16397090\" data-socialview-urn=\"/radio_srf_virus/p/mit-diesen-tipps-wirst-du-pilzsammler-pro\">\\n\\n  <div class=\"social_view_buzz\" style=\"display:none;\" data-toggle=\"tooltip\" data-toggle-view=\"true\"\\n       data-original-title=\"\"></div>\\n            \\n          <a href=\"/radio-srf-virus/aktuell/pilzsammeln-mit-diesen-tipps-wirst-du-pilzsammler-pro\" class=\"icon-container\">\\n        \\n\\n                    \\n    \\n                                                        <img src=\"/var/storage/images/auftritte/radio_srf_virus/bilder/2018/09/20/edd45038700a65c3d9f70d6f1fce9ee5/180421277-3-ger-DE/edd45038700a65c3d9f70d6f1fce9ee5_s6.jpg\"\\n              data-keep-dimension=\"true\"\\n                              data-retina-src=\"/var/storage/images/auftritte/radio_srf_virus/bilder/2018/09/20/edd45038700a65c3d9f70d6f1fce9ee5/180421277-3-ger-DE/edd45038700a65c3d9f70d6f1fce9ee5_s6_retina.jpg\"\\n                                       width=\"464\"\\n             height=\"261\"\\n             style=\"\"\\n             alt=\"Mit diesen Tipps wirst du Pilzsammler-Pro\"\\n             title=\"Mit diesen Tipps wirst du Pilzsammler-Pro\" />\\n            \\n    \\n    \\n      </a>\\n<div class=\"content no-video\">\\n\\n                                                        \\n\\n    <div class=\"rubric-badge rubric-badge-before-title\"  >\\n\\n          <a class=\"tag medium radio-srf-virus\">\\n                        Pilzsammeln\\n                  </a>\\n    \\n          </div>    \\n    \\n            \\n\\n    \\n    <h3>\\n        <a href=\"/radio-srf-virus/aktuell/pilzsammeln-mit-diesen-tipps-wirst-du-pilzsammler-pro\">            <span class=\"title\">Mit diesen Tipps wirst du Pilzsammler-Pro</span>\\n            </a>    </h3>\\n    <p>Die Pilzsaison ist bereits in vollem Gange! Mit diesen Tipps wird deine Pilzsuche zum vollen Erfolg.</p>\\n    \\n    </div>\\n      </li>\\n                                                                                              \\n                                \\n<li class=\"span6 no-border highlightmodul radio-episode\"\\n      data-referrer-track=\"srf_mod4=2&amp;srf_mod4width=6\"\\n      data-timed=\"start-stop\"\\n      data-start=\"1537866480\"\\n      data-stop=\"1537867800\">\\n\\n  \\n  \\n  \\n  \\n  \\n  \\n      \\n        <div class=\"icon-container\">\\n                    <img src=\"https://www.srf.ch/static/radio/modules/dynimages/464/srf-1/2018/09/ratgeber/541490.steinpilz_keystone.jpg\" width=\"464\"\\n                 alt=\"Audio «Augen auf beim Pilze sammeln» abspielen.\"\\n                 title=\"Audio «Augen auf beim Pilze sammeln» abspielen.\">\\n            </div>\\n        \\n\\n                \\n\\n                \\n                    <div id=\"player_d41d8cd98f00b204e9800998ecf8427e_71\" class=\"audio-player\" data-inline-audio=\"true\">\\n            <a class=\"play offscreen-text pull-left\"\\n               href=\"#\"\\n               data-inline-audio=\"true\"\\n                    \\n    \\n                                            \\n    data-urn=\"urn:srf:ais:audio:ff91cb6d-3ab1-4ae7-90ed-c44133281d07\" data-cssid=\\'player_d41d8cd98f00b204e9800998ecf8427e_71\\' data-width=\\'6\\'   data-mode=\\'embed\\'   data-isAudio=\\'true\\'\\n\\n                        title=\\'Audio «Augen auf beim Pilze sammeln» abspielen.\\'\\n                                        >Audio «Augen auf beim Pilze sammeln» abspielen.</a>\\n            <a\\n                    class=\"open offscreen-text pull-right\"\\n                    href=\"https://www.srf.ch/play/radio/popupaudioplayer?id=ff91cb6d-3ab1-4ae7-90ed-c44133281d07\"\\n                    data-popout-type=\"fixedWidth\"\\n                    data-popout-height=\"280\"\\n                    data-popout-width=\"624\"\\n                    data-toggle=\"popout\"\\n                    title=\\'Audio «Augen auf beim Pilze sammeln» in externem Player öffnen.\\'\\n                    >Audio «Augen auf beim Pilze sammeln» in externem Player öffnen.</a>\\n                            <span class=\"main-icon\">Audio</span>\\n                    </div>\\n            \\n<div class=\"content\">\\n\\n                <div class=\"station-badge standalone element-current\">\\n      <a data-popout-type=\"fixedWidth\" data-popout-width=\"330\" data-toggle=\"popout\" class=\"btn btn-red\" href=\"/radio-srf-1/player\">\\n        <span class=\"btn-live\"></span>Jetzt hören\\n      </a>\\n      <span class=\"date pull-left\">\\n          Seit 11:08\\n      </span>\\n    </div>\\n  \\n    \\n        <div class=\"station-badge element-future\">\\n      <span class=\"channel\">\\n        <span class=\"channel-icon radio-srf-1\"></span>\\n      </span>\\n              <span class=\"date pull-left\">\\n          25.9.2018, 11:08\\n        </span>\\n          </div>\\n  \\n            \\n\\n    \\n    <h3>\\n                    <a href=\"/sendungen/ratgeber/augen-auf-beim-pilze-sammeln\" class=\"title\">\\n  \\n                    <span class=\"title\">Augen auf beim Pilze sammeln</span>\\n            </a>    </h3>\\n    <p><a href=\"/sendungen/ratgeber/sendungen\">Ratgeber</a> vom 25.9.2018</p>\\n    \\n    </div>\\n  \\n</li>                                                                          </ul>\\n      </div>\\n    </div>\\n      \\n        </div>\\n          <div class=\"row\" data-module-coid=\"16243811\">\\n          \\n          <div class=\"container fullwidth-highlights\" data-representation=\"light\">\\n                <h2 class=\"clearfix border\">Foodies aufgepasst</h2>\\n            <div class=\"module highlights row v2\"           data-referrer-track=\"srf_mod1=content&amp;srf_mod2=highlight_fullwidth_light&amp;srf_mod4count=3&amp;srf_mod3=\">\\n        <ul class=\"vertical-border\">\\n                                      \\n                                \\n<li     class=\"span4  highlightmodul    \"\\n    data-referrer-track=\"srf_mod4=1&amp;srf_mod4width=4\"\\n    data-node-id=\"15973904\" data-socialview-urn=\"/kultur/p/wie-der-heisshunger-der-amerikaner-die-donuts-loecherte\">\\n\\n  <div class=\"social_view_buzz\" style=\"display:none;\" data-toggle=\"tooltip\" data-toggle-view=\"true\"\\n       data-original-title=\"\"></div>\\n            \\n          <a href=\"/kultur/wissen/erfindung-des-donut-lochs-wie-der-heisshunger-der-amerikaner-die-donuts-loecherte\" class=\"icon-container\">\\n        \\n\\n                    \\n    \\n                                                        <img src=\"/var/storage/images/auftritte/kultur/bilder/2018/07/05/2aa9fff62609b7b8f3550c8c4fdf0f81/176960108-9-ger-DE/2aa9fff62609b7b8f3550c8c4fdf0f81_s4.jpg\"\\n              data-keep-dimension=\"true\"\\n                              data-retina-src=\"/var/storage/images/auftritte/kultur/bilder/2018/07/05/2aa9fff62609b7b8f3550c8c4fdf0f81/176960108-9-ger-DE/2aa9fff62609b7b8f3550c8c4fdf0f81_s4_retina.jpg\"\\n                                       width=\"304\"\\n             height=\"171\"\\n             style=\"\"\\n             alt=\"Wie der Heisshunger der Amerikaner die Donuts löcherte (Artikel enthält Audio)\"\\n             title=\"Wie der Heisshunger der Amerikaner die Donuts löcherte (Artikel enthält Audio)\" />\\n            \\n    \\n    \\n        <span class=\"media-icon media-audio\"></span>\\n  </a>\\n<div class=\"content no-video\">\\n\\n                                    \\n\\n    <div class=\"rubric-badge rubric-badge-before-title\"  >\\n\\n          <a class=\"tag small kultur\">\\n                        Erfindung des Donut-Lochs\\n                  </a>\\n    \\n          </div>    \\n    \\n            \\n\\n    \\n    <h3>\\n        <a href=\"/kultur/wissen/erfindung-des-donut-lochs-wie-der-heisshunger-der-amerikaner-die-donuts-loecherte\">            <span class=\"title\">Wie der Heisshunger der Amerikaner die Donuts löcherte</span>\\n            </a>    </h3>\\n    <p>Was macht Donuts so lecker? Viel Fett, viel Zucker – und ein Loch. Schuld an diesem ist der Appetit der Amerikaner.</p>\\n    \\n    </div>\\n      </li>\\n                                                                                              \\n                                \\n<li     class=\"span4  highlightmodul    \"\\n    data-referrer-track=\"srf_mod4=2&amp;srf_mod4width=4\"\\n    data-node-id=\"16421747\" data-socialview-urn=\"/kultur/p/wieviel-gentechnik-steckt-in-unserem-essen\">\\n\\n  <div class=\"social_view_buzz\" style=\"display:none;\" data-toggle=\"tooltip\" data-toggle-view=\"true\"\\n       data-original-title=\"\"></div>\\n            \\n          <a href=\"/kultur/wissen/food-und-forschung-wieviel-gentechnik-steckt-in-unserem-essen\" class=\"icon-container\">\\n        \\n\\n                    \\n    \\n                                                        <img src=\"/var/storage/images/auftritte/kultur/bilder/2018/09/27/ez_croppinggdaock_jpg/180683459-6-ger-DE/ez_croppinggdaock_jpg_s4.jpg\"\\n              data-keep-dimension=\"true\"\\n                              data-retina-src=\"/var/storage/images/auftritte/kultur/bilder/2018/09/27/ez_croppinggdaock_jpg/180683459-6-ger-DE/ez_croppinggdaock_jpg_s4_retina.jpg\"\\n                                       width=\"304\"\\n             height=\"171\"\\n             style=\"\"\\n             alt=\"Wieviel Gentechnik steckt in unserem Essen? (Artikel enthält Video)\"\\n             title=\"Wieviel Gentechnik steckt in unserem Essen? (Artikel enthält Video)\" />\\n            \\n    \\n    \\n        <span class=\"media-icon media-video\"></span>\\n  </a>\\n<div class=\"content no-video\">\\n\\n                                    \\n\\n    <div class=\"rubric-badge rubric-badge-before-title\"  >\\n\\n          <a class=\"tag small kultur\">\\n                        Food und Forschung\\n                  </a>\\n    \\n          </div>    \\n    \\n            \\n\\n  <div class=\"social-indicator pull-right\">\\n          <a class=\"social-icon comments\" href=\"/kultur/wissen/food-und-forschung-wieviel-gentechnik-steckt-in-unserem-essen#main-comments\" data-original-title=\"Zu den Kommentaren\" title=\"Zu den Kommentaren\"><span class=\"offscreen\">Zu den Kommentaren</span></a>\\n      <span class=\"social-count\">6</span>\\n      <span class=\"offscreen\"> Kommentare</span>\\n      </div>    \\n    <h3>\\n        <a href=\"/kultur/wissen/food-und-forschung-wieviel-gentechnik-steckt-in-unserem-essen\">            <span class=\"title\">Wieviel Gentechnik steckt in unserem Essen?</span>\\n            </a>    </h3>\\n    <p>Genveränderte Organismen machen Angst. Vor allem, wenn sie in Lebensmitteln auftauchen. Bloss: Wo ist das der Fall?</p>\\n    \\n    </div>\\n      </li>\\n                                                                                              \\n                                \\n<li class=\"span4 no-border highlightmodul radio-episode\"\\n      data-referrer-track=\"srf_mod4=3&amp;srf_mod4width=4\"\\n      data-timed=\"start-stop\"\\n      data-start=\"1538127600\"\\n      data-stop=\"1538128080\">\\n\\n  \\n  \\n  \\n  \\n  \\n  \\n      \\n        <div class=\"icon-container\">\\n                    <img src=\"https://www.srf.ch/static/radio/modules/dynimages/304/srf-1/2018/09/kochen/541937.180928_french_toast.jpg\" width=\"304\"\\n                 alt=\"Audio «Fast Food erster Güte: French Toast mit Etivaz» abspielen.\"\\n                 title=\"Audio «Fast Food erster Güte: French Toast mit Etivaz» abspielen.\">\\n            </div>\\n        \\n\\n                \\n\\n                \\n                    <div id=\"player_d41d8cd98f00b204e9800998ecf8427e_40\" class=\"audio-player\" data-inline-audio=\"true\">\\n            <a class=\"play offscreen-text pull-left\"\\n               href=\"#\"\\n               data-inline-audio=\"true\"\\n                    \\n    \\n                                            \\n    data-urn=\"urn:srf:ais:audio:eb8b1a96-c88d-4e32-a066-2b969dceae72\" data-cssid=\\'player_d41d8cd98f00b204e9800998ecf8427e_40\\' data-width=\\'4\\'   data-mode=\\'embed\\'   data-isAudio=\\'true\\'\\n\\n                        title=\\'Audio «Fast Food erster Güte: French Toast mit Etivaz» abspielen.\\'\\n                                        >Audio «Fast Food erster Güte: French Toast mit Etivaz» abspielen.</a>\\n            <a\\n                    class=\"open offscreen-text pull-right\"\\n                    href=\"https://www.srf.ch/play/radio/popupaudioplayer?id=eb8b1a96-c88d-4e32-a066-2b969dceae72\"\\n                    data-popout-type=\"fixedWidth\"\\n                    data-popout-height=\"280\"\\n                    data-popout-width=\"624\"\\n                    data-toggle=\"popout\"\\n                    title=\\'Audio «Fast Food erster Güte: French Toast mit Etivaz» in externem Player öffnen.\\'\\n                    >Audio «Fast Food erster Güte: French Toast mit Etivaz» in externem Player öffnen.</a>\\n                            <span class=\"main-icon\">Audio</span>\\n                    </div>\\n            \\n<div class=\"content\">\\n\\n                <div class=\"station-badge standalone element-current\">\\n      <a data-popout-type=\"fixedWidth\" data-popout-width=\"330\" data-toggle=\"popout\" class=\"btn btn-red\" href=\"/radio-srf-1/player\">\\n        <span class=\"btn-live\"></span>Jetzt hören\\n      </a>\\n      <span class=\"date pull-left\">\\n          Seit 11:40\\n      </span>\\n    </div>\\n  \\n    \\n        <div class=\"station-badge element-future\">\\n      <span class=\"channel\">\\n        <span class=\"channel-icon radio-srf-1\"></span>\\n      </span>\\n              <span class=\"date pull-left\">\\n          28.9.2018, 11:40\\n        </span>\\n          </div>\\n  \\n            \\n\\n    \\n    <h3>\\n                    <a href=\"/sendungen/a-point/fast-food-erster-guete-french-toast-mit-etivaz\" class=\"title\">\\n  \\n                    <span class=\"title\">Fast Food erster Güte: French Toast mit Etivaz</span>\\n            </a>    </h3>\\n    <p><a href=\"/sendungen/a-point/sendungen\">A point</a> vom 28.9.2018</p>\\n    \\n    </div>\\n  \\n</li>                                                                          </ul>\\n      </div>\\n    </div>\\n      \\n        </div>\\n          <div class=\"row\" data-module-coid=\"16261898\">\\n          \\n          <div class=\"container fullwidth-highlights\" data-representation=\"light\">\\n                <h2 class=\"clearfix border\">Omnipräsente Taschentelefone</h2>\\n            <div class=\"module highlights row v2\"           data-referrer-track=\"srf_mod1=content&amp;srf_mod2=highlight_fullwidth_light&amp;srf_mod4count=3&amp;srf_mod3=\">\\n        <ul class=\"vertical-border\">\\n                                      \\n                                \\n<li     class=\"span4  highlightmodul    \"\\n    data-referrer-track=\"srf_mod4=1&amp;srf_mod4width=4\"\\n    data-node-id=\"16419362\" data-socialview-urn=\"/kultur/p/digitale-entgiftung-wird-uns-nicht-heilen\">\\n\\n  <div class=\"social_view_buzz\" style=\"display:none;\" data-toggle=\"tooltip\" data-toggle-view=\"true\"\\n       data-original-title=\"\"></div>\\n            \\n          <a href=\"/kultur/gesellschaft-religion/wochenende-gesellschaft/digital-detox-digitale-entgiftung-wird-uns-nicht-heilen\" class=\"icon-container\">\\n        \\n\\n                    \\n    \\n                                                        <img src=\"/var/storage/images/auftritte/kultur/bilder/2018/09/26/00c9da7fc6c2b1cc724407b89470649e/180647996-3-ger-DE/00c9da7fc6c2b1cc724407b89470649e_s4.jpg\"\\n              data-keep-dimension=\"true\"\\n                              data-retina-src=\"/var/storage/images/auftritte/kultur/bilder/2018/09/26/00c9da7fc6c2b1cc724407b89470649e/180647996-3-ger-DE/00c9da7fc6c2b1cc724407b89470649e_s4_retina.jpg\"\\n                                       width=\"304\"\\n             height=\"171\"\\n             style=\"\"\\n             alt=\"Digitale Entgiftung wird uns nicht heilen (Artikel enthält Video)\"\\n             title=\"Digitale Entgiftung wird uns nicht heilen (Artikel enthält Video)\" />\\n            \\n    \\n    \\n        <span class=\"media-icon media-video\"></span>\\n  </a>\\n<div class=\"content no-video\">\\n\\n                                    \\n\\n    <div class=\"rubric-badge rubric-badge-before-title\"  >\\n\\n          <a class=\"tag small kultur\">\\n                        Digital Detox\\n                  </a>\\n    \\n          </div>    \\n    \\n            \\n\\n  <div class=\"social-indicator pull-right\">\\n          <a class=\"social-icon comments\" href=\"/kultur/gesellschaft-religion/wochenende-gesellschaft/digital-detox-digitale-entgiftung-wird-uns-nicht-heilen#main-comments\" data-original-title=\"Zu den Kommentaren\" title=\"Zu den Kommentaren\"><span class=\"offscreen\">Zu den Kommentaren</span></a>\\n      <span class=\"social-count\">9</span>\\n      <span class=\"offscreen\"> Kommentare</span>\\n      </div>    \\n    <h3>\\n        <a href=\"/kultur/gesellschaft-religion/wochenende-gesellschaft/digital-detox-digitale-entgiftung-wird-uns-nicht-heilen\">            <span class=\"title\">Digitale Entgiftung wird uns nicht heilen</span>\\n            </a>    </h3>\\n    <p>Die digitale Revolution überfordert uns. Was tun? Statt Digital Detox braucht es neue Ideen.</p>\\n                            <ul class=\"unstyled external-links additional-links \">\\n                                                <li class=\"related-link\">\\n                    <a href=\"https://www.srf.ch/kultur/gesellschaft-religion/wochenende-gesellschaft/leben-ohne-smartphone-lass-dich-druecken-dummerchen\"\\n                                                                      target=\"_self\"\\n                                                                                                                      class=\"default\"\\n                                           >\\n                        Lass dich drücken, Dummerchen\\n                    </a>\\n                </li>\\n                                                                        <li class=\"related-link\">\\n                    <a href=\"https://www.srf.ch/kultur/gesellschaft-religion/wochenende-gesellschaft/arena-reporter-legt-das-handy-weg\"\\n                                                                      target=\"_self\"\\n                                                                                                                      class=\"default\"\\n                                           >\\n                        Legt das Handy weg! \\n                    </a>\\n                </li>\\n                                    </ul>\\n    </div>\\n      </li>\\n                                                                                              \\n                                \\n<li     class=\"span4  highlightmodul    \"\\n    data-referrer-track=\"srf_mod4=2&amp;srf_mod4width=4\"\\n    data-node-id=\"16415963\" data-socialview-urn=\"/kultur/p/legt-das-handy-weg\">\\n\\n  <div class=\"social_view_buzz\" style=\"display:none;\" data-toggle=\"tooltip\" data-toggle-view=\"true\"\\n       data-original-title=\"\"></div>\\n            \\n          <a href=\"/kultur/gesellschaft-religion/wochenende-gesellschaft/arena-reporter-legt-das-handy-weg\" class=\"icon-container\">\\n        \\n\\n                    \\n    \\n                                                        <img src=\"/var/storage/images/auftritte/kultur/bilder/2018/10/01/ez_croppinggn6tz2_jpg/180802439-4-ger-DE/ez_croppinggn6tz2_jpg_s4.jpg\"\\n              data-keep-dimension=\"true\"\\n                              data-retina-src=\"/var/storage/images/auftritte/kultur/bilder/2018/10/01/ez_croppinggn6tz2_jpg/180802439-4-ger-DE/ez_croppinggn6tz2_jpg_s4_retina.jpg\"\\n                                       width=\"304\"\\n             height=\"171\"\\n             style=\"\"\\n             alt=\"Legt das Handy weg!  (Artikel enthält Video)\"\\n             title=\"Legt das Handy weg!  (Artikel enthält Video)\" />\\n            \\n    \\n    \\n        <span class=\"media-icon media-video\"></span>\\n  </a>\\n<div class=\"content no-video\">\\n\\n                                    \\n\\n    <div class=\"rubric-badge rubric-badge-before-title\"  >\\n\\n          <a class=\"tag small kultur\">\\n                        «Arena/Reporter»\\n                  </a>\\n    \\n          </div>    \\n    \\n            \\n\\n    \\n    <h3>\\n        <a href=\"/kultur/gesellschaft-religion/wochenende-gesellschaft/arena-reporter-legt-das-handy-weg\">            <span class=\"title\">Legt das Handy weg! </span>\\n            </a>    </h3>\\n    <p>Mit dem Smartphone sind wir ständig online und erreichbar – aber ist das gut? Oder brauchen wir «Digital Detox»? </p>\\n    \\n    </div>\\n      </li>\\n                                                                                              \\n                                \\n<li     class=\"span4 no-border highlightmodul    \"\\n    data-referrer-track=\"srf_mod4=3&amp;srf_mod4width=4\"\\n    data-node-id=\"16392797\" data-socialview-urn=\"/kultur/p/lass-dich-druecken-dummerchen\">\\n\\n  <div class=\"social_view_buzz\" style=\"display:none;\" data-toggle=\"tooltip\" data-toggle-view=\"true\"\\n       data-original-title=\"\"></div>\\n            \\n          <a href=\"/kultur/gesellschaft-religion/wochenende-gesellschaft/leben-ohne-smartphone-lass-dich-druecken-dummerchen\" class=\"icon-container\">\\n        \\n\\n                    \\n    \\n                                                        <img src=\"/var/storage/images/auftritte/kultur/bilder/2018/09/19/ez_croppingsyldmu_jpg/180382796-12-ger-DE/ez_croppingsyldmu_jpg_s4.jpg\"\\n              data-keep-dimension=\"true\"\\n                              data-retina-src=\"/var/storage/images/auftritte/kultur/bilder/2018/09/19/ez_croppingsyldmu_jpg/180382796-12-ger-DE/ez_croppingsyldmu_jpg_s4_retina.jpg\"\\n                                       width=\"304\"\\n             height=\"171\"\\n             style=\"\"\\n             alt=\"Lass dich drücken, Dummerchen (Artikel enthält Audio)\"\\n             title=\"Lass dich drücken, Dummerchen (Artikel enthält Audio)\" />\\n            \\n    \\n    \\n        <span class=\"media-icon media-audio\"></span>\\n  </a>\\n<div class=\"content no-video\">\\n\\n                                    \\n\\n    <div class=\"rubric-badge rubric-badge-before-title\"  >\\n\\n          <a class=\"tag small kultur\">\\n                        Leben ohne Smartphone\\n                  </a>\\n    \\n          </div>    \\n    \\n            \\n\\n    \\n    <h3>\\n        <a href=\"/kultur/gesellschaft-religion/wochenende-gesellschaft/leben-ohne-smartphone-lass-dich-druecken-dummerchen\">            <span class=\"title\">Lass dich drücken, Dummerchen</span>\\n            </a>    </h3>\\n    <p>Mein Handy kann nicht viel. Aber viel dafür, dass ich auf die Menschen zugehe. Zwischenruf eines Zurückgebliebenen.</p>\\n    \\n    </div>\\n      </li>\\n                                                                          </ul>\\n      </div>\\n    </div>\\n      \\n        </div>\\n          <div class=\"row\" data-module-coid=\"16262198\">\\n          \\n          <div class=\"container fullwidth-highlights\" data-representation=\"light\">\\n                <h2 class=\"clearfix border\">\\n        \\n                        \\nDie Drogen, das Leben und der Tod\\n    </h2>            <div class=\"module highlights row v2\"           data-referrer-track=\"srf_mod1=content&amp;srf_mod2=highlight_fullwidth_light&amp;srf_mod4count=2&amp;srf_mod3=Die Drogen, das Leben und der Tod\">\\n        <ul class=\"vertical-border\">\\n                                      \\n                                \\n<li     class=\"span6  highlightmodul    \"\\n    data-referrer-track=\"srf_mod4=1&amp;srf_mod4width=6\"\\n    data-node-id=\"16419505\" data-socialview-urn=\"/sendungen/dok/p/mit-ursula-brunner-bekam-das-elend-am-platzspitz-ein-gesicht\">\\n\\n  <div class=\"social_view_buzz\" style=\"display:none;\" data-toggle=\"tooltip\" data-toggle-view=\"true\"\\n       data-original-title=\"\"></div>\\n            \\n          <a href=\"/sendungen/dok/mit-ursula-brunner-bekam-das-elend-am-platzspitz-ein-gesicht\" class=\"icon-container\">\\n        \\n\\n                    \\n    \\n                                                        <img src=\"/var/storage/images/auftritte/sendungsauftritte/dok/bilder/2018/09/26/6f1ddb871b260f145c8ac3b41d9416d9/180631691-2-ger-DE/6f1ddb871b260f145c8ac3b41d9416d9_s6.jpg\"\\n              data-keep-dimension=\"true\"\\n                              data-retina-src=\"/var/storage/images/auftritte/sendungsauftritte/dok/bilder/2018/09/26/6f1ddb871b260f145c8ac3b41d9416d9/180631691-2-ger-DE/6f1ddb871b260f145c8ac3b41d9416d9_s6_retina.jpg\"\\n                                       width=\"464\"\\n             height=\"261\"\\n             style=\"\"\\n             alt=\"Mit Ursula Brunner bekam das Elend am Platzspitz ein Gesicht (Artikel enthält Video)\"\\n             title=\"Mit Ursula Brunner bekam das Elend am Platzspitz ein Gesicht (Artikel enthält Video)\" />\\n            \\n    \\n    \\n        <span class=\"media-icon media-video\"></span>\\n  </a>\\n<div class=\"content no-video\">\\n\\n                                                        \\n\\n    <div class=\"rubric-badge rubric-badge-before-title\"  >\\n\\n          <a class=\"tag medium home\">\\n                        Offene Drogenszene in Zürich\\n                  </a>\\n    \\n          </div>    \\n    \\n            \\n\\n    \\n    <h3>\\n        <a href=\"/sendungen/dok/mit-ursula-brunner-bekam-das-elend-am-platzspitz-ein-gesicht\">            <span class=\"title\">Mit Ursula Brunner bekam das Elend am Platzspitz ein Gesicht</span>\\n            </a>    </h3>\\n    <p>SRF hat Ursula Brunners Sucht und ihr Überleben mehrfach porträtiert. Nun ist sie mit 52 Jahren gestorben.</p>\\n    \\n    </div>\\n      </li>\\n                                                                                              \\n                                    \\n<li class=\"span6 no-image no-border highlightmodul past\"\\n    data-referrer-track=\"srf_mod4=2&amp;srf_mod4width=6\">\\n\\n    \\n    \\n\\n            \\n            <a data-toggle=\"lightbox\" data-targettype=\"video\" data-target=\"#lightbox\" class=\"icon-container element-future element-past\"\\n          href=\"#\" \\n    \\n                                            \\n    data-urn=\"urn:srf:ais:video:1374cf7d-4040-4cd7-8629-b3c449a2bb27\" data-cssid=\\'lightbox-contents\\' data-width=\\'624\\' data-height=\\'351\\' data-isAutoplay=\\'true\\' data-mode=\\'portal\\' data-isLightbox=\\'true\\'  \\n\\n    >\\n    \\n        <img src=\"https://ws.srf.ch/asset/image/audio/98a1845e-7363-456d-91ce-129e2b10e961/EPISODE_IMAGE/1436537709.png/scale/width/464\" data-fallback-src=\"/extension/srf_shared/design/standard/images/default_still.jpg\" width=\"464\" alt=\"Video «Zürich Junkietown» abspielen\" title=\"Video «Zürich Junkietown» abspielen\" class=\"upscale\">\\n  <meta itemprop=\"thumbnailUrl\" content=\"https://ws.srf.ch/asset/image/audio/98a1845e-7363-456d-91ce-129e2b10e961/EPISODE_IMAGE/1436537709.png/scale/width/464\" />\\n            <span class=\"media-play media-large\"></span>\\n        </a><a href=\"\" class=\"icon-container element-current\">    \\n        <img src=\"https://ws.srf.ch/asset/image/audio/98a1845e-7363-456d-91ce-129e2b10e961/EPISODE_IMAGE/1436537709.png/scale/width/464\" data-fallback-src=\"/extension/srf_shared/design/standard/images/default_still.jpg\" width=\"464\" alt=\"Video «Zürich Junkietown» abspielen\" title=\"Video «Zürich Junkietown» abspielen\" class=\"upscale\">\\n  <meta itemprop=\"thumbnailUrl\" content=\"https://ws.srf.ch/asset/image/audio/98a1845e-7363-456d-91ce-129e2b10e961/EPISODE_IMAGE/1436537709.png/scale/width/464\" />    </a>\\n\\n    \\n<div class=\"content\">\\n\\n    \\n    \\n            \\n\\n    \\n    <h3>\\n                    <span class=\"title\">        \\n  Zürich Junkietown    </span>\\n                </h3>\\n    <p>                    49 min, aus <a href=\"https://www.srf.ch/sendungen/dok\">DOK</a> vom 18.6.2015\\n        <meta itemprop=\"description\" content=\"DOK - Zürich Junkietown\" /><meta itemprop=\"duration\" content=\"T00H49M00S\" />    </p>\\n    \\n    </div>\\n  \\n</li>\\n                                                                          </ul>\\n      </div>\\n    </div>\\n      \\n        </div>\\n          <div class=\"row\" data-module-coid=\"16262327\">\\n          \\n          <div class=\"container fullwidth-highlights\" data-representation=\"light\">\\n                <h2 class=\"clearfix border\">\\n        \\n                        \\nSo schön ist die Schweiz\\n    </h2>            <div class=\"module highlights row v2\"           data-referrer-track=\"srf_mod1=content&amp;srf_mod2=highlight_fullwidth_light&amp;srf_mod4count=2&amp;srf_mod3=So schön ist die Schweiz\">\\n        <ul class=\"vertical-border\">\\n                                      \\n                                    \\n<li class=\"span6 no-image  highlightmodul past\"\\n    data-referrer-track=\"srf_mod4=1&amp;srf_mod4width=6\">\\n\\n    \\n    \\n\\n            \\n            <a data-toggle=\"lightbox\" data-targettype=\"video\" data-target=\"#lightbox\" class=\"icon-container element-future element-past\"\\n          href=\"#\" \\n    \\n                                            \\n    data-urn=\"urn:srf:ais:video:d4548f94-dcfa-49a7-9d42-1f8b03cb0edc\" data-cssid=\\'lightbox-contents\\' data-width=\\'624\\' data-height=\\'351\\' data-isAutoplay=\\'true\\' data-mode=\\'portal\\' data-isLightbox=\\'true\\'  \\n\\n    >\\n    \\n      \\n\\n                    \\n    \\n                                                        <img src=\"/var/storage/images/auftritte/home/videos/grand_tour_der_schweiz_von_zuerich_ins_berner_oberland/180809063-3-ger-DE/grand_tour_der_schweiz_von_zuerich_ins_berner_oberland_s6.jpg\"\\n              data-keep-dimension=\"true\"\\n                              data-retina-src=\"/var/storage/images/auftritte/home/videos/grand_tour_der_schweiz_von_zuerich_ins_berner_oberland/180809063-3-ger-DE/grand_tour_der_schweiz_von_zuerich_ins_berner_oberland_s6_retina.jpg\"\\n                          class=\"upscale\"             width=\"464\"\\n             height=\"261\"\\n             style=\"\"\\n             alt=\"Video «Grand Tour der Schweiz: Von Zürich ins Berner Oberland 1/3» abspielen\"\\n             title=\"Video «Grand Tour der Schweiz: Von Zürich ins Berner Oberland 1/3» abspielen\" />\\n            \\n    \\n    \\n      <meta itemprop=\"thumbnailUrl\" content=/var/storage/images/auftritte/home/videos/grand_tour_der_schweiz_von_zuerich_ins_berner_oberland/180809063-3-ger-DE/grand_tour_der_schweiz_von_zuerich_ins_berner_oberland_s3.jpg />\\n            <span class=\"media-play media-large\"></span>\\n        </a><a href=\"\" class=\"icon-container element-current\">    \\n      \\n\\n                    \\n    \\n                                                        <img src=\"/var/storage/images/auftritte/home/videos/grand_tour_der_schweiz_von_zuerich_ins_berner_oberland/180809063-3-ger-DE/grand_tour_der_schweiz_von_zuerich_ins_berner_oberland_s6.jpg\"\\n              data-keep-dimension=\"true\"\\n                              data-retina-src=\"/var/storage/images/auftritte/home/videos/grand_tour_der_schweiz_von_zuerich_ins_berner_oberland/180809063-3-ger-DE/grand_tour_der_schweiz_von_zuerich_ins_berner_oberland_s6_retina.jpg\"\\n                          class=\"upscale\"             width=\"464\"\\n             height=\"261\"\\n             style=\"\"\\n             alt=\"Video «Grand Tour der Schweiz: Von Zürich ins Berner Oberland 1/3» abspielen\"\\n             title=\"Video «Grand Tour der Schweiz: Von Zürich ins Berner Oberland 1/3» abspielen\" />\\n            \\n    \\n    \\n      <meta itemprop=\"thumbnailUrl\" content=/var/storage/images/auftritte/home/videos/grand_tour_der_schweiz_von_zuerich_ins_berner_oberland/180809063-3-ger-DE/grand_tour_der_schweiz_von_zuerich_ins_berner_oberland_s3.jpg />    </a>\\n\\n    \\n<div class=\"content\">\\n\\n    \\n    \\n            \\n\\n    \\n    <h3>\\n                    <span class=\"title\">        \\n  Grand Tour der Schweiz: Von Zürich ins Berner Oberland    </span>\\n                </h3>\\n    <p>                    43 min, aus <a href=\"https://www.srf.ch/sendungen/dok\">DOK</a> vom 30.9.2018\\n        <meta itemprop=\"description\" content=\"DOK - Grand Tour der Schweiz: Von Zürich ins Berner Oberland 1/3\" /><meta itemprop=\"duration\" content=\"T00H42M46S\" />    </p>\\n    \\n    </div>\\n  \\n</li>\\n                                                                                              \\n                                    \\n<li class=\"span6 no-image no-border highlightmodul past\"\\n    data-referrer-track=\"srf_mod4=2&amp;srf_mod4width=6\">\\n\\n    \\n    \\n\\n            \\n            <a data-toggle=\"lightbox\" data-targettype=\"video\" data-target=\"#lightbox\" class=\"icon-container element-future element-past\"\\n          href=\"#\" \\n    \\n                                            \\n    data-urn=\"urn:srf:ais:video:c73f2375-220d-4040-9135-dde28c0b4ec1\" data-cssid=\\'lightbox-contents\\' data-width=\\'624\\' data-height=\\'351\\' data-isAutoplay=\\'true\\' data-mode=\\'portal\\' data-isLightbox=\\'true\\'  \\n\\n    >\\n    \\n        <img src=\"https://ws.srf.ch/asset/image/audio/9108c96c-6149-4e03-b516-e0065f5fb682/EPISODE_IMAGE/1538384044.png/scale/width/464\" data-fallback-src=\"/extension/srf_shared/design/standard/images/default_still.jpg\" width=\"464\" alt=\"Video «Grand Tour der Schweiz:  Vom Jura bis ins Wallis (2/3)» abspielen\" title=\"Video «Grand Tour der Schweiz:  Vom Jura bis ins Wallis (2/3)» abspielen\" class=\"upscale\">\\n  <meta itemprop=\"thumbnailUrl\" content=\"https://ws.srf.ch/asset/image/audio/9108c96c-6149-4e03-b516-e0065f5fb682/EPISODE_IMAGE/1538384044.png/scale/width/464\" />\\n            <span class=\"media-play media-large\"></span>\\n        </a><a href=\"\" class=\"icon-container element-current\">    \\n        <img src=\"https://ws.srf.ch/asset/image/audio/9108c96c-6149-4e03-b516-e0065f5fb682/EPISODE_IMAGE/1538384044.png/scale/width/464\" data-fallback-src=\"/extension/srf_shared/design/standard/images/default_still.jpg\" width=\"464\" alt=\"Video «Grand Tour der Schweiz:  Vom Jura bis ins Wallis (2/3)» abspielen\" title=\"Video «Grand Tour der Schweiz:  Vom Jura bis ins Wallis (2/3)» abspielen\" class=\"upscale\">\\n  <meta itemprop=\"thumbnailUrl\" content=\"https://ws.srf.ch/asset/image/audio/9108c96c-6149-4e03-b516-e0065f5fb682/EPISODE_IMAGE/1538384044.png/scale/width/464\" />    </a>\\n\\n    \\n<div class=\"content\">\\n\\n    \\n    \\n            \\n\\n    \\n    <h3>\\n                    <span class=\"title\">        \\n  Grand Tour der Schweiz: Vom Jura bis ins Wallis    </span>\\n                </h3>\\n    <p>                    43 min, aus <a href=\"https://www.srf.ch/sendungen/dok\">DOK</a> vom 30.9.2018\\n        <meta itemprop=\"description\" content=\"DOK - Grand Tour der Schweiz:  Vom Jura bis ins Wallis (2/3)\" /><meta itemprop=\"duration\" content=\"T00H42M44S\" />    </p>\\n    \\n    </div>\\n  \\n</li>\\n                                                                          </ul>\\n      </div>\\n    </div>\\n      \\n        </div>\\n          <div class=\"row\" data-module-coid=\"16262339\">\\n          \\n          <div class=\"container fullwidth-highlights\" data-representation=\"light\">\\n                <h2 class=\"clearfix border\">\\n        \\n                        \\n50 Jahre Farbfernsehen\\n    </h2>            <div class=\"module highlights row v2\"           data-referrer-track=\"srf_mod1=content&amp;srf_mod2=highlight_fullwidth_light&amp;srf_mod4count=2&amp;srf_mod3=50 Jahre Farbfernsehen\">\\n        <ul class=\"vertical-border\">\\n                                      \\n                                \\n<li     class=\"span6  highlightmodul    \"\\n    data-referrer-track=\"srf_mod4=1&amp;srf_mod4width=6\"\\n    data-node-id=\"16237855\" data-socialview-urn=\"/radio_srf_1/p/vor-50-jahren-wurde-das-schweizer-fernsehen-farbig\">\\n\\n  <div class=\"social_view_buzz\" style=\"display:none;\" data-toggle=\"tooltip\" data-toggle-view=\"true\"\\n       data-original-title=\"\"></div>\\n            \\n          <a href=\"/radio-srf-1/radio-srf-1/lang-ist-s-her-vor-50-jahren-wurde-das-schweizer-fernsehen-farbig\" class=\"icon-container\">\\n        \\n\\n                    \\n    \\n                                                        <img src=\"/var/storage/images/auftritte/radio-srf-1/bilder/2018/08/15/94fafd2304315845834be01493c0fd70/178962041-12-ger-DE/94fafd2304315845834be01493c0fd70_s6.jpg\"\\n              data-keep-dimension=\"true\"\\n                              data-retina-src=\"/var/storage/images/auftritte/radio-srf-1/bilder/2018/08/15/94fafd2304315845834be01493c0fd70/178962041-12-ger-DE/94fafd2304315845834be01493c0fd70_s6_retina.jpg\"\\n                                       width=\"464\"\\n             height=\"261\"\\n             style=\"\"\\n             alt=\"Vor 50 Jahren wurde das Schweizer Fernsehen farbig (Artikel enthält Video)\"\\n             title=\"Vor 50 Jahren wurde das Schweizer Fernsehen farbig (Artikel enthält Video)\" />\\n            \\n    \\n    \\n        <span class=\"media-icon media-video\"></span>\\n  </a>\\n<div class=\"content no-video\">\\n\\n                                                        \\n\\n    <div class=\"rubric-badge rubric-badge-before-title\"  >\\n\\n          <a class=\"tag medium srf-1\">\\n                        Lang ist\\'s her\\n                  </a>\\n    \\n          </div>    \\n    \\n            \\n\\n    \\n    <h3>\\n        <a href=\"/radio-srf-1/radio-srf-1/lang-ist-s-her-vor-50-jahren-wurde-das-schweizer-fernsehen-farbig\">            <span class=\"title\">Vor 50 Jahren wurde das Schweizer Fernsehen farbig</span>\\n            </a>    </h3>\\n    <p>In der Videoserie «Lang ist\\'s her» kommentiert Radio SRF 1-Moderatorin Christina Lang Perlen aus unserem SRF-Archiv.</p>\\n    \\n    </div>\\n      </li>\\n                                                                                              \\n                                \\n<li     class=\"span6 no-border highlightmodul    \"\\n    data-referrer-track=\"srf_mod4=2&amp;srf_mod4width=6\"\\n    data-node-id=\"16430603\" data-socialview-urn=\"/tv/p/es-werde-farbe-50-jahre-farbfernsehen\">\\n\\n  <div class=\"social_view_buzz\" style=\"display:none;\" data-toggle=\"tooltip\" data-toggle-view=\"true\"\\n       data-original-title=\"\"></div>\\n            \\n          <a href=\"/tv/allgemein/es-werde-farbe-50-jahre-farbfernsehen\" class=\"icon-container\">\\n        \\n\\n                    \\n    \\n                                                        <img src=\"/var/storage/images/auftritte/tv/bilder/2018/09/28/ez_croppingyyuqod_jpg/180737618-4-ger-DE/ez_croppingyyuqod_jpg_s6.jpg\"\\n              data-keep-dimension=\"true\"\\n                              data-retina-src=\"/var/storage/images/auftritte/tv/bilder/2018/09/28/ez_croppingyyuqod_jpg/180737618-4-ger-DE/ez_croppingyyuqod_jpg_s6_retina.jpg\"\\n                                       width=\"464\"\\n             height=\"261\"\\n             style=\"\"\\n             alt=\"Es werde Farbe! – 50 Jahre Farbfernsehen (Artikel enthält Video)\"\\n             title=\"Es werde Farbe! – 50 Jahre Farbfernsehen (Artikel enthält Video)\" />\\n            \\n    \\n    \\n        <span class=\"media-icon media-video\"></span>\\n  </a>\\n<div class=\"content no-video\">\\n\\n                                                        \\n\\n    <div class=\"rubric-badge rubric-badge-before-title\"  >\\n\\n          <a class=\"tag medium tv\">\\n                        TV\\n                  </a>\\n    \\n          </div>    \\n    \\n            \\n\\n    \\n    <h3>\\n        <a href=\"/tv/allgemein/es-werde-farbe-50-jahre-farbfernsehen\">            <span class=\"title\">Es werde Farbe! – 50 Jahre Farbfernsehen</span>\\n            </a>    </h3>\\n    <p>Zum Jubiläum lässt SRF 1 den offiziellen Farbstart und die ersten kultigen Farbfernsehsendungen wieder aufleben. </p>\\n    \\n    </div>\\n      </li>\\n                                                                          </ul>\\n      </div>\\n    </div>\\n      \\n        </div>\\n          <div class=\"row\" data-module-coid=\"16248764\">\\n          \\n          <div class=\"container fullwidth-highlights\" data-representation=\"light\">\\n                <h2 class=\"clearfix border\">\\n        \\n                        \\n14. Zurich Film Festival\\n    </h2>            <div class=\"module highlights row v2\"           data-referrer-track=\"srf_mod1=content&amp;srf_mod2=highlight_fullwidth_light&amp;srf_mod4count=3&amp;srf_mod3=14. Zurich Film Festival\">\\n        <ul class=\"vertical-border\">\\n                                      \\n                                \\n<li     class=\"span4  highlightmodul    \"\\n    data-referrer-track=\"srf_mod4=1&amp;srf_mod4width=4\"\\n    data-node-id=\"16430849\" data-socialview-urn=\"/radio_srf_3/p/ihr-haend-film-gaern-mir-au\">\\n\\n  <div class=\"social_view_buzz\" style=\"display:none;\" data-toggle=\"tooltip\" data-toggle-view=\"true\"\\n       data-original-title=\"\"></div>\\n            \\n          <a href=\"/radio-srf-3/aktuell/max-hubacher-ueber-seine-rolle-als-psychisch-kranker\" class=\"icon-container\">\\n        \\n\\n                    \\n    \\n                                                        <img src=\"/var/storage/images/auftritte/radio-srf-3/bilder/2018/09/28/5431dd014625f7a35c9cce57d018e1ab/180740237-5-ger-DE/5431dd014625f7a35c9cce57d018e1ab_s4.jpg\"\\n              data-keep-dimension=\"true\"\\n                              data-retina-src=\"/var/storage/images/auftritte/radio-srf-3/bilder/2018/09/28/5431dd014625f7a35c9cce57d018e1ab/180740237-5-ger-DE/5431dd014625f7a35c9cce57d018e1ab_s4_retina.jpg\"\\n                                       width=\"304\"\\n             height=\"171\"\\n             style=\"\"\\n             alt=\"Max Hubacher über seine Rolle als psychisch Kranker (Artikel enthält Video)\"\\n             title=\"Max Hubacher über seine Rolle als psychisch Kranker (Artikel enthält Video)\" />\\n            \\n    \\n    \\n        <span class=\"media-icon media-video\"></span>\\n  </a>\\n<div class=\"content no-video\">\\n\\n                                    \\n\\n    <div class=\"rubric-badge rubric-badge-before-title\"  >\\n\\n          <a class=\"tag small srf-3\">\\n                        Radio SRF 3\\n                  </a>\\n    \\n          </div>    \\n    \\n            \\n\\n    \\n    <h3>\\n        <a href=\"/radio-srf-3/aktuell/max-hubacher-ueber-seine-rolle-als-psychisch-kranker\">            <span class=\"title\">Max Hubacher über seine Rolle als psychisch Kranker</span>\\n            </a>    </h3>\\n    <p>Nik Hartmann und Marco Thomann senden live vom Zurich Film Festival. Hier gibts alle Interviews.</p>\\n    \\n    </div>\\n      </li>\\n                                                                                              \\n                                \\n<li     class=\"span4  highlightmodul    \"\\n    data-referrer-track=\"srf_mod4=2&amp;srf_mod4width=4\"\\n    data-node-id=\"16434053\" data-socialview-urn=\"/kultur/p/der-mensch-hinter-dem-mitternachtsmoerder\">\\n\\n  <div class=\"social_view_buzz\" style=\"display:none;\" data-toggle=\"tooltip\" data-toggle-view=\"true\"\\n       data-original-title=\"\"></div>\\n            \\n          <a href=\"/kultur/film-serien/filmfestival-zuerich/14-zurich-film-festival-der-mensch-hinter-dem-mitternachtsmoerder\" class=\"icon-container\">\\n        \\n\\n                    \\n    \\n                                                        <img src=\"/var/storage/images/auftritte/kultur/bilder/2018/09/29/7142ca6c795e80cb883824913692f0ca/180770231-2-ger-DE/7142ca6c795e80cb883824913692f0ca_s4.jpg\"\\n              data-keep-dimension=\"true\"\\n                              data-retina-src=\"/var/storage/images/auftritte/kultur/bilder/2018/09/29/7142ca6c795e80cb883824913692f0ca/180770231-2-ger-DE/7142ca6c795e80cb883824913692f0ca_s4_retina.jpg\"\\n                                       width=\"304\"\\n             height=\"171\"\\n             style=\"\"\\n             alt=\"Der Mensch hinter dem «Mitternachtsmörder» (Artikel enthält Video)\"\\n             title=\"Der Mensch hinter dem «Mitternachtsmörder» (Artikel enthält Video)\" />\\n            \\n    \\n    \\n        <span class=\"media-icon media-video\"></span>\\n  </a>\\n<div class=\"content no-video\">\\n\\n                                    \\n\\n    <div class=\"rubric-badge rubric-badge-before-title\"  >\\n\\n          <a class=\"tag small kultur\">\\n                        14. Zurich Film Festival\\n                  </a>\\n    \\n          </div>    \\n    \\n            \\n\\n    \\n    <h3>\\n        <a href=\"/kultur/film-serien/filmfestival-zuerich/14-zurich-film-festival-der-mensch-hinter-dem-mitternachtsmoerder\">            <span class=\"title\">Der Mensch hinter dem «Mitternachtsmörder»</span>\\n            </a>    </h3>\\n    <p>«Der Läufer»: Hannes Baumgartner verfilmt die wahre Geschichte eines Spitzensportlers, der Bern in Angst versetzte.</p>\\n    \\n    </div>\\n      </li>\\n                                                                                              \\n                                \\n<li     class=\"span4 no-border highlightmodul    \"\\n    data-referrer-track=\"srf_mod4=3&amp;srf_mod4width=4\"\\n    data-node-id=\"16430420\" data-socialview-urn=\"/kultur/p/subito-das-sofortbild-polaroid-ist-zurueck-auch-im-kino\">\\n\\n  <div class=\"social_view_buzz\" style=\"display:none;\" data-toggle=\"tooltip\" data-toggle-view=\"true\"\\n       data-original-title=\"\"></div>\\n            \\n          <a href=\"/kultur/film-serien/filmfestival-zuerich/14-zurich-film-festival-subito-das-sofortbild-polaroid-ist-zurueck-auch-im-kino\" class=\"icon-container\">\\n        \\n\\n                    \\n    \\n                                                        <img src=\"/var/storage/images/auftritte/kultur/bilder/2018/09/28/6a87891d76906b6f135b2523310f2223/180748964-2-ger-DE/6a87891d76906b6f135b2523310f2223_s4.jpg\"\\n              data-keep-dimension=\"true\"\\n                              data-retina-src=\"/var/storage/images/auftritte/kultur/bilder/2018/09/28/6a87891d76906b6f135b2523310f2223/180748964-2-ger-DE/6a87891d76906b6f135b2523310f2223_s4_retina.jpg\"\\n                                       width=\"304\"\\n             height=\"171\"\\n             style=\"\"\\n             alt=\"«Subito – Das Sofortbild»: Polaroid ist zurück – auch im Kino! (Artikel enthält Video)\"\\n             title=\"«Subito – Das Sofortbild»: Polaroid ist zurück – auch im Kino! (Artikel enthält Video)\" />\\n            \\n    \\n    \\n        <span class=\"media-icon media-video\"></span>\\n  </a>\\n<div class=\"content no-video\">\\n\\n                                    \\n\\n    <div class=\"rubric-badge rubric-badge-before-title\"  >\\n\\n          <a class=\"tag small kultur\">\\n                        14. Zurich Film Festival\\n                  </a>\\n    \\n          </div>    \\n    \\n            \\n\\n    \\n    <h3>\\n        <a href=\"/kultur/film-serien/filmfestival-zuerich/14-zurich-film-festival-subito-das-sofortbild-polaroid-ist-zurueck-auch-im-kino\">            <span class=\"title\">«Subito – Das Sofortbild»: Polaroid ist zurück – auch im Kino!</span>\\n            </a>    </h3>\\n    <p>Künstler und Knipser lieben sie gleichermassen: Sofortbildkameras sind wieder voll im Trend und erobern den Fotomarkt.</p>\\n    \\n    </div>\\n      </li>\\n                                                                          </ul>\\n      </div>\\n    </div>\\n      \\n        </div>\\n          <div class=\"row\" data-module-coid=\"16254389\">\\n          \\n          <div class=\"container fullwidth-highlights\" data-representation=\"light\">\\n                <h2 class=\"clearfix border\">\\n        \\n                        \\nTrue Life – Kampf gegen Vorurteile\\n    </h2>            <div class=\"module highlights row v2\"           data-referrer-track=\"srf_mod1=content&amp;srf_mod2=highlight_fullwidth_light&amp;srf_mod4count=2&amp;srf_mod3=True Life – Kampf gegen Vorurteile\">\\n        <ul class=\"vertical-border\">\\n                                      \\n                                \\n<li     class=\"span6  highlightmodul    \"\\n    data-referrer-track=\"srf_mod4=1&amp;srf_mod4width=6\"\\n    data-node-id=\"16421198\" data-socialview-urn=\"/radio_srf_virus/p/ich-bin-es-gewohnt-dass-mich-menschen-komisch-anschauen\">\\n\\n  <div class=\"social_view_buzz\" style=\"display:none;\" data-toggle=\"tooltip\" data-toggle-view=\"true\"\\n       data-original-title=\"\"></div>\\n            \\n          <a href=\"/radio-srf-virus/true-talk/true-life-ich-bin-es-gewohnt-dass-mich-menschen-komisch-anschauen\" class=\"icon-container\">\\n        \\n\\n                    \\n    \\n                                                        <img src=\"/var/storage/images/auftritte/radio_srf_virus/bilder/2018/09/26/63ff5c9020d577d1b264c71230b52ad1/180650054-2-ger-DE/63ff5c9020d577d1b264c71230b52ad1_s6.jpg\"\\n              data-keep-dimension=\"true\"\\n                              data-retina-src=\"/var/storage/images/auftritte/radio_srf_virus/bilder/2018/09/26/63ff5c9020d577d1b264c71230b52ad1/180650054-2-ger-DE/63ff5c9020d577d1b264c71230b52ad1_s6_retina.jpg\"\\n                                       width=\"464\"\\n             height=\"261\"\\n             style=\"\"\\n             alt=\"«Ich bin es gewohnt, dass mich Menschen komisch anschauen!»\"\\n             title=\"«Ich bin es gewohnt, dass mich Menschen komisch anschauen!»\" />\\n            \\n    \\n    \\n      </a>\\n<div class=\"content no-video\">\\n\\n                                                        \\n\\n    <div class=\"rubric-badge rubric-badge-before-title\"  >\\n\\n          <a class=\"tag medium radio-srf-virus\">\\n                        True Life\\n                  </a>\\n    \\n          </div>    \\n    \\n            \\n\\n    \\n    <h3>\\n        <a href=\"/radio-srf-virus/true-talk/true-life-ich-bin-es-gewohnt-dass-mich-menschen-komisch-anschauen\">            <span class=\"title\">«Ich bin es gewohnt, dass mich Menschen komisch anschauen!»</span>\\n            </a>    </h3>\\n    <p>Fabienne ist seit ihrer Geburt gehörlos. Wir haben die 34-Jährige in unserem Webformat «True Life» einen Tag begleitet.</p>\\n    \\n    </div>\\n      </li>\\n                                                                                              \\n                                \\n<li     class=\"span6 no-border highlightmodul    \"\\n    data-referrer-track=\"srf_mod4=2&amp;srf_mod4width=6\"\\n    data-node-id=\"16387013\" data-socialview-urn=\"/radio_srf_virus/p/ich-sehe-immer-nur-aersche-beine-und-fuesse\">\\n\\n  <div class=\"social_view_buzz\" style=\"display:none;\" data-toggle=\"tooltip\" data-toggle-view=\"true\"\\n       data-original-title=\"\"></div>\\n            \\n          <a href=\"/radio-srf-virus/true-talk/true-life-ich-sehe-immer-nur-aersche-beine-und-fuesse\" class=\"icon-container\">\\n        \\n\\n                    \\n    \\n                                                        <img src=\"/var/storage/images/auftritte/radio_srf_virus/bilder/2018/09/19/0e666483494282b36bedf5e5b0ccf5c4/180388559-2-ger-DE/0e666483494282b36bedf5e5b0ccf5c4_s6.jpg\"\\n              data-keep-dimension=\"true\"\\n                              data-retina-src=\"/var/storage/images/auftritte/radio_srf_virus/bilder/2018/09/19/0e666483494282b36bedf5e5b0ccf5c4/180388559-2-ger-DE/0e666483494282b36bedf5e5b0ccf5c4_s6_retina.jpg\"\\n                                       width=\"464\"\\n             height=\"261\"\\n             style=\"\"\\n             alt=\"«Ich sehe immer nur Ärsche, Beine und Füsse»\"\\n             title=\"«Ich sehe immer nur Ärsche, Beine und Füsse»\" />\\n            \\n    \\n    \\n      </a>\\n<div class=\"content no-video\">\\n\\n                                                        \\n\\n    <div class=\"rubric-badge rubric-badge-before-title\"  >\\n\\n          <a class=\"tag medium radio-srf-virus\">\\n                        True Life\\n                  </a>\\n    \\n          </div>    \\n    \\n            \\n\\n  <div class=\"social-indicator pull-right\">\\n          <a class=\"social-icon comments\" href=\"/radio-srf-virus/true-talk/true-life-ich-sehe-immer-nur-aersche-beine-und-fuesse#main-comments\" data-original-title=\"Zu den Kommentaren\" title=\"Zu den Kommentaren\"><span class=\"offscreen\">Zu den Kommentaren</span></a>\\n      <span class=\"social-count\">10</span>\\n      <span class=\"offscreen\"> Kommentare</span>\\n      </div>    \\n    <h3>\\n        <a href=\"/radio-srf-virus/true-talk/true-life-ich-sehe-immer-nur-aersche-beine-und-fuesse\">            <span class=\"title\">«Ich sehe immer nur Ärsche, Beine und Füsse»</span>\\n            </a>    </h3>\\n    <p>Rollstuhlfahrer Hitzi (24) erzählt in unserem neuen Format «True Life» von seinem Unfall und dem Leben danach.</p>\\n    \\n    </div>\\n      </li>\\n                                                                          </ul>\\n      </div>\\n    </div>\\n      \\n        </div>\\n          <div class=\"row\" data-module-coid=\"16260217\">\\n          \\n          <div class=\"container fullwidth-highlights\" data-representation=\"light\">\\n                <h2 class=\"clearfix border\">\\n        \\n                        \\nStoff für Leseratten\\n    </h2>            <div class=\"module highlights row v2\"           data-referrer-track=\"srf_mod1=content&amp;srf_mod2=highlight_fullwidth_light&amp;srf_mod4count=2&amp;srf_mod3=Stoff für Leseratten\">\\n        <ul class=\"vertical-border\">\\n                                      \\n                                \\n<li     class=\"span6  highlightmodul    \"\\n    data-referrer-track=\"srf_mod4=1&amp;srf_mod4width=6\"\\n    data-node-id=\"16411589\" data-socialview-urn=\"/radio_srf_1/p/von-diesem-georgier-kriege-ich-den-flattermann\">\\n\\n  <div class=\"social_view_buzz\" style=\"display:none;\" data-toggle=\"tooltip\" data-toggle-view=\"true\"\\n       data-original-title=\"\"></div>\\n            \\n          <a href=\"/radio-srf-1/die-buchkoenig-bloggt/die-buchkoenig-bloggt-von-diesem-georgier-kriege-ich-den-flattermann\" class=\"icon-container\">\\n        \\n\\n                    \\n    \\n                                                        <img src=\"/var/storage/images/auftritte/radio-srf-1/bilder/2018/09/24/86227e3d23e6e5e5a0ec9967b1e68af3/180567344-2-ger-DE/86227e3d23e6e5e5a0ec9967b1e68af3_s6.jpg\"\\n              data-keep-dimension=\"true\"\\n                              data-retina-src=\"/var/storage/images/auftritte/radio-srf-1/bilder/2018/09/24/86227e3d23e6e5e5a0ec9967b1e68af3/180567344-2-ger-DE/86227e3d23e6e5e5a0ec9967b1e68af3_s6_retina.jpg\"\\n                                       width=\"464\"\\n             height=\"261\"\\n             style=\"\"\\n             alt=\"Von diesem Georgier kriege ich den Flattermann (Artikel enthält Audio)\"\\n             title=\"Von diesem Georgier kriege ich den Flattermann (Artikel enthält Audio)\" />\\n            \\n    \\n    \\n        <span class=\"media-icon media-audio\"></span>\\n  </a>\\n<div class=\"content no-video\">\\n\\n                                                        \\n\\n    <div class=\"rubric-badge rubric-badge-before-title\"  >\\n\\n          <a class=\"tag medium srf-1\">\\n                        Die BuchKönig bloggt\\n                  </a>\\n    \\n          </div>    \\n    \\n            \\n\\n    \\n    <h3>\\n        <a href=\"/radio-srf-1/die-buchkoenig-bloggt/die-buchkoenig-bloggt-von-diesem-georgier-kriege-ich-den-flattermann\">            <span class=\"title\">Von diesem Georgier kriege ich den Flattermann</span>\\n            </a>    </h3>\\n    <p>Der erste Roman «Farben der Nacht» vom jungen Georgier Davit Gabunia ist raffiniert und spannungsreich. Gut gemacht!</p>\\n    \\n    </div>\\n      </li>\\n                                                                                              \\n                                \\n<li     class=\"span6 no-border highlightmodul    \"\\n    data-referrer-track=\"srf_mod4=2&amp;srf_mod4width=6\"\\n    data-node-id=\"16380194\" data-socialview-urn=\"/radio_srf_1/p/wegen-marlene-bleibt-philippe-djian-kult-fuer-mich\">\\n\\n  <div class=\"social_view_buzz\" style=\"display:none;\" data-toggle=\"tooltip\" data-toggle-view=\"true\"\\n       data-original-title=\"\"></div>\\n            \\n          <a href=\"/radio-srf-1/die-buchkoenig-bloggt/die-buchkoenig-bloggt-wegen-marlene-bleibt-philippe-djian-kult-fuer-mich\" class=\"icon-container\">\\n        \\n\\n                    \\n    \\n                                                        <img src=\"/var/storage/images/auftritte/radio-srf-1/bilder/2018/09/17/caa1efbf2e0fe33801a82e653ed7ee7d/180266390-2-ger-DE/caa1efbf2e0fe33801a82e653ed7ee7d_s6.jpg\"\\n              data-keep-dimension=\"true\"\\n                              data-retina-src=\"/var/storage/images/auftritte/radio-srf-1/bilder/2018/09/17/caa1efbf2e0fe33801a82e653ed7ee7d/180266390-2-ger-DE/caa1efbf2e0fe33801a82e653ed7ee7d_s6_retina.jpg\"\\n                                       width=\"464\"\\n             height=\"261\"\\n             style=\"\"\\n             alt=\"Wegen «Marlène» bleibt Philippe Djian Kult für mich! (Artikel enthält Audio)\"\\n             title=\"Wegen «Marlène» bleibt Philippe Djian Kult für mich! (Artikel enthält Audio)\" />\\n            \\n    \\n    \\n        <span class=\"media-icon media-audio\"></span>\\n  </a>\\n<div class=\"content no-video\">\\n\\n                                                        \\n\\n    <div class=\"rubric-badge rubric-badge-before-title\"  >\\n\\n          <a class=\"tag medium srf-1\">\\n                        Die BuchKönig bloggt\\n                  </a>\\n    \\n          </div>    \\n    \\n            \\n\\n    \\n    <h3>\\n        <a href=\"/radio-srf-1/die-buchkoenig-bloggt/die-buchkoenig-bloggt-wegen-marlene-bleibt-philippe-djian-kult-fuer-mich\">            <span class=\"title\">Wegen «Marlène» bleibt Philippe Djian Kult für mich!</span>\\n            </a>    </h3>\\n    <p>Mehr als 30 Jahre nach «Betty Blue» kann mich Philippe Djian wieder mit einem neuen Buch begeistern. Es ist «Marlène».</p>\\n    \\n    </div>\\n      </li>\\n                                                                          </ul>\\n      </div>\\n    </div>\\n      \\n        </div>\\n          <div class=\"row\" data-module-coid=\"16255844\">\\n          \\n          <div class=\"container fullwidth-highlights\" data-representation=\"light\">\\n                <h2 class=\"clearfix border\">\\n        \\n                        \\nSpielen am Wochenende\\n    </h2>            <div class=\"module highlights row v2\"           data-referrer-track=\"srf_mod1=content&amp;srf_mod2=highlight_fullwidth_light&amp;srf_mod4count=3&amp;srf_mod3=Spielen am Wochenende\">\\n        <ul class=\"vertical-border\">\\n                                      \\n                                \\n<li     class=\"span4  highlightmodul    \"\\n    data-referrer-track=\"srf_mod4=1&amp;srf_mod4width=4\"\\n    data-node-id=\"16410650\" data-socialview-urn=\"/radio_srf_virus/p/wo-tomb-raider-draufsteht-ist-lara-croft-drin\">\\n\\n  <div class=\"social_view_buzz\" style=\"display:none;\" data-toggle=\"tooltip\" data-toggle-view=\"true\"\\n       data-original-title=\"\"></div>\\n            \\n          <a href=\"/radio-srf-virus/games/game-review-wo-tomb-raider-drauf-steht-ist-lara-croft-drin\" class=\"icon-container\">\\n        \\n\\n                    \\n    \\n                                                        <img src=\"/var/storage/images/auftritte/radio_srf_virus/bilder/2018/09/24/3a7d194bdbc42307cee95992335f1c08/180549650-2-ger-DE/3a7d194bdbc42307cee95992335f1c08_s4.jpg\"\\n              data-keep-dimension=\"true\"\\n                              data-retina-src=\"/var/storage/images/auftritte/radio_srf_virus/bilder/2018/09/24/3a7d194bdbc42307cee95992335f1c08/180549650-2-ger-DE/3a7d194bdbc42307cee95992335f1c08_s4_retina.jpg\"\\n                                       width=\"304\"\\n             height=\"171\"\\n             style=\"\"\\n             alt=\"Wo Tomb Raider drauf steht, ist Lara Croft drin\"\\n             title=\"Wo Tomb Raider drauf steht, ist Lara Croft drin\" />\\n            \\n    \\n    \\n      </a>\\n<div class=\"content no-video\">\\n\\n                                    \\n\\n    <div class=\"rubric-badge rubric-badge-before-title\"  >\\n\\n          <a class=\"tag small radio-srf-virus\">\\n                        Game-Review\\n                  </a>\\n    \\n          </div>    \\n    \\n            \\n\\n    \\n    <h3>\\n        <a href=\"/radio-srf-virus/games/game-review-wo-tomb-raider-drauf-steht-ist-lara-croft-drin\">            <span class=\"title\">Wo Tomb Raider drauf steht, ist Lara Croft drin</span>\\n            </a>    </h3>\\n    <p>«Shadow of the Tomb Raider» liefert alles, was wir uns von einem Tomb Raider wünschen – ausser einer klugen Handlung.</p>\\n    \\n    </div>\\n      </li>\\n                                                                                              \\n                                \\n<li     class=\"span4  highlightmodul    \"\\n    data-referrer-track=\"srf_mod4=2&amp;srf_mod4width=4\"\\n    data-node-id=\"16362470\" data-socialview-urn=\"/radio_srf_virus/p/das-beste-spider-man-spiel-aller-zeiten\">\\n\\n  <div class=\"social_view_buzz\" style=\"display:none;\" data-toggle=\"tooltip\" data-toggle-view=\"true\"\\n       data-original-title=\"\"></div>\\n            \\n          <a href=\"/radio-srf-virus/games/game-review-das-beste-spider-man-spiel-aller-zeiten\" class=\"icon-container\">\\n        \\n\\n                    \\n    \\n                                                        <img src=\"/var/storage/images/auftritte/radio_srf_virus/bilder/2018/09/12/c2ee7769458470c7c1c7e5fa4576779b/180104489-2-ger-DE/c2ee7769458470c7c1c7e5fa4576779b_s4.jpg\"\\n              data-keep-dimension=\"true\"\\n                              data-retina-src=\"/var/storage/images/auftritte/radio_srf_virus/bilder/2018/09/12/c2ee7769458470c7c1c7e5fa4576779b/180104489-2-ger-DE/c2ee7769458470c7c1c7e5fa4576779b_s4_retina.jpg\"\\n                                       width=\"304\"\\n             height=\"171\"\\n             style=\"\"\\n             alt=\"Das beste Spider-Man-Spiel aller Zeiten\"\\n             title=\"Das beste Spider-Man-Spiel aller Zeiten\" />\\n            \\n    \\n    \\n      </a>\\n<div class=\"content no-video\">\\n\\n                                    \\n\\n    <div class=\"rubric-badge rubric-badge-before-title\"  >\\n\\n          <a class=\"tag small radio-srf-virus\">\\n                        Game-Review\\n                  </a>\\n    \\n          </div>    \\n    \\n            \\n\\n    \\n    <h3>\\n        <a href=\"/radio-srf-virus/games/game-review-das-beste-spider-man-spiel-aller-zeiten\">            <span class=\"title\">Das beste Spider-Man-Spiel aller Zeiten</span>\\n            </a>    </h3>\\n    <p>Das neue Spider-Man-Spiel verkauft sich wie heisse Brötchen. Zu Recht, wie unser Test bestätigt. </p>\\n    \\n    </div>\\n      </li>\\n                                                                                              \\n                                \\n<li     class=\"span4 no-border highlightmodul    \"\\n    data-referrer-track=\"srf_mod4=3&amp;srf_mod4width=4\"\\n    data-node-id=\"16391324\" data-socialview-urn=\"/radio_srf_virus/p/retimed-begeistert-wirklich-alle\">\\n\\n  <div class=\"social_view_buzz\" style=\"display:none;\" data-toggle=\"tooltip\" data-toggle-view=\"true\"\\n       data-original-title=\"\"></div>\\n            \\n          <a href=\"/radio-srf-virus/games/game-review-retimed-dieses-schweizer-game-begeistert-alle\" class=\"icon-container\">\\n        \\n\\n                    \\n    \\n                                                        <img src=\"/var/storage/images/auftritte/radio_srf_virus/bilder/2018/09/19/ez_croppingki5kar_jpg/180368174-4-ger-DE/ez_croppingki5kar_jpg_s4.jpg\"\\n              data-keep-dimension=\"true\"\\n                              data-retina-src=\"/var/storage/images/auftritte/radio_srf_virus/bilder/2018/09/19/ez_croppingki5kar_jpg/180368174-4-ger-DE/ez_croppingki5kar_jpg_s4_retina.jpg\"\\n                                       width=\"304\"\\n             height=\"171\"\\n             style=\"\"\\n             alt=\"«Retimed»: Dieses Schweizer Game begeistert alle\"\\n             title=\"«Retimed»: Dieses Schweizer Game begeistert alle\" />\\n            \\n    \\n    \\n      </a>\\n<div class=\"content no-video\">\\n\\n                                    \\n\\n    <div class=\"rubric-badge rubric-badge-before-title\"  >\\n\\n          <a class=\"tag small radio-srf-virus\">\\n                        Game-Review\\n                  </a>\\n    \\n          </div>    \\n    \\n            \\n\\n    \\n    <h3>\\n        <a href=\"/radio-srf-virus/games/game-review-retimed-dieses-schweizer-game-begeistert-alle\">            <span class=\"title\">«Retimed»: Dieses Schweizer Game begeistert alle</span>\\n            </a>    </h3>\\n    <p>Ein lustiges Schiess-Spiel, das wir zusammen auf dem Sofa spielen und sofort im Griff haben: Perfekt!</p>\\n    \\n    </div>\\n      </li>\\n                                                                          </ul>\\n      </div>\\n    </div>\\n      \\n        </div>\\n          <div class=\"row\" data-module-coid=\"15865505\">\\n          \\n          <div class=\"container fullwidth-highlights\" data-representation=\"light\">\\n                <h2 class=\"clearfix border\">\\n        \\n                        \\nArchivperlen\\n    </h2>            <div class=\"module highlights row v2\"           data-referrer-track=\"srf_mod1=content&amp;srf_mod2=highlight_fullwidth_light&amp;srf_mod4count=3&amp;srf_mod3=Archivperlen\">\\n        <ul class=\"vertical-border\">\\n                                      \\n                                    \\n<li class=\"span4 no-image  highlightmodul past\"\\n    data-referrer-track=\"srf_mod4=1&amp;srf_mod4width=4\">\\n\\n    \\n    \\n\\n            \\n            <a data-toggle=\"lightbox\" data-targettype=\"video\" data-target=\"#lightbox\" class=\"icon-container element-future element-past\"\\n          href=\"#\" \\n    \\n                                            \\n    data-urn=\"urn:srf:ais:video:87a8b5a0-fa76-4881-9407-d67b03ef711d\" data-cssid=\\'lightbox-contents\\' data-width=\\'624\\' data-height=\\'351\\' data-isAutoplay=\\'true\\' data-mode=\\'portal\\' data-isLightbox=\\'true\\'  \\n\\n    >\\n    \\n        <img src=\"https://ws.srf.ch/asset/image/audio/913d753d-81d7-4da8-a8dd-2717c03b8f45/EPISODE_IMAGE/1538240682.png/scale/width/304\" data-fallback-src=\"/extension/srf_shared/design/standard/images/default_still.jpg\" width=\"304\" alt=\"Video «Wettbewerb &quot;Die ideale Sekretärin&quot; (1969)» abspielen\" title=\"Video «Wettbewerb &quot;Die ideale Sekretärin&quot; (1969)» abspielen\" class=\"upscale\">\\n  <meta itemprop=\"thumbnailUrl\" content=\"https://ws.srf.ch/asset/image/audio/913d753d-81d7-4da8-a8dd-2717c03b8f45/EPISODE_IMAGE/1538240682.png/scale/width/304\" />\\n            <span class=\"media-play\"></span>\\n        </a><a href=\"\" class=\"icon-container element-current\">    \\n        <img src=\"https://ws.srf.ch/asset/image/audio/913d753d-81d7-4da8-a8dd-2717c03b8f45/EPISODE_IMAGE/1538240682.png/scale/width/304\" data-fallback-src=\"/extension/srf_shared/design/standard/images/default_still.jpg\" width=\"304\" alt=\"Video «Wettbewerb &quot;Die ideale Sekretärin&quot; (1969)» abspielen\" title=\"Video «Wettbewerb &quot;Die ideale Sekretärin&quot; (1969)» abspielen\" class=\"upscale\">\\n  <meta itemprop=\"thumbnailUrl\" content=\"https://ws.srf.ch/asset/image/audio/913d753d-81d7-4da8-a8dd-2717c03b8f45/EPISODE_IMAGE/1538240682.png/scale/width/304\" />    </a>\\n\\n    \\n<div class=\"content\">\\n\\n    \\n    \\n            \\n\\n    \\n    <h3>\\n                    <span class=\"title\">        \\n  Wettbewerb &quot;Die ideale Sekretärin&quot; (1969)    </span>\\n                </h3>\\n    <p>                    1:43 min, aus <strong>Archivperlen</strong> vom 29.9.2018\\n        <meta itemprop=\"description\" content=\"Archivperlen - Wettbewerb &quot;Die ideale Sekretärin&quot; (1969)\" /><meta itemprop=\"duration\" content=\"T00H01M43S\" />    </p>\\n    \\n    </div>\\n  \\n</li>\\n                                                                                              \\n                                    \\n<li class=\"span4 no-image  highlightmodul past\"\\n    data-referrer-track=\"srf_mod4=2&amp;srf_mod4width=4\">\\n\\n    \\n    \\n\\n            \\n            <a data-toggle=\"lightbox\" data-targettype=\"video\" data-target=\"#lightbox\" class=\"icon-container element-future element-past\"\\n          href=\"#\" \\n    \\n                                            \\n    data-urn=\"urn:srf:ais:video:f06ff5c4-ded5-4b5e-8fef-d492957a9b3a\" data-cssid=\\'lightbox-contents\\' data-width=\\'624\\' data-height=\\'351\\' data-isAutoplay=\\'true\\' data-mode=\\'portal\\' data-isLightbox=\\'true\\'  \\n\\n    >\\n    \\n        <img src=\"https://ws.srf.ch/asset/image/audio/b6239a38-5bde-47bf-8bca-45bc74d44212/EPISODE_IMAGE/1538057152.png/scale/width/304\" data-fallback-src=\"/extension/srf_shared/design/standard/images/default_still.jpg\" width=\"304\" alt=\"Video «Touristen reisen durch die Schweiz in zwei Tagen (1970)» abspielen\" title=\"Video «Touristen reisen durch die Schweiz in zwei Tagen (1970)» abspielen\" class=\"upscale\">\\n  <meta itemprop=\"thumbnailUrl\" content=\"https://ws.srf.ch/asset/image/audio/b6239a38-5bde-47bf-8bca-45bc74d44212/EPISODE_IMAGE/1538057152.png/scale/width/304\" />\\n            <span class=\"media-play\"></span>\\n        </a><a href=\"\" class=\"icon-container element-current\">    \\n        <img src=\"https://ws.srf.ch/asset/image/audio/b6239a38-5bde-47bf-8bca-45bc74d44212/EPISODE_IMAGE/1538057152.png/scale/width/304\" data-fallback-src=\"/extension/srf_shared/design/standard/images/default_still.jpg\" width=\"304\" alt=\"Video «Touristen reisen durch die Schweiz in zwei Tagen (1970)» abspielen\" title=\"Video «Touristen reisen durch die Schweiz in zwei Tagen (1970)» abspielen\" class=\"upscale\">\\n  <meta itemprop=\"thumbnailUrl\" content=\"https://ws.srf.ch/asset/image/audio/b6239a38-5bde-47bf-8bca-45bc74d44212/EPISODE_IMAGE/1538057152.png/scale/width/304\" />    </a>\\n\\n    \\n<div class=\"content\">\\n\\n    \\n    \\n            \\n\\n    \\n    <h3>\\n                    <span class=\"title\">        \\n  Touristen reisen durch die Schweiz in zwei Tagen (1970)    </span>\\n                </h3>\\n    <p>                    2:53 min, aus <strong>Archivperlen</strong> vom 27.9.2018\\n        <meta itemprop=\"description\" content=\"Archivperlen - Touristen reisen durch die Schweiz in zwei Tagen (1970)\" /><meta itemprop=\"duration\" content=\"T00H02M53S\" />    </p>\\n    \\n    </div>\\n  \\n</li>\\n                                                                                              \\n                                    \\n<li class=\"span4 no-image no-border highlightmodul past\"\\n    data-referrer-track=\"srf_mod4=3&amp;srf_mod4width=4\">\\n\\n    \\n    \\n\\n            \\n            <a data-toggle=\"lightbox\" data-targettype=\"video\" data-target=\"#lightbox\" class=\"icon-container element-future element-past\"\\n          href=\"#\" \\n    \\n                                            \\n    data-urn=\"urn:srf:ais:video:22d0243e-1094-41e1-979f-ede2f7ce0ee6\" data-cssid=\\'lightbox-contents\\' data-width=\\'624\\' data-height=\\'351\\' data-isAutoplay=\\'true\\' data-mode=\\'portal\\' data-isLightbox=\\'true\\'  \\n\\n    >\\n    \\n        <img src=\"https://ws.srf.ch/asset/image/audio/7827b919-4139-4fe3-93dd-5d15966f0a21/EPISODE_IMAGE/1537871843.png/scale/width/304\" data-fallback-src=\"/extension/srf_shared/design/standard/images/default_still.jpg\" width=\"304\" alt=\"Video «Feriensportlager in Fiesch (1987)» abspielen\" title=\"Video «Feriensportlager in Fiesch (1987)» abspielen\" class=\"upscale\">\\n  <meta itemprop=\"thumbnailUrl\" content=\"https://ws.srf.ch/asset/image/audio/7827b919-4139-4fe3-93dd-5d15966f0a21/EPISODE_IMAGE/1537871843.png/scale/width/304\" />\\n            <span class=\"media-play\"></span>\\n        </a><a href=\"\" class=\"icon-container element-current\">    \\n        <img src=\"https://ws.srf.ch/asset/image/audio/7827b919-4139-4fe3-93dd-5d15966f0a21/EPISODE_IMAGE/1537871843.png/scale/width/304\" data-fallback-src=\"/extension/srf_shared/design/standard/images/default_still.jpg\" width=\"304\" alt=\"Video «Feriensportlager in Fiesch (1987)» abspielen\" title=\"Video «Feriensportlager in Fiesch (1987)» abspielen\" class=\"upscale\">\\n  <meta itemprop=\"thumbnailUrl\" content=\"https://ws.srf.ch/asset/image/audio/7827b919-4139-4fe3-93dd-5d15966f0a21/EPISODE_IMAGE/1537871843.png/scale/width/304\" />    </a>\\n\\n    \\n<div class=\"content\">\\n\\n    \\n    \\n            \\n\\n    \\n    <h3>\\n                    <span class=\"title\">        \\n  Feriensportlager in Fiesch (1987)    </span>\\n                </h3>\\n    <p>                    0:43 min, aus <strong>Archivperlen</strong> vom 25.9.2018\\n        <meta itemprop=\"description\" content=\"Archivperlen - Feriensportlager in Fiesch (1987)\" /><meta itemprop=\"duration\" content=\"T00H00M43S\" />    </p>\\n    \\n    </div>\\n  \\n</li>\\n                                                                          </ul>\\n      </div>\\n    </div>\\n      \\n        </div>\\n          <div class=\"row\" data-module-coid=\"16155383\">\\n          \\n          <div class=\"container fullwidth-highlights\" data-representation=\"light\">\\n                <h2 class=\"clearfix border\">\\n        \\n                        \\nDie teuerste deutsche Serie aller Zeiten\\n    </h2>            <div class=\"module highlights row v2\"           data-referrer-track=\"srf_mod1=content&amp;srf_mod2=highlight_fullwidth_light&amp;srf_mod4count=1&amp;srf_mod3=Die teuerste deutsche Serie aller Zeiten\">\\n        <ul class=\"vertical-border\">\\n                                      \\n                                    \\n<li class=\"span12 no-image no-border highlightmodul past no-border\"\\n    data-referrer-track=\"srf_mod4=1&amp;srf_mod4width=12\">\\n\\n    \\n    \\n\\n            \\n        \\n<div class=\"icon-container video\" >\\n  \\n                            <a target=\"_blank\" href=\"#\" \\n    \\n                                            \\n    data-urn=\"urn:srf:ais:video:691802a1-3db3-4f56-acc3-0a5b0df1b4b4\" id=\\'icon-container_urn-srf-ais-video-691802a1-3db3-4f56-acc3-0a5b0df1b4b4_459322593\\' data-width=\\'944\\' data-height=\\'531\\' data-isAutoplay=\\'true\\' data-mode=\\'popup\\'   \\n\\n                  data-inline=\"video\" class=\"element-future element-past\">\\n            \\n              \\n\\n                                \\n    \\n                                                        <img src=\"/var/storage/images/auftritte/home/videos/node_16439594/180820895-3-ger-DE/bild_s12.jpg\"\\n                          class=\"upscale\"             width=\"944\"\\n             height=\"531\"\\n             style=\"\"\\n             alt=\"Video «Babylon Berlin (Folge 1/16)» abspielen\"\\n             title=\"Video «Babylon Berlin (Folge 1/16)» abspielen\" />\\n            \\n    \\n    \\n      <meta itemprop=\"thumbnailUrl\" content=/var/storage/images/auftritte/home/videos/node_16439594/180820895-3-ger-DE/bild_s3.jpg />\\n                            <span class=\"media-play media-large\"></span>\\n                        </a>\\n\\n                            <a href=\"\" class=\"element-current\">\\n                          \\n\\n                                \\n    \\n                                                        <img src=\"/var/storage/images/auftritte/home/videos/node_16439594/180820895-3-ger-DE/bild_s12.jpg\"\\n                          class=\"upscale\"             width=\"944\"\\n             height=\"531\"\\n             style=\"\"\\n             alt=\"Video «Babylon Berlin (Folge 1/16)» abspielen\"\\n             title=\"Video «Babylon Berlin (Folge 1/16)» abspielen\" />\\n            \\n    \\n    \\n      <meta itemprop=\"thumbnailUrl\" content=/var/storage/images/auftritte/home/videos/node_16439594/180820895-3-ger-DE/bild_s3.jpg />            </a>\\n\\n\\n\\n  \\n            <span class=\"media-icon media-icon-large-teaser media-none\"></span>\\n    \\n    <h3 data-description=\"true\">\\n        \\n        <span class=\"header\">\\n\\n                                                            \\n\\n                                    \\n                    <span class=\"title\">\\n        \\n                \\n  Babylon Berlin (Folge 1/16)    \\n\\n                    </span>\\n        \\n        </span>\\n\\n    </h3>\\n</div>\\n\\n<div class=\"content\">\\n  \\n      \\n\\n  \\n      <p class=\"teaser\">                    45 min, aus <a href=\"https://www.srf.ch/play/tv/sendung/babylon-berlin?id=d12a798e-c300-4816-b627-68e075823549\">Babylon Berlin</a> vom 30.9.2018\\n        <meta itemprop=\"description\" content=\"Babylon Berlin - Babylon Berlin (Folge 1/16)\" /><meta itemprop=\"duration\" content=\"T00H45M22S\" />    </p>\\n  \\n\\n\\n  </div>\\n    \\n</li>\\n                                                                          </ul>\\n      </div>\\n    </div>\\n      \\n        </div>\\n          <div class=\"row\" data-module-coid=\"5592958\">\\n            \\n<div    data-referrer-track=\"srf_mod1=content&amp;srf_mod2=player_module_fullwidth\"\\n        data-representation=\"dark\"\\n        class=\"module highlights fullwidth-highlights main color-white player-module v2 tab-navigation\">\\n\\n    <div class=\"container tabs\" aria-live=\"polite\">\\n\\n        <div>\\n            <a href=\"https://www.srf.ch/play\" class=\"player-logo\" title=\"Play SRF\"><img src=\"/extension/srf_shared/design/standard/images/logos/player_logo.svg\" alt=\"Play SRF\" /></a>\\n                            \\n                <div class=\"module headlines spaceless\">\\n                    <ul class=\"nav nav-tabs standard-tabs primary dark\">\\n                        <li class=\"active\">\\n                            <a href=\"#\" data-toggle=\"tab\">Meistgesehen</a>\\n                            <span class=\"offscreen screenreader-active\">, aktiv</span>\\n                        </li>\\n                        <li class=\"\">\\n                            <a href=\"#\" data-toggle=\"tab\">Neuste</a>\\n                        </li>\\n                        <li class=\"\">\\n                            <a href=\"#\" data-toggle=\"tab\">Was schauen andere</a>\\n                        </li>\\n                    </ul>\\n                    <a class=\"additional-link pull-right\" href=\"/play\">Mehr Videos auf Play SRF</a>\\n                </div>\\n                    </div>\\n\\n        \\n        <ul class=\"tab-content\">\\n\\n                            <li class=\"row tab tab-pane\"  data-referrer-track=\"srf_mod3=player_module_mostviewed&amp;srf_mod4count=7\">\\n                <ul class=\"vertical-border\">\\n\\n                                                                                                                      <li class=\"span6 highlightmodul  \"\\n                            data-referrer-track=\"srf_mod4=1&amp;srf_mod4width=6\">\\n\\n                            <a href=\"#\" class=\"icon-container\" data-target=\"#lightbox\" data-targettype=\"video\" data-toggle=\"lightbox\"\\n                                    \\n    \\n                                            \\n    data-urn=\"urn:srf:ais:video:6fe51a4d-aea7-4750-8826-7fd9ec8f490a\" data-cssid=\\'lightbox-contents\\' data-width=\\'624\\' data-height=\\'351\\' data-isAutoplay=\\'true\\' data-mode=\\'portal\\' data-isLightbox=\\'true\\'  \\n\\n    >\\n                                                                                                                                                                                                                            <img src=\"https://ws.srf.ch/asset/image/audio/43d4353e-de80-4707-9f19-9846fb7698d0/EPISODE_IMAGE/1538230429.png/scale/width/464\" title=\"Die höchste Dreiseilbahn der Welt ist eröffnet\"\\n                                   alt=\"Link öffnet eine Lightbox. Video Die höchste Dreiseilbahn der Welt ist eröffnet abspielen\" class=\"upscale\">\\n                              <span class=\"media-play media-large\"></span>\\n                            </a>\\n\\n                            \\n                            <div class=\"content\">\\n                                <h3>\\n                                    <a href=\"https://www.srf.ch/play/tv/-/video/-?id=6fe51a4d-aea7-4750-8826-7fd9ec8f490a\">\\n                                        <span class=\"title\">Die höchste Dreiseilbahn der Welt ist eröffnet</span>\\n                                    </a>\\n                                </h3>\\n                                <p>\\n                                    <a href=\"https://www.srf.ch/play/tv/-/video/-?id=6fe51a4d-aea7-4750-8826-7fd9ec8f490a\"></a> vom 29.9.2018\\n                                </p>\\n                            </div>\\n                        </li>\\n                                                                                                                                              <li class=\"span3 highlightmodul  \"\\n                            data-referrer-track=\"srf_mod4=2&amp;srf_mod4width=3\">\\n\\n                            <a href=\"#\" class=\"icon-container\" data-target=\"#lightbox\" data-targettype=\"video\" data-toggle=\"lightbox\"\\n                                    \\n    \\n                                            \\n    data-urn=\"urn:srf:ais:video:7d8bad26-ac54-4bf6-b6e7-e0bb4bdaaa39\" data-cssid=\\'lightbox-contents\\' data-width=\\'624\\' data-height=\\'351\\' data-isAutoplay=\\'true\\' data-mode=\\'portal\\' data-isLightbox=\\'true\\'  \\n\\n    >\\n                                                                                                                                                                                                                            <img src=\"https://ws.srf.ch/asset/image/audio/5c14bb4e-84c7-4f55-8883-23da95c9979a/EPISODE_IMAGE/1538325909.png/scale/width/224\" title=\"Lugano trotzt dem FC Basel einen Punkt ab\"\\n                                   alt=\"Link öffnet eine Lightbox. Video Lugano trotzt dem FC Basel einen Punkt ab abspielen\" class=\"upscale\">\\n                              <span class=\"media-play \"></span>\\n                            </a>\\n\\n                            \\n                            <div class=\"content\">\\n                                <h3>\\n                                    <a href=\"https://www.srf.ch/play/tv/-/video/-?id=7d8bad26-ac54-4bf6-b6e7-e0bb4bdaaa39\">\\n                                        <span class=\"title\">Lugano trotzt dem FC Basel einen Punkt ab</span>\\n                                    </a>\\n                                </h3>\\n                                <p>\\n                                    <a href=\"https://www.srf.ch/play/tv/-/video/-?id=7d8bad26-ac54-4bf6-b6e7-e0bb4bdaaa39\"></a> vom 30.9.2018\\n                                </p>\\n                            </div>\\n                        </li>\\n                                                                                                                                              <li class=\"span3 highlightmodul  no-border\"\\n                            data-referrer-track=\"srf_mod4=3&amp;srf_mod4width=3\">\\n\\n                            <a href=\"#\" class=\"icon-container\" data-target=\"#lightbox\" data-targettype=\"video\" data-toggle=\"lightbox\"\\n                                    \\n    \\n                                            \\n    data-urn=\"urn:srf:ais:video:001013c7-9f27-409d-9fad-6a23673cae82\" data-cssid=\\'lightbox-contents\\' data-width=\\'624\\' data-height=\\'351\\' data-isAutoplay=\\'true\\' data-mode=\\'portal\\' data-isLightbox=\\'true\\'  \\n\\n    >\\n                                                                                                                                                                                                                            <img src=\"https://ws.srf.ch/asset/image/audio/a4f4e409-c781-40e5-9b73-ebea1b6f3d16/EPISODE_IMAGE/1538312718.png/scale/width/224\" title=\"Donald Trump macht eine Liebeserklärung\"\\n                                   alt=\"Link öffnet eine Lightbox. Video Donald Trump macht eine Liebeserklärung abspielen\" class=\"upscale\">\\n                              <span class=\"media-play \"></span>\\n                            </a>\\n\\n                            \\n                            <div class=\"content\">\\n                                <h3>\\n                                    <a href=\"https://www.srf.ch/play/tv/-/video/-?id=001013c7-9f27-409d-9fad-6a23673cae82\">\\n                                        <span class=\"title\">Donald Trump macht eine Liebeserklärung</span>\\n                                    </a>\\n                                </h3>\\n                                <p>\\n                                    <a href=\"https://www.srf.ch/play/tv/-/video/-?id=001013c7-9f27-409d-9fad-6a23673cae82\"></a> vom 30.9.2018\\n                                </p>\\n                            </div>\\n                        </li>\\n                                                                                                                                              <li class=\"span3 highlightmodul clear-left \"\\n                            data-referrer-track=\"srf_mod4=4&amp;srf_mod4width=3\">\\n\\n                            <a href=\"#\" class=\"icon-container\" data-target=\"#lightbox\" data-targettype=\"video\" data-toggle=\"lightbox\"\\n                                    \\n    \\n                                            \\n    data-urn=\"urn:srf:ais:video:990a2071-6a31-4224-ad01-dd5873996766\" data-cssid=\\'lightbox-contents\\' data-width=\\'624\\' data-height=\\'351\\' data-isAutoplay=\\'true\\' data-mode=\\'portal\\' data-isLightbox=\\'true\\'  \\n\\n    >\\n                                                                                                                                                                                                                            <img src=\"https://ws.srf.ch/asset/image/audio/3460631a-4a73-4fc3-8ebd-e1f70f2bb5ff/EPISODE_IMAGE/1538330754.png/scale/width/224\" title=\"Tagesschau vom 30.09.2018, 19:30\"\\n                                   alt=\"Link öffnet eine Lightbox. Video Tagesschau vom 30.09.2018, 19:30 abspielen\" class=\"upscale\">\\n                              <span class=\"media-play \"></span>\\n                            </a>\\n\\n                            \\n                            <div class=\"content\">\\n                                <h3>\\n                                    <a href=\"https://www.srf.ch/play/tv/-/video/-?id=990a2071-6a31-4224-ad01-dd5873996766\">\\n                                        <span class=\"title\">Tagesschau vom 30.09.2018, 19:30</span>\\n                                    </a>\\n                                </h3>\\n                                <p>\\n                                    <a href=\"https://www.srf.ch/play/tv/-/video/-?id=990a2071-6a31-4224-ad01-dd5873996766\">Tagesschau</a> vom 30.9.2018\\n                                </p>\\n                            </div>\\n                        </li>\\n                                                                                                                                              <li class=\"span3 highlightmodul  \"\\n                            data-referrer-track=\"srf_mod4=5&amp;srf_mod4width=3\">\\n\\n                            <a href=\"#\" class=\"icon-container\" data-target=\"#lightbox\" data-targettype=\"video\" data-toggle=\"lightbox\"\\n                                    \\n    \\n                                            \\n    data-urn=\"urn:srf:ais:video:130c18f5-e2f1-45b4-a09d-96af077cc723\" data-cssid=\\'lightbox-contents\\' data-width=\\'624\\' data-height=\\'351\\' data-isAutoplay=\\'true\\' data-mode=\\'portal\\' data-isLightbox=\\'true\\'  \\n\\n    >\\n                                                                                                                                                                                                                            <img src=\"https://ws.srf.ch/asset/image/audio/97bc5eb6-503e-4c8a-b3cd-284e05886768/EPISODE_IMAGE/1538300028.png/scale/width/224\" title=\"Die Zahl der Opfer steigt\"\\n                                   alt=\"Link öffnet eine Lightbox. Video Die Zahl der Opfer steigt abspielen\" class=\"upscale\">\\n                              <span class=\"media-play \"></span>\\n                            </a>\\n\\n                            \\n                            <div class=\"content\">\\n                                <h3>\\n                                    <a href=\"https://www.srf.ch/play/tv/-/video/-?id=130c18f5-e2f1-45b4-a09d-96af077cc723\">\\n                                        <span class=\"title\">Die Zahl der Opfer steigt</span>\\n                                    </a>\\n                                </h3>\\n                                <p>\\n                                    <a href=\"https://www.srf.ch/play/tv/-/video/-?id=130c18f5-e2f1-45b4-a09d-96af077cc723\"></a> vom 30.9.2018\\n                                </p>\\n                            </div>\\n                        </li>\\n                                                                                                                                              <li class=\"span3 highlightmodul  \"\\n                            data-referrer-track=\"srf_mod4=6&amp;srf_mod4width=3\">\\n\\n                            <a href=\"#\" class=\"icon-container\" data-target=\"#lightbox\" data-targettype=\"video\" data-toggle=\"lightbox\"\\n                                    \\n    \\n                                            \\n    data-urn=\"urn:srf:ais:video:f624150b-9958-4f26-9b5b-b5e8758be526\" data-cssid=\\'lightbox-contents\\' data-width=\\'624\\' data-height=\\'351\\' data-isAutoplay=\\'true\\' data-mode=\\'portal\\' data-isLightbox=\\'true\\'  \\n\\n    >\\n                                                                                                                                                                                                                            <img src=\"https://ws.srf.ch/asset/image/audio/ccd3bbb2-31c8-46b0-ab14-5a7b3e8d50cc/EPISODE_IMAGE/1538320071.png/scale/width/224\" title=\"Eindrückliche Bilder in der «Höll» kurz vor dem Ziel\"\\n                                   alt=\"Link öffnet eine Lightbox. Video Eindrückliche Bilder in der «Höll» kurz vor dem Ziel abspielen\" class=\"upscale\">\\n                              <span class=\"media-play \"></span>\\n                            </a>\\n\\n                            \\n                            <div class=\"content\">\\n                                <h3>\\n                                    <a href=\"https://www.srf.ch/play/tv/-/video/-?id=f624150b-9958-4f26-9b5b-b5e8758be526\">\\n                                        <span class=\"title\">Eindrückliche Bilder in der «Höll» kurz vor dem Ziel</span>\\n                                    </a>\\n                                </h3>\\n                                <p>\\n                                    <a href=\"https://www.srf.ch/play/tv/-/video/-?id=f624150b-9958-4f26-9b5b-b5e8758be526\"></a> vom 30.9.2018\\n                                </p>\\n                            </div>\\n                        </li>\\n                                                                                                                                              <li class=\"span3 highlightmodul  \"\\n                            data-referrer-track=\"srf_mod4=7&amp;srf_mod4width=3\">\\n\\n                            <a href=\"#\" class=\"icon-container\" data-target=\"#lightbox\" data-targettype=\"video\" data-toggle=\"lightbox\"\\n                                    \\n    \\n                                            \\n    data-urn=\"urn:srf:ais:video:8e9cd1b8-77e7-40b6-8201-db5806d35f61\" data-cssid=\\'lightbox-contents\\' data-width=\\'624\\' data-height=\\'351\\' data-isAutoplay=\\'true\\' data-mode=\\'portal\\' data-isLightbox=\\'true\\'  \\n\\n    >\\n                                                                                                                                                                                                                            <img src=\"https://ws.srf.ch/asset/image/audio/b9845b80-cd9b-4921-9e8b-bc18592f209a/EPISODE_IMAGE/1538325880.png/scale/width/224\" title=\"Sion ist dank einem Sieg in Luzern nicht mehr das Schlusslicht\"\\n                                   alt=\"Link öffnet eine Lightbox. Video Sion ist dank einem Sieg in Luzern nicht mehr das Schlusslicht abspielen\" class=\"upscale\">\\n                              <span class=\"media-play \"></span>\\n                            </a>\\n\\n                            \\n                            <div class=\"content\">\\n                                <h3>\\n                                    <a href=\"https://www.srf.ch/play/tv/-/video/-?id=8e9cd1b8-77e7-40b6-8201-db5806d35f61\">\\n                                        <span class=\"title\">Sion ist dank einem Sieg in Luzern nicht mehr das Schlusslicht</span>\\n                                    </a>\\n                                </h3>\\n                                <p>\\n                                    <a href=\"https://www.srf.ch/play/tv/-/video/-?id=8e9cd1b8-77e7-40b6-8201-db5806d35f61\"></a> vom 30.9.2018\\n                                </p>\\n                            </div>\\n                        </li>\\n                                                                                </ul>\\n            </li>\\n                            <li class=\"row tab tab-pane\" style=\"display: none\" data-referrer-track=\"srf_mod3=player_module_latest&amp;srf_mod4count=7\">\\n                <ul class=\"vertical-border\">\\n\\n                                                                                                                      <li class=\"span6 highlightmodul  \"\\n                            data-referrer-track=\"srf_mod4=1&amp;srf_mod4width=6\">\\n\\n                            <a href=\"#\" class=\"icon-container\" data-target=\"#lightbox\" data-targettype=\"video\" data-toggle=\"lightbox\"\\n                                    \\n    \\n                                            \\n    data-urn=\"urn:srf:ais:video:b7e5864b-717b-4331-af33-17b5b3cdd66e\" data-cssid=\\'lightbox-contents\\' data-width=\\'624\\' data-height=\\'351\\' data-isAutoplay=\\'true\\' data-mode=\\'portal\\' data-isLightbox=\\'true\\'  \\n\\n    >\\n                                                                                                                                                                                                                            <img src=\"https://ws.srf.ch/asset/image/audio/66d4ff75-dc1b-462d-9c6c-9aa5e494c37f/WEBVISUAL/1448295141.jpg/scale/width/464\" title=\"Meteo am Mittag vom 01.10.2018\"\\n                                   alt=\"Link öffnet eine Lightbox. Video Meteo am Mittag vom 01.10.2018 abspielen\" class=\"upscale\">\\n                              <span class=\"media-play media-large\"></span>\\n                            </a>\\n\\n                            \\n                            <div class=\"content\">\\n                                <h3>\\n                                    <a href=\"https://www.srf.ch/play/tv/-/video/-?id=b7e5864b-717b-4331-af33-17b5b3cdd66e\">\\n                                        <span class=\"title\">Meteo am Mittag vom 01.10.2018</span>\\n                                    </a>\\n                                </h3>\\n                                <p>\\n                                    <a href=\"https://www.srf.ch/play/tv/-/video/-?id=b7e5864b-717b-4331-af33-17b5b3cdd66e\">SRF Meteo</a> vom 1.10.2018\\n                                </p>\\n                            </div>\\n                        </li>\\n                                                                                                                                              <li class=\"span3 highlightmodul  \"\\n                            data-referrer-track=\"srf_mod4=2&amp;srf_mod4width=3\">\\n\\n                            <a href=\"#\" class=\"icon-container\" data-target=\"#lightbox\" data-targettype=\"video\" data-toggle=\"lightbox\"\\n                                    \\n    \\n                                            \\n    data-urn=\"urn:srf:ais:video:54a91a58-0a36-43ad-b5dc-15eb4afd6990\" data-cssid=\\'lightbox-contents\\' data-width=\\'624\\' data-height=\\'351\\' data-isAutoplay=\\'true\\' data-mode=\\'portal\\' data-isLightbox=\\'true\\'  \\n\\n    >\\n                                                                                                                                                                                                                            <img src=\"https://ws.srf.ch/asset/image/audio/c1a2277a-e549-418b-8340-ded4159680e7/EPISODE_IMAGE/1538392124.png/scale/width/224\" title=\"Tagesschau Mittag vom 01.10.2018\"\\n                                   alt=\"Link öffnet eine Lightbox. Video Tagesschau Mittag vom 01.10.2018 abspielen\" class=\"upscale\">\\n                              <span class=\"media-play \"></span>\\n                            </a>\\n\\n                            \\n                            <div class=\"content\">\\n                                <h3>\\n                                    <a href=\"https://www.srf.ch/play/tv/-/video/-?id=54a91a58-0a36-43ad-b5dc-15eb4afd6990\">\\n                                        <span class=\"title\">Tagesschau Mittag vom 01.10.2018</span>\\n                                    </a>\\n                                </h3>\\n                                <p>\\n                                    <a href=\"https://www.srf.ch/play/tv/-/video/-?id=54a91a58-0a36-43ad-b5dc-15eb4afd6990\">Tagesschau am Mittag</a> vom 1.10.2018\\n                                </p>\\n                            </div>\\n                        </li>\\n                                                                                                                                              <li class=\"span3 highlightmodul  no-border\"\\n                            data-referrer-track=\"srf_mod4=3&amp;srf_mod4width=3\">\\n\\n                            <a href=\"#\" class=\"icon-container\" data-target=\"#lightbox\" data-targettype=\"video\" data-toggle=\"lightbox\"\\n                                    \\n    \\n                                            \\n    data-urn=\"urn:srf:ais:video:9c9d32ea-a2e8-40b6-a9f2-6715d5dc624b\" data-cssid=\\'lightbox-contents\\' data-width=\\'624\\' data-height=\\'351\\' data-isAutoplay=\\'true\\' data-mode=\\'portal\\' data-isLightbox=\\'true\\'  \\n\\n    >\\n                                                                                                                                                                                                                            <img src=\"https://ws.srf.ch/asset/image/audio/6019d537-ca9d-4db8-843d-8f1db09d71eb/WEBVISUAL/1527087645.jpg/scale/width/224\" title=\"Lena - Liebe meines Lebens vom 01.10.2018\"\\n                                   alt=\"Link öffnet eine Lightbox. Video Lena - Liebe meines Lebens vom 01.10.2018 abspielen\" class=\"upscale\">\\n                              <span class=\"media-play \"></span>\\n                            </a>\\n\\n                            \\n                            <div class=\"content\">\\n                                <h3>\\n                                    <a href=\"https://www.srf.ch/play/tv/-/video/-?id=9c9d32ea-a2e8-40b6-a9f2-6715d5dc624b\">\\n                                        <span class=\"title\">Lena - Liebe meines Lebens vom 01.10.2018</span>\\n                                    </a>\\n                                </h3>\\n                                <p>\\n                                    <a href=\"https://www.srf.ch/play/tv/-/video/-?id=9c9d32ea-a2e8-40b6-a9f2-6715d5dc624b\">Lena – Liebe meines Lebens</a> vom 1.10.2018\\n                                </p>\\n                            </div>\\n                        </li>\\n                                                                                                                                              <li class=\"span3 highlightmodul clear-left \"\\n                            data-referrer-track=\"srf_mod4=4&amp;srf_mod4width=3\">\\n\\n                            <a href=\"#\" class=\"icon-container\" data-target=\"#lightbox\" data-targettype=\"video\" data-toggle=\"lightbox\"\\n                                    \\n    \\n                                            \\n    data-urn=\"urn:srf:ais:video:2ddd8555-f498-4ae0-946b-ad67ea2d2a9d\" data-cssid=\\'lightbox-contents\\' data-width=\\'624\\' data-height=\\'351\\' data-isAutoplay=\\'true\\' data-mode=\\'portal\\' data-isLightbox=\\'true\\'  \\n\\n    >\\n                                                                                                                                                                                                                            <img src=\"https://ws.srf.ch/asset/image/audio/b05cdcaf-064c-41a4-91bb-9565277dab98/EPISODE_IMAGE/1538390870.png/scale/width/224\" title=\"Drohnen am Frankfurter Nachthimmel\"\\n                                   alt=\"Link öffnet eine Lightbox. Video Drohnen am Frankfurter Nachthimmel abspielen\" class=\"upscale\">\\n                              <span class=\"media-play \"></span>\\n                            </a>\\n\\n                            \\n                            <div class=\"content\">\\n                                <h3>\\n                                    <a href=\"https://www.srf.ch/play/tv/-/video/-?id=2ddd8555-f498-4ae0-946b-ad67ea2d2a9d\">\\n                                        <span class=\"title\">Drohnen am Frankfurter Nachthimmel</span>\\n                                    </a>\\n                                </h3>\\n                                <p>\\n                                    <a href=\"https://www.srf.ch/play/tv/-/video/-?id=2ddd8555-f498-4ae0-946b-ad67ea2d2a9d\"></a> vom 1.10.2018\\n                                </p>\\n                            </div>\\n                        </li>\\n                                                                                                                                              <li class=\"span3 highlightmodul  \"\\n                            data-referrer-track=\"srf_mod4=5&amp;srf_mod4width=3\">\\n\\n                            <a href=\"#\" class=\"icon-container\" data-target=\"#lightbox\" data-targettype=\"video\" data-toggle=\"lightbox\"\\n                                    \\n    \\n                                            \\n    data-urn=\"urn:srf:ais:video:ce290da6-b019-4211-ae0f-35b8254a137c\" data-cssid=\\'lightbox-contents\\' data-width=\\'624\\' data-height=\\'351\\' data-isAutoplay=\\'true\\' data-mode=\\'portal\\' data-isLightbox=\\'true\\'  \\n\\n    >\\n                                                                                                                                                                                                                            <img src=\"https://ws.srf.ch/asset/image/audio/8ffe8682-4b1c-4cc9-aca7-0c96365c7c62/EPISODE_IMAGE/1538389020.jpg/scale/width/224\" title=\"Wieso muss der Mensch Wasser trinken?\"\\n                                   alt=\"Link öffnet eine Lightbox. Video Wieso muss der Mensch Wasser trinken? abspielen\" class=\"upscale\">\\n                              <span class=\"media-play \"></span>\\n                            </a>\\n\\n                            \\n                            <div class=\"content\">\\n                                <h3>\\n                                    <a href=\"https://www.srf.ch/play/tv/-/video/-?id=ce290da6-b019-4211-ae0f-35b8254a137c\">\\n                                        <span class=\"title\">Wieso muss der Mensch Wasser trinken?</span>\\n                                    </a>\\n                                </h3>\\n                                <p>\\n                                    <a href=\"https://www.srf.ch/play/tv/-/video/-?id=ce290da6-b019-4211-ae0f-35b8254a137c\">Clip und klar!</a> vom 1.10.2018\\n                                </p>\\n                            </div>\\n                        </li>\\n                                                                                                                                              <li class=\"span3 highlightmodul  \"\\n                            data-referrer-track=\"srf_mod4=6&amp;srf_mod4width=3\">\\n\\n                            <a href=\"#\" class=\"icon-container\" data-target=\"#lightbox\" data-targettype=\"video\" data-toggle=\"lightbox\"\\n                                    \\n    \\n                                            \\n    data-urn=\"urn:srf:ais:video:c98e6a23-6f7e-4067-b3f5-26296f984078\" data-cssid=\\'lightbox-contents\\' data-width=\\'624\\' data-height=\\'351\\' data-isAutoplay=\\'true\\' data-mode=\\'portal\\' data-isLightbox=\\'true\\'  \\n\\n    >\\n                                                                                                                                                                                                                            <img src=\"https://ws.srf.ch/asset/image/audio/95bd19f8-1662-431b-b23f-da1f88186401/EPISODE_IMAGE/1538388420.png/scale/width/224\" title=\"Sanogo: «Wir sind nicht nervös»\"\\n                                   alt=\"Link öffnet eine Lightbox. Video Sanogo: «Wir sind nicht nervös» abspielen\" class=\"upscale\">\\n                              <span class=\"media-play \"></span>\\n                            </a>\\n\\n                            \\n                            <div class=\"content\">\\n                                <h3>\\n                                    <a href=\"https://www.srf.ch/play/tv/-/video/-?id=c98e6a23-6f7e-4067-b3f5-26296f984078\">\\n                                        <span class=\"title\">Sanogo: «Wir sind nicht nervös»</span>\\n                                    </a>\\n                                </h3>\\n                                <p>\\n                                    <a href=\"https://www.srf.ch/play/tv/-/video/-?id=c98e6a23-6f7e-4067-b3f5-26296f984078\"></a> vom 1.10.2018\\n                                </p>\\n                            </div>\\n                        </li>\\n                                                                                                                                              <li class=\"span3 highlightmodul  \"\\n                            data-referrer-track=\"srf_mod4=7&amp;srf_mod4width=3\">\\n\\n                            <a href=\"#\" class=\"icon-container\" data-target=\"#lightbox\" data-targettype=\"video\" data-toggle=\"lightbox\"\\n                                    \\n    \\n                                            \\n    data-urn=\"urn:srf:ais:video:f7479c48-cdff-42eb-85fa-f1896ea74625\" data-cssid=\\'lightbox-contents\\' data-width=\\'624\\' data-height=\\'351\\' data-isAutoplay=\\'true\\' data-mode=\\'portal\\' data-isLightbox=\\'true\\'  \\n\\n    >\\n                                                                                                                                                                                                                            <img src=\"https://ws.srf.ch/asset/image/audio/0e088e47-ea34-41da-ae6c-c1ca1fcfe56c/EPISODE_IMAGE/1538388318.png/scale/width/224\" title=\"Fassnacht: «Wir müssen realistisch bleiben.»\"\\n                                   alt=\"Link öffnet eine Lightbox. Video Fassnacht: «Wir müssen realistisch bleiben.» abspielen\" class=\"upscale\">\\n                              <span class=\"media-play \"></span>\\n                            </a>\\n\\n                            \\n                            <div class=\"content\">\\n                                <h3>\\n                                    <a href=\"https://www.srf.ch/play/tv/-/video/-?id=f7479c48-cdff-42eb-85fa-f1896ea74625\">\\n                                        <span class=\"title\">Fassnacht: «Wir müssen realistisch bleiben.»</span>\\n                                    </a>\\n                                </h3>\\n                                <p>\\n                                    <a href=\"https://www.srf.ch/play/tv/-/video/-?id=f7479c48-cdff-42eb-85fa-f1896ea74625\"></a> vom 1.10.2018\\n                                </p>\\n                            </div>\\n                        </li>\\n                                                                                </ul>\\n            </li>\\n                            <li class=\"row tab tab-pane\" style=\"display: none\" data-referrer-track=\"srf_mod3=player_module_whatotherswatch&amp;srf_mod4count=7\">\\n                <ul class=\"vertical-border\">\\n\\n                                                                                                                      <li class=\"span6 highlightmodul  \"\\n                            data-referrer-track=\"srf_mod4=1&amp;srf_mod4width=6\">\\n\\n                            <a href=\"#\" class=\"icon-container\" data-target=\"#lightbox\" data-targettype=\"video\" data-toggle=\"lightbox\"\\n                                    \\n    \\n                                            \\n    data-urn=\"urn:srf:ais:video:6fe51a4d-aea7-4750-8826-7fd9ec8f490a\" data-cssid=\\'lightbox-contents\\' data-width=\\'624\\' data-height=\\'351\\' data-isAutoplay=\\'true\\' data-mode=\\'portal\\' data-isLightbox=\\'true\\'  \\n\\n    >\\n                                                                                                                                                                                                                            <img src=\"https://ws.srf.ch/asset/image/audio/43d4353e-de80-4707-9f19-9846fb7698d0/EPISODE_IMAGE/1538230429.png/scale/width/464\" title=\"Die höchste Dreiseilbahn der Welt ist eröffnet\"\\n                                   alt=\"Link öffnet eine Lightbox. Video Die höchste Dreiseilbahn der Welt ist eröffnet abspielen\" class=\"upscale\">\\n                              <span class=\"media-play media-large\"></span>\\n                            </a>\\n\\n                            \\n                            <div class=\"content\">\\n                                <h3>\\n                                    <a href=\"https://www.srf.ch/play/tv/-/video/-?id=6fe51a4d-aea7-4750-8826-7fd9ec8f490a\">\\n                                        <span class=\"title\">Die höchste Dreiseilbahn der Welt ist eröffnet</span>\\n                                    </a>\\n                                </h3>\\n                                <p>\\n                                    <a href=\"https://www.srf.ch/play/tv/-/video/-?id=6fe51a4d-aea7-4750-8826-7fd9ec8f490a\"></a> vom 29.9.2018\\n                                </p>\\n                            </div>\\n                        </li>\\n                                                                                                                                              <li class=\"span3 highlightmodul  \"\\n                            data-referrer-track=\"srf_mod4=2&amp;srf_mod4width=3\">\\n\\n                            <a href=\"#\" class=\"icon-container\" data-target=\"#lightbox\" data-targettype=\"video\" data-toggle=\"lightbox\"\\n                                    \\n    \\n                                            \\n    data-urn=\"urn:srf:ais:video:130c18f5-e2f1-45b4-a09d-96af077cc723\" data-cssid=\\'lightbox-contents\\' data-width=\\'624\\' data-height=\\'351\\' data-isAutoplay=\\'true\\' data-mode=\\'portal\\' data-isLightbox=\\'true\\'  \\n\\n    >\\n                                                                                                                                                                                                                            <img src=\"https://ws.srf.ch/asset/image/audio/97bc5eb6-503e-4c8a-b3cd-284e05886768/EPISODE_IMAGE/1538300028.png/scale/width/224\" title=\"Die Zahl der Opfer steigt\"\\n                                   alt=\"Link öffnet eine Lightbox. Video Die Zahl der Opfer steigt abspielen\" class=\"upscale\">\\n                              <span class=\"media-play \"></span>\\n                            </a>\\n\\n                            \\n                            <div class=\"content\">\\n                                <h3>\\n                                    <a href=\"https://www.srf.ch/play/tv/-/video/-?id=130c18f5-e2f1-45b4-a09d-96af077cc723\">\\n                                        <span class=\"title\">Die Zahl der Opfer steigt</span>\\n                                    </a>\\n                                </h3>\\n                                <p>\\n                                    <a href=\"https://www.srf.ch/play/tv/-/video/-?id=130c18f5-e2f1-45b4-a09d-96af077cc723\"></a> vom 30.9.2018\\n                                </p>\\n                            </div>\\n                        </li>\\n                                                                                                                                              <li class=\"span3 highlightmodul  no-border\"\\n                            data-referrer-track=\"srf_mod4=3&amp;srf_mod4width=3\">\\n\\n                            <a href=\"#\" class=\"icon-container\" data-target=\"#lightbox\" data-targettype=\"video\" data-toggle=\"lightbox\"\\n                                    \\n    \\n                                            \\n    data-urn=\"urn:srf:ais:video:691802a1-3db3-4f56-acc3-0a5b0df1b4b4\" data-cssid=\\'lightbox-contents\\' data-width=\\'624\\' data-height=\\'351\\' data-isAutoplay=\\'true\\' data-mode=\\'portal\\' data-isLightbox=\\'true\\'  \\n\\n    >\\n                                                                                                                                                                                                                            <img src=\"https://ws.srf.ch/asset/image/audio/f92829e3-b6c3-40d4-89b3-ac491524aae4/EPISODE_IMAGE/1538336454.png/scale/width/224\" title=\"Babylon Berlin (Folge 1/16)\"\\n                                   alt=\"Link öffnet eine Lightbox. Video Babylon Berlin (Folge 1/16) abspielen\" class=\"upscale\">\\n                              <span class=\"media-play \"></span>\\n                            </a>\\n\\n                            \\n                            <div class=\"content\">\\n                                <h3>\\n                                    <a href=\"https://www.srf.ch/play/tv/-/video/-?id=691802a1-3db3-4f56-acc3-0a5b0df1b4b4\">\\n                                        <span class=\"title\">Babylon Berlin (Folge 1/16)</span>\\n                                    </a>\\n                                </h3>\\n                                <p>\\n                                    <a href=\"https://www.srf.ch/play/tv/-/video/-?id=691802a1-3db3-4f56-acc3-0a5b0df1b4b4\">Babylon Berlin</a> vom 30.9.2018\\n                                </p>\\n                            </div>\\n                        </li>\\n                                                                                                                                              <li class=\"span3 highlightmodul clear-left \"\\n                            data-referrer-track=\"srf_mod4=4&amp;srf_mod4width=3\">\\n\\n                            <a href=\"#\" class=\"icon-container\" data-target=\"#lightbox\" data-targettype=\"video\" data-toggle=\"lightbox\"\\n                                    \\n    \\n                                            \\n    data-urn=\"urn:srf:ais:video:54a91a58-0a36-43ad-b5dc-15eb4afd6990\" data-cssid=\\'lightbox-contents\\' data-width=\\'624\\' data-height=\\'351\\' data-isAutoplay=\\'true\\' data-mode=\\'portal\\' data-isLightbox=\\'true\\'  \\n\\n    >\\n                                                                                                                                                                                                                            <img src=\"https://ws.srf.ch/asset/image/audio/c1a2277a-e549-418b-8340-ded4159680e7/EPISODE_IMAGE/1538392124.png/scale/width/224\" title=\"Tagesschau Mittag vom 01.10.2018\"\\n                                   alt=\"Link öffnet eine Lightbox. Video Tagesschau Mittag vom 01.10.2018 abspielen\" class=\"upscale\">\\n                              <span class=\"media-play \"></span>\\n                            </a>\\n\\n                            \\n                            <div class=\"content\">\\n                                <h3>\\n                                    <a href=\"https://www.srf.ch/play/tv/-/video/-?id=54a91a58-0a36-43ad-b5dc-15eb4afd6990\">\\n                                        <span class=\"title\">Tagesschau Mittag vom 01.10.2018</span>\\n                                    </a>\\n                                </h3>\\n                                <p>\\n                                    <a href=\"https://www.srf.ch/play/tv/-/video/-?id=54a91a58-0a36-43ad-b5dc-15eb4afd6990\">Tagesschau am Mittag</a> vom 1.10.2018\\n                                </p>\\n                            </div>\\n                        </li>\\n                                                                                                                                              <li class=\"span3 highlightmodul  \"\\n                            data-referrer-track=\"srf_mod4=5&amp;srf_mod4width=3\">\\n\\n                            <a href=\"#\" class=\"icon-container\" data-target=\"#lightbox\" data-targettype=\"video\" data-toggle=\"lightbox\"\\n                                    \\n    \\n                                            \\n    data-urn=\"urn:srf:ais:video:c98e6a23-6f7e-4067-b3f5-26296f984078\" data-cssid=\\'lightbox-contents\\' data-width=\\'624\\' data-height=\\'351\\' data-isAutoplay=\\'true\\' data-mode=\\'portal\\' data-isLightbox=\\'true\\'  \\n\\n    >\\n                                                                                                                                                                                                                            <img src=\"https://ws.srf.ch/asset/image/audio/95bd19f8-1662-431b-b23f-da1f88186401/EPISODE_IMAGE/1538388420.png/scale/width/224\" title=\"Sanogo: «Wir sind nicht nervös»\"\\n                                   alt=\"Link öffnet eine Lightbox. Video Sanogo: «Wir sind nicht nervös» abspielen\" class=\"upscale\">\\n                              <span class=\"media-play \"></span>\\n                            </a>\\n\\n                            \\n                            <div class=\"content\">\\n                                <h3>\\n                                    <a href=\"https://www.srf.ch/play/tv/-/video/-?id=c98e6a23-6f7e-4067-b3f5-26296f984078\">\\n                                        <span class=\"title\">Sanogo: «Wir sind nicht nervös»</span>\\n                                    </a>\\n                                </h3>\\n                                <p>\\n                                    <a href=\"https://www.srf.ch/play/tv/-/video/-?id=c98e6a23-6f7e-4067-b3f5-26296f984078\"></a> vom 1.10.2018\\n                                </p>\\n                            </div>\\n                        </li>\\n                                                                                                                                              <li class=\"span3 highlightmodul  \"\\n                            data-referrer-track=\"srf_mod4=6&amp;srf_mod4width=3\">\\n\\n                            <a href=\"#\" class=\"icon-container\" data-target=\"#lightbox\" data-targettype=\"video\" data-toggle=\"lightbox\"\\n                                    \\n    \\n                                            \\n    data-urn=\"urn:srf:ais:video:b1a0502a-4841-4ec5-af74-119b864ed53d\" data-cssid=\\'lightbox-contents\\' data-width=\\'624\\' data-height=\\'351\\' data-isAutoplay=\\'true\\' data-mode=\\'portal\\' data-isLightbox=\\'true\\'  \\n\\n    >\\n                                                                                                                                                                                                                            <img src=\"https://ws.srf.ch/asset/image/audio/1c015e22-8542-4e91-8cdb-28b4caa4be3b/EPISODE_IMAGE/1538377778.png/scale/width/224\" title=\"Steffi Graf macht den Golden Slam perfekt\"\\n                                   alt=\"Link öffnet eine Lightbox. Video Steffi Graf macht den Golden Slam perfekt abspielen\" class=\"upscale\">\\n                              <span class=\"media-play \"></span>\\n                            </a>\\n\\n                            \\n                            <div class=\"content\">\\n                                <h3>\\n                                    <a href=\"https://www.srf.ch/play/tv/-/video/-?id=b1a0502a-4841-4ec5-af74-119b864ed53d\">\\n                                        <span class=\"title\">Steffi Graf macht den Golden Slam perfekt</span>\\n                                    </a>\\n                                </h3>\\n                                <p>\\n                                    <a href=\"https://www.srf.ch/play/tv/-/video/-?id=b1a0502a-4841-4ec5-af74-119b864ed53d\"></a> vom 1.10.2018\\n                                </p>\\n                            </div>\\n                        </li>\\n                                                                                                                                              <li class=\"span3 highlightmodul  \"\\n                            data-referrer-track=\"srf_mod4=7&amp;srf_mod4width=3\">\\n\\n                            <a href=\"#\" class=\"icon-container\" data-target=\"#lightbox\" data-targettype=\"video\" data-toggle=\"lightbox\"\\n                                    \\n    \\n                                            \\n    data-urn=\"urn:srf:ais:video:f7479c48-cdff-42eb-85fa-f1896ea74625\" data-cssid=\\'lightbox-contents\\' data-width=\\'624\\' data-height=\\'351\\' data-isAutoplay=\\'true\\' data-mode=\\'portal\\' data-isLightbox=\\'true\\'  \\n\\n    >\\n                                                                                                                                                                                                                            <img src=\"https://ws.srf.ch/asset/image/audio/0e088e47-ea34-41da-ae6c-c1ca1fcfe56c/EPISODE_IMAGE/1538388318.png/scale/width/224\" title=\"Fassnacht: «Wir müssen realistisch bleiben.»\"\\n                                   alt=\"Link öffnet eine Lightbox. Video Fassnacht: «Wir müssen realistisch bleiben.» abspielen\" class=\"upscale\">\\n                              <span class=\"media-play \"></span>\\n                            </a>\\n\\n                            \\n                            <div class=\"content\">\\n                                <h3>\\n                                    <a href=\"https://www.srf.ch/play/tv/-/video/-?id=f7479c48-cdff-42eb-85fa-f1896ea74625\">\\n                                        <span class=\"title\">Fassnacht: «Wir müssen realistisch bleiben.»</span>\\n                                    </a>\\n                                </h3>\\n                                <p>\\n                                    <a href=\"https://www.srf.ch/play/tv/-/video/-?id=f7479c48-cdff-42eb-85fa-f1896ea74625\"></a> vom 1.10.2018\\n                                </p>\\n                            </div>\\n                        </li>\\n                                                                                </ul>\\n            </li>\\n                </ul>\\n\\n    </div>\\n</div>\\n      </div>\\n          <div class=\"row\" data-module-coid=\"5094532\">\\n        <div class=\"module highlights fullwidth-highlights main color-white v2\"\\n     data-representation=\"dark\"\\n     data-referrer-track=\"srf_mod1=content&amp;srf_mod2=now_and_next&amp;srf_mod3=NowAndNext\">\\n  <div class=\"container\">\\n    <div class=\"row\">\\n        <div class=\"span6 tv-program\">\\n          \\n  \\n\\n\\n<div class=\"module programme dark tabs tv\" data-referrer-track=\"srf_mod3=Jetzt auf Sendung (TV)\">\\n  \\n  <ul class=\"nav nav-tabs three unstyled\" >\\n    <li class=\"active\" data-channel-identifier=\"srf-1\">\\n      <a href=\"#\" data-toggle=\"tab\">\\n        <img\\n          src=\"/extension/srf_shared/design/standard/images/logos/tv/srf_1-hori.png\"\\n          alt=\"SRF 1\"\\n          title=\"SRF 1\"\\n          width=\"38\"\\n          height=\"22\"\\n          data-retina-src=\"/extension/srf_shared/design/standard/images/logos/tv/retina/srf_1-hori.png\"\\n        />\\n      </a>\\n    </li>\\n    <li  data-channel-identifier=\"srf-2\">\\n      <a href=\"#\" data-toggle=\"tab\">\\n        <img\\n          src=\"/extension/srf_shared/design/standard/images/logos/tv/srf_2-hori.png\"\\n          alt=\"SRF zwei\"\\n          title=\"SRF zwei\"\\n          width=\"70\"\\n          height=\"22\"\\n          data-retina-src=\"/extension/srf_shared/design/standard/images/logos/tv/retina/srf_2-hori.png\"\\n        />\\n      </a>\\n    </li>\\n    <li   data-channel-identifier=\"srf-info\">\\n      <a href=\"#\" data-toggle=\"tab\">\\n        <img\\n          src=\"/extension/srf_shared/design/standard/images/logos/tv/srf_info-hori.png\"\\n          alt=\"SRF info\"\\n          title=\"SRF info\"\\n          width=\"62\"\\n          height=\"22\"\\n          data-retina-src=\"/extension/srf_shared/design/standard/images/logos/tv/retina/srf_info-hori.png\"\\n        />\\n      </a>\\n    </li>\\n  </ul>\\n\\n    <div class=\"programm-auto-poll\" data-source-url=\"/programm/tv_now_and_next/layout/content/channel/srf-1\" data-auto-poll=\"60\">\\n      \\n      <ul class=\"unstyled tab-content\">\\n        \\n<li class=\"clearfix tab-pane module main-listing small active\">\\n  <h2 class=\"border\">\\n                              <a href=\"/tv/srf-1\">SRF 1</a>\\n                  </h2>\\n\\n  <ul class=\"unstyled\">\\n\\n                  <li >\\n                            <a class=\"icon-container\" href=\"http://www.srf.ch/programm/tv/sendung/d65eb080-b348-467e-ac2c-08e30cf7f664\">\\n                    <img width=\"144\" height=\"81\"\\n                         title=\"Herzensbrecher - Vater von vier Söhnen\"\\n                         alt=\"Herzensbrecher - Vater von vier Söhnen\"\\n                         src=\"https://www.srf.ch/programm/tv/image/redirect/da2a9edc39427aabecf335f41aab23cebfdf2251.jpg?\">\\n                </a>\\n                        <div class=\"module-content\">\\n                <a  href=\"/livestream/player/srf-1\"\\n                    class=\"btn btn-red\" data-toggle=\"popout\" data-popout-width=\"644\" data-popout-type=\"fixedWidth\" data-popout-height=\"760\">\\n                    <span class=\"btn-live\"></span>Jetzt sehen\\n                </a>\\n                                    <span class=\"date\">\\n                      Seit 14:30\\n                    </span>\\n                                <h3>\\n                    <a href=\"http://www.srf.ch/programm/tv/sendung/d65eb080-b348-467e-ac2c-08e30cf7f664\">Herzensbrecher - Vater von vier Söhnen</a>\\n                </h3>\\n                <p>\\n                    <a href=\"http://www.srf.ch/programm/tv/sendung/d65eb080-b348-467e-ac2c-08e30cf7f664\">Die Anleitung</a>\\n                </p>\\n            </div>\\n        </li>\\n                    <li class=\"no-image\">\\n            <div class=\"module-content\">\\n                                    <span class=\"date\">\\n                      Heute, 15:25\\n                    </span>\\n                                <h3>\\n                    <a href=\"http://www.srf.ch/programm/tv/sendung/745fdcae-eee3-43e3-a24e-91a4745674df\">Reporter</a>\\n                </h3>\\n                <p>\\n                    <a href=\"http://www.srf.ch/programm/tv/sendung/745fdcae-eee3-43e3-a24e-91a4745674df\">Nicht ohne mein Handy</a>\\n                </p>\\n            </div>\\n        </li>\\n          \\n    \\n    <li class=\"related-link\">\\n      <a href=\"https://www.srf.ch/programm/tv/\">Programm von SRF 1</a>\\n    </li>\\n    \\n    <li class=\"related-link related-link-spacing\">\\n      <a href=\"/play/tv\" class=\"pull-left\">\\n        <span class=\"pull-left\">TV-Sendung verpasst? Zu</span>\\n        <div class=\"pull-left\">&nbsp;&nbsp;</div>\\n        <img alt=\"Play SRF\" class=\"pull-left\"\\n             title=\"Play SRF\"\\n             src=\"/extension/srf_shared/design/standard/images/logos/player_logo.svg\" width=\"51\">\\n      </a>\\n    </li>\\n  </ul>\\n</li>\\n\\n\\n        \\n<li class=\"clearfix tab-pane module main-listing small\">\\n  <h2 class=\"border\">\\n                              <a href=\"/tv/srf-zwei\">SRF zwei</a>\\n                  </h2>\\n\\n  <ul class=\"unstyled\">\\n\\n                  <li >\\n                            <a class=\"icon-container\" href=\"http://www.srf.ch/programm/tv/sendung/f3b07a77-a85d-438b-b0e8-6f66852aeaea\">\\n                    <img width=\"144\" height=\"81\"\\n                         title=\"Grey\\'s Anatomy\"\\n                         alt=\"Grey\\'s Anatomy\"\\n                         src=\"https://www.srf.ch/programm/tv/image/redirect/b3d37c861f999388a31d5e9649ae2534618053b9.jpg?\">\\n                </a>\\n                        <div class=\"module-content\">\\n                <a  href=\"/livestream/player/srf-2\"\\n                    class=\"btn btn-red\" data-toggle=\"popout\" data-popout-width=\"644\" data-popout-type=\"fixedWidth\" data-popout-height=\"760\">\\n                    <span class=\"btn-live\"></span>Jetzt sehen\\n                </a>\\n                                    <span class=\"date\">\\n                      Seit 15:10\\n                    </span>\\n                                <h3>\\n                    <a href=\"http://www.srf.ch/programm/tv/sendung/f3b07a77-a85d-438b-b0e8-6f66852aeaea\">Grey\\'s Anatomy</a>\\n                </h3>\\n                <p>\\n                    <a href=\"http://www.srf.ch/programm/tv/sendung/f3b07a77-a85d-438b-b0e8-6f66852aeaea\">Das Dream-Team</a>\\n                </p>\\n            </div>\\n        </li>\\n                    <li class=\"no-image\">\\n            <div class=\"module-content\">\\n                                    <span class=\"date\">\\n                      Heute, 16:00\\n                    </span>\\n                                <h3>\\n                    <a href=\"http://www.srf.ch/programm/tv/sendung/1523811a-4d6a-40d2-9f63-720a71d9742c\">SRF 3 live am Zurich Film Festival</a>\\n                </h3>\\n                <p>\\n                    <a href=\"http://www.srf.ch/programm/tv/sendung/1523811a-4d6a-40d2-9f63-720a71d9742c\"></a>\\n                </p>\\n            </div>\\n        </li>\\n          \\n    \\n    <li class=\"related-link\">\\n      <a href=\"https://www.srf.ch/programm/tv/\">Programm von SRF zwei</a>\\n    </li>\\n    \\n    <li class=\"related-link related-link-spacing\">\\n      <a href=\"/play/tv\" class=\"pull-left\">\\n        <span class=\"pull-left\">TV-Sendung verpasst? Zu</span>\\n        <div class=\"pull-left\">&nbsp;&nbsp;</div>\\n        <img alt=\"Play SRF\" class=\"pull-left\"\\n             title=\"Play SRF\"\\n             src=\"/extension/srf_shared/design/standard/images/logos/player_logo.svg\" width=\"51\">\\n      </a>\\n    </li>\\n  </ul>\\n</li>\\n\\n\\n        \\n<li class=\"clearfix tab-pane module main-listing small\">\\n  <h2 class=\"border\">\\n                              SRF info\\n                  </h2>\\n\\n  <ul class=\"unstyled\">\\n\\n                  <li >\\n                            <a class=\"icon-container\" href=\"http://www.srf.ch/programm/tv/sendung/5581006d-cd3f-4290-af56-24079d08cc8d\">\\n                    <img width=\"144\" height=\"81\"\\n                         title=\"Arena/Reporter\"\\n                         alt=\"Arena/Reporter\"\\n                         src=\"https://www.srf.ch/programm/tv/image/redirect/9a72404cd86ac5945aea0dafb372130bc2471dd9.jpg?\">\\n                </a>\\n                        <div class=\"module-content\">\\n                <a  href=\"/livestream/player/srf-info\"\\n                    class=\"btn btn-red\" data-toggle=\"popout\" data-popout-width=\"644\" data-popout-type=\"fixedWidth\" data-popout-height=\"760\">\\n                    <span class=\"btn-live\"></span>Jetzt sehen\\n                </a>\\n                                    <span class=\"date\">\\n                      Seit 15:10\\n                    </span>\\n                                <h3>\\n                    <a href=\"http://www.srf.ch/programm/tv/sendung/5581006d-cd3f-4290-af56-24079d08cc8d\">Arena/Reporter</a>\\n                </h3>\\n                <p>\\n                    <a href=\"http://www.srf.ch/programm/tv/sendung/5581006d-cd3f-4290-af56-24079d08cc8d\">Legt das Handy weg!</a>\\n                </p>\\n            </div>\\n        </li>\\n                    <li class=\"no-image\">\\n            <div class=\"module-content\">\\n                                    <span class=\"date\">\\n                      Heute, 16:30\\n                    </span>\\n                                <h3>\\n                    <a href=\"http://www.srf.ch/programm/tv/sendung/08ca07bf-9cfa-455a-bcc0-4d2c26c23bbd\">Tagesschau</a>\\n                </h3>\\n                <p>\\n                    <a href=\"http://www.srf.ch/programm/tv/sendung/08ca07bf-9cfa-455a-bcc0-4d2c26c23bbd\"></a>\\n                </p>\\n            </div>\\n        </li>\\n          \\n    \\n    <li class=\"related-link\">\\n      <a href=\"https://www.srf.ch/programm/tv/\">Programm von SRF info</a>\\n    </li>\\n    \\n    <li class=\"related-link related-link-spacing\">\\n      <a href=\"/play/tv\" class=\"pull-left\">\\n        <span class=\"pull-left\">TV-Sendung verpasst? Zu</span>\\n        <div class=\"pull-left\">&nbsp;&nbsp;</div>\\n        <img alt=\"Play SRF\" class=\"pull-left\"\\n             title=\"Play SRF\"\\n             src=\"/extension/srf_shared/design/standard/images/logos/player_logo.svg\" width=\"51\">\\n      </a>\\n    </li>\\n  </ul>\\n</li>\\n\\n      </ul>\\n  </div>\\n</div>\\n        </div>\\n        <div class=\"span6 radio-program\">\\n              \\n              \\n    \\n    \\n    <div class=\"module programme dark tabs\" data-referrer-track=\"srf_mod3=Jetzt auf Sendung (Radio)\">\\n\\n    \\n      <ul class=\"nav nav-tabs six unstyled\" >\\n        <li class=\"active\">\\n          <a href=\"#\" data-toggle=\"tab\">\\n            <img src=\"/extension/srf_shared/design/standard/images/logos/radio/SRF-radio1-small.png\" alt=\"Radio SRF 1\" title=\"Radio SRF 1\" width=\"22\" height=\"29\"/>\\n          </a>\\n        </li>\\n\\n        <li >\\n          <a href=\"#\" data-toggle=\"tab\">\\n            <img src=\"/extension/srf_shared/design/standard/images/logos/radio/SRF-radio2-small.png\" alt=\"Radio SRF 2 Kultur\" title=\"Radio SRF 2 Kultur\" width=\"22\" height=\"29\"/>\\n          </a>\\n        </li>\\n\\n        <li >\\n          <a href=\"#\" data-toggle=\"tab\">\\n            <img src=\"/extension/srf_shared/design/standard/images/logos/radio/SRF-radio3-small.png\" alt=\"Radio SRF 3\" title=\"Radio SRF 3\" width=\"22\" height=\"29\"/>\\n          </a>\\n        </li>\\n\\n        <li >\\n            <a href=\"#\" data-toggle=\"tab\">\\n                <img src=\"/extension/srf_shared/design/standard/images/logos/radio/SRF-radio4-small.png\" alt=\"Radio SRF 4 News\"\\n                     title=\"Radio SRF 4 News\" width=\"22\" height=\"29\"/>\\n            </a>\\n        </li>\\n\\n        <li >\\n          <a href=\"#\" data-toggle=\"tab\">\\n            <img src=\"/extension/srf_shared/design/standard/images/logos/radio/SRF-radiomusikwelle-small.png\" alt=\"Radio SRF Musikwelle\" title=\"Radio SRF Musikwelle\" width=\"22\" height=\"29\"/>\\n          </a>\\n        </li>\\n\\n        <li >\\n          <a href=\"#\" data-toggle=\"tab\">\\n            <img src=\"/extension/srf_shared/design/standard/images/logos/radio/SRF-radiovirus-small.png\" alt=\"Radio SRF Virus\" title=\"Radio SRF Virus\" width=\"22\" height=\"29\"/>\\n          </a>\\n        </li>\\n      </ul>\\n\\n    \\n      <ul class=\"unstyled tab-content\">\\n        \\n        \\n          \\n          \\n          <li class=\"clearfix tab-pane module main-listing small active\">\\n    \\n\\n<h2 class=\"border\">\\n    <a href=\"/radio-srf-1\">Radio SRF 1</a>\\n</h2>\\n\\n<ul class=\"unstyled\">\\n      <li class=\"no-image watch-live-button\">\\n      <div class=\"module-content\">\\n        <a href=\"https://www.srf.ch/play/radio/livepopup/radio-srf-1\"\\n          class=\"btn btn-red\"\\n          data-toggle=\"popout\"\\n          data-popout-width=\"330\"\\n          data-popout-type=\"fixedWidth\">\\n            <span class=\"btn-live\"></span>\\n            Jetzt hören\\n        </a>\\n      </div>\\n    </li>\\n  \\n            \\n<li class=\"no-image\">  <div class=\"module-content\">\\n      <span class=\"date\">\\n      Heute, 16:00\\n    </span>\\n      <h3>\\n                      <a href=\"/sendungen/heute-um-vier\">\\n          Heute um Vier\\n        </a>\\n          </h3>\\n        </div>\\n</li>\\n  \\n    <li class=\"related-link \">\\n    <a href=\"/programm/radio/radio-srf-1\">Programm von Radio SRF 1</a>\\n  </li>\\n\\n  \\n  <li class=\"related-link related-link-spacing\">\\n    <a href=\"/play/radio\">\\n      <span class=\"pull-left\">Radio-Sendung verpasst? Zu</span>\\n      <div class=\"pull-left\">&nbsp;&nbsp;</div>\\n      <img alt=\"Play SRF\"\\n        title=\"Play SRF\"\\n                   src=\"/extension/srf_shared/design/standard/images/logos/player_logo.svg\"\\n                width=\"51\">\\n    </a>\\n  </li>\\n</ul>\\n\\n</li>\\n                  \\n          \\n          \\n          <li class=\"clearfix tab-pane module main-listing small\">\\n    \\n\\n<h2 class=\"border\">\\n    <a href=\"/radio-srf-2-kultur\">Radio SRF 2 Kultur</a>\\n</h2>\\n\\n<ul class=\"unstyled\">\\n      <li class=\"no-image watch-live-button\">\\n      <div class=\"module-content\">\\n        <a href=\"https://www.srf.ch/play/radio/livepopup/radio-srf-2-kultur\"\\n          class=\"btn btn-red\"\\n          data-toggle=\"popout\"\\n          data-popout-width=\"330\"\\n          data-popout-type=\"fixedWidth\">\\n            <span class=\"btn-live\"></span>\\n            Jetzt hören\\n        </a>\\n      </div>\\n    </li>\\n  \\n            \\n<li class=\"no-image\">  <div class=\"module-content\">\\n      <span class=\"date\">\\n      Heute, 16:00\\n    </span>\\n      <h3>\\n                      <a href=\"/sendungen/nachrichten\">\\n          Nachrichten\\n        </a>\\n          </h3>\\n        </div>\\n</li>\\n  \\n    <li class=\"related-link \">\\n    <a href=\"/programm/radio/radio-srf-2-kultur\">Programm von Radio SRF 2 Kultur</a>\\n  </li>\\n\\n  \\n  <li class=\"related-link related-link-spacing\">\\n    <a href=\"/play/radio\">\\n      <span class=\"pull-left\">Radio-Sendung verpasst? Zu</span>\\n      <div class=\"pull-left\">&nbsp;&nbsp;</div>\\n      <img alt=\"Play SRF\"\\n        title=\"Play SRF\"\\n                   src=\"/extension/srf_shared/design/standard/images/logos/player_logo.svg\"\\n                width=\"51\">\\n    </a>\\n  </li>\\n</ul>\\n\\n</li>\\n                  \\n          \\n          \\n          <li class=\"clearfix tab-pane module main-listing small\">\\n    \\n\\n<h2 class=\"border\">\\n    <a href=\"/radio-srf-3\">Radio SRF 3</a>\\n</h2>\\n\\n<ul class=\"unstyled\">\\n      <li class=\"no-image watch-live-button\">\\n      <div class=\"module-content\">\\n        <a href=\"https://www.srf.ch/play/radio/livepopup/radio-srf-3\"\\n          class=\"btn btn-red\"\\n          data-toggle=\"popout\"\\n          data-popout-width=\"330\"\\n          data-popout-type=\"fixedWidth\">\\n            <span class=\"btn-live\"></span>\\n            Jetzt hören\\n        </a>\\n      </div>\\n    </li>\\n  \\n            \\n<li class=\"no-image\">  <div class=\"module-content\">\\n      <span class=\"date\">\\n      Heute, 16:00\\n    </span>\\n      <h3>\\n                      <a href=\"/sendungen/nachrichten\">\\n          Nachrichten\\n        </a>\\n          </h3>\\n        </div>\\n</li>\\n  \\n    <li class=\"related-link \">\\n    <a href=\"/programm/radio/radio-srf-3\">Programm von Radio SRF 3</a>\\n  </li>\\n\\n  \\n  <li class=\"related-link related-link-spacing\">\\n    <a href=\"/play/radio\">\\n      <span class=\"pull-left\">Radio-Sendung verpasst? Zu</span>\\n      <div class=\"pull-left\">&nbsp;&nbsp;</div>\\n      <img alt=\"Play SRF\"\\n        title=\"Play SRF\"\\n                   src=\"/extension/srf_shared/design/standard/images/logos/player_logo.svg\"\\n                width=\"51\">\\n    </a>\\n  </li>\\n</ul>\\n\\n</li>\\n                  \\n          \\n          \\n          <li class=\"clearfix tab-pane module main-listing small\">\\n    \\n\\n<h2 class=\"border\">\\n    <a href=\"/radio-srf-4-news\">Radio SRF 4 News</a>\\n</h2>\\n\\n<ul class=\"unstyled\">\\n      <li class=\"no-image watch-live-button\">\\n      <div class=\"module-content\">\\n        <a href=\"https://www.srf.ch/play/radio/livepopup/radio-srf-4-news\"\\n          class=\"btn btn-red\"\\n          data-toggle=\"popout\"\\n          data-popout-width=\"330\"\\n          data-popout-type=\"fixedWidth\">\\n            <span class=\"btn-live\"></span>\\n            Jetzt hören\\n        </a>\\n      </div>\\n    </li>\\n  \\n            \\n<li class=\"no-image\">  <div class=\"module-content\">\\n      <span class=\"date\">\\n      Heute, 15:30\\n    </span>\\n      <h3>\\n                      <a href=\"/sendungen/nachrichten\">\\n          Nachrichten\\n        </a>\\n          </h3>\\n        </div>\\n</li>\\n  \\n    <li class=\"related-link \">\\n    <a href=\"/programm/radio/radio-srf-4-news\">Programm von Radio SRF 4 News</a>\\n  </li>\\n\\n  \\n  <li class=\"related-link related-link-spacing\">\\n    <a href=\"/play/radio\">\\n      <span class=\"pull-left\">Radio-Sendung verpasst? Zu</span>\\n      <div class=\"pull-left\">&nbsp;&nbsp;</div>\\n      <img alt=\"Play SRF\"\\n        title=\"Play SRF\"\\n                   src=\"/extension/srf_shared/design/standard/images/logos/player_logo.svg\"\\n                width=\"51\">\\n    </a>\\n  </li>\\n</ul>\\n\\n</li>\\n                  \\n          \\n          \\n          <li class=\"clearfix tab-pane module main-listing small\">\\n    \\n\\n<h2 class=\"border\">\\n    <a href=\"/radio-srf-musikwelle\">Radio SRF Musikwelle</a>\\n</h2>\\n\\n<ul class=\"unstyled\">\\n            \\n<li class=\"no-image\">  <div class=\"module-content\">\\n      <a\\n      href=\"https://www.srf.ch/play/radio/livepopup/radio-srf-musikwelle\"\\n      class=\"btn btn-red\"\\n      data-toggle=\"popout\"\\n      data-popout-width=\"330\"\\n      data-popout-type=\"fixedWidth\"\\n    >\\n      <span class=\"btn-live\"></span>\\n      Jetzt hören\\n    </a>\\n      <span class=\"date\">\\n      Heute, 14:03\\n    </span>\\n      <h3>\\n                      <a href=\"/sendungen/wuensch-dir-was\">\\n          Wünsch dir was\\n        </a>\\n          </h3>\\n        </div>\\n</li>\\n  \\n            \\n<li class=\"no-image\">  <div class=\"module-content\">\\n      <span class=\"date\">\\n      Heute, 17:20\\n    </span>\\n      <h3>\\n                      <a href=\"/sendungen/schnipseljagd\">\\n          Schnipseljagd\\n        </a>\\n          </h3>\\n        </div>\\n</li>\\n  \\n    <li class=\"related-link \">\\n    <a href=\"/programm/radio/radio-srf-musikwelle\">Programm von Radio SRF Musikwelle</a>\\n  </li>\\n\\n  \\n  <li class=\"related-link related-link-spacing\">\\n    <a href=\"/play/radio\">\\n      <span class=\"pull-left\">Radio-Sendung verpasst? Zu</span>\\n      <div class=\"pull-left\">&nbsp;&nbsp;</div>\\n      <img alt=\"Play SRF\"\\n        title=\"Play SRF\"\\n                   src=\"/extension/srf_shared/design/standard/images/logos/player_logo.svg\"\\n                width=\"51\">\\n    </a>\\n  </li>\\n</ul>\\n\\n</li>\\n                  \\n          \\n          \\n          <li class=\"clearfix tab-pane module main-listing small\">\\n    \\n\\n<h2 class=\"border\">\\n    <a href=\"/radio-srf-virus\">SRF Virus</a>\\n</h2>\\n\\n<ul class=\"unstyled\">\\n        \\n<li class=\"no-image\">  <div class=\"module-content\">\\n      <a\\n      href=\"https://www.srf.ch/play/radio/livepopup/radio-srf-virus\"\\n      class=\"btn btn-red\"\\n      data-toggle=\"popout\"\\n      data-popout-width=\"330\"\\n      data-popout-type=\"fixedWidth\"\\n    >\\n      <span class=\"btn-live\"></span>\\n      Jetzt hören\\n    </a>\\n      <span class=\"date\">\\n      Heute, 12:00\\n    </span>\\n      <h3>\\n              Junge Popkultur, urbanes Leben\\n          </h3>\\n        </div>\\n</li>\\n  \\n        \\n<li class=\"no-image\">  <div class=\"module-content\">\\n      <span class=\"date\">\\n      Heute, 16:00\\n    </span>\\n      <h3>\\n              Neue Musik entdecken\\n          </h3>\\n        </div>\\n</li>\\n  \\n    <li class=\"related-link \">\\n    <a href=\"/programm/radio/radio-srf-virus\">Programm von SRF Virus</a>\\n  </li>\\n\\n  \\n  <li class=\"related-link related-link-spacing\">\\n    <a href=\"/play/radio\">\\n      <span class=\"pull-left\">Radio-Sendung verpasst? Zu</span>\\n      <div class=\"pull-left\">&nbsp;&nbsp;</div>\\n      <img alt=\"Play SRF\"\\n        title=\"Play SRF\"\\n                   src=\"/extension/srf_shared/design/standard/images/logos/player_logo.svg\"\\n                width=\"51\">\\n    </a>\\n  </li>\\n</ul>\\n\\n</li>\\n                        </ul>\\n    </div>\\n        </div>\\n    </div>\\n  </div>\\n</div>      </div>\\n  \\n\\n\\n                                <footer>\\n  <div id=\"page-footer\" data-referrer-track=\"srf_mod1=footer_nav\">\\n    <div class=\"container\" role=\"navigation\">\\n      <div id=\"footer-nav\">\\n        <ul itemscope itemtype=\"http://schema.org/SiteNavigationElement\">\\n          <li>\\n            <h3>\\n              Wer wir sind\\n            </h3>\\n            <ul class=\"span2\">\\n              <li><a href=\"/unternehmen\">Über SRF</a></li>\\n              <li><a href=\"/unternehmen/unternehmen/portraet\">Porträt</a></li>\\n              <li><a href=\"/unternehmen/unternehmen/qualitaet\">Qualität</a></li>\\n              <li><a href=\"/unternehmen/standorte/besucherfuehrungen\">Besucherführungen</a></li>\\n              <li><a href=\"https://jobs.srf.ch\" target=\"_blank\">Jobs</a></li>\\n              <li><a href=\"/unternehmen/sponsoring-und-partnerschaften/werbung-und-sponsoring/werbung-und-sponsoring-bei-srf\">Sponsoring</a></li>\\n            </ul>\\n          </li>\\n          <li>\\n            <h3>\\n              Was wir tun\\n            </h3>\\n            <ul class=\"span2 wide\">\\n              <li><a href=\"/news\">News</a></li>\\n              <li><a href=\"/sport\">Sport</a></li>\\n              <li><a href=\"/meteo\">Meteo</a></li>\\n              <li><a href=\"/kultur\">Kultur</a></li>\\n              <li><a href=\"/sendungen/dok\">DOK</a></li>\\n            </ul>\\n            <ul class=\"span2 wide\">\\n              <li><a href=\"/radio-srf-1\">Radio SRF 1</a></li>\\n              <li><a href=\"/radio-srf-2-kultur\">Radio SRF 2 Kultur</a></li>\\n              <li><a href=\"/radio-srf-3\">Radio SRF 3</a></li>\\n              <li><a href=\"/radio-srf-4-news\">Radio SRF 4 News</a></li>\\n              <li><a href=\"/radio-srf-musikwelle\">Radio SRF Musikwelle</a></li>\\n              <li><a href=\"/radio-srf-virus\">Radio SRF Virus</a></li>\\n            </ul>\\n            <ul class=\"span2 wide\">\\n              <li><a href=\"/play\">Play SRF</a></li>\\n              <li><a href=\"https://www.srf.ch/programm/tv\">TV-Programm</a></li>\\n              <li><a href=\"/programm/radio\">Radio-Programm</a></li>\\n              <li><a href=\"/podcasts\">Podcasts</a></li>\\n              <li><a href=\"http://www.radioswissclassic.ch/de\">Radio Swiss Classic</a></li>\\n              <li><a href=\"http://www.radioswissjazz.ch/de\">Radio Swiss Jazz</a></li>\\n              <li><a href=\"http://www.radioswisspop.ch/de\">Radio Swiss Pop</a></li>\\n            </ul>\\n            <ul class=\"narrow\">\\n              <li><a href=\"javascript:void(0);\" class=\"redirect-to-mobile-website\">Mobile Version</a></li>\\n              <li><a href=\"/tv/allgemein/korrekturen\">Korrekturen</a></li>\\n              <li><a href=\"http://www.srf.ch/verkehrsinformationen\">Verkehr</a></li>\\n              <li><a href=\"/shop\">Shop</a></li>\\n              <li><a href=\"http://www.zambo.ch\">Zambo</a></li>\\n            </ul>\\n\\n          </li>\\n          <li class=\"last-child\">\\n            <h3>\\n              Wie können wir helfen\\n            </h3>\\n            <ul class=\"who-we-are clear-left span2 wide\">\\n              <li><a href=\"/hilfe/fragen-antworten-hilfestellungen\">Hilfe</a></li>\\n              <li><a href=\"/kontakt\">Kundendienst</a></li>\\n              <li><a href=\"/medien\">Media Relations</a></li>\\n            </ul>\\n            <form action=\"/suche\" class=\"navbar-search span2 wide\" role=\"search\" method=\"get\">\\n              <label for=\"search-footer\" class=\"offscreen\">Suchen</label>\\n              <input type=\"text\" name=\"q\" id=\"search-footer\" data-referrer-track=\"srf_suchfeld=footer\"\\n                     class=\"search-query span2\">\\n            </form>\\n          </li>\\n        </ul>\\n      </div>\\n      <div class=\"navbar clearfix\">\\n        <ul class=\"nav\">\\n          <li><a href=\"/rechtliches\">Datenschutzerklärung</a></li>\\n          <li><a href=\"/impressum\">Impressum</a></li>\\n        </ul>\\n        <div class=\"my-srf pull-right\" itemscope itemtype=\"http://schema.org/SiteNavigationElement\">\\n          <ul class=\"nav\">\\n            <li><a href=\"https://www.rts.ch/\" target=\"_blank\">RTS</a></li>\\n            <li><a href=\"http://www.rsi.ch/\" target=\"_blank\">RSI</a></li>\\n            <li><a href=\"http://www.rtr.ch/\" target=\"_blank\">RTR</a></li>\\n            <li><a href=\"https://www.swissinfo.ch/\" target=\"_blank\">SWI</a></li>\\n            <li class=\"last-child\"><a href=\"https://www.3sat.de/\" target=\"_blank\">3Sat</a></li>\\n          </ul>\\n        </div>\\n      </div>\\n\\n      <div class=\"copyright-container\">\\n        <a class=\"logo pull-left\" href=\"/\">\\n          <img\\n            src=\"/extension/srf_shared/design/standard/images/logos/SRF.svg\"\\n            title=\"Zur Startseite von Schweizer Radio und Fernsehen\"\\n            alt=\"Zur Startseite von Schweizer Radio und Fernsehen\"\\n          />\\n        </a>\\n        <div class=\"pull-right srg-ssr-unit\">\\n            <p class=\"pull-left\">SRF Schweizer Radio und Fernsehen, Zweigniederlassung der Schweizerischen Radio- und Fernsehgesellschaft</p>\\n            <a class=\"pull-right\" href=\"https://www.srgssr.ch/\" target=\"_blank\">\\n              <img\\n                src=\"/extension/srf_shared/design/standard/images/logos/SRG-SSR_plain.png\"\\n                data-retina-src=\"/extension/srf_shared/design/standard/images/logos/SRG-SSR_plain_2x.png\"\\n                title=\"SRG SSR\"\\n                alt=\"SRG SSR\"\\n              />\\n            </a>\\n        </div>\\n      </div>\\n\\n    </div>\\n  </div>\\n</footer>\\n      \\n    </div>\\n    <!-- Lightbox containers for page -->\\n<div class=\"lightbox fade image\" id=\"lightbox\">\\n    <div class=\"lightbox-header\">\\n        <a href=\"#\" class=\"close-text\" data-dismiss=\"lightbox\">schliessen</a>\\n        <a href=\"#\" class=\"close btn btn-light\" data-dismiss=\"lightbox\" aria-hidden=\"true\"><span class=\"offscreen\">schliessen</span></a>\\n    </div>\\n    <div class=\"lightbox-content\" id=\"lightbox-contents\">\\n    </div>\\n</div>\\n\\n                                            <!-- Config for JS -->\\n<script type=\"text/javascript\">\\n  var SRF = {    config: {      env:  \"production\"\\n      }    };\\n</script>\\n    <script type=\"text/javascript\" src=\"/var/storage/assets/srf-desktop/srf-desktop-5bb57a4b.js\"></script>\\n    \\n        \\n    <script type=\"text/javascript\">\\n      statistics.comscore.useComscoreUdm = true;\\n      statistics.comscore.baseUrl = \"https://sb.scorecardresearch.com/b?c1=2&c2=6036016&\";\\n      statistics.comscore.pageImpression(\"https://sb.scorecardresearch.com/b?c1=2&c2=6036016&ns_site=mainsite&ns_vsite=srf-v&name=home&category=Home.Hilfe.Dienstleistungen+und+Kontakte&srg_a_id=4267482&srg_ctype=Landingpage&srg_title=homepage-2-0&srg_pub_d=2014.03.21&srg_pubdate=20140321&srg_pub_t=10%3A29%3A17&srg_ver_nr=3738&srg_unit=SRF&srg_ccategory1=Home&srg_ccategory2=Hilfe&srg_ccategory3=Dienstleistungen+und+Kontakte&srg_n1=Home&srg_n2=Hilfe&srg_n3=Dienstleistungen+und+Kontakte\")\\n    </script>\\n    <noscript><p class=\"offscreen\"><img src=\"https://sb.scorecardresearch.com/b?c1=2&c2=6036016&ns_site=mainsite&ns_vsite=srf-v&name=home&category=Home.Hilfe.Dienstleistungen+und+Kontakte&srg_a_id=4267482&srg_ctype=Landingpage&srg_title=homepage-2-0&srg_pub_d=2014.03.21&srg_pubdate=20140321&srg_pub_t=10%3A29%3A17&srg_ver_nr=3738&srg_unit=SRF&srg_ccategory1=Home&srg_ccategory2=Hilfe&srg_ccategory3=Dienstleistungen+und+Kontakte&srg_n1=Home&srg_n2=Hilfe&srg_n3=Dienstleistungen+und+Kontakte\" height=\"1\" width=\"1\" alt=\"\"></p></noscript>\\n\\n    \\n    <script type=\"text/javascript\">\\n        statistics.wemf.pageImpression(\"https://sftv-ssl.wemfbox.ch/cgi-bin/ivw/CP/Home\");\\n    </script>\\n    <noscript><img class=\"offscreen\" src=\"https://sftv-ssl.wemfbox.ch/cgi-bin/ivw/CP/Home\" width=\"1\" height=\"1\" alt=\"\" /></noscript>\\n\\n\\n\\n  \\n  \\n  \\n    <script type=\"text/javascript\">\\n      var webtrekkConfig = {\"trackId\":\"292330999892453\",\"trackDomain\":\"srgssr01.wt-eu02.net\",\"cookie\":\"3\",\"tabBrowsing\":false,\"execRTA\":false,\"execCDB\":false,\"useCDBCache\":false,\"useCDBScript\":false,\"forceHTTPS\":\"1\",\"executePluginFunction\":null};\\n      SRF.webtrekk.init({\"config\":{\"trackId\":\"292330999892453\",\"trackDomain\":\"srgssr01.wt-eu02.net\",\"cookie\":\"3\",\"tabBrowsing\":false,\"execRTA\":false,\"execCDB\":false,\"useCDBCache\":false,\"useCDBScript\":false,\"forceHTTPS\":\"1\",\"executePluginFunction\":null},\"pageconfig\":{\"contentId\":\"srf.web.srf.ch.home.hilfe.dienstleistungen und kontakte.homepage-2-0\",\"domain\":\"REGEXP:^([a-z1-9]*)([.]?)srf[.]ch$\",\"linkTrack\":\"standard\",\"heatmap\":\"0\",\"form\":\"0\"},\"contentGroup\":{\"1\":\"SRF\",\"2\":\"web\",\"3\":\"srf.ch\",\"5\":\"SRF Home\",\"6\":\"Home\",\"7\":\"Hilfe\",\"8\":\"Dienstleistungen und Kontakte\",\"9\":null,\"10\":\"4267482\"},\"customParameter\":{\"1\":\"Landingpage\",\"3\":null,\"5\":null,\"14\":\"Home\",\"15\":\"Hilfe\",\"16\":\"Dienstleistungen und Kontakte\",\"17\":null,\"29\":\"200\",\"32\":\"2014.03.21\",\"33\":\"20140321\",\"34\":\"10:29\",\"35\":\"1029\",\"36\":\"201403211029\",\"50\":\"3738\",\"52\":\"homepage-2-0\"}});\\n  </script>\\n  <noscript><img class=\"offscreen\" alt=\"\" src=\"https://srgssr01.wt-eu02.net/292330999892453/wt?p=438,srf.web.srf.ch.home.hilfe.dienstleistungen und kontakte.homepage-2-0,0,0,0,0,0,0,0,0&amp;cg1=SRF&amp;cg2=web&amp;cg3=srf.ch&amp;cg5=SRF+Home&amp;cg6=Home&amp;cg7=Hilfe&amp;cg8=Dienstleistungen+und+Kontakte&amp;cg10=4267482&amp;cp1=Landingpage&amp;cp14=Home&amp;cp15=Hilfe&amp;cp16=Dienstleistungen+und+Kontakte&amp;cp29=200&amp;cp32=2014.03.21&amp;cp33=20140321&amp;cp34=10%3A29&amp;cp35=1029&amp;cp36=201403211029&amp;cp50=3738&amp;cp52=homepage-2-0\"></noscript>                <script type=\"text/javascript\">\\n            var szmvars=\"srf//CP//Home\";\\n        </script>\\n            <script type=\"text/javascript\" src=\"https://sftv-ssl.wemfbox.ch/2004/01/survey.js\"></script>\\n<script type=\"text/javascript\" language=\"JavaScript1.3\" src=\"https://sb.scorecardresearch.com/c2/6036016/cs.js\"></script>\\n    \\n<script>\\n    function fetchMetaData() {        var webtrekk = {\"content_title_pretty\":\"SRF Home\",\"content_category_1\":\"Home\",\"content_category_2\":\"Hilfe\",\"content_category_3\":\"Dienstleistungen und Kontakte\",\"content_category_4\":null,\"content_id\":4267482,\"content_page_type\":\"Landingpage\",\"content_page_elements\":null,\"content_tags_subject\":null,\"content_publication_date\":\"2014.03.21\",\"content_publication_date_concatenated\":\"20140321\",\"content_publication_time\":\"10:29\",\"content_publication_time_concatenated\":\"1029\",\"content_publication_datetime_concatenated\":\"201403211029\",\"content_title\":\"homepage-2-0\",\"content_publication_version\":\"3738\"};\\n        var weburl = document.querySelector(\\'meta[property=\"og:url\"]\\').getAttribute(\"content\");\\n        var metadata = { \"weburl\": weburl, \"tracking\": tracking, \"webtrekk\": webtrekk};\\n        nativebridge.onMetadataRetrieved(JSON.stringify(metadata));\\n    }</script>\\n\\n        \\n    <script type=\\'text/javascript\\'>\\n  var _sf_async_config = _sf_async_config || {};\\n  /** CONFIGURATION START **/\\n    _sf_async_config.sections = \\'Home,Hilfe,Dienstleistungen und Kontakte,Landingpage\\';\\n    _sf_async_config.authors = \\'SRF\\';\\n    _sf_async_config.type = \\'Landingpage\\';\\n          _sf_async_config.path = \\'\\';\\n    \\n    \\n    /** CONFIGURATION END **/\\n    (function(){\\n        function loadChartbeat() {\\n            window._sf_endpt=(new Date()).getTime();\\n            var e = document.createElement(\\'script\\');\\n            e.setAttribute(\\'language\\', \\'javascript\\');\\n            e.setAttribute(\\'type\\', \\'text/javascript\\');\\n            e.setAttribute(\\'src\\', \\'//static.chartbeat.com/js/chartbeat.js\\');\\n            document.body.appendChild(e);\\n        }\\n        var oldonload = window.onload;\\n        window.onload = (typeof window.onload != \\'function\\') ?\\n                loadChartbeat : function() { oldonload(); loadChartbeat(); };\\n    })();\\n</script>\\n\\n  \\n  <script type=\"text/javascript\" id=\"survey-gizmo\">\\n      (function(d,e,j,h,f,c,b){d.SurveyGizmoBeacon=f;d[f]=d[f]||function(){(d[f].q=d[f].q||[]).push(arguments)};c=e.createElement(j),b=e.getElementsByTagName(j)[0];c.async=1;c.src=h;b.parentNode.insertBefore(c,b)})(window,document,\\'script\\',\\'//d2bnxibecyz4h5.cloudfront.net/runtimejs/intercept/intercept.js\\',\\'sg_beacon\\');\\n      var regex = /surveygizmo.com\\\\/s3\\\\/([0-9]*)+/;\\n      var contentId = SRF.webtrekk.referrerData[document.referrer] ? SRF.webtrekk.referrerData[document.referrer].contentId : null;\\n\\n      sg_beacon(\\'init\\', \\'NDk0MzExLTMwZTBmOTQxMWM2ZWFiZmRhMmRhMDQ5MDViOTM1YjFiYTI0NWQxODZlY2Q3ZjMwYTM1\\');\\n      sg_beacon(\\'data\\', \\'navigation_environment\\', \\'production\\');\\n      sg_beacon(\\'data\\', \\'page_url\\', \\'https://www.srf.ch/\\');\\n      sg_beacon(\\'data\\', \\'content_page_referrer\\', contentId);\\n      sg_beacon(\\'data\\', \\'navigation_page_referrer\\', contentId);\\n      sg_beacon(\\'data\\', \\'content_since_publication_d\\', SRF.webtrekk.options.customParameter[31] || null);\\n      sg_beacon(\\'data\\', \\'srg_mod1\\', SRF.webtrekk.options.customParameter[24] || null);\\n      sg_beacon(\\'data\\', \\'srg_mod2\\', SRF.webtrekk.options.customParameter[25] || null);\\n      sg_beacon(\\'data\\', \\'srg_mod3\\', SRF.webtrekk.options.customParameter[26] || null);\\n      sg_beacon(\\'data\\', \\'srg_mod4\\', SRF.webtrekk.options.customParameter[27] || null);\\n\\n                  sg_beacon(\\'data\\', \\'content_title_pretty\\', \\'SRF Home\\');\\n                  sg_beacon(\\'data\\', \\'content_category_1\\', \\'Home\\');\\n                  sg_beacon(\\'data\\', \\'content_category_2\\', \\'Hilfe\\');\\n                  sg_beacon(\\'data\\', \\'content_category_3\\', \\'Dienstleistungen und Kontakte\\');\\n                  sg_beacon(\\'data\\', \\'content_category_4\\', \\'\\');\\n                  sg_beacon(\\'data\\', \\'content_id\\', \\'4267482\\');\\n                  sg_beacon(\\'data\\', \\'content_page_type\\', \\'Landingpage\\');\\n                  sg_beacon(\\'data\\', \\'content_page_elements\\', \\'\\');\\n                  sg_beacon(\\'data\\', \\'content_tags_subject\\', \\'\\');\\n                  sg_beacon(\\'data\\', \\'content_publication_date\\', \\'2014.03.21\\');\\n                  sg_beacon(\\'data\\', \\'content_publication_date_concatenated\\', \\'20140321\\');\\n                  sg_beacon(\\'data\\', \\'content_publication_time\\', \\'10:29\\');\\n                  sg_beacon(\\'data\\', \\'content_publication_time_concatenated\\', \\'1029\\');\\n                  sg_beacon(\\'data\\', \\'content_publication_datetime_concatenated\\', \\'201403211029\\');\\n                  sg_beacon(\\'data\\', \\'content_title\\', \\'homepage-2-0\\');\\n                  sg_beacon(\\'data\\', \\'content_publication_version\\', \\'3738\\');\\n                  sg_beacon(\\'data\\', \\'navigation_bu_distributer\\', \\'SRF\\');\\n                  sg_beacon(\\'data\\', \\'navigation_property_type\\', \\'web\\');\\n                  sg_beacon(\\'data\\', \\'navigation_app_site_name\\', \\'srf.ch\\');\\n                  sg_beacon(\\'data\\', \\'navigation_level_1\\', \\'Home\\');\\n                  sg_beacon(\\'data\\', \\'navigation_level_2\\', \\'Hilfe\\');\\n                  sg_beacon(\\'data\\', \\'navigation_level_3\\', \\'Dienstleistungen und Kontakte\\');\\n                  sg_beacon(\\'data\\', \\'navigation_level_4\\', \\'\\');\\n                  sg_beacon(\\'data\\', \\'http_status_code\\', \\'200\\');\\n      \\n      sg_beacon(\\'onoffered\\',function(){          SRF.webtrekk.sendInfo({              linkId: \\'hidden_event\\',\\n              customClickParameter: {                  1: \\'SurveyGizmo\\',\\n                  3: \\'WebsiteIntercept\\',\\n                  4: \\'SurveyOffered\\',\\n                  6: SRF.webtrekk.options.contentGroup[1],\\n                  9: String($(\\'.sg-b-l-m\\').attr(\\'href\\').match(regex)[1]),\\n                  10: SRF.webtrekk.options.contentGroup[2],\\n                  11: SRF.webtrekk.options.contentGroup[3]\\n              }          });\\n      });\\n      \\n      if ($.cookie(\\'sg_random_sample\\') === undefined) {\\n          var sampleIdentifier = Math.floor(Math.random() * 100) + 1;\\n          $.cookie(\\'sg_random_sample\\', sampleIdentifier, { path: \\'/\\', expires: 60, domain: \\'.srf.ch\\' });\\n      }\\n      \\n      $(\\'html\\').on(\\'click\\', \\'.sg-b-l-m\\', function(event){          SRF.webtrekk.sendInfo({              linkId: \\'hidden_event\\',\\n              customClickParameter: {                  1: \\'SurveyGizmo\\',\\n                  3: \\'WebsiteIntercept\\',\\n                  4: \\'SurveyClicked\\',\\n                  6: SRF.webtrekk.options.contentGroup[1],\\n                  9: String($(\\'.sg-b-l-m\\').attr(\\'href\\').match(regex)[1]),\\n                  10: SRF.webtrekk.options.contentGroup[2],\\n                  11: SRF.webtrekk.options.contentGroup[3]\\n                }          });\\n\\n          if (event.target.nodeName == \\'A\\') {              var gizmoSurveyId = this.href.match(regex)[1];\\n\\n              // Add cookie which expires in 60 days\\n              $.cookie(\\'sg_survey_\\' + gizmoSurveyId, \\'Opened\\', { path: \\'/\\', expires: 60, domain: \\'.srf.ch\\' });\\n          }      });\\n\\n      // Save survey Gizmo was dismissed\\n      $(\\'html\\').on(\\'click\\', \\'.sg-js-d\\', function(event){          var gizmoSurveyId = $(\\'.sg-b-l-m\\').attr(\\'href\\').match(regex)[1];\\n          // Add cookie which expires in 60 days\\n          $.cookie(\\'sg_survey_\\' + gizmoSurveyId, \\'Dismissed\\', { path: \\'/\\', expires: 60, domain: \\'.srf.ch\\' });\\n      });\\n  </script>\\n\\n  \\n  </body>\\n</html>\\n'"
      ]
     },
     "execution_count": 36,
     "metadata": {},
     "output_type": "execute_result"
    }
   ],
   "source": [
    "requests.get('https://www.srf.ch/').text"
   ]
  },
  {
   "cell_type": "code",
   "execution_count": 37,
   "metadata": {},
   "outputs": [],
   "source": [
    "artikelliste = requests.get('https://www.srf.ch/')"
   ]
  },
  {
   "cell_type": "code",
   "execution_count": 38,
   "metadata": {},
   "outputs": [],
   "source": [
    "from bs4 import BeautifulSoup\n",
    "import pandas as pd"
   ]
  },
  {
   "cell_type": "code",
   "execution_count": 39,
   "metadata": {},
   "outputs": [],
   "source": [
    "artikelliste = requests.get('https://srf.ch/')"
   ]
  },
  {
   "cell_type": "code",
   "execution_count": 42,
   "metadata": {},
   "outputs": [],
   "source": [
    "text = artikelliste.text"
   ]
  },
  {
   "cell_type": "code",
   "execution_count": 57,
   "metadata": {},
   "outputs": [],
   "source": [
    "soup = BeautifulSoup(text,\"html.parser\")"
   ]
  },
  {
   "cell_type": "code",
   "execution_count": 54,
   "metadata": {},
   "outputs": [
    {
     "data": {
      "text/plain": [
       "[<h3 class=\"border\">\n",
       "             Jetzt im TV\n",
       "             <a class=\"additional-link pull-right\" href=\"https://www.srf.ch/programm/tv\">\n",
       "                 TV-Programm\n",
       "             </a>\n",
       "         </h3>,\n",
       " <h3 class=\"offscreen\">SRF 1</h3>,\n",
       " <h3 class=\"offscreen\">SRF zwei</h3>,\n",
       " <h3 class=\"offscreen\">SRF info</h3>,\n",
       " <h3 class=\"border\">\n",
       "             Jetzt im Radio\n",
       "             <a class=\"additional-link pull-right\" href=\"/programm/radio\">\n",
       "                 Radio-Programm\n",
       "             </a>\n",
       "         </h3>,\n",
       " <h3 class=\"offscreen\">Radio SRF 1</h3>,\n",
       " <h3 class=\"offscreen\">Radio SRF 2 Kultur</h3>,\n",
       " <h3 class=\"offscreen\">Radio SRF 3</h3>,\n",
       " <h3 class=\"offscreen\">Radio SRF 4 News</h3>,\n",
       " <h3 class=\"offscreen\">Radio SRF Musikwelle</h3>,\n",
       " <h3 class=\"offscreen\">SRF Virus</h3>,\n",
       " <h3>\n",
       "         <a href=\"/radio-srf-3/aktuell/serientipp-5-gruende-warum-dich-die-serie-babylon-berlin-umhauen-wird\">            <span class=\"title\">5 Gründe, warum die Serie «Babylon Berlin» total begeistert</span>\n",
       "             </a>    </h3>,\n",
       " <h3>\n",
       "                     <span class=\"title\">        \n",
       "   Babylon Berlin (Folge 1/16)    </span>\n",
       "                 </h3>,\n",
       " <h3>\n",
       "         <a href=\"/sendungen/hallosrf/kann-man-babylon-berlin-auch-zeitversetzt-schauen\">            <span class=\"title\">Kann man «Babylon Berlin» auch zeitversetzt schauen?</span>\n",
       "             </a>    </h3>,\n",
       " <h3 data-description=\"true\">\n",
       "         \n",
       "         <span class=\"header\">\n",
       " \n",
       "                                                             \n",
       " \n",
       "     <div class=\"rubric-badge rubric-badge-before-title\">\n",
       " \n",
       "           <a class=\"tag medium news\">\n",
       "                         Gewissheit um letzten Willen\n",
       "                   </a>\n",
       "     \n",
       "           </div>                                    \n",
       "                     <a class=\"title\" href=\"/news/schweiz/gewissheit-um-letzten-willen-nationales-register-fuer-organspende-lanciert\">\n",
       "         \n",
       "         Nationales Register für Organspende lanciert\n",
       " \n",
       "                     </a>\n",
       "         \n",
       "         </span>\n",
       " \n",
       "     </h3>,\n",
       " <h3>\n",
       "         <a href=\"/news/panorama/franzoesischer-frank-sinatra-charles-aznavour-ist-tot\">            <span class=\"title\">Charles Aznavour ist tot</span>\n",
       "             </a>    </h3>,\n",
       " <h3>\n",
       "         <a href=\"/sport/fussball/champions-league/turbulenzen-bei-yb-gegner-ceo-von-juventus-geht-geruechte-um-zidane-mehren-sich\">            <span class=\"title\">CEO von Juventus geht – Gerüchte um Zidane mehren sich</span>\n",
       "             </a>    </h3>,\n",
       " <h3>\n",
       "         <a href=\"/sport/fussball/internationale-ligen/neuerdings-unbestrittene-nr-1-roman-buerki-vom-risikofaktor-zum-bollwerk\">            <span class=\"title\">Roman Bürki: Vom Risikofaktor zum Bollwerk</span>\n",
       "             </a>    </h3>,\n",
       " <h3>\n",
       "         <a href=\"/sport/fussball/internationale-ligen/fussball-weekend-in-bildern-slapstick-sixpack-sonntagsschuss\">            <span class=\"title\">Slapstick, Sixpack, Sonntagsschuss!</span>\n",
       "             </a>    </h3>,\n",
       " <h3>\n",
       "         <a href=\"/news/panorama/tsunami-in-sulawesi-weshalb-wurden-die-menschen-von-der-welle-ueberrascht\">            <span class=\"title\">Weshalb wurden die Menschen von der Welle überrascht?</span>\n",
       "             </a>    </h3>,\n",
       " <h3>\n",
       "         <a href=\"/news/panorama/erdbeben-in-indonesien-ueber-1200-tote-befuerchtet\">            <span class=\"title\">Über 1200 Tote befürchtet</span>\n",
       "             </a>    </h3>,\n",
       " <h3>\n",
       "         <a href=\"/sport/eishockey/6-fragen-vor-bern-new-jersey-die-grosse-vorfreude-auf-die-menschenwand\">            <span class=\"title\">Die grosse Vorfreude auf die «Menschenwand»</span>\n",
       "             </a>    </h3>,\n",
       " <h3>\n",
       "         <a href=\"/sport/fussball/internationale-ligen/fussball-news-traumlos-fuer-fcz-frauen\">            <span class=\"title\">Traumlos für FCZ-Frauen</span>\n",
       "             </a>    </h3>,\n",
       " <h3>\n",
       "         <a href=\"/sport/mehr-sport/olympische-spiele/ruecktritt-vom-ruecktritt-italien-kandidiert-nun-doch-fuer-2026\">            <span class=\"title\">Italien kandidiert nun doch für 2026</span>\n",
       "             </a>    </h3>,\n",
       " <h3>\n",
       "         <a href=\"/radio-srf-virus/aktuell/pilzsammeln-mit-diesen-tipps-wirst-du-pilzsammler-pro\">            <span class=\"title\">Mit diesen Tipps wirst du Pilzsammler-Pro</span>\n",
       "             </a>    </h3>,\n",
       " <h3>\n",
       "                     <a class=\"title\" href=\"/sendungen/ratgeber/augen-auf-beim-pilze-sammeln\">\n",
       "   \n",
       "                     <span class=\"title\">Augen auf beim Pilze sammeln</span>\n",
       "             </a>    </h3>,\n",
       " <h3>\n",
       "         <a href=\"/kultur/wissen/erfindung-des-donut-lochs-wie-der-heisshunger-der-amerikaner-die-donuts-loecherte\">            <span class=\"title\">Wie der Heisshunger der Amerikaner die Donuts löcherte</span>\n",
       "             </a>    </h3>,\n",
       " <h3>\n",
       "         <a href=\"/kultur/wissen/food-und-forschung-wieviel-gentechnik-steckt-in-unserem-essen\">            <span class=\"title\">Wieviel Gentechnik steckt in unserem Essen?</span>\n",
       "             </a>    </h3>,\n",
       " <h3>\n",
       "                     <a class=\"title\" href=\"/sendungen/a-point/fast-food-erster-guete-french-toast-mit-etivaz\">\n",
       "   \n",
       "                     <span class=\"title\">Fast Food erster Güte: French Toast mit Etivaz</span>\n",
       "             </a>    </h3>,\n",
       " <h3>\n",
       "         <a href=\"/kultur/gesellschaft-religion/wochenende-gesellschaft/digital-detox-digitale-entgiftung-wird-uns-nicht-heilen\">            <span class=\"title\">Digitale Entgiftung wird uns nicht heilen</span>\n",
       "             </a>    </h3>,\n",
       " <h3>\n",
       "         <a href=\"/kultur/gesellschaft-religion/wochenende-gesellschaft/arena-reporter-legt-das-handy-weg\">            <span class=\"title\">Legt das Handy weg! </span>\n",
       "             </a>    </h3>,\n",
       " <h3>\n",
       "         <a href=\"/kultur/gesellschaft-religion/wochenende-gesellschaft/leben-ohne-smartphone-lass-dich-druecken-dummerchen\">            <span class=\"title\">Lass dich drücken, Dummerchen</span>\n",
       "             </a>    </h3>,\n",
       " <h3>\n",
       "         <a href=\"/sendungen/dok/mit-ursula-brunner-bekam-das-elend-am-platzspitz-ein-gesicht\">            <span class=\"title\">Mit Ursula Brunner bekam das Elend am Platzspitz ein Gesicht</span>\n",
       "             </a>    </h3>,\n",
       " <h3>\n",
       "                     <span class=\"title\">        \n",
       "   Zürich Junkietown    </span>\n",
       "                 </h3>,\n",
       " <h3>\n",
       "                     <span class=\"title\">        \n",
       "   Grand Tour der Schweiz: Von Zürich ins Berner Oberland    </span>\n",
       "                 </h3>,\n",
       " <h3>\n",
       "                     <span class=\"title\">        \n",
       "   Grand Tour der Schweiz: Vom Jura bis ins Wallis    </span>\n",
       "                 </h3>,\n",
       " <h3>\n",
       "         <a href=\"/radio-srf-1/radio-srf-1/lang-ist-s-her-vor-50-jahren-wurde-das-schweizer-fernsehen-farbig\">            <span class=\"title\">Vor 50 Jahren wurde das Schweizer Fernsehen farbig</span>\n",
       "             </a>    </h3>,\n",
       " <h3>\n",
       "         <a href=\"/tv/allgemein/es-werde-farbe-50-jahre-farbfernsehen\">            <span class=\"title\">Es werde Farbe! – 50 Jahre Farbfernsehen</span>\n",
       "             </a>    </h3>,\n",
       " <h3>\n",
       "         <a href=\"/radio-srf-3/digital/zurich-film-festival-the-cleanser-diese-billigarbeiter-loeschen-folter-sex-und-mord\">            <span class=\"title\">«The Cleanser»: Diese Billigarbeiter löschen Folter, Sex und Mord</span>\n",
       "             </a>    </h3>,\n",
       " <h3>\n",
       "         <a href=\"/radio-srf-3/aktuell/max-hubacher-ueber-seine-rolle-als-psychisch-kranker\">            <span class=\"title\">Max Hubacher über seine Rolle als psychisch Kranker</span>\n",
       "             </a>    </h3>,\n",
       " <h3>\n",
       "         <a href=\"/radio-srf-virus/true-talk/true-life-ich-bin-es-gewohnt-dass-mich-menschen-komisch-anschauen\">            <span class=\"title\">«Ich bin es gewohnt, dass mich Menschen komisch anschauen!»</span>\n",
       "             </a>    </h3>,\n",
       " <h3>\n",
       "         <a href=\"/radio-srf-virus/true-talk/true-life-ich-sehe-immer-nur-aersche-beine-und-fuesse\">            <span class=\"title\">«Ich sehe immer nur Ärsche, Beine und Füsse»</span>\n",
       "             </a>    </h3>,\n",
       " <h3>\n",
       "         <a href=\"/radio-srf-1/die-buchkoenig-bloggt/die-buchkoenig-bloggt-von-diesem-georgier-kriege-ich-den-flattermann\">            <span class=\"title\">Von diesem Georgier kriege ich den Flattermann</span>\n",
       "             </a>    </h3>,\n",
       " <h3>\n",
       "         <a href=\"/radio-srf-1/die-buchkoenig-bloggt/die-buchkoenig-bloggt-wegen-marlene-bleibt-philippe-djian-kult-fuer-mich\">            <span class=\"title\">Wegen «Marlène» bleibt Philippe Djian Kult für mich!</span>\n",
       "             </a>    </h3>,\n",
       " <h3>\n",
       "         <a href=\"/radio-srf-virus/games/game-review-wo-tomb-raider-drauf-steht-ist-lara-croft-drin\">            <span class=\"title\">Wo Tomb Raider drauf steht, ist Lara Croft drin</span>\n",
       "             </a>    </h3>,\n",
       " <h3>\n",
       "         <a href=\"/radio-srf-virus/games/game-review-das-beste-spider-man-spiel-aller-zeiten\">            <span class=\"title\">Das beste Spider-Man-Spiel aller Zeiten</span>\n",
       "             </a>    </h3>,\n",
       " <h3>\n",
       "         <a href=\"/radio-srf-virus/games/game-review-retimed-dieses-schweizer-game-begeistert-alle\">            <span class=\"title\">«Retimed»: Dieses Schweizer Game begeistert alle</span>\n",
       "             </a>    </h3>,\n",
       " <h3>\n",
       "                     <span class=\"title\">        \n",
       "   Wettbewerb \"Die ideale Sekretärin\" (1969)    </span>\n",
       "                 </h3>,\n",
       " <h3>\n",
       "                     <span class=\"title\">        \n",
       "   Touristen reisen durch die Schweiz in zwei Tagen (1970)    </span>\n",
       "                 </h3>,\n",
       " <h3>\n",
       "                     <span class=\"title\">        \n",
       "   Feriensportlager in Fiesch (1987)    </span>\n",
       "                 </h3>,\n",
       " <h3 data-description=\"true\">\n",
       "         \n",
       "         <span class=\"header\">\n",
       " \n",
       "                                                             \n",
       " \n",
       "                                     \n",
       "                     <span class=\"title\">\n",
       "         \n",
       "                 \n",
       "   Babylon Berlin (Folge 1/16)    \n",
       " \n",
       "                     </span>\n",
       "         \n",
       "         </span>\n",
       " \n",
       "     </h3>,\n",
       " <h3>\n",
       "                                     <a href=\"https://www.srf.ch/play/tv/-/video/-?id=6fe51a4d-aea7-4750-8826-7fd9ec8f490a\">\n",
       "                                         <span class=\"title\">Die höchste Dreiseilbahn der Welt ist eröffnet</span>\n",
       "                                     </a>\n",
       "                                 </h3>,\n",
       " <h3>\n",
       "                                     <a href=\"https://www.srf.ch/play/tv/-/video/-?id=7d8bad26-ac54-4bf6-b6e7-e0bb4bdaaa39\">\n",
       "                                         <span class=\"title\">Lugano trotzt dem FC Basel einen Punkt ab</span>\n",
       "                                     </a>\n",
       "                                 </h3>,\n",
       " <h3>\n",
       "                                     <a href=\"https://www.srf.ch/play/tv/-/video/-?id=001013c7-9f27-409d-9fad-6a23673cae82\">\n",
       "                                         <span class=\"title\">Donald Trump macht eine Liebeserklärung</span>\n",
       "                                     </a>\n",
       "                                 </h3>,\n",
       " <h3>\n",
       "                                     <a href=\"https://www.srf.ch/play/tv/-/video/-?id=990a2071-6a31-4224-ad01-dd5873996766\">\n",
       "                                         <span class=\"title\">Tagesschau vom 30.09.2018, 19:30</span>\n",
       "                                     </a>\n",
       "                                 </h3>,\n",
       " <h3>\n",
       "                                     <a href=\"https://www.srf.ch/play/tv/-/video/-?id=130c18f5-e2f1-45b4-a09d-96af077cc723\">\n",
       "                                         <span class=\"title\">Die Zahl der Opfer steigt</span>\n",
       "                                     </a>\n",
       "                                 </h3>,\n",
       " <h3>\n",
       "                                     <a href=\"https://www.srf.ch/play/tv/-/video/-?id=f624150b-9958-4f26-9b5b-b5e8758be526\">\n",
       "                                         <span class=\"title\">Eindrückliche Bilder in der «Höll» kurz vor dem Ziel</span>\n",
       "                                     </a>\n",
       "                                 </h3>,\n",
       " <h3>\n",
       "                                     <a href=\"https://www.srf.ch/play/tv/-/video/-?id=8e9cd1b8-77e7-40b6-8201-db5806d35f61\">\n",
       "                                         <span class=\"title\">Sion ist dank einem Sieg in Luzern nicht mehr das Schlusslicht</span>\n",
       "                                     </a>\n",
       "                                 </h3>,\n",
       " <h3>\n",
       "                                     <a href=\"https://www.srf.ch/play/tv/-/video/-?id=b7e5864b-717b-4331-af33-17b5b3cdd66e\">\n",
       "                                         <span class=\"title\">Meteo am Mittag vom 01.10.2018</span>\n",
       "                                     </a>\n",
       "                                 </h3>,\n",
       " <h3>\n",
       "                                     <a href=\"https://www.srf.ch/play/tv/-/video/-?id=54a91a58-0a36-43ad-b5dc-15eb4afd6990\">\n",
       "                                         <span class=\"title\">Tagesschau Mittag vom 01.10.2018</span>\n",
       "                                     </a>\n",
       "                                 </h3>,\n",
       " <h3>\n",
       "                                     <a href=\"https://www.srf.ch/play/tv/-/video/-?id=9c9d32ea-a2e8-40b6-a9f2-6715d5dc624b\">\n",
       "                                         <span class=\"title\">Lena - Liebe meines Lebens vom 01.10.2018</span>\n",
       "                                     </a>\n",
       "                                 </h3>,\n",
       " <h3>\n",
       "                                     <a href=\"https://www.srf.ch/play/tv/-/video/-?id=2ddd8555-f498-4ae0-946b-ad67ea2d2a9d\">\n",
       "                                         <span class=\"title\">Drohnen am Frankfurter Nachthimmel</span>\n",
       "                                     </a>\n",
       "                                 </h3>,\n",
       " <h3>\n",
       "                                     <a href=\"https://www.srf.ch/play/tv/-/video/-?id=ce290da6-b019-4211-ae0f-35b8254a137c\">\n",
       "                                         <span class=\"title\">Wieso muss der Mensch Wasser trinken?</span>\n",
       "                                     </a>\n",
       "                                 </h3>,\n",
       " <h3>\n",
       "                                     <a href=\"https://www.srf.ch/play/tv/-/video/-?id=c98e6a23-6f7e-4067-b3f5-26296f984078\">\n",
       "                                         <span class=\"title\">Sanogo: «Wir sind nicht nervös»</span>\n",
       "                                     </a>\n",
       "                                 </h3>,\n",
       " <h3>\n",
       "                                     <a href=\"https://www.srf.ch/play/tv/-/video/-?id=f7479c48-cdff-42eb-85fa-f1896ea74625\">\n",
       "                                         <span class=\"title\">Fassnacht: «Wir müssen realistisch bleiben.»</span>\n",
       "                                     </a>\n",
       "                                 </h3>,\n",
       " <h3>\n",
       "                                     <a href=\"https://www.srf.ch/play/tv/-/video/-?id=6fe51a4d-aea7-4750-8826-7fd9ec8f490a\">\n",
       "                                         <span class=\"title\">Die höchste Dreiseilbahn der Welt ist eröffnet</span>\n",
       "                                     </a>\n",
       "                                 </h3>,\n",
       " <h3>\n",
       "                                     <a href=\"https://www.srf.ch/play/tv/-/video/-?id=130c18f5-e2f1-45b4-a09d-96af077cc723\">\n",
       "                                         <span class=\"title\">Die Zahl der Opfer steigt</span>\n",
       "                                     </a>\n",
       "                                 </h3>,\n",
       " <h3>\n",
       "                                     <a href=\"https://www.srf.ch/play/tv/-/video/-?id=691802a1-3db3-4f56-acc3-0a5b0df1b4b4\">\n",
       "                                         <span class=\"title\">Babylon Berlin (Folge 1/16)</span>\n",
       "                                     </a>\n",
       "                                 </h3>,\n",
       " <h3>\n",
       "                                     <a href=\"https://www.srf.ch/play/tv/-/video/-?id=54a91a58-0a36-43ad-b5dc-15eb4afd6990\">\n",
       "                                         <span class=\"title\">Tagesschau Mittag vom 01.10.2018</span>\n",
       "                                     </a>\n",
       "                                 </h3>,\n",
       " <h3>\n",
       "                                     <a href=\"https://www.srf.ch/play/tv/-/video/-?id=c98e6a23-6f7e-4067-b3f5-26296f984078\">\n",
       "                                         <span class=\"title\">Sanogo: «Wir sind nicht nervös»</span>\n",
       "                                     </a>\n",
       "                                 </h3>,\n",
       " <h3>\n",
       "                                     <a href=\"https://www.srf.ch/play/tv/-/video/-?id=b1a0502a-4841-4ec5-af74-119b864ed53d\">\n",
       "                                         <span class=\"title\">Steffi Graf macht den Golden Slam perfekt</span>\n",
       "                                     </a>\n",
       "                                 </h3>,\n",
       " <h3>\n",
       "                                     <a href=\"https://www.srf.ch/play/tv/-/video/-?id=f7479c48-cdff-42eb-85fa-f1896ea74625\">\n",
       "                                         <span class=\"title\">Fassnacht: «Wir müssen realistisch bleiben.»</span>\n",
       "                                     </a>\n",
       "                                 </h3>,\n",
       " <h3>\n",
       "                     <a href=\"http://www.srf.ch/programm/tv/sendung/d65eb080-b348-467e-ac2c-08e30cf7f664\">Herzensbrecher - Vater von vier Söhnen</a>\n",
       "                 </h3>,\n",
       " <h3>\n",
       "                     <a href=\"http://www.srf.ch/programm/tv/sendung/745fdcae-eee3-43e3-a24e-91a4745674df\">Reporter</a>\n",
       "                 </h3>,\n",
       " <h3>\n",
       "                     <a href=\"http://www.srf.ch/programm/tv/sendung/f3b07a77-a85d-438b-b0e8-6f66852aeaea\">Grey's Anatomy</a>\n",
       "                 </h3>,\n",
       " <h3>\n",
       "                     <a href=\"http://www.srf.ch/programm/tv/sendung/1523811a-4d6a-40d2-9f63-720a71d9742c\">SRF 3 live am Zurich Film Festival</a>\n",
       "                 </h3>,\n",
       " <h3>\n",
       "                     <a href=\"http://www.srf.ch/programm/tv/sendung/5581006d-cd3f-4290-af56-24079d08cc8d\">Arena/Reporter</a>\n",
       "                 </h3>,\n",
       " <h3>\n",
       "                     <a href=\"http://www.srf.ch/programm/tv/sendung/08ca07bf-9cfa-455a-bcc0-4d2c26c23bbd\">Tagesschau</a>\n",
       "                 </h3>,\n",
       " <h3>\n",
       "                       <a href=\"/sendungen/heute-um-vier\">\n",
       "           Heute um Vier\n",
       "         </a>\n",
       "           </h3>,\n",
       " <h3>\n",
       "                       <a href=\"/sendungen/nachrichten\">\n",
       "           Nachrichten\n",
       "         </a>\n",
       "           </h3>,\n",
       " <h3>\n",
       "                       <a href=\"/sendungen/nachrichten\">\n",
       "           Nachrichten\n",
       "         </a>\n",
       "           </h3>,\n",
       " <h3>\n",
       "                       <a href=\"/sendungen/nachrichten\">\n",
       "           Nachrichten\n",
       "         </a>\n",
       "           </h3>,\n",
       " <h3>\n",
       "                       <a href=\"/sendungen/wuensch-dir-was\">\n",
       "           Wünsch dir was\n",
       "         </a>\n",
       "           </h3>,\n",
       " <h3>\n",
       "                       <a href=\"/sendungen/schnipseljagd\">\n",
       "           Schnipseljagd\n",
       "         </a>\n",
       "           </h3>,\n",
       " <h3>\n",
       "               Junge Popkultur, urbanes Leben\n",
       "           </h3>,\n",
       " <h3>\n",
       "               Neue Musik entdecken\n",
       "           </h3>,\n",
       " <h3>\n",
       "               Wer wir sind\n",
       "             </h3>,\n",
       " <h3>\n",
       "               Was wir tun\n",
       "             </h3>,\n",
       " <h3>\n",
       "               Wie können wir helfen\n",
       "             </h3>]"
      ]
     },
     "execution_count": 54,
     "metadata": {},
     "output_type": "execute_result"
    }
   ],
   "source": [
    "soup.find_all('h3') #weil auf der SRF-Seite im Quelltext klar wird, dass Titel mit <h3> formatiert sind"
   ]
  },
  {
   "cell_type": "code",
   "execution_count": 58,
   "metadata": {},
   "outputs": [
    {
     "data": {
      "text/plain": [
       "89"
      ]
     },
     "execution_count": 58,
     "metadata": {},
     "output_type": "execute_result"
    }
   ],
   "source": [
    "len(soup.find_all('h3'))"
   ]
  },
  {
   "cell_type": "code",
   "execution_count": 52,
   "metadata": {},
   "outputs": [
    {
     "data": {
      "text/plain": [
       "<h3>\n",
       "        <a href=\"/sendungen/hallosrf/kann-man-babylon-berlin-auch-zeitversetzt-schauen\">            <span class=\"title\">Kann man «Babylon Berlin» auch zeitversetzt schauen?</span>\n",
       "            </a>    </h3>"
      ]
     },
     "execution_count": 52,
     "metadata": {},
     "output_type": "execute_result"
    }
   ],
   "source": [
    "soup.find_all('h3')[13]"
   ]
  },
  {
   "cell_type": "code",
   "execution_count": 61,
   "metadata": {},
   "outputs": [],
   "source": [
    "lst = soup.find_all('h3')[13:] #hier erst ab Element 13, weil davor ist hier nur Gschmois, die Titelfangen erst bei Titel 13 an"
   ]
  },
  {
   "cell_type": "code",
   "execution_count": 62,
   "metadata": {},
   "outputs": [],
   "source": [
    "lst = soup.find_all('h3')[13:][:55]"
   ]
  },
  {
   "cell_type": "code",
   "execution_count": 69,
   "metadata": {},
   "outputs": [
    {
     "data": {
      "text/plain": [
       "55"
      ]
     },
     "execution_count": 69,
     "metadata": {},
     "output_type": "execute_result"
    }
   ],
   "source": [
    "len(lst)"
   ]
  },
  {
   "cell_type": "code",
   "execution_count": 92,
   "metadata": {},
   "outputs": [
    {
     "name": "stdout",
     "output_type": "stream",
     "text": [
      "Kann man «Babylon Berlin» auch zeitversetzt schauen?\n",
      "Gewissheit um letzten Willen Nationales Register für Organspende lanciert\n",
      "Charles Aznavour ist tot\n",
      "CEO von Juventus geht – Gerüchte um Zidane mehren sich\n",
      "Roman Bürki: Vom Risikofaktor zum Bollwerk\n",
      "Slapstick, Sixpack, Sonntagsschuss!\n",
      "Weshalb wurden die Menschen von der Welle überrascht?\n",
      "Über 1200 Tote befürchtet\n",
      "Die grosse Vorfreude auf die «Menschenwand»\n",
      "Traumlos für FCZ-Frauen\n",
      "Italien kandidiert nun doch für 2026\n",
      "Mit diesen Tipps wirst du Pilzsammler-Pro\n",
      "Augen auf beim Pilze sammeln\n",
      "Wie der Heisshunger der Amerikaner die Donuts löcherte\n",
      "Wieviel Gentechnik steckt in unserem Essen?\n",
      "Fast Food erster Güte: French Toast mit Etivaz\n",
      "Digitale Entgiftung wird uns nicht heilen\n",
      "Legt das Handy weg!\n",
      "Lass dich drücken, Dummerchen\n",
      "Mit Ursula Brunner bekam das Elend am Platzspitz ein Gesicht\n",
      "Zürich Junkietown\n",
      "Grand Tour der Schweiz: Von Zürich ins Berner Oberland\n",
      "Grand Tour der Schweiz: Vom Jura bis ins Wallis\n",
      "Vor 50 Jahren wurde das Schweizer Fernsehen farbig\n",
      "Es werde Farbe! – 50 Jahre Farbfernsehen\n",
      "«The Cleanser»: Diese Billigarbeiter löschen Folter, Sex und Mord\n",
      "Max Hubacher über seine Rolle als psychisch Kranker\n",
      "«Ich bin es gewohnt, dass mich Menschen komisch anschauen!»\n",
      "«Ich sehe immer nur Ärsche, Beine und Füsse»\n",
      "Von diesem Georgier kriege ich den Flattermann\n",
      "Wegen «Marlène» bleibt Philippe Djian Kult für mich!\n",
      "Wo Tomb Raider drauf steht, ist Lara Croft drin\n",
      "Das beste Spider-Man-Spiel aller Zeiten\n",
      "«Retimed»: Dieses Schweizer Game begeistert alle\n",
      "Wettbewerb \"Die ideale Sekretärin\" (1969)\n",
      "Touristen reisen durch die Schweiz in zwei Tagen (1970)\n",
      "Feriensportlager in Fiesch (1987)\n",
      "Babylon Berlin (Folge 1/16)\n",
      "Die höchste Dreiseilbahn der Welt ist eröffnet\n",
      "Lugano trotzt dem FC Basel einen Punkt ab\n",
      "Donald Trump macht eine Liebeserklärung\n",
      "Tagesschau vom 30.09.2018, 19:30\n",
      "Die Zahl der Opfer steigt\n",
      "Eindrückliche Bilder in der «Höll» kurz vor dem Ziel\n",
      "Sion ist dank einem Sieg in Luzern nicht mehr das Schlusslicht\n",
      "Meteo am Mittag vom 01.10.2018\n",
      "Tagesschau Mittag vom 01.10.2018\n",
      "Lena - Liebe meines Lebens vom 01.10.2018\n",
      "Drohnen am Frankfurter Nachthimmel\n",
      "Wieso muss der Mensch Wasser trinken?\n",
      "Sanogo: «Wir sind nicht nervös»\n",
      "Fassnacht: «Wir müssen realistisch bleiben.»\n",
      "Die höchste Dreiseilbahn der Welt ist eröffnet\n",
      "Die Zahl der Opfer steigt\n",
      "Babylon Berlin (Folge 1/16)\n"
     ]
    }
   ],
   "source": [
    "fertigeliste = []\n",
    "for artikel in lst:\n",
    "    artikelliste = \" \".join(artikel.text.strip().split())\n",
    "    fertigeliste.append(artikelliste)\n",
    "    print(artikelliste)"
   ]
  },
  {
   "cell_type": "code",
   "execution_count": 94,
   "metadata": {},
   "outputs": [],
   "source": [
    "geordneteListe = pd.DataFrame(fertigeliste)"
   ]
  },
  {
   "cell_type": "code",
   "execution_count": 96,
   "metadata": {},
   "outputs": [
    {
     "data": {
      "text/html": [
       "<div>\n",
       "<style scoped>\n",
       "    .dataframe tbody tr th:only-of-type {\n",
       "        vertical-align: middle;\n",
       "    }\n",
       "\n",
       "    .dataframe tbody tr th {\n",
       "        vertical-align: top;\n",
       "    }\n",
       "\n",
       "    .dataframe thead th {\n",
       "        text-align: right;\n",
       "    }\n",
       "</style>\n",
       "<table border=\"1\" class=\"dataframe\">\n",
       "  <thead>\n",
       "    <tr style=\"text-align: right;\">\n",
       "      <th></th>\n",
       "      <th>0</th>\n",
       "    </tr>\n",
       "  </thead>\n",
       "  <tbody>\n",
       "    <tr>\n",
       "      <th>0</th>\n",
       "      <td>Kann man «Babylon Berlin» auch zeitversetzt sc...</td>\n",
       "    </tr>\n",
       "    <tr>\n",
       "      <th>1</th>\n",
       "      <td>Gewissheit um letzten Willen Nationales Regist...</td>\n",
       "    </tr>\n",
       "    <tr>\n",
       "      <th>2</th>\n",
       "      <td>Charles Aznavour ist tot</td>\n",
       "    </tr>\n",
       "    <tr>\n",
       "      <th>3</th>\n",
       "      <td>CEO von Juventus geht – Gerüchte um Zidane meh...</td>\n",
       "    </tr>\n",
       "    <tr>\n",
       "      <th>4</th>\n",
       "      <td>Roman Bürki: Vom Risikofaktor zum Bollwerk</td>\n",
       "    </tr>\n",
       "    <tr>\n",
       "      <th>5</th>\n",
       "      <td>Slapstick, Sixpack, Sonntagsschuss!</td>\n",
       "    </tr>\n",
       "    <tr>\n",
       "      <th>6</th>\n",
       "      <td>Weshalb wurden die Menschen von der Welle über...</td>\n",
       "    </tr>\n",
       "    <tr>\n",
       "      <th>7</th>\n",
       "      <td>Über 1200 Tote befürchtet</td>\n",
       "    </tr>\n",
       "    <tr>\n",
       "      <th>8</th>\n",
       "      <td>Die grosse Vorfreude auf die «Menschenwand»</td>\n",
       "    </tr>\n",
       "    <tr>\n",
       "      <th>9</th>\n",
       "      <td>Traumlos für FCZ-Frauen</td>\n",
       "    </tr>\n",
       "    <tr>\n",
       "      <th>10</th>\n",
       "      <td>Italien kandidiert nun doch für 2026</td>\n",
       "    </tr>\n",
       "    <tr>\n",
       "      <th>11</th>\n",
       "      <td>Mit diesen Tipps wirst du Pilzsammler-Pro</td>\n",
       "    </tr>\n",
       "    <tr>\n",
       "      <th>12</th>\n",
       "      <td>Augen auf beim Pilze sammeln</td>\n",
       "    </tr>\n",
       "    <tr>\n",
       "      <th>13</th>\n",
       "      <td>Wie der Heisshunger der Amerikaner die Donuts ...</td>\n",
       "    </tr>\n",
       "    <tr>\n",
       "      <th>14</th>\n",
       "      <td>Wieviel Gentechnik steckt in unserem Essen?</td>\n",
       "    </tr>\n",
       "    <tr>\n",
       "      <th>15</th>\n",
       "      <td>Fast Food erster Güte: French Toast mit Etivaz</td>\n",
       "    </tr>\n",
       "    <tr>\n",
       "      <th>16</th>\n",
       "      <td>Digitale Entgiftung wird uns nicht heilen</td>\n",
       "    </tr>\n",
       "    <tr>\n",
       "      <th>17</th>\n",
       "      <td>Legt das Handy weg!</td>\n",
       "    </tr>\n",
       "    <tr>\n",
       "      <th>18</th>\n",
       "      <td>Lass dich drücken, Dummerchen</td>\n",
       "    </tr>\n",
       "    <tr>\n",
       "      <th>19</th>\n",
       "      <td>Mit Ursula Brunner bekam das Elend am Platzspi...</td>\n",
       "    </tr>\n",
       "    <tr>\n",
       "      <th>20</th>\n",
       "      <td>Zürich Junkietown</td>\n",
       "    </tr>\n",
       "    <tr>\n",
       "      <th>21</th>\n",
       "      <td>Grand Tour der Schweiz: Von Zürich ins Berner ...</td>\n",
       "    </tr>\n",
       "    <tr>\n",
       "      <th>22</th>\n",
       "      <td>Grand Tour der Schweiz: Vom Jura bis ins Wallis</td>\n",
       "    </tr>\n",
       "    <tr>\n",
       "      <th>23</th>\n",
       "      <td>Vor 50 Jahren wurde das Schweizer Fernsehen fa...</td>\n",
       "    </tr>\n",
       "    <tr>\n",
       "      <th>24</th>\n",
       "      <td>Es werde Farbe! – 50 Jahre Farbfernsehen</td>\n",
       "    </tr>\n",
       "    <tr>\n",
       "      <th>25</th>\n",
       "      <td>«The Cleanser»: Diese Billigarbeiter löschen F...</td>\n",
       "    </tr>\n",
       "    <tr>\n",
       "      <th>26</th>\n",
       "      <td>Max Hubacher über seine Rolle als psychisch Kr...</td>\n",
       "    </tr>\n",
       "    <tr>\n",
       "      <th>27</th>\n",
       "      <td>«Ich bin es gewohnt, dass mich Menschen komisc...</td>\n",
       "    </tr>\n",
       "    <tr>\n",
       "      <th>28</th>\n",
       "      <td>«Ich sehe immer nur Ärsche, Beine und Füsse»</td>\n",
       "    </tr>\n",
       "    <tr>\n",
       "      <th>29</th>\n",
       "      <td>Von diesem Georgier kriege ich den Flattermann</td>\n",
       "    </tr>\n",
       "    <tr>\n",
       "      <th>30</th>\n",
       "      <td>Wegen «Marlène» bleibt Philippe Djian Kult für...</td>\n",
       "    </tr>\n",
       "    <tr>\n",
       "      <th>31</th>\n",
       "      <td>Wo Tomb Raider drauf steht, ist Lara Croft drin</td>\n",
       "    </tr>\n",
       "    <tr>\n",
       "      <th>32</th>\n",
       "      <td>Das beste Spider-Man-Spiel aller Zeiten</td>\n",
       "    </tr>\n",
       "    <tr>\n",
       "      <th>33</th>\n",
       "      <td>«Retimed»: Dieses Schweizer Game begeistert alle</td>\n",
       "    </tr>\n",
       "    <tr>\n",
       "      <th>34</th>\n",
       "      <td>Wettbewerb \"Die ideale Sekretärin\" (1969)</td>\n",
       "    </tr>\n",
       "    <tr>\n",
       "      <th>35</th>\n",
       "      <td>Touristen reisen durch die Schweiz in zwei Tag...</td>\n",
       "    </tr>\n",
       "    <tr>\n",
       "      <th>36</th>\n",
       "      <td>Feriensportlager in Fiesch (1987)</td>\n",
       "    </tr>\n",
       "    <tr>\n",
       "      <th>37</th>\n",
       "      <td>Babylon Berlin (Folge 1/16)</td>\n",
       "    </tr>\n",
       "    <tr>\n",
       "      <th>38</th>\n",
       "      <td>Die höchste Dreiseilbahn der Welt ist eröffnet</td>\n",
       "    </tr>\n",
       "    <tr>\n",
       "      <th>39</th>\n",
       "      <td>Lugano trotzt dem FC Basel einen Punkt ab</td>\n",
       "    </tr>\n",
       "    <tr>\n",
       "      <th>40</th>\n",
       "      <td>Donald Trump macht eine Liebeserklärung</td>\n",
       "    </tr>\n",
       "    <tr>\n",
       "      <th>41</th>\n",
       "      <td>Tagesschau vom 30.09.2018, 19:30</td>\n",
       "    </tr>\n",
       "    <tr>\n",
       "      <th>42</th>\n",
       "      <td>Die Zahl der Opfer steigt</td>\n",
       "    </tr>\n",
       "    <tr>\n",
       "      <th>43</th>\n",
       "      <td>Eindrückliche Bilder in der «Höll» kurz vor de...</td>\n",
       "    </tr>\n",
       "    <tr>\n",
       "      <th>44</th>\n",
       "      <td>Sion ist dank einem Sieg in Luzern nicht mehr ...</td>\n",
       "    </tr>\n",
       "    <tr>\n",
       "      <th>45</th>\n",
       "      <td>Meteo am Mittag vom 01.10.2018</td>\n",
       "    </tr>\n",
       "    <tr>\n",
       "      <th>46</th>\n",
       "      <td>Tagesschau Mittag vom 01.10.2018</td>\n",
       "    </tr>\n",
       "    <tr>\n",
       "      <th>47</th>\n",
       "      <td>Lena - Liebe meines Lebens vom 01.10.2018</td>\n",
       "    </tr>\n",
       "    <tr>\n",
       "      <th>48</th>\n",
       "      <td>Drohnen am Frankfurter Nachthimmel</td>\n",
       "    </tr>\n",
       "    <tr>\n",
       "      <th>49</th>\n",
       "      <td>Wieso muss der Mensch Wasser trinken?</td>\n",
       "    </tr>\n",
       "    <tr>\n",
       "      <th>50</th>\n",
       "      <td>Sanogo: «Wir sind nicht nervös»</td>\n",
       "    </tr>\n",
       "    <tr>\n",
       "      <th>51</th>\n",
       "      <td>Fassnacht: «Wir müssen realistisch bleiben.»</td>\n",
       "    </tr>\n",
       "    <tr>\n",
       "      <th>52</th>\n",
       "      <td>Die höchste Dreiseilbahn der Welt ist eröffnet</td>\n",
       "    </tr>\n",
       "    <tr>\n",
       "      <th>53</th>\n",
       "      <td>Die Zahl der Opfer steigt</td>\n",
       "    </tr>\n",
       "    <tr>\n",
       "      <th>54</th>\n",
       "      <td>Babylon Berlin (Folge 1/16)</td>\n",
       "    </tr>\n",
       "  </tbody>\n",
       "</table>\n",
       "</div>"
      ],
      "text/plain": [
       "                                                    0\n",
       "0   Kann man «Babylon Berlin» auch zeitversetzt sc...\n",
       "1   Gewissheit um letzten Willen Nationales Regist...\n",
       "2                            Charles Aznavour ist tot\n",
       "3   CEO von Juventus geht – Gerüchte um Zidane meh...\n",
       "4          Roman Bürki: Vom Risikofaktor zum Bollwerk\n",
       "5                 Slapstick, Sixpack, Sonntagsschuss!\n",
       "6   Weshalb wurden die Menschen von der Welle über...\n",
       "7                           Über 1200 Tote befürchtet\n",
       "8         Die grosse Vorfreude auf die «Menschenwand»\n",
       "9                             Traumlos für FCZ-Frauen\n",
       "10               Italien kandidiert nun doch für 2026\n",
       "11          Mit diesen Tipps wirst du Pilzsammler-Pro\n",
       "12                       Augen auf beim Pilze sammeln\n",
       "13  Wie der Heisshunger der Amerikaner die Donuts ...\n",
       "14        Wieviel Gentechnik steckt in unserem Essen?\n",
       "15     Fast Food erster Güte: French Toast mit Etivaz\n",
       "16          Digitale Entgiftung wird uns nicht heilen\n",
       "17                                Legt das Handy weg!\n",
       "18                      Lass dich drücken, Dummerchen\n",
       "19  Mit Ursula Brunner bekam das Elend am Platzspi...\n",
       "20                                  Zürich Junkietown\n",
       "21  Grand Tour der Schweiz: Von Zürich ins Berner ...\n",
       "22    Grand Tour der Schweiz: Vom Jura bis ins Wallis\n",
       "23  Vor 50 Jahren wurde das Schweizer Fernsehen fa...\n",
       "24           Es werde Farbe! – 50 Jahre Farbfernsehen\n",
       "25  «The Cleanser»: Diese Billigarbeiter löschen F...\n",
       "26  Max Hubacher über seine Rolle als psychisch Kr...\n",
       "27  «Ich bin es gewohnt, dass mich Menschen komisc...\n",
       "28       «Ich sehe immer nur Ärsche, Beine und Füsse»\n",
       "29     Von diesem Georgier kriege ich den Flattermann\n",
       "30  Wegen «Marlène» bleibt Philippe Djian Kult für...\n",
       "31    Wo Tomb Raider drauf steht, ist Lara Croft drin\n",
       "32            Das beste Spider-Man-Spiel aller Zeiten\n",
       "33   «Retimed»: Dieses Schweizer Game begeistert alle\n",
       "34          Wettbewerb \"Die ideale Sekretärin\" (1969)\n",
       "35  Touristen reisen durch die Schweiz in zwei Tag...\n",
       "36                  Feriensportlager in Fiesch (1987)\n",
       "37                        Babylon Berlin (Folge 1/16)\n",
       "38     Die höchste Dreiseilbahn der Welt ist eröffnet\n",
       "39          Lugano trotzt dem FC Basel einen Punkt ab\n",
       "40            Donald Trump macht eine Liebeserklärung\n",
       "41                   Tagesschau vom 30.09.2018, 19:30\n",
       "42                          Die Zahl der Opfer steigt\n",
       "43  Eindrückliche Bilder in der «Höll» kurz vor de...\n",
       "44  Sion ist dank einem Sieg in Luzern nicht mehr ...\n",
       "45                     Meteo am Mittag vom 01.10.2018\n",
       "46                   Tagesschau Mittag vom 01.10.2018\n",
       "47          Lena - Liebe meines Lebens vom 01.10.2018\n",
       "48                 Drohnen am Frankfurter Nachthimmel\n",
       "49              Wieso muss der Mensch Wasser trinken?\n",
       "50                    Sanogo: «Wir sind nicht nervös»\n",
       "51       Fassnacht: «Wir müssen realistisch bleiben.»\n",
       "52     Die höchste Dreiseilbahn der Welt ist eröffnet\n",
       "53                          Die Zahl der Opfer steigt\n",
       "54                        Babylon Berlin (Folge 1/16)"
      ]
     },
     "execution_count": 96,
     "metadata": {},
     "output_type": "execute_result"
    }
   ],
   "source": [
    "geordneteListe"
   ]
  },
  {
   "cell_type": "code",
   "execution_count": 101,
   "metadata": {},
   "outputs": [],
   "source": [
    "geordneteListe.to_csv(\"Titelliste_SRF.htm\")"
   ]
  },
  {
   "cell_type": "code",
   "execution_count": 117,
   "metadata": {},
   "outputs": [
    {
     "data": {
      "text/plain": [
       "'/sendungen/hallosrf/kann-man-babylon-berlin-auch-zeitversetzt-schauen'"
      ]
     },
     "execution_count": 117,
     "metadata": {},
     "output_type": "execute_result"
    }
   ],
   "source": [
    "#jetzt Übung, Links suchen \n",
    "lst = soup.find_all('h3')[13:][:55]\n",
    "lst[0].find('a')['href']"
   ]
  },
  {
   "cell_type": "code",
   "execution_count": 119,
   "metadata": {},
   "outputs": [
    {
     "name": "stdout",
     "output_type": "stream",
     "text": [
      "/sendungen/hallosrf/kann-man-babylon-berlin-auch-zeitversetzt-schauen\n",
      "/news/panorama/franzoesischer-frank-sinatra-charles-aznavour-ist-tot\n",
      "/sport/fussball/champions-league/turbulenzen-bei-yb-gegner-ceo-von-juventus-geht-geruechte-um-zidane-mehren-sich\n",
      "/sport/fussball/internationale-ligen/neuerdings-unbestrittene-nr-1-roman-buerki-vom-risikofaktor-zum-bollwerk\n",
      "/sport/fussball/internationale-ligen/fussball-weekend-in-bildern-slapstick-sixpack-sonntagsschuss\n",
      "/news/panorama/tsunami-in-sulawesi-weshalb-wurden-die-menschen-von-der-welle-ueberrascht\n",
      "/news/panorama/erdbeben-in-indonesien-ueber-1200-tote-befuerchtet\n",
      "/sport/eishockey/6-fragen-vor-bern-new-jersey-die-grosse-vorfreude-auf-die-menschenwand\n",
      "/sport/fussball/internationale-ligen/fussball-news-traumlos-fuer-fcz-frauen\n",
      "/sport/mehr-sport/olympische-spiele/ruecktritt-vom-ruecktritt-italien-kandidiert-nun-doch-fuer-2026\n",
      "/radio-srf-virus/aktuell/pilzsammeln-mit-diesen-tipps-wirst-du-pilzsammler-pro\n",
      "/sendungen/ratgeber/augen-auf-beim-pilze-sammeln\n",
      "/kultur/wissen/erfindung-des-donut-lochs-wie-der-heisshunger-der-amerikaner-die-donuts-loecherte\n",
      "/kultur/wissen/food-und-forschung-wieviel-gentechnik-steckt-in-unserem-essen\n",
      "/sendungen/a-point/fast-food-erster-guete-french-toast-mit-etivaz\n",
      "/kultur/gesellschaft-religion/wochenende-gesellschaft/digital-detox-digitale-entgiftung-wird-uns-nicht-heilen\n",
      "/kultur/gesellschaft-religion/wochenende-gesellschaft/arena-reporter-legt-das-handy-weg\n",
      "/kultur/gesellschaft-religion/wochenende-gesellschaft/leben-ohne-smartphone-lass-dich-druecken-dummerchen\n",
      "/sendungen/dok/mit-ursula-brunner-bekam-das-elend-am-platzspitz-ein-gesicht\n",
      "/radio-srf-1/radio-srf-1/lang-ist-s-her-vor-50-jahren-wurde-das-schweizer-fernsehen-farbig\n",
      "/tv/allgemein/es-werde-farbe-50-jahre-farbfernsehen\n",
      "/radio-srf-3/digital/zurich-film-festival-the-cleanser-diese-billigarbeiter-loeschen-folter-sex-und-mord\n",
      "/radio-srf-3/aktuell/max-hubacher-ueber-seine-rolle-als-psychisch-kranker\n",
      "/radio-srf-virus/true-talk/true-life-ich-bin-es-gewohnt-dass-mich-menschen-komisch-anschauen\n",
      "/radio-srf-virus/true-talk/true-life-ich-sehe-immer-nur-aersche-beine-und-fuesse\n",
      "/radio-srf-1/die-buchkoenig-bloggt/die-buchkoenig-bloggt-von-diesem-georgier-kriege-ich-den-flattermann\n",
      "/radio-srf-1/die-buchkoenig-bloggt/die-buchkoenig-bloggt-wegen-marlene-bleibt-philippe-djian-kult-fuer-mich\n",
      "/radio-srf-virus/games/game-review-wo-tomb-raider-drauf-steht-ist-lara-croft-drin\n",
      "/radio-srf-virus/games/game-review-das-beste-spider-man-spiel-aller-zeiten\n",
      "/radio-srf-virus/games/game-review-retimed-dieses-schweizer-game-begeistert-alle\n",
      "https://www.srf.ch/play/tv/-/video/-?id=6fe51a4d-aea7-4750-8826-7fd9ec8f490a\n",
      "https://www.srf.ch/play/tv/-/video/-?id=7d8bad26-ac54-4bf6-b6e7-e0bb4bdaaa39\n",
      "https://www.srf.ch/play/tv/-/video/-?id=001013c7-9f27-409d-9fad-6a23673cae82\n",
      "https://www.srf.ch/play/tv/-/video/-?id=990a2071-6a31-4224-ad01-dd5873996766\n",
      "https://www.srf.ch/play/tv/-/video/-?id=130c18f5-e2f1-45b4-a09d-96af077cc723\n",
      "https://www.srf.ch/play/tv/-/video/-?id=f624150b-9958-4f26-9b5b-b5e8758be526\n",
      "https://www.srf.ch/play/tv/-/video/-?id=8e9cd1b8-77e7-40b6-8201-db5806d35f61\n",
      "https://www.srf.ch/play/tv/-/video/-?id=b7e5864b-717b-4331-af33-17b5b3cdd66e\n",
      "https://www.srf.ch/play/tv/-/video/-?id=54a91a58-0a36-43ad-b5dc-15eb4afd6990\n",
      "https://www.srf.ch/play/tv/-/video/-?id=9c9d32ea-a2e8-40b6-a9f2-6715d5dc624b\n",
      "https://www.srf.ch/play/tv/-/video/-?id=2ddd8555-f498-4ae0-946b-ad67ea2d2a9d\n",
      "https://www.srf.ch/play/tv/-/video/-?id=ce290da6-b019-4211-ae0f-35b8254a137c\n",
      "https://www.srf.ch/play/tv/-/video/-?id=c98e6a23-6f7e-4067-b3f5-26296f984078\n",
      "https://www.srf.ch/play/tv/-/video/-?id=f7479c48-cdff-42eb-85fa-f1896ea74625\n",
      "https://www.srf.ch/play/tv/-/video/-?id=6fe51a4d-aea7-4750-8826-7fd9ec8f490a\n",
      "https://www.srf.ch/play/tv/-/video/-?id=130c18f5-e2f1-45b4-a09d-96af077cc723\n",
      "https://www.srf.ch/play/tv/-/video/-?id=691802a1-3db3-4f56-acc3-0a5b0df1b4b4\n"
     ]
    }
   ],
   "source": [
    "for titel in lst:\n",
    "    try:\n",
    "        link = titel.find('a')['href']\n",
    "        print(link)\n",
    "    except:\n",
    "        None"
   ]
  },
  {
   "cell_type": "code",
   "execution_count": 121,
   "metadata": {},
   "outputs": [],
   "source": [
    "#Hier die Variante von Lea, um Titel herauszufiltern:\n",
    "\n",
    "lst = soup.find_all('span', {'class':'title'})"
   ]
  },
  {
   "cell_type": "code",
   "execution_count": 124,
   "metadata": {},
   "outputs": [
    {
     "data": {
      "text/plain": [
       "[<span class=\"title\">5 Gründe, warum die Serie «Babylon Berlin» total begeistert</span>,\n",
       " <span class=\"title\">        \n",
       "   Babylon Berlin (Folge 1/16)    </span>,\n",
       " <span class=\"title\">Kann man «Babylon Berlin» auch zeitversetzt schauen?</span>,\n",
       " <span class=\"title\">Charles Aznavour ist tot</span>,\n",
       " <span class=\"title\">CEO von Juventus geht – Gerüchte um Zidane mehren sich</span>,\n",
       " <span class=\"title\">Roman Bürki: Vom Risikofaktor zum Bollwerk</span>,\n",
       " <span class=\"title\">Slapstick, Sixpack, Sonntagsschuss!</span>,\n",
       " <span class=\"title\">Weshalb wurden die Menschen von der Welle überrascht?</span>,\n",
       " <span class=\"title\">Über 1200 Tote befürchtet</span>,\n",
       " <span class=\"title\">Die grosse Vorfreude auf die «Menschenwand»</span>,\n",
       " <span class=\"title\">Traumlos für FCZ-Frauen</span>,\n",
       " <span class=\"title\">Italien kandidiert nun doch für 2026</span>,\n",
       " <span class=\"title\">Mit diesen Tipps wirst du Pilzsammler-Pro</span>,\n",
       " <span class=\"title\">Augen auf beim Pilze sammeln</span>,\n",
       " <span class=\"title\">Wie der Heisshunger der Amerikaner die Donuts löcherte</span>,\n",
       " <span class=\"title\">Wieviel Gentechnik steckt in unserem Essen?</span>,\n",
       " <span class=\"title\">Fast Food erster Güte: French Toast mit Etivaz</span>,\n",
       " <span class=\"title\">Digitale Entgiftung wird uns nicht heilen</span>,\n",
       " <span class=\"title\">Legt das Handy weg! </span>,\n",
       " <span class=\"title\">Lass dich drücken, Dummerchen</span>,\n",
       " <span class=\"title\">Mit Ursula Brunner bekam das Elend am Platzspitz ein Gesicht</span>,\n",
       " <span class=\"title\">        \n",
       "   Zürich Junkietown    </span>,\n",
       " <span class=\"title\">        \n",
       "   Grand Tour der Schweiz: Von Zürich ins Berner Oberland    </span>,\n",
       " <span class=\"title\">        \n",
       "   Grand Tour der Schweiz: Vom Jura bis ins Wallis    </span>,\n",
       " <span class=\"title\">Vor 50 Jahren wurde das Schweizer Fernsehen farbig</span>,\n",
       " <span class=\"title\">Es werde Farbe! – 50 Jahre Farbfernsehen</span>,\n",
       " <span class=\"title\">«The Cleanser»: Diese Billigarbeiter löschen Folter, Sex und Mord</span>,\n",
       " <span class=\"title\">Max Hubacher über seine Rolle als psychisch Kranker</span>,\n",
       " <span class=\"title\">«Ich bin es gewohnt, dass mich Menschen komisch anschauen!»</span>,\n",
       " <span class=\"title\">«Ich sehe immer nur Ärsche, Beine und Füsse»</span>,\n",
       " <span class=\"title\">Von diesem Georgier kriege ich den Flattermann</span>,\n",
       " <span class=\"title\">Wegen «Marlène» bleibt Philippe Djian Kult für mich!</span>,\n",
       " <span class=\"title\">Wo Tomb Raider drauf steht, ist Lara Croft drin</span>,\n",
       " <span class=\"title\">Das beste Spider-Man-Spiel aller Zeiten</span>,\n",
       " <span class=\"title\">«Retimed»: Dieses Schweizer Game begeistert alle</span>,\n",
       " <span class=\"title\">        \n",
       "   Wettbewerb \"Die ideale Sekretärin\" (1969)    </span>,\n",
       " <span class=\"title\">        \n",
       "   Touristen reisen durch die Schweiz in zwei Tagen (1970)    </span>,\n",
       " <span class=\"title\">        \n",
       "   Feriensportlager in Fiesch (1987)    </span>,\n",
       " <span class=\"title\">\n",
       "         \n",
       "                 \n",
       "   Babylon Berlin (Folge 1/16)    \n",
       " \n",
       "                     </span>,\n",
       " <span class=\"title\">Die höchste Dreiseilbahn der Welt ist eröffnet</span>,\n",
       " <span class=\"title\">Lugano trotzt dem FC Basel einen Punkt ab</span>,\n",
       " <span class=\"title\">Donald Trump macht eine Liebeserklärung</span>,\n",
       " <span class=\"title\">Tagesschau vom 30.09.2018, 19:30</span>,\n",
       " <span class=\"title\">Die Zahl der Opfer steigt</span>,\n",
       " <span class=\"title\">Eindrückliche Bilder in der «Höll» kurz vor dem Ziel</span>,\n",
       " <span class=\"title\">Sion ist dank einem Sieg in Luzern nicht mehr das Schlusslicht</span>,\n",
       " <span class=\"title\">Meteo am Mittag vom 01.10.2018</span>,\n",
       " <span class=\"title\">Tagesschau Mittag vom 01.10.2018</span>,\n",
       " <span class=\"title\">Lena - Liebe meines Lebens vom 01.10.2018</span>,\n",
       " <span class=\"title\">Drohnen am Frankfurter Nachthimmel</span>,\n",
       " <span class=\"title\">Wieso muss der Mensch Wasser trinken?</span>,\n",
       " <span class=\"title\">Sanogo: «Wir sind nicht nervös»</span>,\n",
       " <span class=\"title\">Fassnacht: «Wir müssen realistisch bleiben.»</span>,\n",
       " <span class=\"title\">Die höchste Dreiseilbahn der Welt ist eröffnet</span>,\n",
       " <span class=\"title\">Die Zahl der Opfer steigt</span>,\n",
       " <span class=\"title\">Babylon Berlin (Folge 1/16)</span>,\n",
       " <span class=\"title\">Tagesschau Mittag vom 01.10.2018</span>,\n",
       " <span class=\"title\">Sanogo: «Wir sind nicht nervös»</span>,\n",
       " <span class=\"title\">Steffi Graf macht den Golden Slam perfekt</span>,\n",
       " <span class=\"title\">Fassnacht: «Wir müssen realistisch bleiben.»</span>]"
      ]
     },
     "execution_count": 124,
     "metadata": {},
     "output_type": "execute_result"
    }
   ],
   "source": [
    "lst"
   ]
  },
  {
   "cell_type": "code",
   "execution_count": null,
   "metadata": {},
   "outputs": [],
   "source": []
  }
 ],
 "metadata": {
  "kernelspec": {
   "display_name": "Python 3",
   "language": "python",
   "name": "python3"
  },
  "language_info": {
   "codemirror_mode": {
    "name": "ipython",
    "version": 3
   },
   "file_extension": ".py",
   "mimetype": "text/x-python",
   "name": "python",
   "nbconvert_exporter": "python",
   "pygments_lexer": "ipython3",
   "version": "3.7.0"
  }
 },
 "nbformat": 4,
 "nbformat_minor": 2
}
