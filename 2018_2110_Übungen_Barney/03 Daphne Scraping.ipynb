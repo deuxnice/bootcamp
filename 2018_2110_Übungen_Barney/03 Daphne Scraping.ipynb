{
 "cells": [
  {
   "cell_type": "code",
   "execution_count": 1,
   "metadata": {},
   "outputs": [],
   "source": [
    "from bs4 import BeautifulSoup\n",
    "import requests\n",
    "import pandas as pd\n",
    "import time\n",
    "import progressbar"
   ]
  },
  {
   "cell_type": "markdown",
   "metadata": {},
   "source": [
    "# Scraping Daphne Caruana Galizia's Work\n",
    "Hier geht es darum, alle XXXX mit dem richtigen Befehl oder Function zu ersetzen. Das Endprodukt ist ein Scraper, der auf der Website der ermordeten Journalistin Daphne Caruana Galizia's alle Text inkl. Publikationsdatum, Teaser und ID-Nummer des jeweiligen Artikels scraped und in einen DataFrame importiert. Der- oder demjenigen dem es gelingt, die XXX so zu ersetzen, dass der Code funktioniert, bekommt ein Bier - mindestens :-)."
   ]
  },
  {
   "cell_type": "code",
   "execution_count": 2,
   "metadata": {},
   "outputs": [],
   "source": [
    "# Let's get started: scrape main page\n",
    "url = \"https://daphnecaruanagalizia.com\"\n",
    "response = requests.get(url)\n",
    "daphne = BeautifulSoup(response.text, 'html.parser')"
   ]
  },
  {
   "cell_type": "code",
   "execution_count": 3,
   "metadata": {},
   "outputs": [],
   "source": [
    "# Get structural information based on developer tools in Google Chrome\n",
    "posts = daphne.find_all(\"div\", class_=\"postmaster\")"
   ]
  },
  {
   "cell_type": "code",
   "execution_count": 4,
   "metadata": {},
   "outputs": [
    {
     "data": {
      "text/plain": [
       "<div class=\"postmaster\" data-postid=\"97964\">\n",
       "<p class=\"column-caption\"></p>\n",
       "<div class=\"post\">\n",
       "<h1><a href=\"https://daphnecaruanagalizia.com/2017/10/first-things-first-something-horrendous-posture/\" rel=\"bookmark\" title=\"Permanent Link to First things first: do something about that horrendous posture\">\n",
       "First things first: do something about that horrendous posture </a>\n",
       "</h1>\n",
       "<div class=\"entry\">\n",
       "<p>\n",
       "You can wear the flashiest watch and keep your snazzy shirt-cuff turned up to make …</p>\n",
       "</div>\n",
       "<p class=\"postmetadata\"><a href=\"https://daphnecaruanagalizia.com/2017/10/first-things-first-something-horrendous-posture/#respond\">Post a comment</a> | <a href=\"https://daphnecaruanagalizia.com/2017/10/first-things-first-something-horrendous-posture/#comments\"><span class=\"dsq-postid\" data-dsqidentifier=\"97964 https://daphnecaruanagalizia.com/?p=97964\">Read (4)</span></a> | <span class=\"time\">Monday, 16 October 2:09 pm</span></p>\n",
       "</div>\n",
       "</div>"
      ]
     },
     "execution_count": 4,
     "metadata": {},
     "output_type": "execute_result"
    }
   ],
   "source": [
    "# Explore first entry \n",
    "posts[0]"
   ]
  },
  {
   "cell_type": "code",
   "execution_count": 5,
   "metadata": {},
   "outputs": [
    {
     "data": {
      "text/plain": [
       "'https://daphnecaruanagalizia.com/2017/10/first-things-first-something-horrendous-posture/'"
      ]
     },
     "execution_count": 5,
     "metadata": {},
     "output_type": "execute_result"
    }
   ],
   "source": [
    "# url \n",
    "posts[0].find('a')[\"href\"]"
   ]
  },
  {
   "cell_type": "code",
   "execution_count": 6,
   "metadata": {},
   "outputs": [
    {
     "data": {
      "text/plain": [
       "'Monday, 16 October 2:09 pm'"
      ]
     },
     "execution_count": 6,
     "metadata": {},
     "output_type": "execute_result"
    }
   ],
   "source": [
    "# time stamp\n",
    "posts[0].find(class_=\"time\").text"
   ]
  },
  {
   "cell_type": "code",
   "execution_count": 7,
   "metadata": {},
   "outputs": [
    {
     "data": {
      "text/plain": [
       "'Permanent Link to First things first: do something about that horrendous posture'"
      ]
     },
     "execution_count": 7,
     "metadata": {},
     "output_type": "execute_result"
    }
   ],
   "source": [
    "# title of posts\n",
    "posts[0].find('a')[\"title\"]"
   ]
  },
  {
   "cell_type": "code",
   "execution_count": 8,
   "metadata": {},
   "outputs": [
    {
     "data": {
      "text/plain": [
       "'97964'"
      ]
     },
     "execution_count": 8,
     "metadata": {},
     "output_type": "execute_result"
    }
   ],
   "source": [
    "# post id\n",
    "posts[0].get('data-postid')"
   ]
  },
  {
   "cell_type": "code",
   "execution_count": 9,
   "metadata": {},
   "outputs": [],
   "source": [
    "# Extract relevant content from main page, loop through posts\n",
    "\n",
    "new_lst = []\n",
    "\n",
    "for element in posts:\n",
    "    \n",
    "    url = element.find('a')[\"href\"]\n",
    "    title = element.find('a')[\"title\"]\n",
    "    title = title[18:]\n",
    "    date = element.find(class_=\"time\").text\n",
    "    post_id = element.get('data-postid')\n",
    "        \n",
    "    #print(url)\n",
    "    response = requests.get(url)\n",
    "    soup = BeautifulSoup(response.text, 'html.parser')\n",
    "    text = soup.find(class_=\"entry\").text.strip()\n",
    "    \n",
    "    temp_dict = {'URL': url,\n",
    "                'Title': title,\n",
    "                'Date': date,\n",
    "                'ID': post_id,\n",
    "                'Txt': text}\n",
    "    \n",
    "    new_lst.append(temp_dict)\n",
    "    \n",
    "    "
   ]
  },
  {
   "cell_type": "code",
   "execution_count": 10,
   "metadata": {},
   "outputs": [
    {
     "data": {
      "text/html": [
       "<div>\n",
       "<style scoped>\n",
       "    .dataframe tbody tr th:only-of-type {\n",
       "        vertical-align: middle;\n",
       "    }\n",
       "\n",
       "    .dataframe tbody tr th {\n",
       "        vertical-align: top;\n",
       "    }\n",
       "\n",
       "    .dataframe thead th {\n",
       "        text-align: right;\n",
       "    }\n",
       "</style>\n",
       "<table border=\"1\" class=\"dataframe\">\n",
       "  <thead>\n",
       "    <tr style=\"text-align: right;\">\n",
       "      <th></th>\n",
       "      <th>Date</th>\n",
       "      <th>ID</th>\n",
       "      <th>Title</th>\n",
       "      <th>Txt</th>\n",
       "      <th>URL</th>\n",
       "    </tr>\n",
       "  </thead>\n",
       "  <tbody>\n",
       "    <tr>\n",
       "      <th>0</th>\n",
       "      <td>Monday, 16 October 2:09 pm</td>\n",
       "      <td>97964</td>\n",
       "      <td>First things first: do something about that ho...</td>\n",
       "      <td>You can wear the flashiest watch and keep your...</td>\n",
       "      <td>https://daphnecaruanagalizia.com/2017/10/first...</td>\n",
       "    </tr>\n",
       "    <tr>\n",
       "      <th>1</th>\n",
       "      <td>Sunday, 15 October 10:07 pm</td>\n",
       "      <td>97961</td>\n",
       "      <td>Austria’s new chancellor is 31 – and will have...</td>\n",
       "      <td>Exit polls show that Sebastian Kurz, 31, is ab...</td>\n",
       "      <td>https://daphnecaruanagalizia.com/2017/10/austr...</td>\n",
       "    </tr>\n",
       "    <tr>\n",
       "      <th>2</th>\n",
       "      <td>Sunday, 15 October 7:26 pm</td>\n",
       "      <td>97958</td>\n",
       "      <td>The party leaders and Sunday morning</td>\n",
       "      <td>Is it going to be a five-year electoral campai...</td>\n",
       "      <td>https://daphnecaruanagalizia.com/2017/10/party...</td>\n",
       "    </tr>\n",
       "    <tr>\n",
       "      <th>3</th>\n",
       "      <td>Saturday, 14 October 12:52 am</td>\n",
       "      <td>97955</td>\n",
       "      <td>Looks like Delia is surrounding himself with l...</td>\n",
       "      <td>The disgraceful thing is that this man has bee...</td>\n",
       "      <td>https://daphnecaruanagalizia.com/2017/10/looks...</td>\n",
       "    </tr>\n",
       "    <tr>\n",
       "      <th>4</th>\n",
       "      <td>Saturday, 14 October 12:26 am</td>\n",
       "      <td>97952</td>\n",
       "      <td>Chris Cardona: a one-track mind</td>\n",
       "      <td>“I don’t recall any other budget having given ...</td>\n",
       "      <td>https://daphnecaruanagalizia.com/2017/10/chris...</td>\n",
       "    </tr>\n",
       "  </tbody>\n",
       "</table>\n",
       "</div>"
      ],
      "text/plain": [
       "                            Date     ID  \\\n",
       "0     Monday, 16 October 2:09 pm  97964   \n",
       "1    Sunday, 15 October 10:07 pm  97961   \n",
       "2     Sunday, 15 October 7:26 pm  97958   \n",
       "3  Saturday, 14 October 12:52 am  97955   \n",
       "4  Saturday, 14 October 12:26 am  97952   \n",
       "\n",
       "                                               Title  \\\n",
       "0  First things first: do something about that ho...   \n",
       "1  Austria’s new chancellor is 31 – and will have...   \n",
       "2               The party leaders and Sunday morning   \n",
       "3  Looks like Delia is surrounding himself with l...   \n",
       "4                    Chris Cardona: a one-track mind   \n",
       "\n",
       "                                                 Txt  \\\n",
       "0  You can wear the flashiest watch and keep your...   \n",
       "1  Exit polls show that Sebastian Kurz, 31, is ab...   \n",
       "2  Is it going to be a five-year electoral campai...   \n",
       "3  The disgraceful thing is that this man has bee...   \n",
       "4  “I don’t recall any other budget having given ...   \n",
       "\n",
       "                                                 URL  \n",
       "0  https://daphnecaruanagalizia.com/2017/10/first...  \n",
       "1  https://daphnecaruanagalizia.com/2017/10/austr...  \n",
       "2  https://daphnecaruanagalizia.com/2017/10/party...  \n",
       "3  https://daphnecaruanagalizia.com/2017/10/looks...  \n",
       "4  https://daphnecaruanagalizia.com/2017/10/chris...  "
      ]
     },
     "execution_count": 10,
     "metadata": {},
     "output_type": "execute_result"
    }
   ],
   "source": [
    "pd.DataFrame(new_lst)[0:5]"
   ]
  },
  {
   "cell_type": "code",
   "execution_count": 11,
   "metadata": {},
   "outputs": [
    {
     "name": "stderr",
     "output_type": "stream",
     "text": [
      " 77% |########################################################                |\r"
     ]
    },
    {
     "ename": "AttributeError",
     "evalue": "'NoneType' object has no attribute 'text'",
     "output_type": "error",
     "traceback": [
      "\u001b[0;31m---------------------------------------------------------------------------\u001b[0m",
      "\u001b[0;31mAttributeError\u001b[0m                            Traceback (most recent call last)",
      "\u001b[0;32m<ipython-input-11-c8a72d140bea>\u001b[0m in \u001b[0;36m<module>\u001b[0;34m()\u001b[0m\n\u001b[1;32m     36\u001b[0m         \u001b[0mresponse\u001b[0m \u001b[0;34m=\u001b[0m \u001b[0mrequests\u001b[0m\u001b[0;34m.\u001b[0m\u001b[0mget\u001b[0m\u001b[0;34m(\u001b[0m\u001b[0murl\u001b[0m\u001b[0;34m)\u001b[0m\u001b[0;34m\u001b[0m\u001b[0m\n\u001b[1;32m     37\u001b[0m         \u001b[0mabc\u001b[0m \u001b[0;34m=\u001b[0m \u001b[0mBeautifulSoup\u001b[0m\u001b[0;34m(\u001b[0m\u001b[0mresponse\u001b[0m\u001b[0;34m.\u001b[0m\u001b[0mtext\u001b[0m\u001b[0;34m,\u001b[0m \u001b[0;34m'html.parser'\u001b[0m\u001b[0;34m)\u001b[0m\u001b[0;34m\u001b[0m\u001b[0m\n\u001b[0;32m---> 38\u001b[0;31m         \u001b[0mtext\u001b[0m \u001b[0;34m=\u001b[0m \u001b[0mabc\u001b[0m\u001b[0;34m.\u001b[0m\u001b[0mfind\u001b[0m\u001b[0;34m(\u001b[0m\u001b[0mclass_\u001b[0m\u001b[0;34m=\u001b[0m\u001b[0;34m\"entry\"\u001b[0m\u001b[0;34m)\u001b[0m\u001b[0;34m.\u001b[0m\u001b[0mtext\u001b[0m\u001b[0;34m.\u001b[0m\u001b[0mstrip\u001b[0m\u001b[0;34m(\u001b[0m\u001b[0;34m)\u001b[0m\u001b[0;34m\u001b[0m\u001b[0m\n\u001b[0m\u001b[1;32m     39\u001b[0m         \u001b[0mtext\u001b[0m \u001b[0;34m=\u001b[0m \u001b[0mtext\u001b[0m\u001b[0;34m.\u001b[0m\u001b[0mreplace\u001b[0m\u001b[0;34m(\u001b[0m\u001b[0;34m'\\n'\u001b[0m\u001b[0;34m,\u001b[0m \u001b[0;34m' '\u001b[0m\u001b[0;34m)\u001b[0m\u001b[0;34m\u001b[0m\u001b[0m\n\u001b[1;32m     40\u001b[0m \u001b[0;34m\u001b[0m\u001b[0m\n",
      "\u001b[0;31mAttributeError\u001b[0m: 'NoneType' object has no attribute 'text'"
     ]
    }
   ],
   "source": [
    "# Putting everything together: scrape posts from all pages for relevant content\n",
    "\n",
    "bar = progressbar.ProgressBar()\n",
    "\n",
    "new_lst = []\n",
    "\n",
    "# showcase for the first 9 pages / to get all pages change to range(1,1443)\n",
    "for elem,i in zip(range(1,10), bar((range(1,10)))):\n",
    "\n",
    "    page = \"https://daphnecaruanagalizia.com/page/\" + str(elem)\n",
    "    \n",
    "    response = requests.get(page)\n",
    "    soup = BeautifulSoup(response.text, 'html.parser')\n",
    "    \n",
    "    posts = soup.find_all(\"div\", class_=\"postmaster\")\n",
    "\n",
    "    for element in posts:\n",
    "\n",
    "        url = element.find('a')[\"href\"]\n",
    "        \n",
    "        url_temp = url.replace(\"https://daphnecaruanagalizia.com/\",\"\")\n",
    "        date_y = url_temp[:4]\n",
    "        date_m = url_temp[5:7]\n",
    "        \n",
    "        # dealing with error message stemming from one post on page 127\n",
    "        try:\n",
    "            date_t = element.find(class_=\"time\").text\n",
    "        except \"AttributeError\":\n",
    "            date_t = \"n.a.\"\n",
    "            \n",
    "        title = element.find('a')[\"title\"]\n",
    "        title = title.replace(\"Permanent Link to \", \"\")\n",
    "        \n",
    "        post_id = element.get('data-postid')\n",
    "        \n",
    "        response = requests.get(url)\n",
    "        abc = BeautifulSoup(response.text, 'html.parser')\n",
    "        text = abc.find(class_=\"entry\").text.strip()\n",
    "        text = text.replace('\\n', ' ')\n",
    "\n",
    "        temp_dict = {'Link': url,\n",
    "                    'Title': title,\n",
    "                    'Txt': text,\n",
    "                    'Date_1': date_y,\n",
    "                    'Date_2': date_m,\n",
    "                    'Date_3': date_t,\n",
    "                    'ID_post': post_id,\n",
    "                    'ID_page': i }\n",
    "\n",
    "        new_lst.append(temp_dict)\n",
    "    \n",
    "\n",
    "df = pd.DataFrame(new_lst)\n",
    "df.to_csv('daphne.csv', sep='\\t', encoding='utf-16')\n",
    "\n"
   ]
  },
  {
   "cell_type": "code",
   "execution_count": null,
   "metadata": {},
   "outputs": [],
   "source": [
    "pd.DataFrame(new_lst)[0:5]"
   ]
  },
  {
   "cell_type": "code",
   "execution_count": null,
   "metadata": {},
   "outputs": [],
   "source": []
  }
 ],
 "metadata": {
  "kernelspec": {
   "display_name": "Python 3",
   "language": "python",
   "name": "python3"
  },
  "language_info": {
   "codemirror_mode": {
    "name": "ipython",
    "version": 3
   },
   "file_extension": ".py",
   "mimetype": "text/x-python",
   "name": "python",
   "nbconvert_exporter": "python",
   "pygments_lexer": "ipython3",
   "version": "3.7.0"
  }
 },
 "nbformat": 4,
 "nbformat_minor": 2
}
