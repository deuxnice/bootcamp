{
 "cells": [
  {
   "cell_type": "markdown",
   "metadata": {},
   "source": [
    "# Projekt: Republik"
   ]
  },
  {
   "cell_type": "markdown",
   "metadata": {},
   "source": [
    "Die Republik schreibe die längsten Artikel der Welt, heisst es. Wie lang sind die Artikel tatsächlich? Wer ist das Zeichenmonster der Redaktion, und hat sich seit der Ankündigung, kürzer werden zu wollen, etwas geändert? Höchste Zeit, das herauszufinden (spätestens bis zum 1-Jahr-Jubiläum). "
   ]
  },
  {
   "cell_type": "markdown",
   "metadata": {},
   "source": [
    "## 1. Schritt: Artikel und Links rausfiltern"
   ]
  },
  {
   "cell_type": "markdown",
   "metadata": {},
   "source": [
    "### 1. Bibliotheken importieren"
   ]
  },
  {
   "cell_type": "code",
   "execution_count": 1,
   "metadata": {},
   "outputs": [],
   "source": [
    "from bs4 import BeautifulSoup\n",
    "import pandas as pd"
   ]
  },
  {
   "cell_type": "markdown",
   "metadata": {},
   "source": [
    "### 2. Republik-Feed importieren"
   ]
  },
  {
   "cell_type": "markdown",
   "metadata": {},
   "source": [
    "Praktischerweise hat die Republik einen Feed, in dem alle Artikel aufgelistet sind. Statt umständlich via Selenium oder Requests, hab ich die Seite, Tipp von Simon sei Dank, als Html-File gespeichert und dann als Dokument eingelesen."
   ]
  },
  {
   "cell_type": "code",
   "execution_count": 2,
   "metadata": {},
   "outputs": [],
   "source": [
    "republik = open('Feed_Republik.htm', 'r')"
   ]
  },
  {
   "cell_type": "markdown",
   "metadata": {},
   "source": [
    "### 3. Lesbar machen mit BeautifulSoup"
   ]
  },
  {
   "cell_type": "code",
   "execution_count": 3,
   "metadata": {},
   "outputs": [],
   "source": [
    "soup = BeautifulSoup(republik, 'html.parser')"
   ]
  },
  {
   "cell_type": "markdown",
   "metadata": {},
   "source": [
    "### 4. Titel, Links, Leads, Texte ausfiltern"
   ]
  },
  {
   "cell_type": "markdown",
   "metadata": {},
   "source": [
    "Nach laaaanger Suche habe ich endlich geschnallt: Die Republik-Seite ist tageweise strukturiert, jeweils mit 'section'."
   ]
  },
  {
   "cell_type": "code",
   "execution_count": 4,
   "metadata": {},
   "outputs": [
    {
     "data": {
      "text/plain": [
       "<section><div data-css-1sr3gvd=\"\"><div data-css-ghieyj=\"\" style=\"position: relative; width: 528px;\">Donnerstag,\n",
       "01.11.2018</div></div><div data-css-1vcqcuq=\"\" style=\"border-color: rgb(0, 0, 0);\"><p data-css-bb7m24=\"\" style=\"color: rgb(0, 0, 0);\"><a data-css-ugjf8l=\"\" href=\"https://www.republik.ch/format/feuilleton-newsletter\">Feuilleton-Newsletter</a></p><h1 data-css-1mjrhwx=\"\" data-css-ubtlvb=\"\"><a data-css-ugjf8l=\"\" href=\"https://www.republik.ch/2018/11/01/feuilleton-newsletter\">Einladung zum Buchclub, ein Best-of und ein Prozessbesuch in Basel</a></h1><p data-css-w0m4y7=\"\"><a data-css-ugjf8l=\"\" href=\"https://www.republik.ch/2018/11/01/feuilleton-newsletter\"></a></p><p data-css-jo0cg8=\"\"></p></div><div data-css-1vcqcuq=\"\"><h1 data-css-1mjrhwx=\"\" data-css-1xpha7f=\"\"><a data-css-ugjf8l=\"\" href=\"https://www.republik.ch/2018/11/01/wir-basteln-uns-extremisten\">Wir basteln uns Extremisten</a></h1><p data-css-w0m4y7=\"\"><a data-css-ugjf8l=\"\" href=\"https://www.republik.ch/2018/11/01/wir-basteln-uns-extremisten\">Beim Prozess gegen mutmassliche achtzehn Teilnehmer einer Demonstration gegen Rassismus in Basel spielt die Wahrheit nur eine Nebenrolle.</a></p><p data-css-jo0cg8=\"\">Von <a data-css-1bammlk=\"\" href=\"https://www.republik.ch/~dryser\" title=\"Daniel Ryser\">Daniel Ryser</a></p></div><div data-css-1vcqcuq=\"\" style=\"border-color: rgb(124, 124, 124);\"><p data-css-bb7m24=\"\" style=\"color: rgb(124, 124, 124);\"><a data-css-ugjf8l=\"\" href=\"https://www.republik.ch/format/preis-der-republik\">Preis der Republik</a></p><h1 data-css-1mjrhwx=\"\" data-css-1xpha7f=\"\"><a data-css-ugjf8l=\"\" href=\"https://www.republik.ch/2018/11/01/ikone-des-guten-stils\">Ikone des guten Stils</a></h1><p data-css-w0m4y7=\"\"><a data-css-ugjf8l=\"\" href=\"https://www.republik.ch/2018/11/01/ikone-des-guten-stils\">Diesen Preis hätten wir nie verleihen wollen. Jetzt tun wir es von ganzem, bangem Herzen.</a></p><p data-css-jo0cg8=\"\"></p></div><div data-css-1vcqcuq=\"\" style=\"border-color: rgb(124, 124, 124);\"><p data-css-bb7m24=\"\" style=\"color: rgb(124, 124, 124);\"><a data-css-ugjf8l=\"\" href=\"https://www.republik.ch/format/buchclub\">Buchclub</a></p><h1 data-css-1mjrhwx=\"\" data-css-1xpha7f=\"\"><a data-css-ugjf8l=\"\" href=\"https://www.republik.ch/2018/11/01/lesen-sie-ein-buch-mit-uns\">Lesen Sie ein Buch mit uns!</a></h1><p data-css-w0m4y7=\"\"><a data-css-ugjf8l=\"\" href=\"https://www.republik.ch/2018/11/01/lesen-sie-ein-buch-mit-uns\">Ein Buch, viele Meinungen: Das Republik-Feuilleton lädt wieder zum literarischen Austausch ein. Diskutieren Sie in unserem Buchclub – online und auf der Redaktion.</a></p><p data-css-jo0cg8=\"\">Von <a data-css-1bammlk=\"\" href=\"https://www.republik.ch/~graf\">Daniel Graf</a> (Text) und Douglas Mandry (Bild)</p></div><div data-css-1vcqcuq=\"\" style=\"border-color: rgb(8, 128, 154);\"><p data-css-bb7m24=\"\" style=\"color: rgb(8, 128, 154);\"><a data-css-ugjf8l=\"\" href=\"https://www.republik.ch/format/briefing-aus-bern\">Briefing aus Bern</a></p><h1 data-css-1mjrhwx=\"\" data-css-1xpha7f=\"\"><a data-css-ugjf8l=\"\" href=\"https://www.republik.ch/2018/11/01/bundesrat-streitet-um-kronprinz-die-5g-auktion-und-doch-keine-waffen-fuer-buergerkriege\">Bundesrat streitet um Kronprinz, die 5G-Auktion – und doch keine Waffen für Bürgerkriege</a></h1><p data-css-w0m4y7=\"\"><a data-css-ugjf8l=\"\" href=\"https://www.republik.ch/2018/11/01/bundesrat-streitet-um-kronprinz-die-5g-auktion-und-doch-keine-waffen-fuer-buergerkriege\">Das Wichtigste in Kürze aus dem Bundeshaus (31).</a></p><p data-css-jo0cg8=\"\">Von <a data-css-1bammlk=\"\" href=\"https://www.republik.ch/~eblulle\">Elia Blülle</a></p></div><div data-css-1vcqcuq=\"\" style=\"border-color: rgb(212, 67, 56);\"><p data-css-bb7m24=\"\" style=\"color: rgb(212, 67, 56);\"><a data-css-ugjf8l=\"\" href=\"https://www.republik.ch/format/gift-und-galle\">Gift und Galle</a></p><h1 data-css-1mjrhwx=\"\" data-css-bv3ljy=\"\"><a data-css-ugjf8l=\"\" href=\"https://www.republik.ch/2018/11/01/meine-hassliebe-fuer-den-finanzmarkt\">Meine Hassliebe für den Finanzmarkt</a></h1><p data-css-w0m4y7=\"\"><a data-css-ugjf8l=\"\" href=\"https://www.republik.ch/2018/11/01/meine-hassliebe-fuer-den-finanzmarkt\">Wie lange brauchen die Börsen, um einzusehen, dass Jair Bolsonaro kein liberaler Heilsbringer ist?</a></p><p data-css-jo0cg8=\"\">Von <a data-css-1bammlk=\"\" href=\"https://www.republik.ch/~simonschmid\">Simon Schmid</a></p></div></section>"
      ]
     },
     "execution_count": 4,
     "metadata": {},
     "output_type": "execute_result"
    }
   ],
   "source": [
    "feed = soup.find_all('section')\n",
    "feed[3]"
   ]
  },
  {
   "cell_type": "markdown",
   "metadata": {},
   "source": [
    "Der erste «Artikel» des Tages ist jeweils ein Newsletter, der zudem eine Art Kickwort hat. Also erstmal diese rausfiltern, inklusive Titel, Datum, Link. "
   ]
  },
  {
   "cell_type": "code",
   "execution_count": 5,
   "metadata": {},
   "outputs": [
    {
     "data": {
      "text/plain": [
       "'Feuilleton-Newsletter'"
      ]
     },
     "execution_count": 5,
     "metadata": {},
     "output_type": "execute_result"
    }
   ],
   "source": [
    "#Kickwort Newsletter\n",
    "kickwort_nl = feed[3].find('a').text\n",
    "kickwort_nl\n"
   ]
  },
  {
   "cell_type": "code",
   "execution_count": 6,
   "metadata": {},
   "outputs": [
    {
     "data": {
      "text/plain": [
       "'https://www.republik.ch/format/wochenend-newsletter'"
      ]
     },
     "execution_count": 6,
     "metadata": {},
     "output_type": "execute_result"
    }
   ],
   "source": [
    "#Link Newsletter\n",
    "link_nl = feed[1].find('a')['href']\n",
    "link_nl\n"
   ]
  },
  {
   "cell_type": "code",
   "execution_count": 7,
   "metadata": {},
   "outputs": [
    {
     "data": {
      "text/plain": [
       "'Samstag, 03.11.2018'"
      ]
     },
     "execution_count": 7,
     "metadata": {},
     "output_type": "execute_result"
    }
   ],
   "source": [
    "#Datum Newsletter\n",
    "datum_nl = feed[1].find('div').text.replace('\\n',' ')\n",
    "datum_nl\n"
   ]
  },
  {
   "cell_type": "code",
   "execution_count": 8,
   "metadata": {},
   "outputs": [
    {
     "data": {
      "text/plain": [
       "'Bedrohte Bürgerrechte, Besuch in Riga und einiges in eigener Sache'"
      ]
     },
     "execution_count": 8,
     "metadata": {},
     "output_type": "execute_result"
    }
   ],
   "source": [
    "#Titel Newsletter\n",
    "titel_nl = feed[1].find('h1').text\n",
    "titel_nl"
   ]
  },
  {
   "cell_type": "markdown",
   "metadata": {},
   "source": [
    "Eigentlich hätte ich nun auch die Titel der Artikel herausfiltern sollen. Aber das kriege ich trotz langer Probiererei nicht hin. Die Titel sind genau wie die Newsletter-Titel nach 'h1' strukturiert, aber es filtert nur die Newsletter heraus. Ich müsste also quasi «eine Stufe tiefer» danach suchen. Aber erstmal das erste DataFrame. "
   ]
  },
  {
   "cell_type": "markdown",
   "metadata": {},
   "source": [
    "###  4. Erstes DataFrame erstellen mit Datum, Titel, Link"
   ]
  },
  {
   "cell_type": "code",
   "execution_count": 9,
   "metadata": {},
   "outputs": [],
   "source": [
    "republik_newsletter_liste = []\n",
    "\n",
    "for element in feed: \n",
    "    \n",
    "    titel_nl = element.find('h1').text\n",
    "    link_nl = element.find('a')['href']\n",
    "    datum_nl = element.find('div').text.replace('\\n',' ')\n",
    "    kickwort_nl = element.find('a').text\n",
    "        \n",
    "    dict = {'Titel Newsletter': titel_nl,\n",
    "           'Link Newsletter': link_nl,\n",
    "           'Datum': datum_nl,\n",
    "           'Kickwort Newsletter': kickwort_nl}\n",
    "    \n",
    "        \n",
    "    republik_newsletter_liste.append(dict)\n",
    "    \n",
    "    "
   ]
  },
  {
   "cell_type": "code",
   "execution_count": 10,
   "metadata": {
    "scrolled": false
   },
   "outputs": [
    {
     "data": {
      "text/html": [
       "<div>\n",
       "<style scoped>\n",
       "    .dataframe tbody tr th:only-of-type {\n",
       "        vertical-align: middle;\n",
       "    }\n",
       "\n",
       "    .dataframe tbody tr th {\n",
       "        vertical-align: top;\n",
       "    }\n",
       "\n",
       "    .dataframe thead th {\n",
       "        text-align: right;\n",
       "    }\n",
       "</style>\n",
       "<table border=\"1\" class=\"dataframe\">\n",
       "  <thead>\n",
       "    <tr style=\"text-align: right;\">\n",
       "      <th></th>\n",
       "      <th>Datum</th>\n",
       "      <th>Kickwort Newsletter</th>\n",
       "      <th>Link Newsletter</th>\n",
       "      <th>Titel Newsletter</th>\n",
       "    </tr>\n",
       "  </thead>\n",
       "  <tbody>\n",
       "    <tr>\n",
       "      <th>0</th>\n",
       "      <td>Montag, 05.11.2018</td>\n",
       "      <td>7-Uhr-Newsletter</td>\n",
       "      <td>https://www.republik.ch/format/7-uhr-newsletter</td>\n",
       "      <td>Feindbild Soros, Schweizer Parteienlandschaft ...</td>\n",
       "    </tr>\n",
       "    <tr>\n",
       "      <th>1</th>\n",
       "      <td>Samstag, 03.11.2018</td>\n",
       "      <td>Wochenend-Newsletter</td>\n",
       "      <td>https://www.republik.ch/format/wochenend-newsl...</td>\n",
       "      <td>Bedrohte Bürgerrechte, Besuch in Riga und eini...</td>\n",
       "    </tr>\n",
       "    <tr>\n",
       "      <th>2</th>\n",
       "      <td>Freitag, 02.11.2018</td>\n",
       "      <td>7-Uhr-Newsletter</td>\n",
       "      <td>https://www.republik.ch/format/7-uhr-newsletter</td>\n",
       "      <td>Friedensgeier, Fotobuch und eine Bagatelle</td>\n",
       "    </tr>\n",
       "    <tr>\n",
       "      <th>3</th>\n",
       "      <td>Donnerstag, 01.11.2018</td>\n",
       "      <td>Feuilleton-Newsletter</td>\n",
       "      <td>https://www.republik.ch/format/feuilleton-news...</td>\n",
       "      <td>Einladung zum Buchclub, ein Best-of und ein Pr...</td>\n",
       "    </tr>\n",
       "    <tr>\n",
       "      <th>4</th>\n",
       "      <td>Mittwoch, 31.10.2018</td>\n",
       "      <td>An die Verlagsetage</td>\n",
       "      <td>https://www.republik.ch/format/an-die-verlagse...</td>\n",
       "      <td>Wie Sie wählten, stimmten – und was Sie wollen</td>\n",
       "    </tr>\n",
       "  </tbody>\n",
       "</table>\n",
       "</div>"
      ],
      "text/plain": [
       "                    Datum    Kickwort Newsletter  \\\n",
       "0      Montag, 05.11.2018       7-Uhr-Newsletter   \n",
       "1     Samstag, 03.11.2018   Wochenend-Newsletter   \n",
       "2     Freitag, 02.11.2018       7-Uhr-Newsletter   \n",
       "3  Donnerstag, 01.11.2018  Feuilleton-Newsletter   \n",
       "4    Mittwoch, 31.10.2018    An die Verlagsetage   \n",
       "\n",
       "                                     Link Newsletter  \\\n",
       "0    https://www.republik.ch/format/7-uhr-newsletter   \n",
       "1  https://www.republik.ch/format/wochenend-newsl...   \n",
       "2    https://www.republik.ch/format/7-uhr-newsletter   \n",
       "3  https://www.republik.ch/format/feuilleton-news...   \n",
       "4  https://www.republik.ch/format/an-die-verlagse...   \n",
       "\n",
       "                                    Titel Newsletter  \n",
       "0  Feindbild Soros, Schweizer Parteienlandschaft ...  \n",
       "1  Bedrohte Bürgerrechte, Besuch in Riga und eini...  \n",
       "2         Friedensgeier, Fotobuch und eine Bagatelle  \n",
       "3  Einladung zum Buchclub, ein Best-of und ein Pr...  \n",
       "4     Wie Sie wählten, stimmten – und was Sie wollen  "
      ]
     },
     "execution_count": 10,
     "metadata": {},
     "output_type": "execute_result"
    }
   ],
   "source": [
    "erste_artikelliste = pd.DataFrame(republik_newsletter_liste)\n",
    "erste_artikelliste.head()"
   ]
  },
  {
   "cell_type": "markdown",
   "metadata": {},
   "source": [
    "### 5. Zweites DataFrame erstellen mit Titeln und Links"
   ]
  },
  {
   "cell_type": "markdown",
   "metadata": {},
   "source": [
    "So, ein zweiter Versuch, zusätzlich zu den Newsletter-Titeln auch die Artikeltitel herauszufiltern. Dazu braucht es, wie mir irgendwann dämmert, einen Loop im Loop. "
   ]
  },
  {
   "cell_type": "code",
   "execution_count": 11,
   "metadata": {},
   "outputs": [],
   "source": [
    "# nochmals feed heraussuchen\n",
    "feed = soup.find_all('section')\n",
    "\n",
    "\n",
    "#alle Titel im Feed rausfiltern\n",
    "alle_titel = []\n",
    "\n",
    "for titel in feed:\n",
    "    titel = titel.find_all('h1')\n",
    "    for titel in titel:\n",
    "        titel = titel.text\n",
    "        alle_titel.append(titel)\n",
    "\n",
    "\n",
    "#alle Leads im Feed rausfiltern\n",
    "\n",
    "alle_links = []\n",
    "\n",
    "for link in feed:\n",
    "    link = link.find_all('h1')\n",
    "    for link in link: \n",
    "        link = link.find('a')['href']\n",
    "        alle_links.append(link)\n",
    "        \n",
    "        \n",
    "        "
   ]
  },
  {
   "cell_type": "code",
   "execution_count": 29,
   "metadata": {},
   "outputs": [
    {
     "data": {
      "text/html": [
       "<div>\n",
       "<style scoped>\n",
       "    .dataframe tbody tr th:only-of-type {\n",
       "        vertical-align: middle;\n",
       "    }\n",
       "\n",
       "    .dataframe tbody tr th {\n",
       "        vertical-align: top;\n",
       "    }\n",
       "\n",
       "    .dataframe thead th {\n",
       "        text-align: right;\n",
       "    }\n",
       "</style>\n",
       "<table border=\"1\" class=\"dataframe\">\n",
       "  <thead>\n",
       "    <tr style=\"text-align: right;\">\n",
       "      <th></th>\n",
       "      <th>Datum</th>\n",
       "      <th>Link</th>\n",
       "      <th>Titel Artikel</th>\n",
       "    </tr>\n",
       "  </thead>\n",
       "  <tbody>\n",
       "    <tr>\n",
       "      <th>0</th>\n",
       "      <td>Samstag, 13.01.2018</td>\n",
       "      <td>https://www.republik.ch/2018/01/13/tamil-tiger...</td>\n",
       "      <td>Ist die Bank die wahre Täterin?</td>\n",
       "    </tr>\n",
       "    <tr>\n",
       "      <th>1</th>\n",
       "      <td>Samstag, 13.01.2018</td>\n",
       "      <td>https://www.republik.ch/2018/01/13/zuckerbergs...</td>\n",
       "      <td>Zuckerbergs Monster</td>\n",
       "    </tr>\n",
       "    <tr>\n",
       "      <th>2</th>\n",
       "      <td>Samstag, 13.01.2018</td>\n",
       "      <td>https://www.republik.ch/2018/01/13/wie-angela-...</td>\n",
       "      <td>Der Schrecken der Nächte</td>\n",
       "    </tr>\n",
       "    <tr>\n",
       "      <th>3</th>\n",
       "      <td>Samstag, 13.01.2018</td>\n",
       "      <td>https://www.republik.ch/2018/01/13/interview-w...</td>\n",
       "      <td>«Ich würde auf Patriotismus setzen»</td>\n",
       "    </tr>\n",
       "    <tr>\n",
       "      <th>4</th>\n",
       "      <td>Samstag, 13.01.2018</td>\n",
       "      <td>https://www.republik.ch/2018/01/13/gebrauchsan...</td>\n",
       "      <td>Gebrauchsanleitung für die Republik</td>\n",
       "    </tr>\n",
       "    <tr>\n",
       "      <th>5</th>\n",
       "      <td>Samstag, 13.01.2018</td>\n",
       "      <td>https://www.republik.ch/2018/01/13/kolumne-bin...</td>\n",
       "      <td>Nein heisst Ja</td>\n",
       "    </tr>\n",
       "    <tr>\n",
       "      <th>6</th>\n",
       "      <td>Samstag, 13.01.2018</td>\n",
       "      <td>https://www.republik.ch/2018/01/13/kolumne-nah...</td>\n",
       "      <td>Appenzell, Schweiz</td>\n",
       "    </tr>\n",
       "    <tr>\n",
       "      <th>7</th>\n",
       "      <td>Samstag, 13.01.2018</td>\n",
       "      <td>https://www.republik.ch/2018/01/13/verdeckte-p...</td>\n",
       "      <td>Verdeckte Politwerbung enttarnen</td>\n",
       "    </tr>\n",
       "  </tbody>\n",
       "</table>\n",
       "</div>"
      ],
      "text/plain": [
       "                 Datum                                               Link  \\\n",
       "0  Samstag, 13.01.2018  https://www.republik.ch/2018/01/13/tamil-tiger...   \n",
       "1  Samstag, 13.01.2018  https://www.republik.ch/2018/01/13/zuckerbergs...   \n",
       "2  Samstag, 13.01.2018  https://www.republik.ch/2018/01/13/wie-angela-...   \n",
       "3  Samstag, 13.01.2018  https://www.republik.ch/2018/01/13/interview-w...   \n",
       "4  Samstag, 13.01.2018  https://www.republik.ch/2018/01/13/gebrauchsan...   \n",
       "5  Samstag, 13.01.2018  https://www.republik.ch/2018/01/13/kolumne-bin...   \n",
       "6  Samstag, 13.01.2018  https://www.republik.ch/2018/01/13/kolumne-nah...   \n",
       "7  Samstag, 13.01.2018  https://www.republik.ch/2018/01/13/verdeckte-p...   \n",
       "\n",
       "                         Titel Artikel  \n",
       "0      Ist die Bank die wahre Täterin?  \n",
       "1                  Zuckerbergs Monster  \n",
       "2             Der Schrecken der Nächte  \n",
       "3  «Ich würde auf Patriotismus setzen»  \n",
       "4  Gebrauchsanleitung für die Republik  \n",
       "5                       Nein heisst Ja  \n",
       "6                   Appenzell, Schweiz  \n",
       "7     Verdeckte Politwerbung enttarnen  "
      ]
     },
     "execution_count": 29,
     "metadata": {},
     "output_type": "execute_result"
    }
   ],
   "source": [
    "#Und nun alles in ein kleines DataFrame packen.\n",
    "\n",
    "alle_titel_leads = []\n",
    "\n",
    "datum = element.find('div').text.replace('\\n',' ')\n",
    "\n",
    "\n",
    "for titel, link in zip(alle_titel,alle_links):\n",
    "      \n",
    "        dict_mini = {'Titel Artikel': titel,\n",
    "           'Link': link, \n",
    "            'Datum': datum}\n",
    "        \n",
    "        alle_titel_leads.append(dict_mini)\n",
    "\n",
    "kleine_artikelliste = pd.DataFrame(alle_titel_leads)\n",
    "kleine_artikelliste.head(15)\n"
   ]
  },
  {
   "cell_type": "markdown",
   "metadata": {},
   "source": [
    "## 6. Alles in ein DataFrame zu packen – erster Versuch"
   ]
  },
  {
   "cell_type": "code",
   "execution_count": 36,
   "metadata": {},
   "outputs": [],
   "source": [
    "republik_komplette_liste = []\n",
    "\n",
    "for element in feed: \n",
    "    \n",
    "    titel_nl = element.find('h1').text\n",
    "    \n",
    "    alle_titel = []\n",
    "    titel = element.find_all('h1')\n",
    "    for titel in titel:\n",
    "        titel = titel.text\n",
    "        alle_titel.append(titel)\n",
    "   \n",
    "    alle_links = []\n",
    "    link = element.find_all('h1')\n",
    "    for link in link: \n",
    "        link = link.find('a')['href']\n",
    "        alle_links.append(link)\n",
    "    \n",
    "    \n",
    "    link_nl = element.find('a')['href']\n",
    "    datum_nl = element.find('div').text.replace('\\n',' ')\n",
    "    kickwort_nl = element.find('a').text\n",
    "    \n",
    "    \n",
    "  \n",
    "        \n",
    "    \n",
    "    #alles in ein Dictionary \n",
    "   \n",
    "        \n",
    "    dict = {'Titel Newsletter': titel_nl,\n",
    "           'Link': link_nl,\n",
    "           'Datum': datum_nl,\n",
    "           'Kickwort Newsletter': kickwort_nl,\n",
    "           'Titel Artikel': alle_titel,\n",
    "           'Link Artikel': alle_links}\n",
    "    \n",
    "        \n",
    "    republik_komplette_liste.append(dict)\n",
    "    \n",
    "    "
   ]
  },
  {
   "cell_type": "code",
   "execution_count": 37,
   "metadata": {},
   "outputs": [
    {
     "data": {
      "text/html": [
       "<div>\n",
       "<style scoped>\n",
       "    .dataframe tbody tr th:only-of-type {\n",
       "        vertical-align: middle;\n",
       "    }\n",
       "\n",
       "    .dataframe tbody tr th {\n",
       "        vertical-align: top;\n",
       "    }\n",
       "\n",
       "    .dataframe thead th {\n",
       "        text-align: right;\n",
       "    }\n",
       "</style>\n",
       "<table border=\"1\" class=\"dataframe\">\n",
       "  <thead>\n",
       "    <tr style=\"text-align: right;\">\n",
       "      <th></th>\n",
       "      <th>Datum</th>\n",
       "      <th>Kickwort Newsletter</th>\n",
       "      <th>Link</th>\n",
       "      <th>Link Artikel</th>\n",
       "      <th>Titel Artikel</th>\n",
       "      <th>Titel Newsletter</th>\n",
       "    </tr>\n",
       "  </thead>\n",
       "  <tbody>\n",
       "    <tr>\n",
       "      <th>0</th>\n",
       "      <td>Montag, 05.11.2018</td>\n",
       "      <td>7-Uhr-Newsletter</td>\n",
       "      <td>https://www.republik.ch/format/7-uhr-newsletter</td>\n",
       "      <td>[https://www.republik.ch/2018/11/05/7-uhr-news...</td>\n",
       "      <td>[Feindbild Soros, Schweizer Parteienlandschaft...</td>\n",
       "      <td>Feindbild Soros, Schweizer Parteienlandschaft ...</td>\n",
       "    </tr>\n",
       "    <tr>\n",
       "      <th>1</th>\n",
       "      <td>Samstag, 03.11.2018</td>\n",
       "      <td>Wochenend-Newsletter</td>\n",
       "      <td>https://www.republik.ch/format/wochenend-newsl...</td>\n",
       "      <td>[https://www.republik.ch/2018/11/03/wochenend-...</td>\n",
       "      <td>[Bedrohte Bürgerrechte, Besuch in Riga und ein...</td>\n",
       "      <td>Bedrohte Bürgerrechte, Besuch in Riga und eini...</td>\n",
       "    </tr>\n",
       "    <tr>\n",
       "      <th>2</th>\n",
       "      <td>Freitag, 02.11.2018</td>\n",
       "      <td>7-Uhr-Newsletter</td>\n",
       "      <td>https://www.republik.ch/format/7-uhr-newsletter</td>\n",
       "      <td>[https://www.republik.ch/2018/11/02/7-uhr-news...</td>\n",
       "      <td>[Friedensgeier, Fotobuch und eine Bagatelle, D...</td>\n",
       "      <td>Friedensgeier, Fotobuch und eine Bagatelle</td>\n",
       "    </tr>\n",
       "    <tr>\n",
       "      <th>3</th>\n",
       "      <td>Donnerstag, 01.11.2018</td>\n",
       "      <td>Feuilleton-Newsletter</td>\n",
       "      <td>https://www.republik.ch/format/feuilleton-news...</td>\n",
       "      <td>[https://www.republik.ch/2018/11/01/feuilleton...</td>\n",
       "      <td>[Einladung zum Buchclub, ein Best-of und ein P...</td>\n",
       "      <td>Einladung zum Buchclub, ein Best-of und ein Pr...</td>\n",
       "    </tr>\n",
       "    <tr>\n",
       "      <th>4</th>\n",
       "      <td>Mittwoch, 31.10.2018</td>\n",
       "      <td>An die Verlagsetage</td>\n",
       "      <td>https://www.republik.ch/format/an-die-verlagse...</td>\n",
       "      <td>[https://www.republik.ch/2018/10/31/wie-sie-wa...</td>\n",
       "      <td>[Wie Sie wählten, stimmten – und was Sie wolle...</td>\n",
       "      <td>Wie Sie wählten, stimmten – und was Sie wollen</td>\n",
       "    </tr>\n",
       "  </tbody>\n",
       "</table>\n",
       "</div>"
      ],
      "text/plain": [
       "                    Datum    Kickwort Newsletter  \\\n",
       "0      Montag, 05.11.2018       7-Uhr-Newsletter   \n",
       "1     Samstag, 03.11.2018   Wochenend-Newsletter   \n",
       "2     Freitag, 02.11.2018       7-Uhr-Newsletter   \n",
       "3  Donnerstag, 01.11.2018  Feuilleton-Newsletter   \n",
       "4    Mittwoch, 31.10.2018    An die Verlagsetage   \n",
       "\n",
       "                                                Link  \\\n",
       "0    https://www.republik.ch/format/7-uhr-newsletter   \n",
       "1  https://www.republik.ch/format/wochenend-newsl...   \n",
       "2    https://www.republik.ch/format/7-uhr-newsletter   \n",
       "3  https://www.republik.ch/format/feuilleton-news...   \n",
       "4  https://www.republik.ch/format/an-die-verlagse...   \n",
       "\n",
       "                                        Link Artikel  \\\n",
       "0  [https://www.republik.ch/2018/11/05/7-uhr-news...   \n",
       "1  [https://www.republik.ch/2018/11/03/wochenend-...   \n",
       "2  [https://www.republik.ch/2018/11/02/7-uhr-news...   \n",
       "3  [https://www.republik.ch/2018/11/01/feuilleton...   \n",
       "4  [https://www.republik.ch/2018/10/31/wie-sie-wa...   \n",
       "\n",
       "                                       Titel Artikel  \\\n",
       "0  [Feindbild Soros, Schweizer Parteienlandschaft...   \n",
       "1  [Bedrohte Bürgerrechte, Besuch in Riga und ein...   \n",
       "2  [Friedensgeier, Fotobuch und eine Bagatelle, D...   \n",
       "3  [Einladung zum Buchclub, ein Best-of und ein P...   \n",
       "4  [Wie Sie wählten, stimmten – und was Sie wolle...   \n",
       "\n",
       "                                    Titel Newsletter  \n",
       "0  Feindbild Soros, Schweizer Parteienlandschaft ...  \n",
       "1  Bedrohte Bürgerrechte, Besuch in Riga und eini...  \n",
       "2         Friedensgeier, Fotobuch und eine Bagatelle  \n",
       "3  Einladung zum Buchclub, ein Best-of und ein Pr...  \n",
       "4     Wie Sie wählten, stimmten – und was Sie wollen  "
      ]
     },
     "execution_count": 37,
     "metadata": {},
     "output_type": "execute_result"
    }
   ],
   "source": [
    "komplette_liste = pd.DataFrame(republik_komplette_liste)\n",
    "komplette_liste.head()"
   ]
  },
  {
   "cell_type": "markdown",
   "metadata": {},
   "source": [
    "Das Problem ist nun, dass die Artikel nicht schön untereinander aufgelistet werden, sondern als Liste in einer Zeile, also in der Zeile des betreffenden Datums. Hier drum neuer Versuch, mal schauen, obs mit dem Mergen klappt. "
   ]
  },
  {
   "cell_type": "markdown",
   "metadata": {},
   "source": [
    "## 6. Alles in ein DataFrame packen – zweiter Versuch\n"
   ]
  },
  {
   "cell_type": "code",
   "execution_count": 38,
   "metadata": {},
   "outputs": [
    {
     "data": {
      "text/html": [
       "<div>\n",
       "<style scoped>\n",
       "    .dataframe tbody tr th:only-of-type {\n",
       "        vertical-align: middle;\n",
       "    }\n",
       "\n",
       "    .dataframe tbody tr th {\n",
       "        vertical-align: top;\n",
       "    }\n",
       "\n",
       "    .dataframe thead th {\n",
       "        text-align: right;\n",
       "    }\n",
       "</style>\n",
       "<table border=\"1\" class=\"dataframe\">\n",
       "  <thead>\n",
       "    <tr style=\"text-align: right;\">\n",
       "      <th></th>\n",
       "      <th>Datum</th>\n",
       "      <th>Link</th>\n",
       "      <th>Titel Artikel</th>\n",
       "      <th>Kickwort Newsletter</th>\n",
       "      <th>Link Newsletter</th>\n",
       "      <th>Titel Newsletter</th>\n",
       "    </tr>\n",
       "  </thead>\n",
       "  <tbody>\n",
       "    <tr>\n",
       "      <th>0</th>\n",
       "      <td>Samstag, 13.01.2018</td>\n",
       "      <td>https://www.republik.ch/2018/01/13/tamil-tiger...</td>\n",
       "      <td>Ist die Bank die wahre Täterin?</td>\n",
       "      <td>Ist die Bank die wahre Täterin?</td>\n",
       "      <td>https://www.republik.ch/2018/01/13/tamil-tiger...</td>\n",
       "      <td>Ist die Bank die wahre Täterin?</td>\n",
       "    </tr>\n",
       "    <tr>\n",
       "      <th>1</th>\n",
       "      <td>Samstag, 13.01.2018</td>\n",
       "      <td>https://www.republik.ch/2018/01/13/zuckerbergs...</td>\n",
       "      <td>Zuckerbergs Monster</td>\n",
       "      <td>Ist die Bank die wahre Täterin?</td>\n",
       "      <td>https://www.republik.ch/2018/01/13/tamil-tiger...</td>\n",
       "      <td>Ist die Bank die wahre Täterin?</td>\n",
       "    </tr>\n",
       "    <tr>\n",
       "      <th>2</th>\n",
       "      <td>Samstag, 13.01.2018</td>\n",
       "      <td>https://www.republik.ch/2018/01/13/wie-angela-...</td>\n",
       "      <td>Der Schrecken der Nächte</td>\n",
       "      <td>Ist die Bank die wahre Täterin?</td>\n",
       "      <td>https://www.republik.ch/2018/01/13/tamil-tiger...</td>\n",
       "      <td>Ist die Bank die wahre Täterin?</td>\n",
       "    </tr>\n",
       "    <tr>\n",
       "      <th>3</th>\n",
       "      <td>Samstag, 13.01.2018</td>\n",
       "      <td>https://www.republik.ch/2018/01/13/interview-w...</td>\n",
       "      <td>«Ich würde auf Patriotismus setzen»</td>\n",
       "      <td>Ist die Bank die wahre Täterin?</td>\n",
       "      <td>https://www.republik.ch/2018/01/13/tamil-tiger...</td>\n",
       "      <td>Ist die Bank die wahre Täterin?</td>\n",
       "    </tr>\n",
       "    <tr>\n",
       "      <th>4</th>\n",
       "      <td>Samstag, 13.01.2018</td>\n",
       "      <td>https://www.republik.ch/2018/01/13/gebrauchsan...</td>\n",
       "      <td>Gebrauchsanleitung für die Republik</td>\n",
       "      <td>Ist die Bank die wahre Täterin?</td>\n",
       "      <td>https://www.republik.ch/2018/01/13/tamil-tiger...</td>\n",
       "      <td>Ist die Bank die wahre Täterin?</td>\n",
       "    </tr>\n",
       "  </tbody>\n",
       "</table>\n",
       "</div>"
      ],
      "text/plain": [
       "                 Datum                                               Link  \\\n",
       "0  Samstag, 13.01.2018  https://www.republik.ch/2018/01/13/tamil-tiger...   \n",
       "1  Samstag, 13.01.2018  https://www.republik.ch/2018/01/13/zuckerbergs...   \n",
       "2  Samstag, 13.01.2018  https://www.republik.ch/2018/01/13/wie-angela-...   \n",
       "3  Samstag, 13.01.2018  https://www.republik.ch/2018/01/13/interview-w...   \n",
       "4  Samstag, 13.01.2018  https://www.republik.ch/2018/01/13/gebrauchsan...   \n",
       "\n",
       "                         Titel Artikel              Kickwort Newsletter  \\\n",
       "0      Ist die Bank die wahre Täterin?  Ist die Bank die wahre Täterin?   \n",
       "1                  Zuckerbergs Monster  Ist die Bank die wahre Täterin?   \n",
       "2             Der Schrecken der Nächte  Ist die Bank die wahre Täterin?   \n",
       "3  «Ich würde auf Patriotismus setzen»  Ist die Bank die wahre Täterin?   \n",
       "4  Gebrauchsanleitung für die Republik  Ist die Bank die wahre Täterin?   \n",
       "\n",
       "                                     Link Newsletter  \\\n",
       "0  https://www.republik.ch/2018/01/13/tamil-tiger...   \n",
       "1  https://www.republik.ch/2018/01/13/tamil-tiger...   \n",
       "2  https://www.republik.ch/2018/01/13/tamil-tiger...   \n",
       "3  https://www.republik.ch/2018/01/13/tamil-tiger...   \n",
       "4  https://www.republik.ch/2018/01/13/tamil-tiger...   \n",
       "\n",
       "                  Titel Newsletter  \n",
       "0  Ist die Bank die wahre Täterin?  \n",
       "1  Ist die Bank die wahre Täterin?  \n",
       "2  Ist die Bank die wahre Täterin?  \n",
       "3  Ist die Bank die wahre Täterin?  \n",
       "4  Ist die Bank die wahre Täterin?  "
      ]
     },
     "execution_count": 38,
     "metadata": {},
     "output_type": "execute_result"
    }
   ],
   "source": [
    "df_neu = pd.merge(kleine_artikelliste, erste_artikelliste, how='outer', on='Datum')\n",
    "df_neu.head()"
   ]
  },
  {
   "cell_type": "markdown",
   "metadata": {},
   "source": [
    "Das hat also nicht geklappt. Warum? Keine Ahnung. Also, dann halt weiter. "
   ]
  },
  {
   "cell_type": "markdown",
   "metadata": {},
   "source": [
    "# 2. Schritt : Artikel-Links anwählen und Wörter zählen"
   ]
  },
  {
   "cell_type": "code",
   "execution_count": 39,
   "metadata": {},
   "outputs": [],
   "source": [
    "#Bibliotheken importieren:\n",
    "\n",
    "from bs4 import BeautifulSoup\n",
    "import requests\n",
    "import pandas as pd\n"
   ]
  },
  {
   "cell_type": "markdown",
   "metadata": {},
   "source": [
    "### 1. Linkliste nochmals anzeigen"
   ]
  },
  {
   "cell_type": "code",
   "execution_count": 40,
   "metadata": {},
   "outputs": [],
   "source": [
    "# Hier nochmals der Link-Loop von oben, zur besseren Lesbarkeit. \n",
    "# Zur Erinnerung: In der Variable alle_links sind alle Artikellinks enthalten. \n",
    "\n",
    "republik = open('Feed_Republik.htm', 'r')\n",
    "soup = BeautifulSoup(republik, 'html.parser')\n",
    "\n",
    "feed = soup.find_all('section')\n",
    "\n",
    "alle_links = []\n",
    "\n",
    "for link in feed:\n",
    "    link = link.find_all('h1')\n",
    "    for link in link: \n",
    "        link = link.find('a')['href']\n",
    "        alle_links.append(link)\n"
   ]
  },
  {
   "cell_type": "markdown",
   "metadata": {},
   "source": [
    "### 2. Links einzeln ansteuern und Textlängen rausziehen \n",
    "Der Einfachheit halber all inclusive, also Zwischentitel, Lead und sonstiges Gschmois. "
   ]
  },
  {
   "cell_type": "code",
   "execution_count": 41,
   "metadata": {},
   "outputs": [],
   "source": [
    "liste_artikel_zeichenzahl = []\n",
    "\n",
    "for link in alle_links:\n",
    "    r = requests.get(link).text\n",
    "    soup = BeautifulSoup (r, 'html.parser')\n",
    "   \n",
    "    #Titel Artikel\n",
    "    artikel = soup.find('h1')\n",
    "   \n",
    "    #Zeichenzahl Artikel (all inclusive)\n",
    "    zeichenzahl = soup.find('div').text\n",
    "    zeichenzahl = len(zeichenzahl)\n",
    "    \n",
    "    dict_zeichen = {'Artikel': artikel,'Zeichenzahl': zeichenzahl}\n",
    "    \n",
    "    liste_artikel_zeichenzahl.append(dict_zeichen)\n",
    "\n",
    "\n"
   ]
  },
  {
   "cell_type": "code",
   "execution_count": 42,
   "metadata": {},
   "outputs": [
    {
     "data": {
      "text/html": [
       "<div>\n",
       "<style scoped>\n",
       "    .dataframe tbody tr th:only-of-type {\n",
       "        vertical-align: middle;\n",
       "    }\n",
       "\n",
       "    .dataframe tbody tr th {\n",
       "        vertical-align: top;\n",
       "    }\n",
       "\n",
       "    .dataframe thead th {\n",
       "        text-align: right;\n",
       "    }\n",
       "</style>\n",
       "<table border=\"1\" class=\"dataframe\">\n",
       "  <thead>\n",
       "    <tr style=\"text-align: right;\">\n",
       "      <th></th>\n",
       "      <th>Artikel</th>\n",
       "      <th>Zeichenzahl</th>\n",
       "    </tr>\n",
       "  </thead>\n",
       "  <tbody>\n",
       "    <tr>\n",
       "      <th>0</th>\n",
       "      <td>None</td>\n",
       "      <td>3692</td>\n",
       "    </tr>\n",
       "    <tr>\n",
       "      <th>1</th>\n",
       "      <td>&lt;h1 data-css-4hgwmf=\"\"&gt;Welcome to Switzerland,...</td>\n",
       "      <td>18049</td>\n",
       "    </tr>\n",
       "    <tr>\n",
       "      <th>2</th>\n",
       "      <td>&lt;h1 data-css-4hgwmf=\"\"&gt;Die Schweizer Politik i...</td>\n",
       "      <td>12688</td>\n",
       "    </tr>\n",
       "    <tr>\n",
       "      <th>3</th>\n",
       "      <td>&lt;h1 data-css-4hgwmf=\"\"&gt;Raketenhafte Revolte&lt;/h1&gt;</td>\n",
       "      <td>15109</td>\n",
       "    </tr>\n",
       "    <tr>\n",
       "      <th>4</th>\n",
       "      <td>&lt;h1 data-css-1e0ndtv=\"\"&gt;Die Büffel vom Stadtra...</td>\n",
       "      <td>3574</td>\n",
       "    </tr>\n",
       "    <tr>\n",
       "      <th>5</th>\n",
       "      <td>None</td>\n",
       "      <td>8088</td>\n",
       "    </tr>\n",
       "    <tr>\n",
       "      <th>6</th>\n",
       "      <td>&lt;h1 data-css-4hgwmf=\"\"&gt;Identität gegen Individ...</td>\n",
       "      <td>7010</td>\n",
       "    </tr>\n",
       "    <tr>\n",
       "      <th>7</th>\n",
       "      <td>&lt;h1 data-css-4hgwmf=\"\"&gt;Almanya, ich komm aus d...</td>\n",
       "      <td>13382</td>\n",
       "    </tr>\n",
       "    <tr>\n",
       "      <th>8</th>\n",
       "      <td>&lt;h1 data-css-4hgwmf=\"\"&gt;Riga, Lettland&lt;/h1&gt;</td>\n",
       "      <td>1514</td>\n",
       "    </tr>\n",
       "    <tr>\n",
       "      <th>9</th>\n",
       "      <td>None</td>\n",
       "      <td>3402</td>\n",
       "    </tr>\n",
       "    <tr>\n",
       "      <th>10</th>\n",
       "      <td>&lt;h1 data-css-4hgwmf=\"\"&gt;Der Friedensgeier&lt;/h1&gt;</td>\n",
       "      <td>17582</td>\n",
       "    </tr>\n",
       "    <tr>\n",
       "      <th>11</th>\n",
       "      <td>&lt;h1 data-css-4hgwmf=\"\"&gt;Abgang Merkel, Auftritt...</td>\n",
       "      <td>10126</td>\n",
       "    </tr>\n",
       "    <tr>\n",
       "      <th>12</th>\n",
       "      <td>&lt;h1 data-css-4hgwmf=\"\"&gt;Wärmebilder an Brennpun...</td>\n",
       "      <td>4471</td>\n",
       "    </tr>\n",
       "    <tr>\n",
       "      <th>13</th>\n",
       "      <td>&lt;h1 data-css-4hgwmf=\"\"&gt;Am Klavier – eine Bagat...</td>\n",
       "      <td>2560</td>\n",
       "    </tr>\n",
       "    <tr>\n",
       "      <th>14</th>\n",
       "      <td>None</td>\n",
       "      <td>4923</td>\n",
       "    </tr>\n",
       "    <tr>\n",
       "      <th>15</th>\n",
       "      <td>&lt;h1 data-css-4hgwmf=\"\"&gt;Wir basteln uns Extremi...</td>\n",
       "      <td>24501</td>\n",
       "    </tr>\n",
       "    <tr>\n",
       "      <th>16</th>\n",
       "      <td>&lt;h1 data-css-4hgwmf=\"\"&gt;Ikone des guten Stils&lt;/h1&gt;</td>\n",
       "      <td>6697</td>\n",
       "    </tr>\n",
       "    <tr>\n",
       "      <th>17</th>\n",
       "      <td>&lt;h1 data-css-4hgwmf=\"\"&gt;Lesen Sie ein Buch mit ...</td>\n",
       "      <td>4605</td>\n",
       "    </tr>\n",
       "    <tr>\n",
       "      <th>18</th>\n",
       "      <td>&lt;h1 data-css-4hgwmf=\"\"&gt;Bundesrat streitet um K...</td>\n",
       "      <td>9792</td>\n",
       "    </tr>\n",
       "    <tr>\n",
       "      <th>19</th>\n",
       "      <td>&lt;h1 data-css-1e0ndtv=\"\"&gt;Meine Hassliebe für de...</td>\n",
       "      <td>4792</td>\n",
       "    </tr>\n",
       "    <tr>\n",
       "      <th>20</th>\n",
       "      <td>&lt;h1 data-css-nc2zud=\"\"&gt;Wie Sie wählten, stimmt...</td>\n",
       "      <td>3409</td>\n",
       "    </tr>\n",
       "    <tr>\n",
       "      <th>21</th>\n",
       "      <td>None</td>\n",
       "      <td>4055</td>\n",
       "    </tr>\n",
       "    <tr>\n",
       "      <th>22</th>\n",
       "      <td>&lt;h1 data-css-4hgwmf=\"\"&gt;Wie der Faschismus in d...</td>\n",
       "      <td>24321</td>\n",
       "    </tr>\n",
       "    <tr>\n",
       "      <th>23</th>\n",
       "      <td>&lt;h1 data-css-4hgwmf=\"\"&gt;Sonderbehandlung für Pr...</td>\n",
       "      <td>8197</td>\n",
       "    </tr>\n",
       "    <tr>\n",
       "      <th>24</th>\n",
       "      <td>&lt;h1 data-css-4hgwmf=\"\"&gt;Welten, Ränder&lt;/h1&gt;</td>\n",
       "      <td>14847</td>\n",
       "    </tr>\n",
       "    <tr>\n",
       "      <th>25</th>\n",
       "      <td>&lt;h1 data-css-nc2zud=\"\"&gt;Wie können wir unsere D...</td>\n",
       "      <td>23359</td>\n",
       "    </tr>\n",
       "    <tr>\n",
       "      <th>26</th>\n",
       "      <td>None</td>\n",
       "      <td>3675</td>\n",
       "    </tr>\n",
       "    <tr>\n",
       "      <th>27</th>\n",
       "      <td>&lt;h1 data-css-4hgwmf=\"\"&gt;Die Macht der Lüge in d...</td>\n",
       "      <td>19118</td>\n",
       "    </tr>\n",
       "    <tr>\n",
       "      <th>28</th>\n",
       "      <td>&lt;h1 data-css-4hgwmf=\"\"&gt;Ambiguitäts­intoleranz&lt;...</td>\n",
       "      <td>9797</td>\n",
       "    </tr>\n",
       "    <tr>\n",
       "      <th>29</th>\n",
       "      <td>&lt;h1 data-css-1e0ndtv=\"\"&gt;Der christliche Porno-...</td>\n",
       "      <td>5771</td>\n",
       "    </tr>\n",
       "    <tr>\n",
       "      <th>...</th>\n",
       "      <td>...</td>\n",
       "      <td>...</td>\n",
       "    </tr>\n",
       "    <tr>\n",
       "      <th>1019</th>\n",
       "      <td>None</td>\n",
       "      <td>4582</td>\n",
       "    </tr>\n",
       "    <tr>\n",
       "      <th>1020</th>\n",
       "      <td>&lt;h1 data-css-4hgwmf=\"\" style=\"color:#fff;font-...</td>\n",
       "      <td>42515</td>\n",
       "    </tr>\n",
       "    <tr>\n",
       "      <th>1021</th>\n",
       "      <td>&lt;h1 data-css-4hgwmf=\"\" style=\"color:#fff;font-...</td>\n",
       "      <td>16220</td>\n",
       "    </tr>\n",
       "    <tr>\n",
       "      <th>1022</th>\n",
       "      <td>&lt;h1 data-css-4hgwmf=\"\"&gt;EU gegen Fake-News, SVP...</td>\n",
       "      <td>10181</td>\n",
       "    </tr>\n",
       "    <tr>\n",
       "      <th>1023</th>\n",
       "      <td>&lt;h1 data-css-4hgwmf=\"\"&gt;Rausgewunden II –    de...</td>\n",
       "      <td>14457</td>\n",
       "    </tr>\n",
       "    <tr>\n",
       "      <th>1024</th>\n",
       "      <td>&lt;h1 data-css-nc2zud=\"\"&gt;«Vergesst neben Faceboo...</td>\n",
       "      <td>3774</td>\n",
       "    </tr>\n",
       "    <tr>\n",
       "      <th>1025</th>\n",
       "      <td>&lt;h1 data-css-nc2zud=\"\"&gt;Hätten Sie Lust auf meh...</td>\n",
       "      <td>38330</td>\n",
       "    </tr>\n",
       "    <tr>\n",
       "      <th>1026</th>\n",
       "      <td>None</td>\n",
       "      <td>3405</td>\n",
       "    </tr>\n",
       "    <tr>\n",
       "      <th>1027</th>\n",
       "      <td>&lt;h1 data-css-4hgwmf=\"\"&gt;Eine kurze Geschichte d...</td>\n",
       "      <td>14876</td>\n",
       "    </tr>\n",
       "    <tr>\n",
       "      <th>1028</th>\n",
       "      <td>&lt;h1 data-css-4hgwmf=\"\"&gt;Rausgewunden&lt;/h1&gt;</td>\n",
       "      <td>12558</td>\n",
       "    </tr>\n",
       "    <tr>\n",
       "      <th>1029</th>\n",
       "      <td>None</td>\n",
       "      <td>5073</td>\n",
       "    </tr>\n",
       "    <tr>\n",
       "      <th>1030</th>\n",
       "      <td>&lt;h1 data-css-4hgwmf=\"\"&gt;30 Jahre vor Gericht&lt;/h1&gt;</td>\n",
       "      <td>26755</td>\n",
       "    </tr>\n",
       "    <tr>\n",
       "      <th>1031</th>\n",
       "      <td>&lt;h1 data-css-nc2zud=\"\"&gt;Warum Justiz ein Schwer...</td>\n",
       "      <td>17288</td>\n",
       "    </tr>\n",
       "    <tr>\n",
       "      <th>1032</th>\n",
       "      <td>&lt;h1 data-css-nc2zud=\"\"&gt;Welche Auswirkungen wir...</td>\n",
       "      <td>43553</td>\n",
       "    </tr>\n",
       "    <tr>\n",
       "      <th>1033</th>\n",
       "      <td>&lt;h1 data-css-nc2zud=\"\"&gt;«Ein Anfang, der mich w...</td>\n",
       "      <td>1647</td>\n",
       "    </tr>\n",
       "    <tr>\n",
       "      <th>1034</th>\n",
       "      <td>None</td>\n",
       "      <td>3308</td>\n",
       "    </tr>\n",
       "    <tr>\n",
       "      <th>1035</th>\n",
       "      <td>&lt;h1 data-css-4hgwmf=\"\"&gt;Aufstieg der Maschinen&lt;...</td>\n",
       "      <td>24202</td>\n",
       "    </tr>\n",
       "    <tr>\n",
       "      <th>1036</th>\n",
       "      <td>None</td>\n",
       "      <td>3515</td>\n",
       "    </tr>\n",
       "    <tr>\n",
       "      <th>1037</th>\n",
       "      <td>&lt;h1 data-css-nc2zud=\"\"&gt;Was bedeutet unsere Irr...</td>\n",
       "      <td>52247</td>\n",
       "    </tr>\n",
       "    <tr>\n",
       "      <th>1038</th>\n",
       "      <td>&lt;h1 data-css-4hgwmf=\"\"&gt;Demokratie unter Irrati...</td>\n",
       "      <td>57107</td>\n",
       "    </tr>\n",
       "    <tr>\n",
       "      <th>1039</th>\n",
       "      <td>&lt;h1 data-css-4hgwmf=\"\"&gt;Klingelt sein Handy, ge...</td>\n",
       "      <td>21544</td>\n",
       "    </tr>\n",
       "    <tr>\n",
       "      <th>1040</th>\n",
       "      <td>&lt;h1 data-css-nc2zud=\"\"&gt;Wie soll das Monster Fa...</td>\n",
       "      <td>54806</td>\n",
       "    </tr>\n",
       "    <tr>\n",
       "      <th>1041</th>\n",
       "      <td>&lt;h1 data-css-4hgwmf=\"\"&gt;Ist die Bank die wahre ...</td>\n",
       "      <td>15958</td>\n",
       "    </tr>\n",
       "    <tr>\n",
       "      <th>1042</th>\n",
       "      <td>&lt;h1 data-css-4hgwmf=\"\"&gt;Zuckerbergs Monster&lt;/h1&gt;</td>\n",
       "      <td>45563</td>\n",
       "    </tr>\n",
       "    <tr>\n",
       "      <th>1043</th>\n",
       "      <td>&lt;h1 data-css-4hgwmf=\"\"&gt;Der Schrecken der Nächt...</td>\n",
       "      <td>19986</td>\n",
       "    </tr>\n",
       "    <tr>\n",
       "      <th>1044</th>\n",
       "      <td>&lt;h1 data-css-4hgwmf=\"\"&gt;«Ich würde auf Patrioti...</td>\n",
       "      <td>17923</td>\n",
       "    </tr>\n",
       "    <tr>\n",
       "      <th>1045</th>\n",
       "      <td>&lt;h1 data-css-nc2zud=\"\"&gt;Gebrauchsanleitung für ...</td>\n",
       "      <td>6824</td>\n",
       "    </tr>\n",
       "    <tr>\n",
       "      <th>1046</th>\n",
       "      <td>&lt;h1 data-css-4hgwmf=\"\"&gt;Nein heisst Ja&lt;/h1&gt;</td>\n",
       "      <td>9326</td>\n",
       "    </tr>\n",
       "    <tr>\n",
       "      <th>1047</th>\n",
       "      <td>&lt;h1 data-css-4hgwmf=\"\"&gt;Appenzell, Schweiz&lt;/h1&gt;</td>\n",
       "      <td>1701</td>\n",
       "    </tr>\n",
       "    <tr>\n",
       "      <th>1048</th>\n",
       "      <td>&lt;h1 data-css-nc2zud=\"\"&gt;Verdeckte Politwerbung ...</td>\n",
       "      <td>6388</td>\n",
       "    </tr>\n",
       "  </tbody>\n",
       "</table>\n",
       "<p>1049 rows × 2 columns</p>\n",
       "</div>"
      ],
      "text/plain": [
       "                                                Artikel  Zeichenzahl\n",
       "0                                                  None         3692\n",
       "1     <h1 data-css-4hgwmf=\"\">Welcome to Switzerland,...        18049\n",
       "2     <h1 data-css-4hgwmf=\"\">Die Schweizer Politik i...        12688\n",
       "3      <h1 data-css-4hgwmf=\"\">Raketenhafte Revolte</h1>        15109\n",
       "4     <h1 data-css-1e0ndtv=\"\">Die Büffel vom Stadtra...         3574\n",
       "5                                                  None         8088\n",
       "6     <h1 data-css-4hgwmf=\"\">Identität gegen Individ...         7010\n",
       "7     <h1 data-css-4hgwmf=\"\">Almanya, ich komm aus d...        13382\n",
       "8            <h1 data-css-4hgwmf=\"\">Riga, Lettland</h1>         1514\n",
       "9                                                  None         3402\n",
       "10        <h1 data-css-4hgwmf=\"\">Der Friedensgeier</h1>        17582\n",
       "11    <h1 data-css-4hgwmf=\"\">Abgang Merkel, Auftritt...        10126\n",
       "12    <h1 data-css-4hgwmf=\"\">Wärmebilder an Brennpun...         4471\n",
       "13    <h1 data-css-4hgwmf=\"\">Am Klavier – eine Bagat...         2560\n",
       "14                                                 None         4923\n",
       "15    <h1 data-css-4hgwmf=\"\">Wir basteln uns Extremi...        24501\n",
       "16    <h1 data-css-4hgwmf=\"\">Ikone des guten Stils</h1>         6697\n",
       "17    <h1 data-css-4hgwmf=\"\">Lesen Sie ein Buch mit ...         4605\n",
       "18    <h1 data-css-4hgwmf=\"\">Bundesrat streitet um K...         9792\n",
       "19    <h1 data-css-1e0ndtv=\"\">Meine Hassliebe für de...         4792\n",
       "20    <h1 data-css-nc2zud=\"\">Wie Sie wählten, stimmt...         3409\n",
       "21                                                 None         4055\n",
       "22    <h1 data-css-4hgwmf=\"\">Wie der Faschismus in d...        24321\n",
       "23    <h1 data-css-4hgwmf=\"\">Sonderbehandlung für Pr...         8197\n",
       "24           <h1 data-css-4hgwmf=\"\">Welten, Ränder</h1>        14847\n",
       "25    <h1 data-css-nc2zud=\"\">Wie können wir unsere D...        23359\n",
       "26                                                 None         3675\n",
       "27    <h1 data-css-4hgwmf=\"\">Die Macht der Lüge in d...        19118\n",
       "28    <h1 data-css-4hgwmf=\"\">Ambiguitäts­intoleranz<...         9797\n",
       "29    <h1 data-css-1e0ndtv=\"\">Der christliche Porno-...         5771\n",
       "...                                                 ...          ...\n",
       "1019                                               None         4582\n",
       "1020  <h1 data-css-4hgwmf=\"\" style=\"color:#fff;font-...        42515\n",
       "1021  <h1 data-css-4hgwmf=\"\" style=\"color:#fff;font-...        16220\n",
       "1022  <h1 data-css-4hgwmf=\"\">EU gegen Fake-News, SVP...        10181\n",
       "1023  <h1 data-css-4hgwmf=\"\">Rausgewunden II –    de...        14457\n",
       "1024  <h1 data-css-nc2zud=\"\">«Vergesst neben Faceboo...         3774\n",
       "1025  <h1 data-css-nc2zud=\"\">Hätten Sie Lust auf meh...        38330\n",
       "1026                                               None         3405\n",
       "1027  <h1 data-css-4hgwmf=\"\">Eine kurze Geschichte d...        14876\n",
       "1028           <h1 data-css-4hgwmf=\"\">Rausgewunden</h1>        12558\n",
       "1029                                               None         5073\n",
       "1030   <h1 data-css-4hgwmf=\"\">30 Jahre vor Gericht</h1>        26755\n",
       "1031  <h1 data-css-nc2zud=\"\">Warum Justiz ein Schwer...        17288\n",
       "1032  <h1 data-css-nc2zud=\"\">Welche Auswirkungen wir...        43553\n",
       "1033  <h1 data-css-nc2zud=\"\">«Ein Anfang, der mich w...         1647\n",
       "1034                                               None         3308\n",
       "1035  <h1 data-css-4hgwmf=\"\">Aufstieg der Maschinen<...        24202\n",
       "1036                                               None         3515\n",
       "1037  <h1 data-css-nc2zud=\"\">Was bedeutet unsere Irr...        52247\n",
       "1038  <h1 data-css-4hgwmf=\"\">Demokratie unter Irrati...        57107\n",
       "1039  <h1 data-css-4hgwmf=\"\">Klingelt sein Handy, ge...        21544\n",
       "1040  <h1 data-css-nc2zud=\"\">Wie soll das Monster Fa...        54806\n",
       "1041  <h1 data-css-4hgwmf=\"\">Ist die Bank die wahre ...        15958\n",
       "1042    <h1 data-css-4hgwmf=\"\">Zuckerbergs Monster</h1>        45563\n",
       "1043  <h1 data-css-4hgwmf=\"\">Der Schrecken der Nächt...        19986\n",
       "1044  <h1 data-css-4hgwmf=\"\">«Ich würde auf Patrioti...        17923\n",
       "1045  <h1 data-css-nc2zud=\"\">Gebrauchsanleitung für ...         6824\n",
       "1046         <h1 data-css-4hgwmf=\"\">Nein heisst Ja</h1>         9326\n",
       "1047     <h1 data-css-4hgwmf=\"\">Appenzell, Schweiz</h1>         1701\n",
       "1048  <h1 data-css-nc2zud=\"\">Verdeckte Politwerbung ...         6388\n",
       "\n",
       "[1049 rows x 2 columns]"
      ]
     },
     "execution_count": 42,
     "metadata": {},
     "output_type": "execute_result"
    }
   ],
   "source": [
    "finale_liste = pd.DataFrame(liste_artikel_zeichenzahl)\n",
    "finale_liste"
   ]
  },
  {
   "cell_type": "code",
   "execution_count": 43,
   "metadata": {},
   "outputs": [],
   "source": [
    "df = finale_liste\n",
    "df.to_csv('republik_liste.csv')"
   ]
  },
  {
   "cell_type": "markdown",
   "metadata": {},
   "source": [
    "# 3. Schritt : Nach Längen ordnen, Plot erstellen\n"
   ]
  },
  {
   "cell_type": "markdown",
   "metadata": {},
   "source": [
    "### 1. Bibliothek importieren"
   ]
  },
  {
   "cell_type": "code",
   "execution_count": 44,
   "metadata": {},
   "outputs": [],
   "source": [
    "%matplotlib inline"
   ]
  },
  {
   "cell_type": "markdown",
   "metadata": {},
   "source": [
    "### 2. CSV-File importieren"
   ]
  },
  {
   "cell_type": "code",
   "execution_count": 45,
   "metadata": {},
   "outputs": [],
   "source": [
    "pfad = 'republik_liste.csv'"
   ]
  },
  {
   "cell_type": "code",
   "execution_count": 46,
   "metadata": {},
   "outputs": [],
   "source": [
    "df = pd.read_csv(pfad)"
   ]
  },
  {
   "cell_type": "markdown",
   "metadata": {},
   "source": [
    "### 3. Sortieren nach Zeichenzahl"
   ]
  },
  {
   "cell_type": "code",
   "execution_count": 88,
   "metadata": {},
   "outputs": [
    {
     "data": {
      "text/html": [
       "<div>\n",
       "<style scoped>\n",
       "    .dataframe tbody tr th:only-of-type {\n",
       "        vertical-align: middle;\n",
       "    }\n",
       "\n",
       "    .dataframe tbody tr th {\n",
       "        vertical-align: top;\n",
       "    }\n",
       "\n",
       "    .dataframe thead th {\n",
       "        text-align: right;\n",
       "    }\n",
       "</style>\n",
       "<table border=\"1\" class=\"dataframe\">\n",
       "  <thead>\n",
       "    <tr style=\"text-align: right;\">\n",
       "      <th></th>\n",
       "      <th>Unnamed: 0</th>\n",
       "      <th>Artikel</th>\n",
       "      <th>Zeichenzahl</th>\n",
       "    </tr>\n",
       "  </thead>\n",
       "  <tbody>\n",
       "    <tr>\n",
       "      <th>846</th>\n",
       "      <td>846</td>\n",
       "      <td>&lt;h1 data-css-4hgwmf=\"\"&gt;Das Komplott gegen Amer...</td>\n",
       "      <td>93844</td>\n",
       "    </tr>\n",
       "    <tr>\n",
       "      <th>602</th>\n",
       "      <td>602</td>\n",
       "      <td>&lt;h1 data-css-nc2zud=\"\"&gt;Betreuung und Pflege im...</td>\n",
       "      <td>80629</td>\n",
       "    </tr>\n",
       "    <tr>\n",
       "      <th>985</th>\n",
       "      <td>985</td>\n",
       "      <td>&lt;h1 data-css-nc2zud=\"\"&gt;USA-Serie: Was führte z...</td>\n",
       "      <td>78002</td>\n",
       "    </tr>\n",
       "    <tr>\n",
       "      <th>70</th>\n",
       "      <td>70</td>\n",
       "      <td>&lt;h1 data-css-4hgwmf=\"\"&gt;Vom Aufstieg des autori...</td>\n",
       "      <td>73443</td>\n",
       "    </tr>\n",
       "    <tr>\n",
       "      <th>379</th>\n",
       "      <td>379</td>\n",
       "      <td>&lt;h1 data-css-nc2zud=\"\"&gt;Erzählen Sie uns Ihre  ...</td>\n",
       "      <td>62522</td>\n",
       "    </tr>\n",
       "    <tr>\n",
       "      <th>867</th>\n",
       "      <td>867</td>\n",
       "      <td>&lt;h1 data-css-nc2zud=\"\"&gt;Welchen Service public ...</td>\n",
       "      <td>62050</td>\n",
       "    </tr>\n",
       "    <tr>\n",
       "      <th>1004</th>\n",
       "      <td>1004</td>\n",
       "      <td>&lt;h1 data-css-4hgwmf=\"\" style=\"color:#fff;font-...</td>\n",
       "      <td>58986</td>\n",
       "    </tr>\n",
       "    <tr>\n",
       "      <th>274</th>\n",
       "      <td>274</td>\n",
       "      <td>&lt;h1 data-css-nc2zud=\"\"&gt;Feedback ans Feuilleton...</td>\n",
       "      <td>57945</td>\n",
       "    </tr>\n",
       "    <tr>\n",
       "      <th>1038</th>\n",
       "      <td>1038</td>\n",
       "      <td>&lt;h1 data-css-4hgwmf=\"\"&gt;Demokratie unter Irrati...</td>\n",
       "      <td>57107</td>\n",
       "    </tr>\n",
       "    <tr>\n",
       "      <th>484</th>\n",
       "      <td>484</td>\n",
       "      <td>&lt;h1 data-css-nc2zud=\"\"&gt;Diskutieren Sie mit Dan...</td>\n",
       "      <td>55185</td>\n",
       "    </tr>\n",
       "    <tr>\n",
       "      <th>1040</th>\n",
       "      <td>1040</td>\n",
       "      <td>&lt;h1 data-css-nc2zud=\"\"&gt;Wie soll das Monster Fa...</td>\n",
       "      <td>54806</td>\n",
       "    </tr>\n",
       "    <tr>\n",
       "      <th>1012</th>\n",
       "      <td>1012</td>\n",
       "      <td>&lt;h1 data-css-4hgwmf=\"\" style=\"color:#fff;font-...</td>\n",
       "      <td>53576</td>\n",
       "    </tr>\n",
       "    <tr>\n",
       "      <th>995</th>\n",
       "      <td>995</td>\n",
       "      <td>&lt;h1 data-css-4hgwmf=\"\" style=\"color:#fff;font-...</td>\n",
       "      <td>52407</td>\n",
       "    </tr>\n",
       "    <tr>\n",
       "      <th>1037</th>\n",
       "      <td>1037</td>\n",
       "      <td>&lt;h1 data-css-nc2zud=\"\"&gt;Was bedeutet unsere Irr...</td>\n",
       "      <td>52247</td>\n",
       "    </tr>\n",
       "    <tr>\n",
       "      <th>662</th>\n",
       "      <td>662</td>\n",
       "      <td>&lt;h1 data-css-nc2zud=\"\"&gt;Soll die Schweiz auf Vo...</td>\n",
       "      <td>51613</td>\n",
       "    </tr>\n",
       "    <tr>\n",
       "      <th>649</th>\n",
       "      <td>649</td>\n",
       "      <td>&lt;h1 data-css-nc2zud=\"\"&gt;Was verändert sich auf ...</td>\n",
       "      <td>50436</td>\n",
       "    </tr>\n",
       "    <tr>\n",
       "      <th>853</th>\n",
       "      <td>853</td>\n",
       "      <td>&lt;h1 data-css-nc2zud=\"\"&gt;Was finden Sie: Soll di...</td>\n",
       "      <td>50417</td>\n",
       "    </tr>\n",
       "    <tr>\n",
       "      <th>119</th>\n",
       "      <td>119</td>\n",
       "      <td>&lt;h1 data-css-nc2zud=\"\"&gt;Algorithmen in der Stra...</td>\n",
       "      <td>49677</td>\n",
       "    </tr>\n",
       "    <tr>\n",
       "      <th>1042</th>\n",
       "      <td>1042</td>\n",
       "      <td>&lt;h1 data-css-4hgwmf=\"\"&gt;Zuckerbergs Monster&lt;/h1&gt;</td>\n",
       "      <td>45563</td>\n",
       "    </tr>\n",
       "    <tr>\n",
       "      <th>896</th>\n",
       "      <td>896</td>\n",
       "      <td>&lt;h1 data-css-4hgwmf=\"\"&gt;Die Melancholie der Kil...</td>\n",
       "      <td>45197</td>\n",
       "    </tr>\n",
       "  </tbody>\n",
       "</table>\n",
       "</div>"
      ],
      "text/plain": [
       "      Unnamed: 0                                            Artikel  \\\n",
       "846          846  <h1 data-css-4hgwmf=\"\">Das Komplott gegen Amer...   \n",
       "602          602  <h1 data-css-nc2zud=\"\">Betreuung und Pflege im...   \n",
       "985          985  <h1 data-css-nc2zud=\"\">USA-Serie: Was führte z...   \n",
       "70            70  <h1 data-css-4hgwmf=\"\">Vom Aufstieg des autori...   \n",
       "379          379  <h1 data-css-nc2zud=\"\">Erzählen Sie uns Ihre  ...   \n",
       "867          867  <h1 data-css-nc2zud=\"\">Welchen Service public ...   \n",
       "1004        1004  <h1 data-css-4hgwmf=\"\" style=\"color:#fff;font-...   \n",
       "274          274  <h1 data-css-nc2zud=\"\">Feedback ans Feuilleton...   \n",
       "1038        1038  <h1 data-css-4hgwmf=\"\">Demokratie unter Irrati...   \n",
       "484          484  <h1 data-css-nc2zud=\"\">Diskutieren Sie mit Dan...   \n",
       "1040        1040  <h1 data-css-nc2zud=\"\">Wie soll das Monster Fa...   \n",
       "1012        1012  <h1 data-css-4hgwmf=\"\" style=\"color:#fff;font-...   \n",
       "995          995  <h1 data-css-4hgwmf=\"\" style=\"color:#fff;font-...   \n",
       "1037        1037  <h1 data-css-nc2zud=\"\">Was bedeutet unsere Irr...   \n",
       "662          662  <h1 data-css-nc2zud=\"\">Soll die Schweiz auf Vo...   \n",
       "649          649  <h1 data-css-nc2zud=\"\">Was verändert sich auf ...   \n",
       "853          853  <h1 data-css-nc2zud=\"\">Was finden Sie: Soll di...   \n",
       "119          119  <h1 data-css-nc2zud=\"\">Algorithmen in der Stra...   \n",
       "1042        1042    <h1 data-css-4hgwmf=\"\">Zuckerbergs Monster</h1>   \n",
       "896          896  <h1 data-css-4hgwmf=\"\">Die Melancholie der Kil...   \n",
       "\n",
       "      Zeichenzahl  \n",
       "846         93844  \n",
       "602         80629  \n",
       "985         78002  \n",
       "70          73443  \n",
       "379         62522  \n",
       "867         62050  \n",
       "1004        58986  \n",
       "274         57945  \n",
       "1038        57107  \n",
       "484         55185  \n",
       "1040        54806  \n",
       "1012        53576  \n",
       "995         52407  \n",
       "1037        52247  \n",
       "662         51613  \n",
       "649         50436  \n",
       "853         50417  \n",
       "119         49677  \n",
       "1042        45563  \n",
       "896         45197  "
      ]
     },
     "execution_count": 88,
     "metadata": {},
     "output_type": "execute_result"
    }
   ],
   "source": [
    "#Längste Artikel\n",
    "df.sort_values('Zeichenzahl', ascending=False).head(20)"
   ]
  },
  {
   "cell_type": "code",
   "execution_count": 69,
   "metadata": {},
   "outputs": [
    {
     "data": {
      "text/html": [
       "<div>\n",
       "<style scoped>\n",
       "    .dataframe tbody tr th:only-of-type {\n",
       "        vertical-align: middle;\n",
       "    }\n",
       "\n",
       "    .dataframe tbody tr th {\n",
       "        vertical-align: top;\n",
       "    }\n",
       "\n",
       "    .dataframe thead th {\n",
       "        text-align: right;\n",
       "    }\n",
       "</style>\n",
       "<table border=\"1\" class=\"dataframe\">\n",
       "  <thead>\n",
       "    <tr style=\"text-align: right;\">\n",
       "      <th></th>\n",
       "      <th>Unnamed: 0</th>\n",
       "      <th>Artikel</th>\n",
       "      <th>Zeichenzahl</th>\n",
       "    </tr>\n",
       "  </thead>\n",
       "  <tbody>\n",
       "    <tr>\n",
       "      <th>1018</th>\n",
       "      <td>1018</td>\n",
       "      <td>&lt;h1 data-css-4hgwmf=\"\"&gt;Tokio, Japan&lt;/h1&gt;</td>\n",
       "      <td>1483</td>\n",
       "    </tr>\n",
       "    <tr>\n",
       "      <th>510</th>\n",
       "      <td>510</td>\n",
       "      <td>&lt;h1 data-css-4hgwmf=\"\"&gt;Ostermundigen, Schweiz&lt;...</td>\n",
       "      <td>1423</td>\n",
       "    </tr>\n",
       "    <tr>\n",
       "      <th>223</th>\n",
       "      <td>223</td>\n",
       "      <td>&lt;h1 data-css-4hgwmf=\"\"&gt;Albisgüetli, Schweiz&lt;/h1&gt;</td>\n",
       "      <td>1421</td>\n",
       "    </tr>\n",
       "    <tr>\n",
       "      <th>338</th>\n",
       "      <td>338</td>\n",
       "      <td>&lt;h1 data-css-4hgwmf=\"\"&gt;Beirut, Libanon&lt;/h1&gt;</td>\n",
       "      <td>1416</td>\n",
       "    </tr>\n",
       "    <tr>\n",
       "      <th>991</th>\n",
       "      <td>991</td>\n",
       "      <td>&lt;h1 data-css-4hgwmf=\"\"&gt;Iwaki, Japan&lt;/h1&gt;</td>\n",
       "      <td>1398</td>\n",
       "    </tr>\n",
       "  </tbody>\n",
       "</table>\n",
       "</div>"
      ],
      "text/plain": [
       "      Unnamed: 0                                            Artikel  \\\n",
       "1018        1018           <h1 data-css-4hgwmf=\"\">Tokio, Japan</h1>   \n",
       "510          510  <h1 data-css-4hgwmf=\"\">Ostermundigen, Schweiz<...   \n",
       "223          223   <h1 data-css-4hgwmf=\"\">Albisgüetli, Schweiz</h1>   \n",
       "338          338        <h1 data-css-4hgwmf=\"\">Beirut, Libanon</h1>   \n",
       "991          991           <h1 data-css-4hgwmf=\"\">Iwaki, Japan</h1>   \n",
       "\n",
       "      Zeichenzahl  \n",
       "1018         1483  \n",
       "510          1423  \n",
       "223          1421  \n",
       "338          1416  \n",
       "991          1398  "
      ]
     },
     "execution_count": 69,
     "metadata": {},
     "output_type": "execute_result"
    }
   ],
   "source": [
    "#Kürzeste Artikel\n",
    "df.sort_values('Zeichenzahl', ascending=False).tail()\n"
   ]
  },
  {
   "cell_type": "markdown",
   "metadata": {},
   "source": [
    "### 4. Durchschnitt, Max, Min, Median berechnen\n",
    "\n",
    "In der Artikelliste sind auch Newsletter enthalten, die das Ergebnis verfälschen. Die müssen also zuerst aussortiert werden. "
   ]
  },
  {
   "cell_type": "code",
   "execution_count": 80,
   "metadata": {},
   "outputs": [
    {
     "data": {
      "text/plain": [
       "788"
      ]
     },
     "execution_count": 80,
     "metadata": {},
     "output_type": "execute_result"
    }
   ],
   "source": [
    "#Anzahl Newsletter bestimmen\n",
    "len(republik_newsletter_liste)\n",
    "#Anzahl Einträge des DataFrames bestimmen\n",
    "len(df)\n",
    "\n",
    "#Ich gehe davon aus, dass die Newsletter die kürzesten Artikel sind (Ungenauigkeit nehme ich aktuell in Kauf)\n",
    "\n",
    "anzahl_artikel = len(df)-len(republik_newsletter_liste)\n",
    "anzahl_artikel"
   ]
  },
  {
   "cell_type": "code",
   "execution_count": 81,
   "metadata": {},
   "outputs": [],
   "source": [
    "#nur die Top788 aussortieren\n",
    "df_neu = df.sort_values('Zeichenzahl', ascending=False).head(788)"
   ]
  },
  {
   "cell_type": "code",
   "execution_count": 84,
   "metadata": {},
   "outputs": [
    {
     "data": {
      "text/plain": [
       "11477.0"
      ]
     },
     "execution_count": 84,
     "metadata": {},
     "output_type": "execute_result"
    }
   ],
   "source": [
    "#Median\n",
    "df_neu['Zeichenzahl'].median()"
   ]
  },
  {
   "cell_type": "code",
   "execution_count": 85,
   "metadata": {},
   "outputs": [
    {
     "data": {
      "text/plain": [
       "14968.25888324873"
      ]
     },
     "execution_count": 85,
     "metadata": {},
     "output_type": "execute_result"
    }
   ],
   "source": [
    "#Durchschnitt\n",
    "df_neu['Zeichenzahl'].mean()"
   ]
  },
  {
   "cell_type": "code",
   "execution_count": 86,
   "metadata": {},
   "outputs": [
    {
     "data": {
      "image/png": "[encoded data removed]",
      "text/plain": [
       "<Figure size 576x288 with 1 Axes>"
      ]
     },
     "metadata": {
      "needs_background": "light"
     },
     "output_type": "display_data"
    }
   ],
   "source": [
    "hist = df_neu['Zeichenzahl'].hist(bins=10, figsize=(8,4))"
   ]
  },
  {
   "cell_type": "markdown",
   "metadata": {},
   "source": [
    "### Fazit: Der durchschnittliche Republik-Artikel ist fast 15 000 Zeichen lang. Der längste fast 100 000 Zeichen, 17 Artikel sind mehr als 50 000 Zeichen lang. "
   ]
  },
  {
   "cell_type": "code",
   "execution_count": null,
   "metadata": {},
   "outputs": [],
   "source": []
  }
 ],
 "metadata": {
  "kernelspec": {
   "display_name": "Python 3",
   "language": "python",
   "name": "python3"
  },
  "language_info": {
   "codemirror_mode": {
    "name": "ipython",
    "version": 3
   },
   "file_extension": ".py",
   "mimetype": "text/x-python",
   "name": "python",
   "nbconvert_exporter": "python",
   "pygments_lexer": "ipython3",
   "version": "3.7.0"
  }
 },
 "nbformat": 4,
 "nbformat_minor": 2
}
