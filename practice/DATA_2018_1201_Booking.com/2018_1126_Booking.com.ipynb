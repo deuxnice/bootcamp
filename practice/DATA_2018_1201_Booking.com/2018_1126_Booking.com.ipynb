{
 "cells": [
  {
   "cell_type": "code",
   "execution_count": 194,
   "metadata": {},
   "outputs": [],
   "source": [
    "import requests\n",
    "from bs4 import BeautifulSoup\n",
    "import pandas as pd\n"
   ]
  },
  {
   "cell_type": "code",
   "execution_count": 195,
   "metadata": {},
   "outputs": [],
   "source": [
    "link_wallis = 'https://www.booking.com/searchresults.de.html?aid=304142&label=gen173nr-1FCAEoggI46AdIM1gEaDuIAQGYAQe4AQfIAQzYAQHoAQH4AQuIAgGoAgM&sid=bac122b1b039d543c04b493f5e62a162&ac_click_type=b&ac_position=0&checkin_month=12&checkin_monthday=10&checkin_year=2018&checkout_month=12&checkout_monthday=11&checkout_year=2018&class_interval=1&dest_id=671&dest_type=region&from_sf=1&group_adults=2&group_children=0&label_click=undef&lsf=ht_id%7C204%7C245&nflt=ht_id%3D204%3B&no_rooms=1&offset=0&percent_htype_hotel=1&raw_dest_type=region&room1=A%2CA&sb_price_type=total&search_selected=1&shw_aparth=0&slp_r_match=0&src=index&srpvid=3b0876b7469b0361&ss=Kanton%20Wallis%2C%20Schweiz&ss_raw=Wallis&ssb=empty&ssne_untouched=Hamburg'\n",
    "booking_wallis = requests.get(link_wallis, 'r')"
   ]
  },
  {
   "cell_type": "code",
   "execution_count": 196,
   "metadata": {},
   "outputs": [
    {
     "data": {
      "text/plain": [
       "<Response [200]>"
      ]
     },
     "execution_count": 196,
     "metadata": {},
     "output_type": "execute_result"
    }
   ],
   "source": [
    "booking_wallis"
   ]
  },
  {
   "cell_type": "code",
   "execution_count": 197,
   "metadata": {},
   "outputs": [],
   "source": [
    "booking_wallis = booking_wallis.text"
   ]
  },
  {
   "cell_type": "code",
   "execution_count": 198,
   "metadata": {},
   "outputs": [],
   "source": [
    "soup = BeautifulSoup(booking_wallis, 'html.parser')"
   ]
  },
  {
   "cell_type": "code",
   "execution_count": 199,
   "metadata": {},
   "outputs": [
    {
     "data": {
      "text/plain": [
       "15"
      ]
     },
     "execution_count": 199,
     "metadata": {},
     "output_type": "execute_result"
    }
   ],
   "source": [
    "hotel = soup.find_all('a', {'class':\"hotel_name_link url\"})\n",
    "hotel[1]\n",
    "len(hotel)\n",
    "\n"
   ]
  },
  {
   "cell_type": "code",
   "execution_count": 200,
   "metadata": {},
   "outputs": [
    {
     "data": {
      "text/plain": [
       "'Backstage Boutique SPA Hotel'"
      ]
     },
     "execution_count": 200,
     "metadata": {},
     "output_type": "execute_result"
    }
   ],
   "source": [
    "#Name des Hotels\n",
    "\n",
    "hotelname = hotel[3].text.replace('\\n', '').replace('Wird in neuem Fenster geöffnet', '')\n",
    "hotelname\n",
    "\n",
    "\n",
    "\n",
    "\n"
   ]
  },
  {
   "cell_type": "code",
   "execution_count": 201,
   "metadata": {},
   "outputs": [
    {
     "data": {
      "text/plain": [
       "<a class=\"hotel_name_link url\" href=\"\n",
       "/hotel/ch/backstage-boutique.de.html?srpvid=60bc782a467e00b9&amp;srepoch=1543424726&amp;room1=A,A&amp;nflt=ht_id%3D204&amp;hpos=4&amp;hapos=4&amp;dest_type=region&amp;dest_id=671&amp;from=searchresults\n",
       "#hotelTmpl\" rel=\"noopener\" target=\"_blank\">\n",
       "<span class=\"sr-hotel__name \" data-et-click=\"\n",
       "\">\n",
       "Backstage Boutique SPA Hotel\n",
       "</span>\n",
       "<span class=\"invisible_spoken\">Wird in neuem Fenster geöffnet</span>\n",
       "</a>"
      ]
     },
     "execution_count": 201,
     "metadata": {},
     "output_type": "execute_result"
    }
   ],
   "source": [
    "hotel[3]\n",
    "\n"
   ]
  },
  {
   "cell_type": "code",
   "execution_count": 202,
   "metadata": {},
   "outputs": [],
   "source": [
    "#Link des Hotels\n",
    "link = hotel[3].get('href').replace('\\n', '').split('?').pop(0).replace('/hotel', 'www.booking.com/hotel')"
   ]
  },
  {
   "cell_type": "code",
   "execution_count": 203,
   "metadata": {},
   "outputs": [
    {
     "data": {
      "text/plain": [
       "'www.booking.com/hotel/ch/backstage-boutique.de.html'"
      ]
     },
     "execution_count": 203,
     "metadata": {},
     "output_type": "execute_result"
    }
   ],
   "source": [
    "link"
   ]
  },
  {
   "cell_type": "code",
   "execution_count": 211,
   "metadata": {},
   "outputs": [
    {
     "data": {
      "text/plain": [
       "' 8,1 '"
      ]
     },
     "execution_count": 211,
     "metadata": {},
     "output_type": "execute_result"
    }
   ],
   "source": [
    "#Bewertung des Hotels\n",
    "score = soup.find_all('div', {'class':\"bui-review-score__badge\"})\n",
    "score[1].text"
   ]
  },
  {
   "cell_type": "code",
   "execution_count": 204,
   "metadata": {},
   "outputs": [],
   "source": [
    "hotelname_link = []"
   ]
  },
  {
   "cell_type": "code",
   "execution_count": 205,
   "metadata": {},
   "outputs": [
    {
     "data": {
      "text/plain": [
       "[{'Hotel': \"Hôtel des Bains d'Ovronnaz\",\n",
       "  'Link': 'www.booking.com/hotel/ch/des-bains-d-ovronnaz.de.html'},\n",
       " {'Hotel': ' Aparthotel Residence Patricia',\n",
       "  'Link': 'www.booking.com/hotel/ch/residence-patricia.de.html'},\n",
       " {'Hotel': 'Le Petit CHARME-INN',\n",
       "  'Link': 'www.booking.com/hotel/ch/le-petit.de.html'},\n",
       " {'Hotel': 'Backstage Boutique SPA Hotel',\n",
       "  'Link': 'www.booking.com/hotel/ch/backstage-boutique.de.html'},\n",
       " {'Hotel': 'Hotel La Collina',\n",
       "  'Link': 'www.booking.com/hotel/ch/la-collina-saas-fee.de.html'},\n",
       " {'Hotel': 'Badehotel Salina Maris – Wellness & Vintage',\n",
       "  'Link': 'www.booking.com/hotel/ch/salinamaris.de.html'},\n",
       " {'Hotel': 'Alpen Resort Hotel',\n",
       "  'Link': 'www.booking.com/hotel/ch/best-westernalpenresorthotel.de.html'},\n",
       " {'Hotel': 'Hotel Garni Testa Grigia',\n",
       "  'Link': 'www.booking.com/hotel/ch/garni-testa-grigia.de.html'},\n",
       " {'Hotel': 'Hotel Continental',\n",
       "  'Link': 'www.booking.com/hotel/ch/continental-zermatt.de.html'},\n",
       " {'Hotel': 'Riffelhaus 1853',\n",
       "  'Link': 'www.booking.com/hotel/ch/riffelhaus1853.de.html'},\n",
       " {'Hotel': 'BEST WESTERN Hotel Butterfly',\n",
       "  'Link': 'www.booking.com/hotel/ch/butterfly.de.html'},\n",
       " {'Hotel': 'Unique Hotel Post',\n",
       "  'Link': 'www.booking.com/hotel/ch/unique-post.de.html'},\n",
       " {'Hotel': 'Grand Hotel Zermatterhof',\n",
       "  'Link': 'www.booking.com/hotel/ch/grand-zermatterhof.de.html'},\n",
       " {'Hotel': 'Hotel Sarazena',\n",
       "  'Link': 'www.booking.com/hotel/ch/sarazena.de.html'},\n",
       " {'Hotel': 'The Dom Hotel - The Dom Collection',\n",
       "  'Link': 'www.booking.com/hotel/ch/the-dom.de.html'}]"
      ]
     },
     "execution_count": 205,
     "metadata": {},
     "output_type": "execute_result"
    }
   ],
   "source": [
    "for element in hotel:\n",
    "    hotelname = element.text.replace('\\n', '').replace('Wird in neuem Fenster geöffnet', '')\n",
    "    link = element.get('href').replace('\\n', '').split('?').pop(0).replace('/hotel', 'www.booking.com/hotel')\n",
    "    \n",
    "    dict = {'Hotel': hotelname,\n",
    "           'Link': link}\n",
    "    \n",
    "    hotelname_link.append(dict)\n",
    "\n",
    "hotelname_link"
   ]
  },
  {
   "cell_type": "code",
   "execution_count": 206,
   "metadata": {},
   "outputs": [],
   "source": [
    "df = pd.DataFrame(hotelname_link)"
   ]
  },
  {
   "cell_type": "code",
   "execution_count": 207,
   "metadata": {},
   "outputs": [
    {
     "data": {
      "text/html": [
       "<div>\n",
       "<style scoped>\n",
       "    .dataframe tbody tr th:only-of-type {\n",
       "        vertical-align: middle;\n",
       "    }\n",
       "\n",
       "    .dataframe tbody tr th {\n",
       "        vertical-align: top;\n",
       "    }\n",
       "\n",
       "    .dataframe thead th {\n",
       "        text-align: right;\n",
       "    }\n",
       "</style>\n",
       "<table border=\"1\" class=\"dataframe\">\n",
       "  <thead>\n",
       "    <tr style=\"text-align: right;\">\n",
       "      <th></th>\n",
       "      <th>Hotel</th>\n",
       "      <th>Link</th>\n",
       "    </tr>\n",
       "  </thead>\n",
       "  <tbody>\n",
       "    <tr>\n",
       "      <th>0</th>\n",
       "      <td>Hôtel des Bains d'Ovronnaz</td>\n",
       "      <td>www.booking.com/hotel/ch/des-bains-d-ovronnaz....</td>\n",
       "    </tr>\n",
       "    <tr>\n",
       "      <th>1</th>\n",
       "      <td>Aparthotel Residence Patricia</td>\n",
       "      <td>www.booking.com/hotel/ch/residence-patricia.de...</td>\n",
       "    </tr>\n",
       "    <tr>\n",
       "      <th>2</th>\n",
       "      <td>Le Petit CHARME-INN</td>\n",
       "      <td>www.booking.com/hotel/ch/le-petit.de.html</td>\n",
       "    </tr>\n",
       "    <tr>\n",
       "      <th>3</th>\n",
       "      <td>Backstage Boutique SPA Hotel</td>\n",
       "      <td>www.booking.com/hotel/ch/backstage-boutique.de...</td>\n",
       "    </tr>\n",
       "    <tr>\n",
       "      <th>4</th>\n",
       "      <td>Hotel La Collina</td>\n",
       "      <td>www.booking.com/hotel/ch/la-collina-saas-fee.d...</td>\n",
       "    </tr>\n",
       "    <tr>\n",
       "      <th>5</th>\n",
       "      <td>Badehotel Salina Maris – Wellness &amp; Vintage</td>\n",
       "      <td>www.booking.com/hotel/ch/salinamaris.de.html</td>\n",
       "    </tr>\n",
       "    <tr>\n",
       "      <th>6</th>\n",
       "      <td>Alpen Resort Hotel</td>\n",
       "      <td>www.booking.com/hotel/ch/best-westernalpenreso...</td>\n",
       "    </tr>\n",
       "    <tr>\n",
       "      <th>7</th>\n",
       "      <td>Hotel Garni Testa Grigia</td>\n",
       "      <td>www.booking.com/hotel/ch/garni-testa-grigia.de...</td>\n",
       "    </tr>\n",
       "    <tr>\n",
       "      <th>8</th>\n",
       "      <td>Hotel Continental</td>\n",
       "      <td>www.booking.com/hotel/ch/continental-zermatt.d...</td>\n",
       "    </tr>\n",
       "    <tr>\n",
       "      <th>9</th>\n",
       "      <td>Riffelhaus 1853</td>\n",
       "      <td>www.booking.com/hotel/ch/riffelhaus1853.de.html</td>\n",
       "    </tr>\n",
       "    <tr>\n",
       "      <th>10</th>\n",
       "      <td>BEST WESTERN Hotel Butterfly</td>\n",
       "      <td>www.booking.com/hotel/ch/butterfly.de.html</td>\n",
       "    </tr>\n",
       "    <tr>\n",
       "      <th>11</th>\n",
       "      <td>Unique Hotel Post</td>\n",
       "      <td>www.booking.com/hotel/ch/unique-post.de.html</td>\n",
       "    </tr>\n",
       "    <tr>\n",
       "      <th>12</th>\n",
       "      <td>Grand Hotel Zermatterhof</td>\n",
       "      <td>www.booking.com/hotel/ch/grand-zermatterhof.de...</td>\n",
       "    </tr>\n",
       "    <tr>\n",
       "      <th>13</th>\n",
       "      <td>Hotel Sarazena</td>\n",
       "      <td>www.booking.com/hotel/ch/sarazena.de.html</td>\n",
       "    </tr>\n",
       "    <tr>\n",
       "      <th>14</th>\n",
       "      <td>The Dom Hotel - The Dom Collection</td>\n",
       "      <td>www.booking.com/hotel/ch/the-dom.de.html</td>\n",
       "    </tr>\n",
       "  </tbody>\n",
       "</table>\n",
       "</div>"
      ],
      "text/plain": [
       "                                          Hotel  \\\n",
       "0                    Hôtel des Bains d'Ovronnaz   \n",
       "1                 Aparthotel Residence Patricia   \n",
       "2                           Le Petit CHARME-INN   \n",
       "3                  Backstage Boutique SPA Hotel   \n",
       "4                              Hotel La Collina   \n",
       "5   Badehotel Salina Maris – Wellness & Vintage   \n",
       "6                            Alpen Resort Hotel   \n",
       "7                      Hotel Garni Testa Grigia   \n",
       "8                             Hotel Continental   \n",
       "9                               Riffelhaus 1853   \n",
       "10                 BEST WESTERN Hotel Butterfly   \n",
       "11                            Unique Hotel Post   \n",
       "12                     Grand Hotel Zermatterhof   \n",
       "13                               Hotel Sarazena   \n",
       "14           The Dom Hotel - The Dom Collection   \n",
       "\n",
       "                                                 Link  \n",
       "0   www.booking.com/hotel/ch/des-bains-d-ovronnaz....  \n",
       "1   www.booking.com/hotel/ch/residence-patricia.de...  \n",
       "2           www.booking.com/hotel/ch/le-petit.de.html  \n",
       "3   www.booking.com/hotel/ch/backstage-boutique.de...  \n",
       "4   www.booking.com/hotel/ch/la-collina-saas-fee.d...  \n",
       "5        www.booking.com/hotel/ch/salinamaris.de.html  \n",
       "6   www.booking.com/hotel/ch/best-westernalpenreso...  \n",
       "7   www.booking.com/hotel/ch/garni-testa-grigia.de...  \n",
       "8   www.booking.com/hotel/ch/continental-zermatt.d...  \n",
       "9     www.booking.com/hotel/ch/riffelhaus1853.de.html  \n",
       "10         www.booking.com/hotel/ch/butterfly.de.html  \n",
       "11       www.booking.com/hotel/ch/unique-post.de.html  \n",
       "12  www.booking.com/hotel/ch/grand-zermatterhof.de...  \n",
       "13          www.booking.com/hotel/ch/sarazena.de.html  \n",
       "14           www.booking.com/hotel/ch/the-dom.de.html  "
      ]
     },
     "execution_count": 207,
     "metadata": {},
     "output_type": "execute_result"
    }
   ],
   "source": [
    "df"
   ]
  },
  {
   "cell_type": "markdown",
   "metadata": {},
   "source": [
    "# Neuer Versuch, dieses Mal kompletter Container"
   ]
  },
  {
   "cell_type": "code",
   "execution_count": 212,
   "metadata": {},
   "outputs": [],
   "source": [
    "import requests\n",
    "from bs4 import BeautifulSoup\n",
    "import pandas as pd"
   ]
  },
  {
   "cell_type": "code",
   "execution_count": 285,
   "metadata": {},
   "outputs": [],
   "source": [
    "#Hotel – Container mit allen Infos heraufiltern \n",
    "\n",
    "#hotel_box = soup.find_all('div', {\"class\":\"sr_property_block_main_row\"})\n",
    "\n",
    "hotel_box = soup.find_all('div', 'sr_item_no_dates')\n"
   ]
  },
  {
   "cell_type": "code",
   "execution_count": 287,
   "metadata": {},
   "outputs": [
    {
     "data": {
      "text/plain": [
       "<div class=\"sr_item sr_item_new sr_item_default sr_property_block sr_item_no_dates \" data-class=\"3\" data-et-view=\" eWHJbWPNZWEHXT:5\" data-hotelid=\"396127\" data-score=\"8,1\">\n",
       "<table class=\"sr_item_legacy\">\n",
       "<tbody>\n",
       "<tr>\n",
       "<td class=\"sr_item_legacy_photo\" id=\"hotel_396127\" rowspan=\"2\">\n",
       "<a aria-hidden=\"true\" class=\" sr_item_photo_link sr_hotel_preview_track \" href=\"/hotel/ch/residence-patricia.de.html?srpvid=60bc782a467e00b9&amp;srepoch=1543424726&amp;room1=A,A&amp;nflt=ht_id%3D204&amp;hpos=2&amp;hapos=2&amp;dest_type=region&amp;dest_id=671&amp;from=searchresults?from_hc_img=1#hotelTmpl\" rel=\"noopener\" target=\"_blank\">\n",
       "<img alt=\"Residence Patricia\" class=\"hotel_image\" data-google-track=\"Click/sr_item_main_photo/0\" data-highres=\"https://t-ec.bstatic.com/xdata/images/hotel/square600/86462795.jpg?k=0a76b4b49d3ba5c64e77d65a87bd2bfc9eabf67eedf71478f9b2cc75c7b0e13f&amp;o=\" height=\"200\" src=\"https://s-ec.bstatic.com/xdata/images/hotel/square200/86462795.jpg?k=0a76b4b49d3ba5c64e77d65a87bd2bfc9eabf67eedf71478f9b2cc75c7b0e13f&amp;o=\" width=\"200\">\n",
       "<span class=\"invisible_spoken\">Wird in neuem Fenster geöffnet</span>\n",
       "</img></a>\n",
       "</td>\n",
       "<td>\n",
       "<h3 class=\"sr-hotel__title \">\n",
       "<a class=\"hotel_name_link url\" href=\"\n",
       "/hotel/ch/residence-patricia.de.html?srpvid=60bc782a467e00b9&amp;srepoch=1543424726&amp;room1=A,A&amp;nflt=ht_id%3D204&amp;hpos=2&amp;hapos=2&amp;dest_type=region&amp;dest_id=671&amp;from=searchresults\n",
       "#hotelTmpl\" rel=\"noopener\" target=\"_blank\">\n",
       "<span class=\" sr-hotel__type \"> \n",
       "Aparthotel\n",
       " </span>\n",
       "<span class=\"sr-hotel__name \" data-et-click=\"\n",
       "\">\n",
       "Residence Patricia\n",
       "</span>\n",
       "<span class=\"invisible_spoken\">Wird in neuem Fenster geöffnet</span>\n",
       "</a>\n",
       "</h3>\n",
       "<i class=\" bk-icon-wrapper bk-icon-stars star_track \"><svg class=\"bk-icon -sprite-ratings_stars_3\" height=\"10\" viewbox=\"0 0 39 12\" width=\"32\"><path d=\"M13 4.6c0-.1-.1-.2-.2-.2l-4.5-.3-1.5-4c-.1-.1-.5-.1-.5 0l-1.5 4-4.6.3c-.1 0-.2.1-.2.2s0 .2.1.3l3.5 2.5-1.2 4.3c0 .1 0 .2.1.3h.3l3.7-2.6 3.7 2.6H10.5c.1-.1.1-.2.1-.3L9.4 7.3l3.5-2.5c.1 0 .1-.1.1-.2zM26 4.6c0-.1-.1-.2-.2-.2l-4.5-.3-1.5-4c-.1-.2-.4-.2-.5 0l-1.5 4-4.5.3c-.1 0-.2.1-.2.2s0 .2.1.3l3.5 2.5-1.2 4.3c0 .1 0 .2.1.3.1.1.2.1.3 0l3.7-2.6 3.7 2.6H23.6c.1-.1.1-.2.1-.3l-1.2-4.3L26 4.9v-.3zM39 4.6c0-.1-.1-.2-.2-.2l-4.5-.3-1.5-4c-.1-.2-.4-.2-.5 0l-1.5 4-4.5.3c-.1 0-.2.1-.2.2s0 .2.1.3l3.5 2.5-1.2 4.3c0 .1 0 .2.1.3.1.1.2.1.3 0l3.7-2.6 3.7 2.6H36.6c.1-.1.1-.2.1-.3l-1.2-4.3L39 4.9v-.3z\" fill=\"#FEBA02\"></path></svg>\n",
       "<span class=\"invisible_spoken\">3 Sterne</span></i>\n",
       "<i aria-hidden=\"true\" class=\"preferred-program-icon bicon-thumb-up jq_tooltip pp-icon-medium-sr\" rel=\"300\" style=\"font-size: 20px\" title=\"Diese Unterkunft ist Teil unseres Preferred Partner Programms. Hier wird hervorragender Service sowie ein tolles Preis-Leistungs-Verhältnis geboten. Unterkünfte könnten Booking.com etwas mehr zahlen, um Teil dieses Programms zu sein. \"></i>\n",
       "<span class=\"invisible_spoken\">Diese Unterkunft ist Teil unseres Preferred Partner Programms. Hier wird hervorragender Service sowie ein tolles Preis-Leistungs-Verhältnis geboten. Unterkünfte könnten Booking.com etwas mehr zahlen, um Teil dieses Programms zu sein.</span>\n",
       "<div class=\" address \">\n",
       "<a aria-hidden=\"true\" class=\"bicon-map-pin show_map map_address_pin\" data-coords=\"7.75404632091522,46.0273030720421\" data-map-id=\"show_id396127\" data-zoom=\"14\" id=\"show_id396127\"></a>\n",
       "<a class=\" jq_tooltip district_link visited_link \" data-coords=\"7.75404632091522,46.0273030720421\" data-google-track=\"Click/Action: sr_map_link_used\" data-map-caption=\"\" href=\"\n",
       "/hotel/ch/residence-patricia.de.html?srpvid=60bc782a467e00b9&amp;srepoch=1543424726&amp;room1=A,A&amp;nflt=ht_id%3D204&amp;hpos=2&amp;hapos=2&amp;dest_type=region&amp;dest_id=671&amp;from=searchresults;\n",
       "#hotelTmpl\" rel=\"noopener\" target=\"_blank\" title=\"Residence Patricia, Zermatt\">\n",
       " Zermatt, <strong>Schweiz</strong>\n",
       "– Auf der Karte anzeigen</a>\n",
       "</div>\n",
       "<div class=\"hotel_desc\">\n",
       "Die Residence Patricia begrüßt Sie am Eingang von Zermatt und ist einen 10-minütigen Spaziergang vom Bahnhof entfernt. \n",
       "</div>\n",
       "<div class=\"lbsr clearfix sr-booked-x-times\">\n",
       "<div class=\"sr--x-times-booked js_sr_persuation_msg\" data-anim-trigger=\"mouseenter\" data-anim-type=\"rollover\" data-component=\"onview-animate\">\n",
       "<div class=\"rollover-s1 lastbooking\" rel=\"300\">\n",
       "In den letzten 6 Stunden 4-mal gebucht\n",
       "</div>\n",
       "<div class=\"rollover-s2 sr--x-times-last-time\" rel=\"300\">\n",
       "Letzte Buchung: vor 58 Minuten \n",
       "</div>\n",
       "</div>\n",
       "</div>\n",
       "</td>\n",
       "<td class=\"sr_item_legacy_review\">\n",
       "<div class=\"reviewFloater reviewFloaterBadge__container\">\n",
       "<div class=\"sr-review-score review-breakdown-tooltip-link \" data-alignment=\"right\" data-extra-class=\"review-breakdown-tooltip\" data-intangible=\"\" data-placement=\"top\" data-ratings=\"Lage;7,5;75%|Sauberkeit;8,3;83%|Preis-Leistungs-Verhältnis;8,3;83%|Komfort;8,5;85%|Hotelpersonal;8;80%\">\n",
       "<a class=\"sr-review-score__link\" href=\"/hotel/ch/residence-patricia.de.html?srpvid=60bc782a467e00b9&amp;srepoch=1543424726&amp;room1=A,A&amp;nflt=ht_id%3D204&amp;hpos=2&amp;hapos=2&amp;dest_type=region&amp;dest_id=671&amp;from=searchresults;from_sr_review=1;#hotelTmpl\" target=\"_blank\">\n",
       "<div data-et-view=\"adUTWALOLOLOMAPPZTZWKNYT:2\" style=\"position:absolute;width:1px;height:1px;opacity:0;\"></div>\n",
       "<div data-et-view=\"adUTWALOLOLOMAPPZTZWKNYT:7\" style=\"position:absolute;width:1px;height:1px;opacity:0;\"></div>\n",
       "<div class=\"bui-review-score c-score bui-review-score--end\"> <div aria-label=\"8,1\" class=\"bui-review-score__badge\" role=\"link\"> 8,1 </div> <div class=\"bui-review-score__content\"> <div aria-label=\"Sehr gut\" class=\"bui-review-score__title\"> Sehr gut </div> <div class=\"bui-review-score__text\"> 1.539 Bewertungen </div> </div> </div>\n",
       "<span class=\"invisible_spoken\">Wird in neuem Fenster geöffnet</span>\n",
       "</a>\n",
       "<a href=\"/hotel/ch/residence-patricia.de.html?srpvid=60bc782a467e00b9&amp;srepoch=1543424726&amp;room1=A,A&amp;nflt=ht_id%3D204&amp;hpos=2&amp;hapos=2&amp;dest_type=region&amp;dest_id=671&amp;from=searchresults;from_sr_review=1;#hotelTmpl\" target=\"_blank\">\n",
       "<span class=\"invisible_spoken\">Wird in neuem Fenster geöffnet</span>\n",
       "</a>\n",
       "</div>\n",
       "<div class=\"sr-cta-button-row sr-cta-button-bottom-spacing sr-cta-button-top-spacing\">\n",
       "<a class=\"b-button b-button_primary sr_cta_button no_dates_click jq_tooltip\" data-click-store-id=\"sr-compset-396127\" data-et-click=\"\" data-title=\"Um nach Preisen zu sortieren und den exakten Zimmerpreis für Ihren Aufenthalt zu erfahren, geben Sie bitte im linken Suchfeld Ihr Anreise- und Abreisedatum ein.\n",
       "\" href=\"javascript:void(0)#hotelTmpl\" rel=\"220\" target=\"_blank\">\n",
       "<span class=\"b-button__text\">\n",
       "Preise anzeigen\n",
       "</span>\n",
       "</a>\n",
       "</div>\n",
       "</div>\n",
       "</td>\n",
       "</tr>\n",
       "<tr>\n",
       "<td class=\"sr_item_legacy_content\" colspan=\"2\">\n",
       "<div class=\"room_details \">\n",
       "</div>\n",
       "</td>\n",
       "</tr>\n",
       "</tbody>\n",
       "</table>\n",
       "<div class=\"clearfix\"> </div>\n",
       "</div>"
      ]
     },
     "execution_count": 287,
     "metadata": {},
     "output_type": "execute_result"
    }
   ],
   "source": [
    "hotel_box[1]"
   ]
  },
  {
   "cell_type": "markdown",
   "metadata": {},
   "source": [
    "# Einzelne Angaben aus Container herausfiltern"
   ]
  },
  {
   "cell_type": "code",
   "execution_count": 451,
   "metadata": {},
   "outputs": [],
   "source": [
    "#Hotelname\n",
    "\n",
    "for box in hotel_box:\n",
    "   \n",
    "    #Hotel-Name\n",
    "    hotel = soup.find('span','sr-hotel__name').text.replace('\\n', '')\n",
    "    \n",
    "    #Hotel-Link\n",
    "    link = soup.find('a', {'class':\"hotel_name_link url\"}).get('href').split('?').pop(0).replace('\\n', 'www.booking.com')\n",
    "\n",
    "    #Hotel-Ort\n",
    "    ort = soup.find('a', {'jq_tooltip','district_link visited_link selectorgadget_selected'}).text.replace('– Auf der Karte anzeigen', '').split(',').pop(0)\n",
    "     \n",
    "    #Hotel-Land\n",
    "    land = soup.find('a', {'jq_tooltip','district_link visited_link selectorgadget_selected'}).text.replace('– Auf der Karte anzeigen', '').split(',').pop(1)\n",
    "\n",
    "# Anzahl Sterne\n",
    "\n",
    "    #Anzahl Sterne // Hotelkategorie\n",
    "    #sterne = soup.find('span', {'class':\"invisible_spoken\"}) Klappt nicht, Sehbehinderte\n",
    "    sterne = soup.find('i', {'class':\"bk-icon-wrapper\"}).text\n",
    "                     \n",
    "# Nun die Bewertungen\n",
    "\n",
    "    #Gesamtnote\n",
    "    score = soup.find('div', {'class':\"sr-review-score\"}).text.replace('Wird in neuem Fenster geöffnet', '').replace('    Sehr gut   ', ';').split(';').pop(0)\n",
    "    \n",
    "    #Anzahl Bewertungen\n",
    "    bewertungen = soup.find('div', {'class':\"sr-review-score\"}).text.replace('Wird in neuem Fenster geöffnet', '').replace('    Sehr gut   ', ';').split(';').pop(1)\n",
    "\n",
    "    #Detail-Bewertungen Übersicht\n",
    "    score_detail = soup.find('div', {'class':\"review-breakdown-tooltip-link\"}).get('data-ratings').split('|')\n",
    "    \n",
    "#Um alle Kategorien separat zu haben, filtere ich sie nun Punkt für Punkt heraus. \n",
    "    \n",
    "    #Lage\n",
    "    lage = soup.find('div', {'class':\"review-breakdown-tooltip-link\"}).get('data-ratings').split('|').pop(0).split(';').pop(1)\n",
    "\n",
    "    #Sauberkeit\n",
    "    sauberkeit = soup.find('div', {'class':\"review-breakdown-tooltip-link\"}).get('data-ratings').split('|').pop(1).split(';').pop(1)\n",
    "\n",
    "    #Preis-Leistung\n",
    "    preis_leistung = soup.find('div', {'class':\"review-breakdown-tooltip-link\"}).get('data-ratings').split('|').pop(2).split(';').pop(1)\n",
    "\n",
    "    #Komfort\n",
    "    komfort = soup.find('div', {'class':\"review-breakdown-tooltip-link\"}).get('data-ratings').split('|').pop(3).split(';').pop(1)\n",
    "\n",
    "    #Hotelpersonal / Freundlichkeit\n",
    "    hotelpersonal = soup.find('div', {'class':\"review-breakdown-tooltip-link\"}).get('data-ratings').split('|').pop(4).split(';').pop(1)\n",
    "    \n",
    "\n",
    "# Dictionary erstellen mit allen Angaben\n",
    "    \n",
    "booking_liste = []\n",
    "    \n",
    "dict = {'Hotel': hotel, \n",
    "           'Link': link,\n",
    "           'Ort': ort,\n",
    "           'Land': land,\n",
    "           'Sterne': sterne, \n",
    "           'Gesamtnote': score, \n",
    "           'Anzahl Bewertungen': bewertungen, \n",
    "           'Note Lage': lage, \n",
    "           'Note Sauberkeit': sauberkeit,\n",
    "           'Note Komfort': komfort,\n",
    "           'Note Hotelpersonal': hotelpersonal}\n",
    "    \n",
    "booking_liste.append(dict)\n"
   ]
  },
  {
   "cell_type": "code",
   "execution_count": 452,
   "metadata": {},
   "outputs": [
    {
     "name": "stdout",
     "output_type": "stream",
     "text": [
      "[{'Hotel': \"Hôtel des Bains d'Ovronnaz\", 'Link': 'www.booking.com/hotel/ch/des-bains-d-ovronnaz.de.html', 'Ort': '\\n Ovronnaz', 'Land': ' Schweiz\\n', 'Sterne': '\\n3-Sterne-Hotel', 'Gesamtnote': '\\n\\n\\n\\n  8,2', 'Anzahl Bewertungen': '1.240 Bewertungen   \\n\\n\\n\\n\\n\\n\\n\\n\\n\\n\\n\\n\\n\\n\\n', 'Note Lage': '8,7', 'Note Sauberkeit': '8,6', 'Note Komfort': '7,9', 'Note Hotelpersonal': '8,3'}]\n"
     ]
    }
   ],
   "source": [
    "print(booking_liste)"
   ]
  },
  {
   "cell_type": "code",
   "execution_count": 453,
   "metadata": {},
   "outputs": [],
   "source": [
    "booking_tabelle = pd.DataFrame(booking_liste)"
   ]
  },
  {
   "cell_type": "code",
   "execution_count": 454,
   "metadata": {},
   "outputs": [
    {
     "name": "stdout",
     "output_type": "stream",
     "text": [
      "                                  Anzahl Bewertungen     Gesamtnote  \\\n",
      "0  1.240 Bewertungen   \\n\\n\\n\\n\\n\\n\\n\\n\\n\\n\\n\\n\\n...  \\n\\n\\n\\n  8,2   \n",
      "\n",
      "                        Hotel        Land  \\\n",
      "0  Hôtel des Bains d'Ovronnaz   Schweiz\\n   \n",
      "\n",
      "                                                Link Note Hotelpersonal  \\\n",
      "0  www.booking.com/hotel/ch/des-bains-d-ovronnaz....                8,3   \n",
      "\n",
      "  Note Komfort Note Lage Note Sauberkeit          Ort            Sterne  \n",
      "0          7,9       8,7             8,6  \\n Ovronnaz  \\n3-Sterne-Hotel  \n"
     ]
    }
   ],
   "source": [
    "print(booking_tabelle)"
   ]
  },
  {
   "cell_type": "code",
   "execution_count": null,
   "metadata": {},
   "outputs": [],
   "source": []
  }
 ],
 "metadata": {
  "kernelspec": {
   "display_name": "Python 3",
   "language": "python",
   "name": "python3"
  },
  "language_info": {
   "codemirror_mode": {
    "name": "ipython",
    "version": 3
   },
   "file_extension": ".py",
   "mimetype": "text/x-python",
   "name": "python",
   "nbconvert_exporter": "python",
   "pygments_lexer": "ipython3",
   "version": "3.7.0"
  }
 },
 "nbformat": 4,
 "nbformat_minor": 2
}
