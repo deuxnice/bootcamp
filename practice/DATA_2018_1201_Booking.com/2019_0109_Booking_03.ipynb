{
 "cells": [
  {
   "cell_type": "markdown",
   "metadata": {},
   "source": [
    "# Projekt «Booking.com»"
   ]
  },
  {
   "cell_type": "markdown",
   "metadata": {},
   "source": [
    "## Die Idee"
   ]
  },
  {
   "cell_type": "markdown",
   "metadata": {},
   "source": [
    "These: Die Hotel-Bewertungen auf Booking.com unterscheiden sich von Land zu Land. In Italien etwa sind die Bewertungen vieler Hotels in einem sehr hohen Bereich (ein Grossteil der Unterkünfte hat Note 8 aufwärts), während andere Länder sich im Bereich 6 bis 7 tummeln. Woran liegts? Woran krankts? Was gibt den Ausschlag für gute/schlechte Noten? Ist es die Infrastruktur, das Preis-Leistungsverhältnis, die Lage oder doch eher die Freundlichkeit des Personals? Hier ist die Schweiz ja offenbar nicht vorne dabei. Anhand der einzelnen Benotungskriterien lässt sich das herausfinden. Die Idee: Alle auf Booking.com gelisteten Hotels aller Länder auf die Bewertungen hin analysieren und dann evtl. mit anderen Parametern in Verbindung bringen, z.B. Lohnniveau. "
   ]
  },
  {
   "cell_type": "markdown",
   "metadata": {},
   "source": [
    "## 1. Vorbereitungen"
   ]
  },
  {
   "cell_type": "markdown",
   "metadata": {},
   "source": [
    "### > alle nötigen Imports"
   ]
  },
  {
   "cell_type": "markdown",
   "metadata": {},
   "source": [
    "Selenium, Scraping, BeautifulSoup, Pandas, Geopandas"
   ]
  },
  {
   "cell_type": "code",
   "execution_count": null,
   "metadata": {},
   "outputs": [],
   "source": [
    "import requests\n",
    "from bs4 import BeautifulSoup\n",
    "import pandas as pd\n",
    "\n",
    "#für Selenium\n",
    "\n",
    "from selenium import webdriver\n",
    "from selenium.webdriver.common.keys import Keys"
   ]
  },
  {
   "cell_type": "markdown",
   "metadata": {},
   "source": [
    "### > Länderliste abspeichern, DataFrame erstellen aus Ländern und Links"
   ]
  },
  {
   "cell_type": "markdown",
   "metadata": {},
   "source": [
    "Da ich später alle Länder separat aufrufen möchte, benötige ich eine Übersichtsliste aller Länder. Diese finde ich am einfachsten auf der Homepage http://www.booking.com und zwar ganz unten in der «Fussnote» unter «Länder» (https://www.booking.com/country.de.html?label=gen173rf-1FCAEoggI46AdIM1gDaCyIAQGYAQe4AQfIAQzYAQHoAQH4AQuIAgGiAg5sb2NhbGhvc3Q6ODg4OKgCAw;sid=bac122b1b039d543c04b493f5e62a162). Diese Länderseite rufe ich auf und speichere sie als HTML-File in den Projekt-Ordner unter «Booking.com_Countries.htm» auf meiner Festplatte ab. "
   ]
  },
  {
   "cell_type": "code",
   "execution_count": null,
   "metadata": {},
   "outputs": [],
   "source": [
    "# Übersichtsseite aller Länder einlesen\n",
    "\n",
    "countries = open('Booking.com_Countries.htm', 'r')\n",
    "\n",
    "# Seite lesbar machen mit BeautifulSoup\n",
    "\n",
    "soup_countries = BeautifulSoup(countries, 'html.parser')\n",
    "\n",
    "# Länder herausfiltern\n",
    "countries = soup_countries.find_all('h2')\n",
    "\n",
    "#Land herausfiltern\n",
    "land = countries[1].text.replace('\\n','')\n",
    "\n",
    "#url zum Land herausfiltern\n",
    "url = countries[1].find('a')['href'].split('?').pop(0)\n",
    "\n",
    "\n",
    "\n",
    "#Dictionary erstellen\n",
    "\n",
    "all_countries = []\n",
    "\n",
    "for element in countries:\n",
    "    try:\n",
    "        country = element.text.replace('\\n','')\n",
    "        link = element.find('a')['href'].split('?').pop(0)\n",
    "    except:\n",
    "        None\n",
    "        \n",
    "    dict_countries = {'Land': country,\n",
    "                     'Link': link}\n",
    "    \n",
    "    all_countries.append(dict_countries)\n",
    "\n",
    "    \n",
    "\n",
    "#DataFrame erstellen\n",
    "\n",
    "df_all_countries = pd.DataFrame(all_countries)\n",
    "\n",
    "# die letzten zwei Einträge sind keine Länder, brauche ich also nicht\n",
    "\n",
    "df_all_countries = df_all_countries.head(195) \n",
    "df_all_countries\n"
   ]
  },
  {
   "cell_type": "markdown",
   "metadata": {},
   "source": [
    "# 2. Selenium (...)"
   ]
  },
  {
   "cell_type": "markdown",
   "metadata": {},
   "source": [
    "Nun steuere ich die einzelnen Links an, gebe das entsprechende Land in das Suchfeld ein und klicke «Zeig mir Preise» an, um auf die Übersicht aller Unterkünfte im betreffenden Land zu kommen. "
   ]
  },
  {
   "cell_type": "code",
   "execution_count": null,
   "metadata": {},
   "outputs": [],
   "source": [
    "#Selenium\n",
    "driver = webdriver.Chrome('/usr/local/bin/chromedriver')"
   ]
  },
  {
   "cell_type": "code",
   "execution_count": null,
   "metadata": {},
   "outputs": [],
   "source": [
    "#Link zum Land ansteuern\n",
    "driver.get(link)\n",
    "#driver.get('https://www.booking.com/country/at.de.html')\n",
    "\n",
    "#Suchfeld anwählen\n",
    "suchfeld = driver.find_element_by_name(\"ss\")\n",
    "\n",
    "#Um zur Übersicht aller Hotels des Landes zu gelangen, \n",
    "#muss der Name des Landes ins Suchfeld eingegeben werden. \n",
    "#Ein Leerschlag führt jedoch ebenfalls zum Ziel. \n",
    "#bei beiden Varianten wird nur ein Teil der versprochenen Unterküfte ausgespuckt\n",
    "#suchfeld.send_keys(\"country\")\n",
    "suchfeld.send_keys(\" \")\n",
    "\n",
    "#«Zeig mir Preise»-Button ansteuern, um zur Übersicht aller Unterkünfte zu gelangen\n",
    "button = driver.find_element_by_class_name(\"sb-searchbox__button\").click()\n",
    "\n",
    "#Da immer nur 15 (oder 45 CHECK) Suchergebnisse pro Seite angezeigt werden: jeweils nächste-Seite-Button ansteuern\n",
    "seite = driver.find_element_by_link_text(\"/searchresults.de.html?aid=304142&label=gen173nr-1DCAIoLDgcSAdYBGgsiAEBmAEHuAEHyAEM2AED6AEB-AECiAIBqAID&sid=e11e4e68c49d860e180be3ac386c1d0b&tmpl=searchresults&class_interval=1&dest_id=204&dest_type=country&dtdisc=0&from_sf=1&group_adults=2&group_children=0&inac=0&index_postcard=0&label_click=undef&no_rooms=1&postcard=0&raw_dest_type=country&room1=A%2CA&sb_price_type=total&shw_aparth=1&slp_r_match=0&src=country&src_elem=sb&ss_all=0&ssb=empty&sshis=0&rows=15&offset=15\").click()\n"
   ]
  },
  {
   "cell_type": "code",
   "execution_count": null,
   "metadata": {},
   "outputs": [],
   "source": []
  },
  {
   "cell_type": "code",
   "execution_count": null,
   "metadata": {},
   "outputs": [],
   "source": []
  },
  {
   "cell_type": "markdown",
   "metadata": {},
   "source": [
    "# 3. Bewertungen pro Land im Detail"
   ]
  },
  {
   "cell_type": "code",
   "execution_count": null,
   "metadata": {},
   "outputs": [],
   "source": []
  }
 ],
 "metadata": {
  "kernelspec": {
   "display_name": "Python 3",
   "language": "python",
   "name": "python3"
  },
  "language_info": {
   "codemirror_mode": {
    "name": "ipython",
    "version": 3
   },
   "file_extension": ".py",
   "mimetype": "text/x-python",
   "name": "python",
   "nbconvert_exporter": "python",
   "pygments_lexer": "ipython3",
   "version": "3.7.0"
  }
 },
 "nbformat": 4,
 "nbformat_minor": 2
}
