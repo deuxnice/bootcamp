{
 "cells": [
  {
   "cell_type": "markdown",
   "metadata": {},
   "source": [
    "Dabei ist zu beachten:\n",
    "\n",
    "Artikel, die zwischen 0 und 20 (einschließlich) CHF kosten, werden um 20 % reduziert;\n",
    "Artikel, die zwischen 20 (nicht einschließlich) und 50 CHF (einschließlich) kosten, werden um 40 % reduziert.\n",
    "Alle anderen Artikel, also solche, die mehr als 50 CHF kosten, werden um 60 % reduziert."
   ]
  },
  {
   "cell_type": "code",
   "execution_count": 6,
   "metadata": {},
   "outputs": [
    {
     "name": "stdout",
     "output_type": "stream",
     "text": [
      "12.6\n"
     ]
    }
   ],
   "source": [
    "price = 21\n",
    "\n",
    "if price <= 20:\n",
    "    print(price*0.8)\n",
    "elif price <=50:\n",
    "    print(price*0.6)\n",
    "elif price>50:\n",
    "    print(price*0.5)\n"
   ]
  },
  {
   "cell_type": "code",
   "execution_count": 7,
   "metadata": {},
   "outputs": [
    {
     "name": "stdout",
     "output_type": "stream",
     "text": [
      "False\n"
     ]
    }
   ],
   "source": [
    "print(5>6)"
   ]
  },
  {
   "cell_type": "code",
   "execution_count": 8,
   "metadata": {},
   "outputs": [
    {
     "name": "stdout",
     "output_type": "stream",
     "text": [
      "False\n"
     ]
    }
   ],
   "source": [
    "print(5==6)"
   ]
  },
  {
   "cell_type": "code",
   "execution_count": 9,
   "metadata": {},
   "outputs": [
    {
     "name": "stdout",
     "output_type": "stream",
     "text": [
      "True\n",
      "False\n",
      "False\n",
      "False\n"
     ]
    }
   ],
   "source": [
    "print(True and True)\n",
    "print(True and False)\n",
    "print(False and True)\n",
    "print(False and False)"
   ]
  },
  {
   "cell_type": "code",
   "execution_count": 10,
   "metadata": {},
   "outputs": [
    {
     "name": "stdout",
     "output_type": "stream",
     "text": [
      "True\n",
      "True\n",
      "True\n",
      "False\n"
     ]
    }
   ],
   "source": [
    "print(True or True)\n",
    "print(True or False)\n",
    "print(False or True)\n",
    "print(False or False)"
   ]
  },
  {
   "cell_type": "code",
   "execution_count": 22,
   "metadata": {},
   "outputs": [
    {
     "name": "stdout",
     "output_type": "stream",
     "text": [
      "sorry\n"
     ]
    }
   ],
   "source": [
    "country = 'US'\n",
    "age = 20\n",
    "\n",
    "if age <= 20 and country == 'US':\n",
    "    print('sorry')"
   ]
  },
  {
   "cell_type": "code",
   "execution_count": 23,
   "metadata": {},
   "outputs": [
    {
     "name": "stdout",
     "output_type": "stream",
     "text": [
      "[]\n"
     ]
    }
   ],
   "source": [
    "prices = [2, 50, 70, 30, 555]\n",
    "new_prices =[]\n",
    "\n",
    "# schreibe hier deinen Code\n",
    "if price in prices <= 20:\n",
    "    print((price*0.8).append(new_prices))\n",
    "elif price in prices <=50:\n",
    "    print((price*0.6).append(new_prices))\n",
    "elif price in prices >50:\n",
    "    print((price*0.5).append(new_prices))\n",
    "elif price in prices == 5:\n",
    "    print((price*0).append(new_prices))\n",
    "    \n",
    "print(new_prices)"
   ]
  },
  {
   "cell_type": "markdown",
   "metadata": {},
   "source": [
    "Wem schreibt Max briefe?\n",
    "Geht die Liste durch und prüft wann Max sich an erster Position findet.\n",
    "Speichert dann die Position an zweiter stelle in Briefpartner.\n",
    "\n",
    "briefpartner_von_max = []\n",
    "\n",
    "liste = [\n",
    "    [\"Max\", \"Susi\"],\n",
    "    [\"Susi\", \"Julia\"],\n",
    "    [\"Julia\", \"Franz\"],\n",
    "    [\"Max\", \"Franz\"],\n",
    "    [\"Franz\", \"Julia\"],\n",
    "    [\"Max\", \"Lila\"]\n",
    "   "
   ]
  },
  {
   "cell_type": "code",
   "execution_count": 14,
   "metadata": {},
   "outputs": [
    {
     "name": "stdout",
     "output_type": "stream",
     "text": [
      "[]\n"
     ]
    }
   ],
   "source": [
    "briefpartner_von_max = []\n",
    "name = 'Max'\n",
    "\n",
    "liste = [\n",
    "    [\"Max\", \"Susi\"],\n",
    "    [\"Susi\", \"Julia\"],\n",
    "    [\"Julia\", \"Franz\"],\n",
    "    [\"Max\", \"Franz\"],\n",
    "    [\"Franz\", \"Julia\"],\n",
    "    [\"Max\", \"Lila\"]\n",
    "]\n",
    "\n",
    "if name[0] in liste == 'Max':\n",
    "    briefpartner_von_max.append(name[0][1])\n",
    "\n",
    "print(briefpartner_von_max)\n"
   ]
  },
  {
   "cell_type": "markdown",
   "metadata": {},
   "source": [
    "l = [\"Max\", \"Monika\", \"Erik\", \"Franziska\"]\n",
    "\n",
    "def get_last_letter(item):\n",
    "    # euer code hier\n",
    "\n",
    "l.sort(key=get_last_letter)\n",
    "print(l)\n",
    "\n"
   ]
  },
  {
   "cell_type": "code",
   "execution_count": null,
   "metadata": {},
   "outputs": [],
   "source": [
    "l = [\"Max\", \"Monika\", \"Erik\", \"Franziska\"]\n",
    "\n",
    "def get_last_letter(item):\n",
    "    return\n",
    "\n",
    "l.sort(key=get_last_letter)\n",
    "print(l)"
   ]
  },
  {
   "cell_type": "code",
   "execution_count": 22,
   "metadata": {},
   "outputs": [
    {
     "name": "stdout",
     "output_type": "stream",
     "text": [
      "{'Hallo': 3, 'Welt': 1, 'Mars': 1}\n"
     ]
    }
   ],
   "source": [
    "liste = [\"Hallo\", \"Hallo\", \"Welt\", \"Hallo\", \"Mars\"]\n",
    "\n",
    "#d = {}\n",
    "#for element in liste:\n",
    "# dein code hier \n",
    "d = {}\n",
    "for wort in liste:\n",
    "    if wort in d:\n",
    "        d[wort] = d[wort]+1\n",
    "    else: \n",
    "        d[wort] = 1\n",
    "print(d)\n",
    "\n",
    "\n",
    "\n",
    "#print(d)"
   ]
  },
  {
   "cell_type": "code",
   "execution_count": 37,
   "metadata": {},
   "outputs": [],
   "source": [
    "import requests\n",
    "import csv\n",
    "data = requests.get(\"http://p3.snf.ch/P3Export/P3_PersonExport.csv\").text.splitlines()\n",
    "personen = csv.DictReader(data,delimiter=';')"
   ]
  },
  {
   "cell_type": "code",
   "execution_count": 38,
   "metadata": {},
   "outputs": [
    {
     "data": {
      "text/plain": [
       "OrderedDict([('Last Name', 'a Marca'),\n",
       "             ('First Name', 'Davide'),\n",
       "             ('Gender', 'male'),\n",
       "             ('Institute Name', ''),\n",
       "             ('Institute Place', ''),\n",
       "             ('Person ID SNSF', '53856'),\n",
       "             ('ORCID', ''),\n",
       "             ('Projects as responsible Applicant', ''),\n",
       "             ('Projects as Applicant', ''),\n",
       "             ('Projects as Partner', ''),\n",
       "             ('Projects as Practice Partner', ''),\n",
       "             ('Projects as Employee', '36549'),\n",
       "             ('Projects as Contact Person', '')])"
      ]
     },
     "execution_count": 38,
     "metadata": {},
     "output_type": "execute_result"
    }
   ],
   "source": [
    "next(personen)\n"
   ]
  },
  {
   "cell_type": "code",
   "execution_count": 40,
   "metadata": {},
   "outputs": [
    {
     "ename": "SyntaxError",
     "evalue": "invalid syntax (<ipython-input-40-53b126a9fc02>, line 9)",
     "output_type": "error",
     "traceback": [
      "\u001b[0;36m  File \u001b[0;32m\"<ipython-input-40-53b126a9fc02>\"\u001b[0;36m, line \u001b[0;32m9\u001b[0m\n\u001b[0;31m    if person in :\u001b[0m\n\u001b[0m                 ^\u001b[0m\n\u001b[0;31mSyntaxError\u001b[0m\u001b[0;31m:\u001b[0m invalid syntax\n"
     ]
    }
   ],
   "source": [
    "# institutes = {}\n",
    "# for row in personen:\n",
    "# dein code hier \n",
    "#Welche Institute hatten die meisten beiteiligten Personen?\n",
    "\n",
    "personen = []\n",
    "institutes = {}\n",
    "person = 0\n",
    "for row in personen:\n",
    "    if person in :\n",
    "        institutes[person] = institutes[person]+1\n",
    "    else: \n",
    "        institutes[person] = 1  \n",
    "print(institutes)"
   ]
  },
  {
   "cell_type": "code",
   "execution_count": 1,
   "metadata": {},
   "outputs": [
    {
     "name": "stdout",
     "output_type": "stream",
     "text": [
      "hello world\n",
      "hello again\n",
      "I like typing this\n",
      "This is fun\n",
      "I sait do not touch this.\n"
     ]
    }
   ],
   "source": [
    "print('hello world')\n",
    "print('hello again')\n",
    "print('I like typing this')\n",
    "print('This is fun')\n",
    "print('I sait do not touch this.')"
   ]
  },
  {
   "cell_type": "code",
   "execution_count": 4,
   "metadata": {},
   "outputs": [
    {
     "ename": "NameError",
     "evalue": "name 'somevar' is not defined",
     "output_type": "error",
     "traceback": [
      "\u001b[0;31m---------------------------------------------------------------------------\u001b[0m",
      "\u001b[0;31mNameError\u001b[0m                                 Traceback (most recent call last)",
      "\u001b[0;32m<ipython-input-4-f4e960d22747>\u001b[0m in \u001b[0;36m<module>\u001b[0;34m()\u001b[0m\n\u001b[0;32m----> 1\u001b[0;31m \u001b[0;34mf\"hello{somevar}\"\u001b[0m\u001b[0;34m\u001b[0m\u001b[0m\n\u001b[0m",
      "\u001b[0;31mNameError\u001b[0m: name 'somevar' is not defined"
     ]
    }
   ],
   "source": [
    "f\"hello{somevar}\""
   ]
  },
  {
   "cell_type": "code",
   "execution_count": 17,
   "metadata": {},
   "outputs": [
    {
     "name": "stdout",
     "output_type": "stream",
     "text": [
      "let's talk about Denise.\n"
     ]
    }
   ],
   "source": [
    "name = 'Denise'\n",
    "my_age = 39\n",
    "my_height = 175\n",
    "my_weight = 63\n",
    "my_eyes = 'brown'\n",
    "my_hair = 'brown'\n",
    "\n",
    "print(f\"let's talk about {name}.\")"
   ]
  },
  {
   "cell_type": "code",
   "execution_count": 18,
   "metadata": {},
   "outputs": [
    {
     "name": "stdout",
     "output_type": "stream",
     "text": [
      "Let's talk about Denise\n"
     ]
    }
   ],
   "source": [
    "print(\"Let's talk about \" + name)"
   ]
  },
  {
   "cell_type": "code",
   "execution_count": 19,
   "metadata": {},
   "outputs": [
    {
     "name": "stdout",
     "output_type": "stream",
     "text": [
      "Let's talk about Denise.\n"
     ]
    }
   ],
   "source": [
    "print(f\"Let's talk about {name}.\")"
   ]
  },
  {
   "cell_type": "code",
   "execution_count": 23,
   "metadata": {},
   "outputs": [
    {
     "ename": "SyntaxError",
     "evalue": "EOL while scanning string literal (<ipython-input-23-6fa03431576d>, line 2)",
     "output_type": "error",
     "traceback": [
      "\u001b[0;36m  File \u001b[0;32m\"<ipython-input-23-6fa03431576d>\"\u001b[0;36m, line \u001b[0;32m2\u001b[0m\n\u001b[0;31m    x = f\"There are {types_of_people}types of people.\"\"\u001b[0m\n\u001b[0m                                                       ^\u001b[0m\n\u001b[0;31mSyntaxError\u001b[0m\u001b[0;31m:\u001b[0m EOL while scanning string literal\n"
     ]
    }
   ],
   "source": [
    "types_of_people = 10\n",
    "x = f\"There are {types_of_people}\\\n",
    "types of people.\"\"\n",
    "binary = 'binary'\n",
    "do_not = \"don't\"\n",
    "y = f\"Those who know {binary} \\\n",
    "and those who {do_not.}.\"\n",
    "print(x)"
   ]
  },
  {
   "cell_type": "code",
   "execution_count": 39,
   "metadata": {},
   "outputs": [
    {
     "name": "stdout",
     "output_type": "stream",
     "text": [
      "There are 10 types of people.\n",
      "Those who know binaryand who dont.\n",
      "I said:There are 10 types of people..\n",
      "I also saidThose who know binaryand who dont..\n",
      "Isnt that joke so funny?False\n",
      "this ist the left side of...a string with a right side.\n"
     ]
    }
   ],
   "source": [
    "types_of_people = 10\n",
    "#Zahlen und Textzeilen können nicht einfach so miteiander kombiniert werden.\n",
    "x = 'There are ' + str(types_of_people) + ' types of people.'\n",
    "\n",
    "binary = 'binary'\n",
    "do_not = 'dont'\n",
    "#in diesem Fall ist der Variableinhalt keine Zahl, darum braucht eskein str()\n",
    "y = 'Those who know ' + binary + 'and who ' + do_not + '.'\n",
    "\n",
    "print(x)\n",
    "print(y)\n",
    "\n",
    "print('I said:' + x + '.')\n",
    "print('I also said' + y + '.')\n",
    "\n",
    "hilarious = False\n",
    "joke_evaluation = 'Isnt that joke so funny?{}'\n",
    "\n",
    "print(joke_evaluation.format(hilarious))\n",
    "\n",
    "w = 'this ist the left side of...'\n",
    "e = 'a string with a right side.'\n",
    "\n",
    "print(w+e)"
   ]
  },
  {
   "cell_type": "code",
   "execution_count": 43,
   "metadata": {},
   "outputs": [
    {
     "name": "stdout",
     "output_type": "stream",
     "text": [
      "Mary had a little lamb.\n",
      "Its fleece was white as snow.\n",
      "And everywhere that Mary went.\n",
      "..........\n",
      "Cheese\n",
      "Burger\n"
     ]
    }
   ],
   "source": [
    "print(\"Mary had a little lamb.\")\n",
    "print(\"Its fleece was white as {}.\".format('snow'))\n",
    "print(\"And everywhere that Mary went.\")\n",
    "print(\".\" * 10) # what'd that do?\n",
    "\n",
    "end1 = \"C\"\n",
    "end2 = \"h\"\n",
    "end3 = \"e\"\n",
    "end4 = \"e\"\n",
    "end5 = \"s\"\n",
    "end6 = \"e\"\n",
    "end7 = \"B\"\n",
    "end8 = \"u\"\n",
    "end9 = \"r\"\n",
    "end10 = \"g\"\n",
    "end11 = \"e\"\n",
    "end12 = \"r\"\n",
    "\n",
    " # watch that comma at the end. try removing it to seewhat happens\n",
    "print(end1 + end2 + end3 + end4 + end5 + end6, end=' ')\n",
    "print(end7 + end8 + end9 + end10 + end11 + end12)"
   ]
  },
  {
   "cell_type": "code",
   "execution_count": 44,
   "metadata": {},
   "outputs": [
    {
     "name": "stdout",
     "output_type": "stream",
     "text": [
      "1 2 3 4\n",
      "one two three four\n",
      "True False False True\n",
      "{} {} {} {} {} {} {} {} {} {} {} {} {} {} {} {}\n",
      "Try your Own text here Maybe a poem Or a song about fear\n"
     ]
    }
   ],
   "source": [
    "formatter = \"{} {} {} {}\"\n",
    "\n",
    "print(formatter.format(1, 2, 3, 4))\n",
    "print(formatter.format(\"one\", \"two\", \"three\", \"four\"))\n",
    "print(formatter.format(True, False, False, True))\n",
    "print(formatter.format(formatter, formatter, formatter,\n",
    "formatter))\n",
    "print(formatter.format(\n",
    "\"Try your\",\n",
    "\"Own text here\",\n",
    "\"Maybe a poem\",\n",
    "\"Or a song about fear\"\n",
    " ))"
   ]
  },
  {
   "cell_type": "code",
   "execution_count": 45,
   "metadata": {},
   "outputs": [
    {
     "name": "stdout",
     "output_type": "stream",
     "text": [
      "\n",
      "Er ist vom Vorübergehen der Stäbe\n",
      "so müd geworden\n",
      "dass er nichts mehr hält. \n",
      "Ihm ist, als ob es \n",
      "tausend Stäbe gäbe\n",
      "und hinter tausend Stäben\n",
      "keine Welt.\n"
     ]
    }
   ],
   "source": [
    "print('''\n",
    "Er ist vom Vorübergehen der Stäbe\n",
    "so müd geworden\n",
    "dass er nichts mehr hält. \n",
    "Ihm ist, als ob es \n",
    "tausend Stäbe gäbe\n",
    "und hinter tausend Stäben\n",
    "keine Welt.''')"
   ]
  },
  {
   "cell_type": "code",
   "execution_count": 48,
   "metadata": {},
   "outputs": [
    {
     "name": "stdout",
     "output_type": "stream",
     "text": [
      "Ihm ist vom Vorübergehen der Stäbe\n",
      "so müd geworden\n",
      "dass er nichts mehr hält.\n"
     ]
    }
   ],
   "source": [
    "print('Ihm ist vom Vorübergehen der Stäbe\\nso müd geworden\\ndass er nichts mehr hält.')"
   ]
  },
  {
   "cell_type": "code",
   "execution_count": 53,
   "metadata": {},
   "outputs": [
    {
     "name": "stdout",
     "output_type": "stream",
     "text": [
      "how old are you?39\n",
      "how tall are you?175 cm\n",
      "how heavy are you?62 Kilo\n",
      "So you are 39 years old, 175 cm tall and 62 Kilo heavy.\n"
     ]
    }
   ],
   "source": [
    "print('how old are you?', end='')\n",
    "age = input()\n",
    "print('how tall are you?', end='')\n",
    "heigt = input()\n",
    "print('how heavy are you?', end='')\n",
    "weight = input()\n",
    "\n",
    "print('So you are ' +age+ ' years old, ' +heigt+ ' tall and ' +weight+ ' heavy.')"
   ]
  },
  {
   "cell_type": "code",
   "execution_count": null,
   "metadata": {},
   "outputs": [
    {
     "name": "stdout",
     "output_type": "stream",
     "text": [
      "Willst du mit mir gehen?Ja\n"
     ]
    }
   ],
   "source": [
    "print('Willst du mit mir gehen?', end='')\n",
    "antwort = input()\n",
    "x = input()\n",
    "\n"
   ]
  },
  {
   "cell_type": "code",
   "execution_count": null,
   "metadata": {},
   "outputs": [],
   "source": [
    "if x == 'Ja':\n",
    "    print('Juhuu!')\n",
    "elif x == 'Nein':\n",
    "    print('Buuuh.')\n",
    "elif x == 'Vielleicht':\n",
    "    print('Okay, ich hab Zeit.')"
   ]
  },
  {
   "cell_type": "code",
   "execution_count": null,
   "metadata": {},
   "outputs": [],
   "source": [
    "print('Willst du mit mir gehen?', end='')\n",
    "antwort = input()\n"
   ]
  },
  {
   "cell_type": "code",
   "execution_count": null,
   "metadata": {},
   "outputs": [],
   "source": []
  }
 ],
 "metadata": {
  "kernelspec": {
   "display_name": "Python 3",
   "language": "python",
   "name": "python3"
  },
  "language_info": {
   "codemirror_mode": {
    "name": "ipython",
    "version": 3
   },
   "file_extension": ".py",
   "mimetype": "text/x-python",
   "name": "python",
   "nbconvert_exporter": "python",
   "pygments_lexer": "ipython3",
   "version": "3.7.0"
  }
 },
 "nbformat": 4,
 "nbformat_minor": 2
}
